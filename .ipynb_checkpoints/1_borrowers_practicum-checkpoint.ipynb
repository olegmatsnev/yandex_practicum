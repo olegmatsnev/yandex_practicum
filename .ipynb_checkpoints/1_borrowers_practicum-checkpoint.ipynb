{
 "cells": [
  {
   "cell_type": "markdown",
   "metadata": {},
   "source": [
    "### <font color='orange'>Комментарий от наставника 1 итерация 2\n",
    "Спасибо за исправления! Пометила тегом <span style=\"color:green;font-size:200%\">&#10003;</span> те исправления, где всё отлично. Свои новые комментарии выделила оранжевым цветом, чтобы можно было их отличить от старых комментариев."
   ]
  },
  {
   "cell_type": "markdown",
   "metadata": {},
   "source": [
    "### <font color='red'>Комментарий от наставника 1\n",
    "Привет! Спасибо, что вовремя сдал задание :) Ты проделал большую работу, молодец! Далее в файле мои комментарии ты сможешь найти в markdown с заголовком \"<font color='red'><b>Комментарий от наставника</b></font>\" и в комментариях в блоках с кодом после текста \"НАСТАВНИК:\". Пострайся учесть эти комментарии в ходе выполнения дальнейших проектов."
   ]
  },
  {
   "cell_type": "markdown",
   "metadata": {},
   "source": [
    "# Исследование надёжности заёмщиков\n",
    "\n",
    "Можно ли спрогнозировать платежеспособность заемщика на основании данных о его семейном положении, количество детей, уровне дохода и целях кредита? Попытаемся ответить на этот вопрос путем анализа статистических данных.\n",
    "\n",
    "### Загрузка датасета и первое знакомство с ним"
   ]
  },
  {
   "cell_type": "code",
   "execution_count": 1,
   "metadata": {},
   "outputs": [
    {
     "name": "stdout",
     "output_type": "stream",
     "text": [
      "<class 'pandas.core.frame.DataFrame'>\n",
      "RangeIndex: 21525 entries, 0 to 21524\n",
      "Data columns (total 12 columns):\n",
      "children            21525 non-null int64\n",
      "days_employed       19351 non-null float64\n",
      "dob_days            21525 non-null int64\n",
      "education           21525 non-null object\n",
      "education_id        21525 non-null int64\n",
      "family_status       21525 non-null object\n",
      "family_status_id    21525 non-null int64\n",
      "gender              21525 non-null object\n",
      "income_type         21525 non-null object\n",
      "debt                21525 non-null int64\n",
      "total_income        19351 non-null float64\n",
      "purpose             21525 non-null object\n",
      "dtypes: float64(2), int64(5), object(5)\n",
      "memory usage: 2.0+ MB\n"
     ]
    }
   ],
   "source": [
    "import pandas as pd\n",
    "data = pd.read_csv('/datasets/data.csv')\n",
    "data.info()"
   ]
  },
  {
   "cell_type": "code",
   "execution_count": 2,
   "metadata": {},
   "outputs": [
    {
     "data": {
      "text/html": [
       "<div>\n",
       "<style scoped>\n",
       "    .dataframe tbody tr th:only-of-type {\n",
       "        vertical-align: middle;\n",
       "    }\n",
       "\n",
       "    .dataframe tbody tr th {\n",
       "        vertical-align: top;\n",
       "    }\n",
       "\n",
       "    .dataframe thead th {\n",
       "        text-align: right;\n",
       "    }\n",
       "</style>\n",
       "<table border=\"1\" class=\"dataframe\">\n",
       "  <thead>\n",
       "    <tr style=\"text-align: right;\">\n",
       "      <th></th>\n",
       "      <th>children</th>\n",
       "      <th>days_employed</th>\n",
       "      <th>dob_days</th>\n",
       "      <th>education_id</th>\n",
       "      <th>family_status_id</th>\n",
       "      <th>debt</th>\n",
       "      <th>total_income</th>\n",
       "    </tr>\n",
       "  </thead>\n",
       "  <tbody>\n",
       "    <tr>\n",
       "      <th>count</th>\n",
       "      <td>21525.000000</td>\n",
       "      <td>19351.000000</td>\n",
       "      <td>21525.000000</td>\n",
       "      <td>21525.000000</td>\n",
       "      <td>21525.000000</td>\n",
       "      <td>21525.000000</td>\n",
       "      <td>1.935100e+04</td>\n",
       "    </tr>\n",
       "    <tr>\n",
       "      <th>mean</th>\n",
       "      <td>0.538908</td>\n",
       "      <td>63046.497661</td>\n",
       "      <td>43.293380</td>\n",
       "      <td>0.817236</td>\n",
       "      <td>0.972544</td>\n",
       "      <td>0.080883</td>\n",
       "      <td>1.674223e+05</td>\n",
       "    </tr>\n",
       "    <tr>\n",
       "      <th>std</th>\n",
       "      <td>1.381587</td>\n",
       "      <td>140827.311974</td>\n",
       "      <td>12.574584</td>\n",
       "      <td>0.548138</td>\n",
       "      <td>1.420324</td>\n",
       "      <td>0.272661</td>\n",
       "      <td>1.029716e+05</td>\n",
       "    </tr>\n",
       "    <tr>\n",
       "      <th>min</th>\n",
       "      <td>-1.000000</td>\n",
       "      <td>-18388.949901</td>\n",
       "      <td>0.000000</td>\n",
       "      <td>0.000000</td>\n",
       "      <td>0.000000</td>\n",
       "      <td>0.000000</td>\n",
       "      <td>2.066726e+04</td>\n",
       "    </tr>\n",
       "    <tr>\n",
       "      <th>25%</th>\n",
       "      <td>0.000000</td>\n",
       "      <td>-2747.423625</td>\n",
       "      <td>33.000000</td>\n",
       "      <td>1.000000</td>\n",
       "      <td>0.000000</td>\n",
       "      <td>0.000000</td>\n",
       "      <td>1.030532e+05</td>\n",
       "    </tr>\n",
       "    <tr>\n",
       "      <th>50%</th>\n",
       "      <td>0.000000</td>\n",
       "      <td>-1203.369529</td>\n",
       "      <td>42.000000</td>\n",
       "      <td>1.000000</td>\n",
       "      <td>0.000000</td>\n",
       "      <td>0.000000</td>\n",
       "      <td>1.450179e+05</td>\n",
       "    </tr>\n",
       "    <tr>\n",
       "      <th>75%</th>\n",
       "      <td>1.000000</td>\n",
       "      <td>-291.095954</td>\n",
       "      <td>53.000000</td>\n",
       "      <td>1.000000</td>\n",
       "      <td>1.000000</td>\n",
       "      <td>0.000000</td>\n",
       "      <td>2.034351e+05</td>\n",
       "    </tr>\n",
       "    <tr>\n",
       "      <th>max</th>\n",
       "      <td>20.000000</td>\n",
       "      <td>401755.400475</td>\n",
       "      <td>75.000000</td>\n",
       "      <td>4.000000</td>\n",
       "      <td>4.000000</td>\n",
       "      <td>1.000000</td>\n",
       "      <td>2.265604e+06</td>\n",
       "    </tr>\n",
       "  </tbody>\n",
       "</table>\n",
       "</div>"
      ],
      "text/plain": [
       "           children  days_employed      dob_days  education_id  \\\n",
       "count  21525.000000   19351.000000  21525.000000  21525.000000   \n",
       "mean       0.538908   63046.497661     43.293380      0.817236   \n",
       "std        1.381587  140827.311974     12.574584      0.548138   \n",
       "min       -1.000000  -18388.949901      0.000000      0.000000   \n",
       "25%        0.000000   -2747.423625     33.000000      1.000000   \n",
       "50%        0.000000   -1203.369529     42.000000      1.000000   \n",
       "75%        1.000000    -291.095954     53.000000      1.000000   \n",
       "max       20.000000  401755.400475     75.000000      4.000000   \n",
       "\n",
       "       family_status_id          debt  total_income  \n",
       "count      21525.000000  21525.000000  1.935100e+04  \n",
       "mean           0.972544      0.080883  1.674223e+05  \n",
       "std            1.420324      0.272661  1.029716e+05  \n",
       "min            0.000000      0.000000  2.066726e+04  \n",
       "25%            0.000000      0.000000  1.030532e+05  \n",
       "50%            0.000000      0.000000  1.450179e+05  \n",
       "75%            1.000000      0.000000  2.034351e+05  \n",
       "max            4.000000      1.000000  2.265604e+06  "
      ]
     },
     "execution_count": 2,
     "metadata": {},
     "output_type": "execute_result"
    }
   ],
   "source": [
    "data.describe()"
   ]
  },
  {
   "cell_type": "code",
   "execution_count": 3,
   "metadata": {},
   "outputs": [
    {
     "data": {
      "text/html": [
       "<div>\n",
       "<style scoped>\n",
       "    .dataframe tbody tr th:only-of-type {\n",
       "        vertical-align: middle;\n",
       "    }\n",
       "\n",
       "    .dataframe tbody tr th {\n",
       "        vertical-align: top;\n",
       "    }\n",
       "\n",
       "    .dataframe thead th {\n",
       "        text-align: right;\n",
       "    }\n",
       "</style>\n",
       "<table border=\"1\" class=\"dataframe\">\n",
       "  <thead>\n",
       "    <tr style=\"text-align: right;\">\n",
       "      <th></th>\n",
       "      <th>children</th>\n",
       "      <th>days_employed</th>\n",
       "      <th>dob_days</th>\n",
       "      <th>education</th>\n",
       "      <th>education_id</th>\n",
       "      <th>family_status</th>\n",
       "      <th>family_status_id</th>\n",
       "      <th>gender</th>\n",
       "      <th>income_type</th>\n",
       "      <th>debt</th>\n",
       "      <th>total_income</th>\n",
       "      <th>purpose</th>\n",
       "    </tr>\n",
       "  </thead>\n",
       "  <tbody>\n",
       "    <tr>\n",
       "      <th>0</th>\n",
       "      <td>1</td>\n",
       "      <td>-8437.673028</td>\n",
       "      <td>42</td>\n",
       "      <td>высшее</td>\n",
       "      <td>0</td>\n",
       "      <td>женат / замужем</td>\n",
       "      <td>0</td>\n",
       "      <td>F</td>\n",
       "      <td>сотрудник</td>\n",
       "      <td>0</td>\n",
       "      <td>253875.639453</td>\n",
       "      <td>покупка жилья</td>\n",
       "    </tr>\n",
       "    <tr>\n",
       "      <th>1</th>\n",
       "      <td>1</td>\n",
       "      <td>-4024.803754</td>\n",
       "      <td>36</td>\n",
       "      <td>среднее</td>\n",
       "      <td>1</td>\n",
       "      <td>женат / замужем</td>\n",
       "      <td>0</td>\n",
       "      <td>F</td>\n",
       "      <td>сотрудник</td>\n",
       "      <td>0</td>\n",
       "      <td>112080.014102</td>\n",
       "      <td>приобретение автомобиля</td>\n",
       "    </tr>\n",
       "    <tr>\n",
       "      <th>2</th>\n",
       "      <td>0</td>\n",
       "      <td>-5623.422610</td>\n",
       "      <td>33</td>\n",
       "      <td>Среднее</td>\n",
       "      <td>1</td>\n",
       "      <td>женат / замужем</td>\n",
       "      <td>0</td>\n",
       "      <td>M</td>\n",
       "      <td>сотрудник</td>\n",
       "      <td>0</td>\n",
       "      <td>145885.952297</td>\n",
       "      <td>покупка жилья</td>\n",
       "    </tr>\n",
       "    <tr>\n",
       "      <th>3</th>\n",
       "      <td>3</td>\n",
       "      <td>-4124.747207</td>\n",
       "      <td>32</td>\n",
       "      <td>среднее</td>\n",
       "      <td>1</td>\n",
       "      <td>женат / замужем</td>\n",
       "      <td>0</td>\n",
       "      <td>M</td>\n",
       "      <td>сотрудник</td>\n",
       "      <td>0</td>\n",
       "      <td>267628.550329</td>\n",
       "      <td>дополнительное образование</td>\n",
       "    </tr>\n",
       "    <tr>\n",
       "      <th>4</th>\n",
       "      <td>0</td>\n",
       "      <td>340266.072047</td>\n",
       "      <td>53</td>\n",
       "      <td>среднее</td>\n",
       "      <td>1</td>\n",
       "      <td>гражданский брак</td>\n",
       "      <td>1</td>\n",
       "      <td>F</td>\n",
       "      <td>пенсионер</td>\n",
       "      <td>0</td>\n",
       "      <td>158616.077870</td>\n",
       "      <td>сыграть свадьбу</td>\n",
       "    </tr>\n",
       "    <tr>\n",
       "      <th>5</th>\n",
       "      <td>0</td>\n",
       "      <td>-926.185831</td>\n",
       "      <td>27</td>\n",
       "      <td>высшее</td>\n",
       "      <td>0</td>\n",
       "      <td>гражданский брак</td>\n",
       "      <td>1</td>\n",
       "      <td>M</td>\n",
       "      <td>компаньон</td>\n",
       "      <td>0</td>\n",
       "      <td>255763.565419</td>\n",
       "      <td>покупка жилья</td>\n",
       "    </tr>\n",
       "    <tr>\n",
       "      <th>6</th>\n",
       "      <td>0</td>\n",
       "      <td>-2879.202052</td>\n",
       "      <td>43</td>\n",
       "      <td>высшее</td>\n",
       "      <td>0</td>\n",
       "      <td>женат / замужем</td>\n",
       "      <td>0</td>\n",
       "      <td>F</td>\n",
       "      <td>компаньон</td>\n",
       "      <td>0</td>\n",
       "      <td>240525.971920</td>\n",
       "      <td>операции с жильем</td>\n",
       "    </tr>\n",
       "    <tr>\n",
       "      <th>7</th>\n",
       "      <td>0</td>\n",
       "      <td>-152.779569</td>\n",
       "      <td>50</td>\n",
       "      <td>СРЕДНЕЕ</td>\n",
       "      <td>1</td>\n",
       "      <td>женат / замужем</td>\n",
       "      <td>0</td>\n",
       "      <td>M</td>\n",
       "      <td>сотрудник</td>\n",
       "      <td>0</td>\n",
       "      <td>135823.934197</td>\n",
       "      <td>образование</td>\n",
       "    </tr>\n",
       "    <tr>\n",
       "      <th>8</th>\n",
       "      <td>2</td>\n",
       "      <td>-6929.865299</td>\n",
       "      <td>35</td>\n",
       "      <td>ВЫСШЕЕ</td>\n",
       "      <td>0</td>\n",
       "      <td>гражданский брак</td>\n",
       "      <td>1</td>\n",
       "      <td>F</td>\n",
       "      <td>сотрудник</td>\n",
       "      <td>0</td>\n",
       "      <td>95856.832424</td>\n",
       "      <td>на проведение свадьбы</td>\n",
       "    </tr>\n",
       "    <tr>\n",
       "      <th>9</th>\n",
       "      <td>0</td>\n",
       "      <td>-2188.756445</td>\n",
       "      <td>41</td>\n",
       "      <td>среднее</td>\n",
       "      <td>1</td>\n",
       "      <td>женат / замужем</td>\n",
       "      <td>0</td>\n",
       "      <td>M</td>\n",
       "      <td>сотрудник</td>\n",
       "      <td>0</td>\n",
       "      <td>144425.938277</td>\n",
       "      <td>покупка жилья для семьи</td>\n",
       "    </tr>\n",
       "  </tbody>\n",
       "</table>\n",
       "</div>"
      ],
      "text/plain": [
       "   children  days_employed  dob_days education  education_id  \\\n",
       "0         1   -8437.673028        42    высшее             0   \n",
       "1         1   -4024.803754        36   среднее             1   \n",
       "2         0   -5623.422610        33   Среднее             1   \n",
       "3         3   -4124.747207        32   среднее             1   \n",
       "4         0  340266.072047        53   среднее             1   \n",
       "5         0    -926.185831        27    высшее             0   \n",
       "6         0   -2879.202052        43    высшее             0   \n",
       "7         0    -152.779569        50   СРЕДНЕЕ             1   \n",
       "8         2   -6929.865299        35    ВЫСШЕЕ             0   \n",
       "9         0   -2188.756445        41   среднее             1   \n",
       "\n",
       "      family_status  family_status_id gender income_type  debt   total_income  \\\n",
       "0   женат / замужем                 0      F   сотрудник     0  253875.639453   \n",
       "1   женат / замужем                 0      F   сотрудник     0  112080.014102   \n",
       "2   женат / замужем                 0      M   сотрудник     0  145885.952297   \n",
       "3   женат / замужем                 0      M   сотрудник     0  267628.550329   \n",
       "4  гражданский брак                 1      F   пенсионер     0  158616.077870   \n",
       "5  гражданский брак                 1      M   компаньон     0  255763.565419   \n",
       "6   женат / замужем                 0      F   компаньон     0  240525.971920   \n",
       "7   женат / замужем                 0      M   сотрудник     0  135823.934197   \n",
       "8  гражданский брак                 1      F   сотрудник     0   95856.832424   \n",
       "9   женат / замужем                 0      M   сотрудник     0  144425.938277   \n",
       "\n",
       "                      purpose  \n",
       "0               покупка жилья  \n",
       "1     приобретение автомобиля  \n",
       "2               покупка жилья  \n",
       "3  дополнительное образование  \n",
       "4             сыграть свадьбу  \n",
       "5               покупка жилья  \n",
       "6           операции с жильем  \n",
       "7                 образование  \n",
       "8       на проведение свадьбы  \n",
       "9     покупка жилья для семьи  "
      ]
     },
     "execution_count": 3,
     "metadata": {},
     "output_type": "execute_result"
    }
   ],
   "source": [
    "data.head(10)"
   ]
  },
  {
   "cell_type": "markdown",
   "metadata": {},
   "source": [
    "В столбцах days_employed и total_income есть пропуски. Их одинаковое количество: вероятно, они встречаются в одних и тех же строках и имеют техническую природу. Пропусков довольно много -- больше 10% от объема датасета, -- и просто выкинуть эти строки жалко, нужно чем-то заполнить.\n",
    "\n",
    "В столбце days_employed, кроме того, есть странные (неправдоподобно большие и отрицательные) значения, и их довольно много, судя по перцентилям. В children и dob_days тоже есть аномалии (отрицательное число детей в семье и минимум один заемщик, которому нет и года). Но явно не такие значительные.\n",
    "\n",
    "В total_income неправдоподобных значений нет, но минимальное и максимальное отличаются на два порядка, поэтому в этом столбце пропуски нужно будет заменить медианным значением.\n",
    "\n",
    "Значения в столбцах days_employed и total_income имеет смысл привести к более экономным с т.з. памяти типам (едва ли разница в доходах меньше рубля важна для скоринга). Для первого подойдет uint16, для второго -- uint32. По тем же соображениям в столбцах debt, gender, education_id и family_status_id будем использовать uint8."
   ]
  },
  {
   "cell_type": "markdown",
   "metadata": {},
   "source": [
    "### <font color='red'> Комментарий наставника 2  <span style=\"color:green;font-size:200%\">&#10003;</span>\n",
    "Отлично! Действительно, многое можно увидеть просто посмотрев на часть таблицы и на простые статистики по колонкам.\n",
    "Рекомендую кроме метода `head()` смотреть еще `tail()` (конец таблицы) и `sample()` (случайные строки таблицы). Может быть так, что в начале данные хорошие, а дальше начинаются проблемы."
   ]
  },
  {
   "cell_type": "code",
   "execution_count": 4,
   "metadata": {},
   "outputs": [
    {
     "data": {
      "text/html": [
       "<div>\n",
       "<style scoped>\n",
       "    .dataframe tbody tr th:only-of-type {\n",
       "        vertical-align: middle;\n",
       "    }\n",
       "\n",
       "    .dataframe tbody tr th {\n",
       "        vertical-align: top;\n",
       "    }\n",
       "\n",
       "    .dataframe thead th {\n",
       "        text-align: right;\n",
       "    }\n",
       "</style>\n",
       "<table border=\"1\" class=\"dataframe\">\n",
       "  <thead>\n",
       "    <tr style=\"text-align: right;\">\n",
       "      <th></th>\n",
       "      <th>children</th>\n",
       "      <th>days_employed</th>\n",
       "      <th>dob_days</th>\n",
       "      <th>education</th>\n",
       "      <th>education_id</th>\n",
       "      <th>family_status</th>\n",
       "      <th>family_status_id</th>\n",
       "      <th>gender</th>\n",
       "      <th>income_type</th>\n",
       "      <th>debt</th>\n",
       "      <th>total_income</th>\n",
       "      <th>purpose</th>\n",
       "    </tr>\n",
       "  </thead>\n",
       "  <tbody>\n",
       "    <tr>\n",
       "      <th>21520</th>\n",
       "      <td>1</td>\n",
       "      <td>-4529.316663</td>\n",
       "      <td>43</td>\n",
       "      <td>среднее</td>\n",
       "      <td>1</td>\n",
       "      <td>гражданский брак</td>\n",
       "      <td>1</td>\n",
       "      <td>F</td>\n",
       "      <td>компаньон</td>\n",
       "      <td>0</td>\n",
       "      <td>224791.862382</td>\n",
       "      <td>операции с жильем</td>\n",
       "    </tr>\n",
       "    <tr>\n",
       "      <th>21521</th>\n",
       "      <td>0</td>\n",
       "      <td>343937.404131</td>\n",
       "      <td>67</td>\n",
       "      <td>среднее</td>\n",
       "      <td>1</td>\n",
       "      <td>женат / замужем</td>\n",
       "      <td>0</td>\n",
       "      <td>F</td>\n",
       "      <td>пенсионер</td>\n",
       "      <td>0</td>\n",
       "      <td>155999.806512</td>\n",
       "      <td>сделка с автомобилем</td>\n",
       "    </tr>\n",
       "    <tr>\n",
       "      <th>21522</th>\n",
       "      <td>1</td>\n",
       "      <td>-2113.346888</td>\n",
       "      <td>38</td>\n",
       "      <td>среднее</td>\n",
       "      <td>1</td>\n",
       "      <td>гражданский брак</td>\n",
       "      <td>1</td>\n",
       "      <td>M</td>\n",
       "      <td>сотрудник</td>\n",
       "      <td>1</td>\n",
       "      <td>89672.561153</td>\n",
       "      <td>недвижимость</td>\n",
       "    </tr>\n",
       "    <tr>\n",
       "      <th>21523</th>\n",
       "      <td>3</td>\n",
       "      <td>-3112.481705</td>\n",
       "      <td>38</td>\n",
       "      <td>среднее</td>\n",
       "      <td>1</td>\n",
       "      <td>женат / замужем</td>\n",
       "      <td>0</td>\n",
       "      <td>M</td>\n",
       "      <td>сотрудник</td>\n",
       "      <td>1</td>\n",
       "      <td>244093.050500</td>\n",
       "      <td>на покупку своего автомобиля</td>\n",
       "    </tr>\n",
       "    <tr>\n",
       "      <th>21524</th>\n",
       "      <td>2</td>\n",
       "      <td>-1984.507589</td>\n",
       "      <td>40</td>\n",
       "      <td>среднее</td>\n",
       "      <td>1</td>\n",
       "      <td>женат / замужем</td>\n",
       "      <td>0</td>\n",
       "      <td>F</td>\n",
       "      <td>сотрудник</td>\n",
       "      <td>0</td>\n",
       "      <td>82047.418899</td>\n",
       "      <td>на покупку автомобиля</td>\n",
       "    </tr>\n",
       "  </tbody>\n",
       "</table>\n",
       "</div>"
      ],
      "text/plain": [
       "       children  days_employed  dob_days education  education_id  \\\n",
       "21520         1   -4529.316663        43   среднее             1   \n",
       "21521         0  343937.404131        67   среднее             1   \n",
       "21522         1   -2113.346888        38   среднее             1   \n",
       "21523         3   -3112.481705        38   среднее             1   \n",
       "21524         2   -1984.507589        40   среднее             1   \n",
       "\n",
       "          family_status  family_status_id gender income_type  debt  \\\n",
       "21520  гражданский брак                 1      F   компаньон     0   \n",
       "21521   женат / замужем                 0      F   пенсионер     0   \n",
       "21522  гражданский брак                 1      M   сотрудник     1   \n",
       "21523   женат / замужем                 0      M   сотрудник     1   \n",
       "21524   женат / замужем                 0      F   сотрудник     0   \n",
       "\n",
       "        total_income                       purpose  \n",
       "21520  224791.862382             операции с жильем  \n",
       "21521  155999.806512          сделка с автомобилем  \n",
       "21522   89672.561153                  недвижимость  \n",
       "21523  244093.050500  на покупку своего автомобиля  \n",
       "21524   82047.418899         на покупку автомобиля  "
      ]
     },
     "execution_count": 4,
     "metadata": {},
     "output_type": "execute_result"
    }
   ],
   "source": [
    "data.tail()"
   ]
  },
  {
   "cell_type": "code",
   "execution_count": 5,
   "metadata": {},
   "outputs": [
    {
     "data": {
      "text/html": [
       "<div>\n",
       "<style scoped>\n",
       "    .dataframe tbody tr th:only-of-type {\n",
       "        vertical-align: middle;\n",
       "    }\n",
       "\n",
       "    .dataframe tbody tr th {\n",
       "        vertical-align: top;\n",
       "    }\n",
       "\n",
       "    .dataframe thead th {\n",
       "        text-align: right;\n",
       "    }\n",
       "</style>\n",
       "<table border=\"1\" class=\"dataframe\">\n",
       "  <thead>\n",
       "    <tr style=\"text-align: right;\">\n",
       "      <th></th>\n",
       "      <th>children</th>\n",
       "      <th>days_employed</th>\n",
       "      <th>dob_days</th>\n",
       "      <th>education</th>\n",
       "      <th>education_id</th>\n",
       "      <th>family_status</th>\n",
       "      <th>family_status_id</th>\n",
       "      <th>gender</th>\n",
       "      <th>income_type</th>\n",
       "      <th>debt</th>\n",
       "      <th>total_income</th>\n",
       "      <th>purpose</th>\n",
       "    </tr>\n",
       "  </thead>\n",
       "  <tbody>\n",
       "    <tr>\n",
       "      <th>20715</th>\n",
       "      <td>0</td>\n",
       "      <td>-475.811934</td>\n",
       "      <td>54</td>\n",
       "      <td>среднее</td>\n",
       "      <td>1</td>\n",
       "      <td>женат / замужем</td>\n",
       "      <td>0</td>\n",
       "      <td>F</td>\n",
       "      <td>сотрудник</td>\n",
       "      <td>0</td>\n",
       "      <td>137499.330190</td>\n",
       "      <td>образование</td>\n",
       "    </tr>\n",
       "    <tr>\n",
       "      <th>855</th>\n",
       "      <td>0</td>\n",
       "      <td>-3321.025261</td>\n",
       "      <td>37</td>\n",
       "      <td>СРЕДНЕЕ</td>\n",
       "      <td>1</td>\n",
       "      <td>женат / замужем</td>\n",
       "      <td>0</td>\n",
       "      <td>M</td>\n",
       "      <td>сотрудник</td>\n",
       "      <td>0</td>\n",
       "      <td>317464.675460</td>\n",
       "      <td>строительство жилой недвижимости</td>\n",
       "    </tr>\n",
       "    <tr>\n",
       "      <th>5000</th>\n",
       "      <td>0</td>\n",
       "      <td>-1557.858353</td>\n",
       "      <td>56</td>\n",
       "      <td>среднее</td>\n",
       "      <td>1</td>\n",
       "      <td>женат / замужем</td>\n",
       "      <td>0</td>\n",
       "      <td>M</td>\n",
       "      <td>сотрудник</td>\n",
       "      <td>0</td>\n",
       "      <td>187634.349009</td>\n",
       "      <td>получение образования</td>\n",
       "    </tr>\n",
       "    <tr>\n",
       "      <th>14560</th>\n",
       "      <td>1</td>\n",
       "      <td>-3308.159027</td>\n",
       "      <td>27</td>\n",
       "      <td>высшее</td>\n",
       "      <td>0</td>\n",
       "      <td>женат / замужем</td>\n",
       "      <td>0</td>\n",
       "      <td>M</td>\n",
       "      <td>компаньон</td>\n",
       "      <td>0</td>\n",
       "      <td>298733.288492</td>\n",
       "      <td>на покупку своего автомобиля</td>\n",
       "    </tr>\n",
       "    <tr>\n",
       "      <th>9760</th>\n",
       "      <td>0</td>\n",
       "      <td>-467.107777</td>\n",
       "      <td>37</td>\n",
       "      <td>Среднее</td>\n",
       "      <td>1</td>\n",
       "      <td>женат / замужем</td>\n",
       "      <td>0</td>\n",
       "      <td>M</td>\n",
       "      <td>компаньон</td>\n",
       "      <td>0</td>\n",
       "      <td>125462.011167</td>\n",
       "      <td>приобретение автомобиля</td>\n",
       "    </tr>\n",
       "    <tr>\n",
       "      <th>20008</th>\n",
       "      <td>0</td>\n",
       "      <td>-7233.846447</td>\n",
       "      <td>48</td>\n",
       "      <td>среднее</td>\n",
       "      <td>1</td>\n",
       "      <td>гражданский брак</td>\n",
       "      <td>1</td>\n",
       "      <td>M</td>\n",
       "      <td>сотрудник</td>\n",
       "      <td>0</td>\n",
       "      <td>199670.028128</td>\n",
       "      <td>свадьба</td>\n",
       "    </tr>\n",
       "    <tr>\n",
       "      <th>6548</th>\n",
       "      <td>0</td>\n",
       "      <td>-1161.279311</td>\n",
       "      <td>58</td>\n",
       "      <td>среднее</td>\n",
       "      <td>1</td>\n",
       "      <td>женат / замужем</td>\n",
       "      <td>0</td>\n",
       "      <td>F</td>\n",
       "      <td>сотрудник</td>\n",
       "      <td>0</td>\n",
       "      <td>273739.134302</td>\n",
       "      <td>покупка своего жилья</td>\n",
       "    </tr>\n",
       "    <tr>\n",
       "      <th>6535</th>\n",
       "      <td>2</td>\n",
       "      <td>-120.496555</td>\n",
       "      <td>35</td>\n",
       "      <td>среднее</td>\n",
       "      <td>1</td>\n",
       "      <td>гражданский брак</td>\n",
       "      <td>1</td>\n",
       "      <td>M</td>\n",
       "      <td>компаньон</td>\n",
       "      <td>0</td>\n",
       "      <td>155452.968375</td>\n",
       "      <td>сыграть свадьбу</td>\n",
       "    </tr>\n",
       "    <tr>\n",
       "      <th>13804</th>\n",
       "      <td>0</td>\n",
       "      <td>-9268.961955</td>\n",
       "      <td>51</td>\n",
       "      <td>высшее</td>\n",
       "      <td>0</td>\n",
       "      <td>в разводе</td>\n",
       "      <td>3</td>\n",
       "      <td>F</td>\n",
       "      <td>сотрудник</td>\n",
       "      <td>0</td>\n",
       "      <td>169472.434602</td>\n",
       "      <td>недвижимость</td>\n",
       "    </tr>\n",
       "    <tr>\n",
       "      <th>3510</th>\n",
       "      <td>2</td>\n",
       "      <td>-3716.716393</td>\n",
       "      <td>37</td>\n",
       "      <td>среднее</td>\n",
       "      <td>1</td>\n",
       "      <td>гражданский брак</td>\n",
       "      <td>1</td>\n",
       "      <td>F</td>\n",
       "      <td>сотрудник</td>\n",
       "      <td>0</td>\n",
       "      <td>172049.314064</td>\n",
       "      <td>сыграть свадьбу</td>\n",
       "    </tr>\n",
       "  </tbody>\n",
       "</table>\n",
       "</div>"
      ],
      "text/plain": [
       "       children  days_employed  dob_days education  education_id  \\\n",
       "20715         0    -475.811934        54   среднее             1   \n",
       "855           0   -3321.025261        37   СРЕДНЕЕ             1   \n",
       "5000          0   -1557.858353        56   среднее             1   \n",
       "14560         1   -3308.159027        27    высшее             0   \n",
       "9760          0    -467.107777        37   Среднее             1   \n",
       "20008         0   -7233.846447        48   среднее             1   \n",
       "6548          0   -1161.279311        58   среднее             1   \n",
       "6535          2    -120.496555        35   среднее             1   \n",
       "13804         0   -9268.961955        51    высшее             0   \n",
       "3510          2   -3716.716393        37   среднее             1   \n",
       "\n",
       "          family_status  family_status_id gender income_type  debt  \\\n",
       "20715   женат / замужем                 0      F   сотрудник     0   \n",
       "855     женат / замужем                 0      M   сотрудник     0   \n",
       "5000    женат / замужем                 0      M   сотрудник     0   \n",
       "14560   женат / замужем                 0      M   компаньон     0   \n",
       "9760    женат / замужем                 0      M   компаньон     0   \n",
       "20008  гражданский брак                 1      M   сотрудник     0   \n",
       "6548    женат / замужем                 0      F   сотрудник     0   \n",
       "6535   гражданский брак                 1      M   компаньон     0   \n",
       "13804         в разводе                 3      F   сотрудник     0   \n",
       "3510   гражданский брак                 1      F   сотрудник     0   \n",
       "\n",
       "        total_income                           purpose  \n",
       "20715  137499.330190                       образование  \n",
       "855    317464.675460  строительство жилой недвижимости  \n",
       "5000   187634.349009             получение образования  \n",
       "14560  298733.288492      на покупку своего автомобиля  \n",
       "9760   125462.011167           приобретение автомобиля  \n",
       "20008  199670.028128                           свадьба  \n",
       "6548   273739.134302              покупка своего жилья  \n",
       "6535   155452.968375                   сыграть свадьбу  \n",
       "13804  169472.434602                      недвижимость  \n",
       "3510   172049.314064                   сыграть свадьбу  "
      ]
     },
     "execution_count": 5,
     "metadata": {},
     "output_type": "execute_result"
    }
   ],
   "source": [
    "data.sample(10)"
   ]
  },
  {
   "cell_type": "markdown",
   "metadata": {},
   "source": [
    "### Предобработка данных\n",
    "\n",
    "Предобработку данных начнем с чистки датасета от дубликатов. Все строковые столбцы перед этим на всякий случай приведем к нижнему регистру (разнобой в столбце education видно уже в первых 10 строках). "
   ]
  },
  {
   "cell_type": "markdown",
   "metadata": {},
   "source": [
    "### <font color='red'> Комментарий наставника 3  <span style=\"color:green;font-size:200%\">&#10003;</span>\n",
    "Идея абсолютно корректная, но разнобоя в столбце gender в первых 10 строках (как и во всём датасете) я не вижу ;)<br> Просто постарайся быть чуть аккуратнее с комментариями."
   ]
  },
  {
   "cell_type": "markdown",
   "metadata": {},
   "source": [
    "<font color='green'> Ошибся, разнобой был в столбце education. Исправил.  <span style=\"color:green;font-size:200%\">&#10003;</span>"
   ]
  },
  {
   "cell_type": "code",
   "execution_count": 6,
   "metadata": {},
   "outputs": [
    {
     "name": "stdout",
     "output_type": "stream",
     "text": [
      "<class 'pandas.core.frame.DataFrame'>\n",
      "Int64Index: 21454 entries, 0 to 21524\n",
      "Data columns (total 12 columns):\n",
      "children            21454 non-null int64\n",
      "days_employed       19351 non-null float64\n",
      "dob_days            21454 non-null int64\n",
      "education           21454 non-null object\n",
      "education_id        21454 non-null int64\n",
      "family_status       21454 non-null object\n",
      "family_status_id    21454 non-null int64\n",
      "gender              21454 non-null object\n",
      "income_type         21454 non-null object\n",
      "debt                21454 non-null int64\n",
      "total_income        19351 non-null float64\n",
      "purpose             21454 non-null object\n",
      "dtypes: float64(2), int64(5), object(5)\n",
      "memory usage: 2.1+ MB\n"
     ]
    }
   ],
   "source": [
    "lowercase = ['education', 'family_status', 'gender', 'income_type', 'purpose']\n",
    "for col in lowercase:\n",
    "    data[col] = data[col].str.lower()\n",
    "    \n",
    "data = data.drop_duplicates()\n",
    "data.info()"
   ]
  },
  {
   "cell_type": "markdown",
   "metadata": {},
   "source": [
    "Столбец dob_days лучше переименовать в dob_years. Остальные названия столбцов в норме."
   ]
  },
  {
   "cell_type": "code",
   "execution_count": 7,
   "metadata": {},
   "outputs": [],
   "source": [
    "data = data.rename(columns={'dob_days': 'dob_years'})"
   ]
  },
  {
   "cell_type": "markdown",
   "metadata": {},
   "source": [
    "### <font color='red'> Комментарий наставника 4\n",
    "Ты верно заметил, что возраст указан в годах. В реальной жизни стоит сообщать о таком техническому специалисту, ответственному за хранение/выгрузку данных.\n",
    "\n",
    "----"
   ]
  },
  {
   "cell_type": "markdown",
   "metadata": {},
   "source": [
    "Почистим days_employed, children и dob_days от неправдоподобных значений. Посмотрим, как распределяется наш датасет по количеству детей в семье."
   ]
  },
  {
   "cell_type": "code",
   "execution_count": 8,
   "metadata": {},
   "outputs": [
    {
     "data": {
      "text/plain": [
       " 0     14091\n",
       " 1      4808\n",
       " 2      2052\n",
       " 3       330\n",
       " 20       76\n",
       "-1        47\n",
       " 4        41\n",
       " 5         9\n",
       "Name: children, dtype: int64"
      ]
     },
     "execution_count": 8,
     "metadata": {},
     "output_type": "execute_result"
    }
   ],
   "source": [
    "data['children'].value_counts()"
   ]
  },
  {
   "cell_type": "markdown",
   "metadata": {},
   "source": [
    "Из общей картины явно выбиваются значения \"20\" и \"-1\". Первое возможно, но странно, что отсутствуют значения между \"5\" и \"20\". Второе явная ошибка. Хотя строк со подозрительными значениями в поле children немного, меньше 1% от объема датасета, сохраним их. Для этого посчитаем среднее значение в этом поле в остальных строках, округлим его и используем для замены."
   ]
  },
  {
   "cell_type": "code",
   "execution_count": 9,
   "metadata": {},
   "outputs": [
    {
     "data": {
      "text/plain": [
       "0.4740049692935165"
      ]
     },
     "execution_count": 9,
     "metadata": {},
     "output_type": "execute_result"
    }
   ],
   "source": [
    "data[(data['children'] >= 0) & (data['children'] < 20)]['children'].mean()"
   ]
  },
  {
   "cell_type": "markdown",
   "metadata": {},
   "source": [
    "В среднем по нормальным значениям children в датасете детей у заемщиков скорее нет, чем есть, так что странные значения в этом поле заполним нулями."
   ]
  },
  {
   "cell_type": "code",
   "execution_count": 10,
   "metadata": {},
   "outputs": [
    {
     "data": {
      "text/plain": [
       "0    14214\n",
       "1     4808\n",
       "2     2052\n",
       "3      330\n",
       "4       41\n",
       "5        9\n",
       "Name: children, dtype: int64"
      ]
     },
     "execution_count": 10,
     "metadata": {},
     "output_type": "execute_result"
    }
   ],
   "source": [
    "data.loc[(data['children'] <= 0) | (data['children'] > 5), 'children'] = 0\n",
    "data['children'] = data['children'].astype('uint8')\n",
    "data['children'].value_counts()"
   ]
  },
  {
   "cell_type": "markdown",
   "metadata": {},
   "source": [
    "### <font color='red'> Комментарий наставника 5 <span style=\"color:green;font-size:200%\">&#10003;</span>\n",
    "Молодец, что заметил неадекватности в поле children. Но всё-таки не стоит торопиться с удалением данных из датасета. Я согласна, что их не много (меньше 1%). Но всё же стоит перестраховаться и проверить, что удалив эти строки мы не удалим значимую часть данных какой-либо интересующей нас категории. Добавь, пожалуйста, такую проверку или всё же попробуй \"исправить\" эти данные."
   ]
  },
  {
   "cell_type": "markdown",
   "metadata": {},
   "source": [
    "<font color='green'> Поменял проблемные значения на средние по датасету без учета проблемных. <span style=\"color:green;font-size:200%\">&#10003;</span>"
   ]
  },
  {
   "cell_type": "markdown",
   "metadata": {},
   "source": [
    "Теперь займемся колонкой dob_years. Значения в ней не могут быть меньше 18 (допустим, что речь идет о российском банке, а несовершеннолетним кредиты в РФ не дают). В принципе они не могут быть и меньше соответствующего значения в колонке с трудовым стажем, но по первому впечатлению данные в этой колонке странные, так что ориентироваться на них не будем. Проблемные значения dob_years будем заменять медианным значением по соответствующему типу занятости без учета проблемных значений. Делать это будем при помощи следующей функции (без нее код был бы не сильно длиннее, но пришлось бы вручную определять нужные типы занятости и переносить средние значения)."
   ]
  },
  {
   "cell_type": "code",
   "execution_count": 11,
   "metadata": {},
   "outputs": [],
   "source": [
    "def replace_bad_dob_years():\n",
    "    income_types_list = list(data.loc[data['dob_years'] < 18, 'income_type'].unique())\n",
    "    medians_by_income_type = data[data['dob_years'] > 18].groupby('income_type').median()\n",
    "    for income_type in income_types_list:\n",
    "        median_by_the_income_type = medians_by_income_type.loc[medians_by_income_type.index == income_type]['dob_years'][0]\n",
    "        data.loc[(data['dob_years'] < 18) & (data['income_type'] == income_type), 'dob_years'] = median_by_the_income_type\n",
    "    return None"
   ]
  },
  {
   "cell_type": "markdown",
   "metadata": {},
   "source": [
    "### <font color='orange'>Комментарий от наставника 2 итерация 2\n",
    "Молодец, что исправил! Твой код вполне ок, но можно чуть проще:"
   ]
  },
  {
   "cell_type": "code",
   "execution_count": 15,
   "metadata": {},
   "outputs": [
    {
     "name": "stdout",
     "output_type": "stream",
     "text": [
      "{'безработный': 38.0, 'в декрете': 39.0, 'госслужащий': 40.814607633420934, 'компаньон': 39.84971793313015, 'пенсионер': 59.357004840176906, 'предприниматель': 42.5, 'сотрудник': 40.00590585380544, 'студент': 22.0}\n"
     ]
    },
    {
     "data": {
      "text/html": [
       "<div>\n",
       "<style scoped>\n",
       "    .dataframe tbody tr th:only-of-type {\n",
       "        vertical-align: middle;\n",
       "    }\n",
       "\n",
       "    .dataframe tbody tr th {\n",
       "        vertical-align: top;\n",
       "    }\n",
       "\n",
       "    .dataframe thead th {\n",
       "        text-align: right;\n",
       "    }\n",
       "</style>\n",
       "<table border=\"1\" class=\"dataframe\">\n",
       "  <thead>\n",
       "    <tr style=\"text-align: right;\">\n",
       "      <th></th>\n",
       "      <th>dob_years</th>\n",
       "      <th>dob_years_mean</th>\n",
       "      <th>income_type</th>\n",
       "    </tr>\n",
       "  </thead>\n",
       "  <tbody>\n",
       "    <tr>\n",
       "      <th>0</th>\n",
       "      <td>42.0</td>\n",
       "      <td>40.005906</td>\n",
       "      <td>сотрудник</td>\n",
       "    </tr>\n",
       "    <tr>\n",
       "      <th>1</th>\n",
       "      <td>36.0</td>\n",
       "      <td>40.005906</td>\n",
       "      <td>сотрудник</td>\n",
       "    </tr>\n",
       "    <tr>\n",
       "      <th>2</th>\n",
       "      <td>33.0</td>\n",
       "      <td>40.005906</td>\n",
       "      <td>сотрудник</td>\n",
       "    </tr>\n",
       "    <tr>\n",
       "      <th>3</th>\n",
       "      <td>32.0</td>\n",
       "      <td>40.005906</td>\n",
       "      <td>сотрудник</td>\n",
       "    </tr>\n",
       "    <tr>\n",
       "      <th>4</th>\n",
       "      <td>53.0</td>\n",
       "      <td>59.357005</td>\n",
       "      <td>пенсионер</td>\n",
       "    </tr>\n",
       "    <tr>\n",
       "      <th>5</th>\n",
       "      <td>27.0</td>\n",
       "      <td>39.849718</td>\n",
       "      <td>компаньон</td>\n",
       "    </tr>\n",
       "    <tr>\n",
       "      <th>6</th>\n",
       "      <td>43.0</td>\n",
       "      <td>39.849718</td>\n",
       "      <td>компаньон</td>\n",
       "    </tr>\n",
       "    <tr>\n",
       "      <th>7</th>\n",
       "      <td>50.0</td>\n",
       "      <td>40.005906</td>\n",
       "      <td>сотрудник</td>\n",
       "    </tr>\n",
       "    <tr>\n",
       "      <th>8</th>\n",
       "      <td>35.0</td>\n",
       "      <td>40.005906</td>\n",
       "      <td>сотрудник</td>\n",
       "    </tr>\n",
       "    <tr>\n",
       "      <th>9</th>\n",
       "      <td>41.0</td>\n",
       "      <td>40.005906</td>\n",
       "      <td>сотрудник</td>\n",
       "    </tr>\n",
       "  </tbody>\n",
       "</table>\n",
       "</div>"
      ],
      "text/plain": [
       "   dob_years  dob_years_mean income_type\n",
       "0       42.0       40.005906   сотрудник\n",
       "1       36.0       40.005906   сотрудник\n",
       "2       33.0       40.005906   сотрудник\n",
       "3       32.0       40.005906   сотрудник\n",
       "4       53.0       59.357005   пенсионер\n",
       "5       27.0       39.849718   компаньон\n",
       "6       43.0       39.849718   компаньон\n",
       "7       50.0       40.005906   сотрудник\n",
       "8       35.0       40.005906   сотрудник\n",
       "9       41.0       40.005906   сотрудник"
      ]
     },
     "execution_count": 15,
     "metadata": {},
     "output_type": "execute_result"
    }
   ],
   "source": [
    "# НАСТАВНИК:\n",
    "# находим среднее по группам income_type:\n",
    "dob_years_mean_by_income_type_dict = data.groupby('income_type')['dob_years'].agg('mean').to_dict() \n",
    "# посмотрим на получившийся словарь:\n",
    "print(dob_years_mean_by_income_type_dict) \n",
    "# создадим новый столбец со средними по группе income_type (в самом конце посмотрим, что вышло)\n",
    "data['dob_years_mean'] = data['income_type'].map(dob_years_mean_by_income_type_dict)\n",
    "data.loc[data['dob_years'] < 18, 'dob_years'] = data.loc[data['dob_years'] < 18, 'dob_years_mean']\n",
    "data[['dob_years', 'dob_years_mean', 'income_type']].head(10)  # убедимся, что всё ок"
   ]
  },
  {
   "cell_type": "markdown",
   "metadata": {},
   "source": [
    "Посмотрим, какие типы занятости представлены среди проблемных строк."
   ]
  },
  {
   "cell_type": "code",
   "execution_count": 12,
   "metadata": {},
   "outputs": [
    {
     "data": {
      "text/plain": [
       "сотрудник      55\n",
       "пенсионер      20\n",
       "компаньон      20\n",
       "госслужащий     6\n",
       "Name: income_type, dtype: int64"
      ]
     },
     "execution_count": 12,
     "metadata": {},
     "output_type": "execute_result"
    }
   ],
   "source": [
    "data.loc[data['dob_years'] < 18, 'income_type'].value_counts()"
   ]
  },
  {
   "cell_type": "markdown",
   "metadata": {},
   "source": [
    "Теперь вызовем функцию и убедимся, что она сработала."
   ]
  },
  {
   "cell_type": "code",
   "execution_count": 13,
   "metadata": {},
   "outputs": [
    {
     "data": {
      "text/plain": [
       "Series([], Name: income_type, dtype: int64)"
      ]
     },
     "execution_count": 13,
     "metadata": {},
     "output_type": "execute_result"
    }
   ],
   "source": [
    "replace_bad_dob_years()\n",
    "data.loc[data['dob_years'] < 18, 'income_type'].value_counts()"
   ]
  },
  {
   "cell_type": "markdown",
   "metadata": {},
   "source": [
    "Все в порядке. Оптимизируем тип данных столбца dob_years и двигаемся дальше."
   ]
  },
  {
   "cell_type": "code",
   "execution_count": 14,
   "metadata": {},
   "outputs": [],
   "source": [
    "data['dob_years'] = data['dob_years'].astype('uint8')"
   ]
  },
  {
   "cell_type": "markdown",
   "metadata": {},
   "source": [
    "### <font color='red'> Комментарий наставника 6\n",
    "Опять же, не стоит поддаваться соблазну удалить всё проблемное (да ещё и без проверок, что мы не теряем значимую долю в какой-либо категории). Лучше тут будет заменить заведомо ошибочные данные на медианное значение возраста, например. Или даже на медианное внутри групп income_type (средний возраст пенсионеров наверняка отличается от среднего возраста студентов)."
   ]
  },
  {
   "cell_type": "markdown",
   "metadata": {},
   "source": [
    "<font color='green'> Поменял на медианные внутри групп по типу занятости. <span style=\"color:green;font-size:200%\">&#10003;</span>"
   ]
  },
  {
   "cell_type": "markdown",
   "metadata": {},
   "source": [
    "Переходим к days_employed. Посмотрим, сколько в этом столбце правдоподобных значений. То есть неотрицательных и не превышающих 73 (средняя ожидаемая продолжительность жизни при рождении за 2018 год в России по данным Росстата) - 14 (минимальный возраст трудоустройства по Трудовому кодексу РФ) = 59 в пересчете на годы."
   ]
  },
  {
   "cell_type": "code",
   "execution_count": 15,
   "metadata": {},
   "outputs": [
    {
     "data": {
      "text/html": [
       "<div>\n",
       "<style scoped>\n",
       "    .dataframe tbody tr th:only-of-type {\n",
       "        vertical-align: middle;\n",
       "    }\n",
       "\n",
       "    .dataframe tbody tr th {\n",
       "        vertical-align: top;\n",
       "    }\n",
       "\n",
       "    .dataframe thead th {\n",
       "        text-align: right;\n",
       "    }\n",
       "</style>\n",
       "<table border=\"1\" class=\"dataframe\">\n",
       "  <thead>\n",
       "    <tr style=\"text-align: right;\">\n",
       "      <th></th>\n",
       "      <th>children</th>\n",
       "      <th>days_employed</th>\n",
       "      <th>dob_years</th>\n",
       "      <th>education</th>\n",
       "      <th>education_id</th>\n",
       "      <th>family_status</th>\n",
       "      <th>family_status_id</th>\n",
       "      <th>gender</th>\n",
       "      <th>income_type</th>\n",
       "      <th>debt</th>\n",
       "      <th>total_income</th>\n",
       "      <th>purpose</th>\n",
       "    </tr>\n",
       "  </thead>\n",
       "  <tbody>\n",
       "  </tbody>\n",
       "</table>\n",
       "</div>"
      ],
      "text/plain": [
       "Empty DataFrame\n",
       "Columns: [children, days_employed, dob_years, education, education_id, family_status, family_status_id, gender, income_type, debt, total_income, purpose]\n",
       "Index: []"
      ]
     },
     "execution_count": 15,
     "metadata": {},
     "output_type": "execute_result"
    }
   ],
   "source": [
    "data[\n",
    "    (data['days_employed'] >= 0) &\n",
    "    (data['days_employed'] <= 59*365)\n",
    "]    "
   ]
  },
  {
   "cell_type": "markdown",
   "metadata": {},
   "source": [
    "Правдоподобных значений в столбце days_employed нет. Манипуляции с предыдущей ячейкой показывают, что минимальный неотрицательный стаж в датасете -- 901 год. Убедимся, что NaN в столбцах days_employed и total_income встречаеся в одних и тех же строках."
   ]
  },
  {
   "cell_type": "code",
   "execution_count": 16,
   "metadata": {},
   "outputs": [
    {
     "data": {
      "text/plain": [
       "True"
      ]
     },
     "execution_count": 16,
     "metadata": {},
     "output_type": "execute_result"
    }
   ],
   "source": [
    "data[data['days_employed'].isna()].equals(data[data['total_income'].isna()])"
   ]
  },
  {
   "cell_type": "markdown",
   "metadata": {},
   "source": [
    "Так и есть. Сообщим об этом ответственным за выгрузку данных. Но как быть с непропущенными, но явно некорректными значениями? Посмотрим, как они распредлены по типам занятости."
   ]
  },
  {
   "cell_type": "code",
   "execution_count": 17,
   "metadata": {},
   "outputs": [
    {
     "data": {
      "text/html": [
       "<div>\n",
       "<style scoped>\n",
       "    .dataframe tbody tr th:only-of-type {\n",
       "        vertical-align: middle;\n",
       "    }\n",
       "\n",
       "    .dataframe tbody tr th {\n",
       "        vertical-align: top;\n",
       "    }\n",
       "\n",
       "    .dataframe thead tr th {\n",
       "        text-align: left;\n",
       "    }\n",
       "\n",
       "    .dataframe thead tr:last-of-type th {\n",
       "        text-align: right;\n",
       "    }\n",
       "</style>\n",
       "<table border=\"1\" class=\"dataframe\">\n",
       "  <thead>\n",
       "    <tr>\n",
       "      <th></th>\n",
       "      <th colspan=\"8\" halign=\"left\">days_employed</th>\n",
       "    </tr>\n",
       "    <tr>\n",
       "      <th></th>\n",
       "      <th>count</th>\n",
       "      <th>mean</th>\n",
       "      <th>std</th>\n",
       "      <th>min</th>\n",
       "      <th>25%</th>\n",
       "      <th>50%</th>\n",
       "      <th>75%</th>\n",
       "      <th>max</th>\n",
       "    </tr>\n",
       "    <tr>\n",
       "      <th>income_type</th>\n",
       "      <th></th>\n",
       "      <th></th>\n",
       "      <th></th>\n",
       "      <th></th>\n",
       "      <th></th>\n",
       "      <th></th>\n",
       "      <th></th>\n",
       "      <th></th>\n",
       "    </tr>\n",
       "  </thead>\n",
       "  <tbody>\n",
       "    <tr>\n",
       "      <th>безработный</th>\n",
       "      <td>2.0</td>\n",
       "      <td>366413.652744</td>\n",
       "      <td>40855.478519</td>\n",
       "      <td>337524.466835</td>\n",
       "      <td>351969.059790</td>\n",
       "      <td>366413.652744</td>\n",
       "      <td>380858.245699</td>\n",
       "      <td>395302.838654</td>\n",
       "    </tr>\n",
       "    <tr>\n",
       "      <th>в декрете</th>\n",
       "      <td>1.0</td>\n",
       "      <td>-3296.759962</td>\n",
       "      <td>NaN</td>\n",
       "      <td>-3296.759962</td>\n",
       "      <td>-3296.759962</td>\n",
       "      <td>-3296.759962</td>\n",
       "      <td>-3296.759962</td>\n",
       "      <td>-3296.759962</td>\n",
       "    </tr>\n",
       "    <tr>\n",
       "      <th>госслужащий</th>\n",
       "      <td>1312.0</td>\n",
       "      <td>-3399.896902</td>\n",
       "      <td>2788.371363</td>\n",
       "      <td>-15193.032201</td>\n",
       "      <td>-4759.399260</td>\n",
       "      <td>-2689.368353</td>\n",
       "      <td>-1257.171811</td>\n",
       "      <td>-39.954170</td>\n",
       "    </tr>\n",
       "    <tr>\n",
       "      <th>компаньон</th>\n",
       "      <td>4577.0</td>\n",
       "      <td>-2111.524398</td>\n",
       "      <td>2048.448594</td>\n",
       "      <td>-17615.563266</td>\n",
       "      <td>-2876.648520</td>\n",
       "      <td>-1547.382223</td>\n",
       "      <td>-685.687432</td>\n",
       "      <td>-30.195337</td>\n",
       "    </tr>\n",
       "    <tr>\n",
       "      <th>пенсионер</th>\n",
       "      <td>3443.0</td>\n",
       "      <td>365003.491245</td>\n",
       "      <td>21069.606065</td>\n",
       "      <td>328728.720605</td>\n",
       "      <td>346649.346146</td>\n",
       "      <td>365213.306266</td>\n",
       "      <td>383231.396871</td>\n",
       "      <td>401755.400475</td>\n",
       "    </tr>\n",
       "    <tr>\n",
       "      <th>предприниматель</th>\n",
       "      <td>1.0</td>\n",
       "      <td>-520.848083</td>\n",
       "      <td>NaN</td>\n",
       "      <td>-520.848083</td>\n",
       "      <td>-520.848083</td>\n",
       "      <td>-520.848083</td>\n",
       "      <td>-520.848083</td>\n",
       "      <td>-520.848083</td>\n",
       "    </tr>\n",
       "    <tr>\n",
       "      <th>сотрудник</th>\n",
       "      <td>10014.0</td>\n",
       "      <td>-2326.499216</td>\n",
       "      <td>2307.924129</td>\n",
       "      <td>-18388.949901</td>\n",
       "      <td>-3108.123025</td>\n",
       "      <td>-1574.202821</td>\n",
       "      <td>-746.027361</td>\n",
       "      <td>-24.141633</td>\n",
       "    </tr>\n",
       "    <tr>\n",
       "      <th>студент</th>\n",
       "      <td>1.0</td>\n",
       "      <td>-578.751554</td>\n",
       "      <td>NaN</td>\n",
       "      <td>-578.751554</td>\n",
       "      <td>-578.751554</td>\n",
       "      <td>-578.751554</td>\n",
       "      <td>-578.751554</td>\n",
       "      <td>-578.751554</td>\n",
       "    </tr>\n",
       "  </tbody>\n",
       "</table>\n",
       "</div>"
      ],
      "text/plain": [
       "                days_employed                                              \\\n",
       "                        count           mean           std            min   \n",
       "income_type                                                                 \n",
       "безработный               2.0  366413.652744  40855.478519  337524.466835   \n",
       "в декрете                 1.0   -3296.759962           NaN   -3296.759962   \n",
       "госслужащий            1312.0   -3399.896902   2788.371363  -15193.032201   \n",
       "компаньон              4577.0   -2111.524398   2048.448594  -17615.563266   \n",
       "пенсионер              3443.0  365003.491245  21069.606065  328728.720605   \n",
       "предприниматель           1.0    -520.848083           NaN    -520.848083   \n",
       "сотрудник             10014.0   -2326.499216   2307.924129  -18388.949901   \n",
       "студент                   1.0    -578.751554           NaN    -578.751554   \n",
       "\n",
       "                                                                             \n",
       "                           25%            50%            75%            max  \n",
       "income_type                                                                  \n",
       "безработный      351969.059790  366413.652744  380858.245699  395302.838654  \n",
       "в декрете         -3296.759962   -3296.759962   -3296.759962   -3296.759962  \n",
       "госслужащий       -4759.399260   -2689.368353   -1257.171811     -39.954170  \n",
       "компаньон         -2876.648520   -1547.382223    -685.687432     -30.195337  \n",
       "пенсионер        346649.346146  365213.306266  383231.396871  401755.400475  \n",
       "предприниматель    -520.848083    -520.848083    -520.848083    -520.848083  \n",
       "сотрудник         -3108.123025   -1574.202821    -746.027361     -24.141633  \n",
       "студент            -578.751554    -578.751554    -578.751554    -578.751554  "
      ]
     },
     "execution_count": 17,
     "metadata": {},
     "output_type": "execute_result"
    }
   ],
   "source": [
    "data[['days_employed', 'income_type']].groupby('income_type').describe()"
   ]
  },
  {
   "cell_type": "markdown",
   "metadata": {},
   "source": [
    "Бросается в глаза, что положительные и всегда очень большие значения переменнная days_employed имеет у пенсионеров и безработных, а у всех остальных категорий она отрицательная. Безработных в датасете всего два человека -- эти записи погоды не сделают, ими можно пожертвовать."
   ]
  },
  {
   "cell_type": "code",
   "execution_count": 18,
   "metadata": {},
   "outputs": [
    {
     "name": "stdout",
     "output_type": "stream",
     "text": [
      "<class 'pandas.core.frame.DataFrame'>\n",
      "Int64Index: 21452 entries, 0 to 21524\n",
      "Data columns (total 12 columns):\n",
      "children            21452 non-null uint8\n",
      "days_employed       19349 non-null float64\n",
      "dob_years           21452 non-null uint8\n",
      "education           21452 non-null object\n",
      "education_id        21452 non-null int64\n",
      "family_status       21452 non-null object\n",
      "family_status_id    21452 non-null int64\n",
      "gender              21452 non-null object\n",
      "income_type         21452 non-null object\n",
      "debt                21452 non-null int64\n",
      "total_income        19349 non-null float64\n",
      "purpose             21452 non-null object\n",
      "dtypes: float64(2), int64(3), object(5), uint8(2)\n",
      "memory usage: 1.8+ MB\n"
     ]
    }
   ],
   "source": [
    "data = data[data['income_type'] != 'безработный']\n",
    "data.info()"
   ]
  },
  {
   "cell_type": "markdown",
   "metadata": {},
   "source": [
    "Теперь посмотрим, какие значения days_employed принимает у пенсионеров разного возраста."
   ]
  },
  {
   "cell_type": "code",
   "execution_count": 20,
   "metadata": {},
   "outputs": [
    {
     "data": {
      "text/plain": [
       "<matplotlib.axes._subplots.AxesSubplot at 0x7f765c8f6240>"
      ]
     },
     "execution_count": 20,
     "metadata": {},
     "output_type": "execute_result"
    },
    {
     "data": {
      "image/png": "[encoded data removed]",
      "text/plain": [
       "<Figure size 2160x1440 with 1 Axes>"
      ]
     },
     "metadata": {
      "needs_background": "light"
     },
     "output_type": "display_data"
    }
   ],
   "source": [
    "data[['dob_years', 'days_employed', 'income_type']][data['income_type'] == 'пенсионер'].groupby('dob_years')['days_employed'].mean().plot.line(figsize=(30,20))"
   ]
  },
  {
   "cell_type": "markdown",
   "metadata": {},
   "source": [
    "Совсем молодые пенсионеры в датасете -- это нормально, пенсию назначают не только по старости, а в некоторых профессиях она наступает значительно раньше, чем у большинства. Но интересно, что, например, у двух 26-летних пенсионеров показатель стажа превышает средние значения для людей значительно более старшего возраста. Даже если в их случае был применен особый способ расчета стажа (допустим, что они работали на крайнем севере или участвовали в боевых действиях, и каждый год им засчитывался за три), к 26 годам невозможно превзойти средний стаж, с которым люди в России выходят на пенсию по старости (35 лет по состоянию на 2013 год). Да и график говорит о том, что прямой зависимости стажа от возраста в этой выборке не прослеживается. Похоже, данные о стаже для пенсионеров восстановлению не подлежат, так что попробуем их заменить.\n",
    "\n",
    "Есть большая вероятность, что не все люди пенсионного возраста (и даже не все фактически вышедшие на пенсию) указали в графе \"тип занятости\", что они пенсионеры, так как многие пенсионеры продолжают работать. Такие заемщики, вероятно, сообщили, что они \"госслужащие\" или \"сотрудники\", ведь их шансы получить кредит как правило тем выше, чем больший доход они могут документально подтвердить. Это позволяет сделать экстраполировать на пенсионеров средний стаж людей того же возраста из других категорий (не-пенсионеров). Посмотрим, что творится с данными о стаже в этой части датасета."
   ]
  },
  {
   "cell_type": "code",
   "execution_count": 21,
   "metadata": {},
   "outputs": [
    {
     "data": {
      "text/plain": [
       "<matplotlib.axes._subplots.AxesSubplot at 0x7f765c94d9e8>"
      ]
     },
     "execution_count": 21,
     "metadata": {},
     "output_type": "execute_result"
    },
    {
     "data": {
      "image/png": "[encoded data removed]",
      "text/plain": [
       "<Figure size 2160x1440 with 1 Axes>"
      ]
     },
     "metadata": {
      "needs_background": "light"
     },
     "output_type": "display_data"
    }
   ],
   "source": [
    "data[['dob_years', 'days_employed', 'income_type']][data['income_type'] != 'пенсионер'].groupby('dob_years')['days_employed'].mean().plot.line(figsize=(30,20))"
   ]
  },
  {
   "cell_type": "markdown",
   "metadata": {},
   "source": [
    "Здесь явно нет такого хаоса, как у пенсионеров, а есть что-то вроде линейной зависимости от возраста. С годами стаж, правда, не растат, а падает. И даже если взять эти значения по модулю, то при переводе из дней -- а в описании датасета сказано, что речь идет о днях -- в годы они все равно выглядят не очень реалистично: получается, например, что у 60-летних людей средний стаж равен примерно 10 годам, что в три с лишним раза меньше упоминавшегося выше среднего стажа на момент выхода на пенсию, который происходит как раз примерно в этом возрасте. Но по крайней мере в этих данных видна закономерность, поэтому сначала исправим значения стажа из этой выборки на такие же, но с положительным знаком, а затем экстраполируем средние значения по годам на пенсионеров, а также на те строки, где в колонке со стажем пропуски. Для второй операции придется создать вспомогательный столбец."
   ]
  },
  {
   "cell_type": "code",
   "execution_count": 156,
   "metadata": {},
   "outputs": [
    {
     "data": {
      "text/html": [
       "<div>\n",
       "<style scoped>\n",
       "    .dataframe tbody tr th:only-of-type {\n",
       "        vertical-align: middle;\n",
       "    }\n",
       "\n",
       "    .dataframe tbody tr th {\n",
       "        vertical-align: top;\n",
       "    }\n",
       "\n",
       "    .dataframe thead th {\n",
       "        text-align: right;\n",
       "    }\n",
       "</style>\n",
       "<table border=\"1\" class=\"dataframe\">\n",
       "  <thead>\n",
       "    <tr style=\"text-align: right;\">\n",
       "      <th></th>\n",
       "      <th>children</th>\n",
       "      <th>days_employed</th>\n",
       "      <th>dob_years</th>\n",
       "      <th>education_id</th>\n",
       "      <th>family_status_id</th>\n",
       "      <th>debt</th>\n",
       "      <th>total_income</th>\n",
       "      <th>fill_gaps</th>\n",
       "    </tr>\n",
       "  </thead>\n",
       "  <tbody>\n",
       "    <tr>\n",
       "      <th>count</th>\n",
       "      <td>21452.000000</td>\n",
       "      <td>21452.000000</td>\n",
       "      <td>21452.000000</td>\n",
       "      <td>21452.000000</td>\n",
       "      <td>21452.000000</td>\n",
       "      <td>21452.000000</td>\n",
       "      <td>1.934900e+04</td>\n",
       "      <td>21452.000000</td>\n",
       "    </tr>\n",
       "    <tr>\n",
       "      <th>mean</th>\n",
       "      <td>0.471285</td>\n",
       "      <td>2578.610759</td>\n",
       "      <td>43.475200</td>\n",
       "      <td>0.817127</td>\n",
       "      <td>0.973942</td>\n",
       "      <td>0.081111</td>\n",
       "      <td>1.674260e+05</td>\n",
       "      <td>2579.117314</td>\n",
       "    </tr>\n",
       "    <tr>\n",
       "      <th>std</th>\n",
       "      <td>0.751091</td>\n",
       "      <td>2067.224980</td>\n",
       "      <td>12.227151</td>\n",
       "      <td>0.548670</td>\n",
       "      <td>1.421618</td>\n",
       "      <td>0.273012</td>\n",
       "      <td>1.029737e+05</td>\n",
       "      <td>878.836633</td>\n",
       "    </tr>\n",
       "    <tr>\n",
       "      <th>min</th>\n",
       "      <td>0.000000</td>\n",
       "      <td>24.000000</td>\n",
       "      <td>19.000000</td>\n",
       "      <td>0.000000</td>\n",
       "      <td>0.000000</td>\n",
       "      <td>0.000000</td>\n",
       "      <td>2.066726e+04</td>\n",
       "      <td>633.678086</td>\n",
       "    </tr>\n",
       "    <tr>\n",
       "      <th>25%</th>\n",
       "      <td>0.000000</td>\n",
       "      <td>1011.000000</td>\n",
       "      <td>33.000000</td>\n",
       "      <td>1.000000</td>\n",
       "      <td>0.000000</td>\n",
       "      <td>0.000000</td>\n",
       "      <td>1.030780e+05</td>\n",
       "      <td>1868.655183</td>\n",
       "    </tr>\n",
       "    <tr>\n",
       "      <th>50%</th>\n",
       "      <td>0.000000</td>\n",
       "      <td>2295.000000</td>\n",
       "      <td>42.000000</td>\n",
       "      <td>1.000000</td>\n",
       "      <td>0.000000</td>\n",
       "      <td>0.000000</td>\n",
       "      <td>1.450179e+05</td>\n",
       "      <td>2791.307088</td>\n",
       "    </tr>\n",
       "    <tr>\n",
       "      <th>75%</th>\n",
       "      <td>1.000000</td>\n",
       "      <td>3577.000000</td>\n",
       "      <td>53.000000</td>\n",
       "      <td>1.000000</td>\n",
       "      <td>1.000000</td>\n",
       "      <td>0.000000</td>\n",
       "      <td>2.034441e+05</td>\n",
       "      <td>3096.942310</td>\n",
       "    </tr>\n",
       "    <tr>\n",
       "      <th>max</th>\n",
       "      <td>5.000000</td>\n",
       "      <td>18388.000000</td>\n",
       "      <td>75.000000</td>\n",
       "      <td>4.000000</td>\n",
       "      <td>4.000000</td>\n",
       "      <td>1.000000</td>\n",
       "      <td>2.265604e+06</td>\n",
       "      <td>6603.920060</td>\n",
       "    </tr>\n",
       "  </tbody>\n",
       "</table>\n",
       "</div>"
      ],
      "text/plain": [
       "           children  days_employed     dob_years  education_id  \\\n",
       "count  21452.000000   21452.000000  21452.000000  21452.000000   \n",
       "mean       0.471285    2578.610759     43.475200      0.817127   \n",
       "std        0.751091    2067.224980     12.227151      0.548670   \n",
       "min        0.000000      24.000000     19.000000      0.000000   \n",
       "25%        0.000000    1011.000000     33.000000      1.000000   \n",
       "50%        0.000000    2295.000000     42.000000      1.000000   \n",
       "75%        1.000000    3577.000000     53.000000      1.000000   \n",
       "max        5.000000   18388.000000     75.000000      4.000000   \n",
       "\n",
       "       family_status_id          debt  total_income     fill_gaps  \n",
       "count      21452.000000  21452.000000  1.934900e+04  21452.000000  \n",
       "mean           0.973942      0.081111  1.674260e+05   2579.117314  \n",
       "std            1.421618      0.273012  1.029737e+05    878.836633  \n",
       "min            0.000000      0.000000  2.066726e+04    633.678086  \n",
       "25%            0.000000      0.000000  1.030780e+05   1868.655183  \n",
       "50%            0.000000      0.000000  1.450179e+05   2791.307088  \n",
       "75%            1.000000      0.000000  2.034441e+05   3096.942310  \n",
       "max            4.000000      1.000000  2.265604e+06   6603.920060  "
      ]
     },
     "execution_count": 156,
     "metadata": {},
     "output_type": "execute_result"
    }
   ],
   "source": [
    "data.loc[data['income_type'] != 'пенсионер', 'days_employed'] = abs(data.loc[data['income_type'] != 'пенсионер', 'days_employed'])\n",
    "mean_term_by_age = data[data['income_type'] != 'пенсионер'].groupby('dob_years').mean()['days_employed'].to_dict()\n",
    "data['fill_gaps'] = data['dob_years'].map(mean_term_by_age)  \n",
    "data.loc[data['income_type'] == 'пенсионер', 'days_employed'] = data.loc[data['income_type'] == 'пенсионер', 'fill_gaps']\n",
    "data.loc[data['days_employed'].isna(), 'days_employed'] = data.loc[data['days_employed'].isna(), 'fill_gaps']\n",
    "data['days_employed'] = data['days_employed'].astype('uint32')\n",
    "data.describe()"
   ]
  },
  {
   "cell_type": "markdown",
   "metadata": {},
   "source": [
    "### <font color='red'> Комментарий наставника 7\n",
    "Всё так, правдоподобных значений в столбце действительно нет. Но всё же, если посмотреть на статитистики (минимум, максимум и медиану) в разбивке по income_type, то можно узнать интересные подробности и даже понять, как всё же исправить эти данные. <br>\n",
    "    \n",
    "Да, в итоге нас действительно не просят анализировать этот столбец, но его наличие позволяет понять то, про что ты писал в самом начале: **\"В столбцах days_employed и total_income есть пропуски. Их одинаковое количество: вероятно, они встречаются в одних и тех же строках и имеют техническую природу.\"** Это отличное наблюдение, но стоит действительно доказать наглядно эту связь в пропусках для того, чтобы можно было сообщить её техническому специалисту, ответственному за данные."
   ]
  },
  {
   "cell_type": "markdown",
   "metadata": {},
   "source": [
    "<font color='green'> Заполнил пропуски и неправдоподобные значения средними значениями по более-менее достоверной части датасета, дифференцированными по возрасту. Есть ли способ делать такие операции без вспомогательного столбца?"
   ]
  },
  {
   "cell_type": "markdown",
   "metadata": {},
   "source": [
    "### <font color='orange'>Комментарий от наставника 3 итерация 2 \n",
    "Ты провёл настояще исследование, круто :) Но честно говоря, тут было достаточно заметить, что у всех пенсионеров стаж оказался не менее 900 лет и да, его стоит заменить по остальным данным."
   ]
  },
  {
   "cell_type": "markdown",
   "metadata": {},
   "source": [
    "Посчитаем медианный доход клиентов в зависимости от типа занятости и заменим пропуски в total_income этими значениеми."
   ]
  },
  {
   "cell_type": "code",
   "execution_count": 157,
   "metadata": {},
   "outputs": [],
   "source": [
    "median_income_by_income_type = data.groupby('income_type').median()['total_income'].to_dict()\n",
    "data['fill_gaps'] = data['income_type'].map(median_income_by_income_type)\n",
    "data['total_income'] = data['total_income'].fillna(data['fill_gaps']).astype('uint32')"
   ]
  },
  {
   "cell_type": "markdown",
   "metadata": {},
   "source": [
    "### <font color='red'> Комментарий наставника 8  <span style=\"color:green;font-size:200%\">&#10003;</span>\n",
    "Твой вариант вполне корректен. Но всё же чуть аккуратнее будет заменить пропуски на медианные значения внутри групп income_type."
   ]
  },
  {
   "cell_type": "markdown",
   "metadata": {},
   "source": [
    "<font color='green'> Сделал. <span style=\"color:green;font-size:200%\">&#10003;</span>"
   ]
  },
  {
   "cell_type": "markdown",
   "metadata": {},
   "source": [
    "Посмотрим, как обстоят дела со столбцами debt, gender, education_id и family_status_id."
   ]
  },
  {
   "cell_type": "code",
   "execution_count": 158,
   "metadata": {},
   "outputs": [
    {
     "data": {
      "text/plain": [
       "array([0, 1])"
      ]
     },
     "execution_count": 158,
     "metadata": {},
     "output_type": "execute_result"
    }
   ],
   "source": [
    "data['debt'].unique()"
   ]
  },
  {
   "cell_type": "code",
   "execution_count": 159,
   "metadata": {},
   "outputs": [
    {
     "name": "stdout",
     "output_type": "stream",
     "text": [
      "<class 'pandas.core.frame.DataFrame'>\n",
      "Int64Index: 21452 entries, 0 to 21524\n",
      "Data columns (total 13 columns):\n",
      "children            21452 non-null uint8\n",
      "days_employed       21452 non-null uint32\n",
      "dob_years           21452 non-null uint8\n",
      "education           21452 non-null object\n",
      "education_id        21452 non-null int64\n",
      "family_status       21452 non-null object\n",
      "family_status_id    21452 non-null int64\n",
      "gender              21452 non-null object\n",
      "income_type         21452 non-null object\n",
      "debt                21452 non-null uint8\n",
      "total_income        21452 non-null uint32\n",
      "purpose             21452 non-null object\n",
      "fill_gaps           21452 non-null float64\n",
      "dtypes: float64(1), int64(2), object(5), uint32(2), uint8(3)\n",
      "memory usage: 1.7+ MB\n"
     ]
    }
   ],
   "source": [
    "data['debt'] = data['debt'].astype('uint8')\n",
    "data.info()"
   ]
  },
  {
   "cell_type": "code",
   "execution_count": 160,
   "metadata": {},
   "outputs": [
    {
     "data": {
      "text/plain": [
       "f      14173\n",
       "m       7278\n",
       "xna        1\n",
       "Name: gender, dtype: int64"
      ]
     },
     "execution_count": 160,
     "metadata": {},
     "output_type": "execute_result"
    }
   ],
   "source": [
    "data['gender'].value_counts()"
   ]
  },
  {
   "cell_type": "markdown",
   "metadata": {},
   "source": [
    "Одной аномальной строчкой можно пожертвовать."
   ]
  },
  {
   "cell_type": "code",
   "execution_count": 161,
   "metadata": {},
   "outputs": [
    {
     "name": "stdout",
     "output_type": "stream",
     "text": [
      "<class 'pandas.core.frame.DataFrame'>\n",
      "Int64Index: 21451 entries, 0 to 21524\n",
      "Data columns (total 13 columns):\n",
      "children            21451 non-null uint8\n",
      "days_employed       21451 non-null uint32\n",
      "dob_years           21451 non-null uint8\n",
      "education           21451 non-null object\n",
      "education_id        21451 non-null int64\n",
      "family_status       21451 non-null object\n",
      "family_status_id    21451 non-null int64\n",
      "gender              21451 non-null object\n",
      "income_type         21451 non-null object\n",
      "debt                21451 non-null uint8\n",
      "total_income        21451 non-null uint32\n",
      "purpose             21451 non-null object\n",
      "fill_gaps           21451 non-null float64\n",
      "dtypes: float64(1), int64(2), object(5), uint32(2), uint8(3)\n",
      "memory usage: 1.7+ MB\n"
     ]
    }
   ],
   "source": [
    "data = data[data['gender'] != 'xna']\n",
    "data.info()"
   ]
  },
  {
   "cell_type": "markdown",
   "metadata": {},
   "source": [
    "### <font color='red'> Комментарий наставника 9\n",
    "Довольно интересно, что ты пытаешься сэкономить память тут :) Это безусловно полезно, если перед тобой стоит задача  сохранить эти данные к себе в базу. Но в данном случае мы занимаемся аналитикой, и раз данные влезли в оперативную память при чтении и всё не упало с memory error, то дальше уже можно так не переживать об этом. И уж точно не стоит жертвовать понятностью данных ради компактности их хранения в данном случае.<br>\n",
    "Хотя я согласна, что приятно видеть, что данные начинают занимать существенно меньше места, если просто переложить их в правильный тип :)"
   ]
  },
  {
   "cell_type": "markdown",
   "metadata": {},
   "source": [
    "<font color='green'> Был травматичный опыт с крупным датасетом на слабом железе. Теперь дую на воду."
   ]
  },
  {
   "cell_type": "markdown",
   "metadata": {},
   "source": [
    "### <font color='orange'>Комментарий от наставника 4 итерация 2 \n",
    "Понятно :)"
   ]
  },
  {
   "cell_type": "code",
   "execution_count": 162,
   "metadata": {},
   "outputs": [
    {
     "data": {
      "text/plain": [
       "array([0, 1, 2, 3, 4])"
      ]
     },
     "execution_count": 162,
     "metadata": {},
     "output_type": "execute_result"
    }
   ],
   "source": [
    "data['education_id'].unique()"
   ]
  },
  {
   "cell_type": "code",
   "execution_count": 163,
   "metadata": {},
   "outputs": [
    {
     "name": "stdout",
     "output_type": "stream",
     "text": [
      "<class 'pandas.core.frame.DataFrame'>\n",
      "Int64Index: 21451 entries, 0 to 21524\n",
      "Data columns (total 13 columns):\n",
      "children            21451 non-null uint8\n",
      "days_employed       21451 non-null uint32\n",
      "dob_years           21451 non-null uint8\n",
      "education           21451 non-null object\n",
      "education_id        21451 non-null uint8\n",
      "family_status       21451 non-null object\n",
      "family_status_id    21451 non-null int64\n",
      "gender              21451 non-null object\n",
      "income_type         21451 non-null object\n",
      "debt                21451 non-null uint8\n",
      "total_income        21451 non-null uint32\n",
      "purpose             21451 non-null object\n",
      "fill_gaps           21451 non-null float64\n",
      "dtypes: float64(1), int64(1), object(5), uint32(2), uint8(4)\n",
      "memory usage: 1.6+ MB\n"
     ]
    }
   ],
   "source": [
    "data['education_id'] = data['education_id'].astype('uint8')\n",
    "data.info()"
   ]
  },
  {
   "cell_type": "code",
   "execution_count": 164,
   "metadata": {},
   "outputs": [
    {
     "data": {
      "text/plain": [
       "array([0, 1, 2, 3, 4])"
      ]
     },
     "execution_count": 164,
     "metadata": {},
     "output_type": "execute_result"
    }
   ],
   "source": [
    "data['family_status_id'].unique()"
   ]
  },
  {
   "cell_type": "code",
   "execution_count": 165,
   "metadata": {},
   "outputs": [
    {
     "name": "stdout",
     "output_type": "stream",
     "text": [
      "<class 'pandas.core.frame.DataFrame'>\n",
      "Int64Index: 21451 entries, 0 to 21524\n",
      "Data columns (total 13 columns):\n",
      "children            21451 non-null uint8\n",
      "days_employed       21451 non-null uint32\n",
      "dob_years           21451 non-null uint8\n",
      "education           21451 non-null object\n",
      "education_id        21451 non-null uint8\n",
      "family_status       21451 non-null object\n",
      "family_status_id    21451 non-null uint8\n",
      "gender              21451 non-null object\n",
      "income_type         21451 non-null object\n",
      "debt                21451 non-null uint8\n",
      "total_income        21451 non-null uint32\n",
      "purpose             21451 non-null object\n",
      "fill_gaps           21451 non-null float64\n",
      "dtypes: float64(1), object(5), uint32(2), uint8(5)\n",
      "memory usage: 1.4+ MB\n"
     ]
    }
   ],
   "source": [
    "data['family_status_id'] = data['family_status_id'].astype('uint8')\n",
    "data.info()"
   ]
  },
  {
   "cell_type": "markdown",
   "metadata": {},
   "source": [
    "Теперь более подробно изучим столбец purpose."
   ]
  },
  {
   "cell_type": "code",
   "execution_count": 166,
   "metadata": {},
   "outputs": [
    {
     "data": {
      "text/plain": [
       "0                                 покупка жилья\n",
       "1                       приобретение автомобиля\n",
       "2                                 покупка жилья\n",
       "3                    дополнительное образование\n",
       "4                               сыграть свадьбу\n",
       "5                                 покупка жилья\n",
       "6                             операции с жильем\n",
       "7                                   образование\n",
       "8                         на проведение свадьбы\n",
       "9                       покупка жилья для семьи\n",
       "10                         покупка недвижимости\n",
       "11            покупка коммерческой недвижимости\n",
       "12                              сыграть свадьбу\n",
       "13                      приобретение автомобиля\n",
       "14                   покупка жилой недвижимости\n",
       "15       строительство собственной недвижимости\n",
       "16                                 недвижимость\n",
       "17                   строительство недвижимости\n",
       "18           на покупку подержанного автомобиля\n",
       "19                 на покупку своего автомобиля\n",
       "20                                 недвижимость\n",
       "21                      приобретение автомобиля\n",
       "22           на покупку подержанного автомобиля\n",
       "23                              сыграть свадьбу\n",
       "24        операции с коммерческой недвижимостью\n",
       "25                         покупка недвижимости\n",
       "26                                  образование\n",
       "27       строительство собственной недвижимости\n",
       "28       строительство собственной недвижимости\n",
       "29             строительство жилой недвижимости\n",
       "                          ...                  \n",
       "21495                                   свадьба\n",
       "21496                     на покупку автомобиля\n",
       "21497                строительство недвижимости\n",
       "21498                           сыграть свадьбу\n",
       "21499                                   свадьба\n",
       "21500     операции с коммерческой недвижимостью\n",
       "21501                                     жилье\n",
       "21502          строительство жилой недвижимости\n",
       "21503                     заняться образованием\n",
       "21504                дополнительное образование\n",
       "21505                           сыграть свадьбу\n",
       "21506                                   свадьба\n",
       "21507          сделка с подержанным автомобилем\n",
       "21508                              недвижимость\n",
       "21509                  операции с недвижимостью\n",
       "21510                   приобретение автомобиля\n",
       "21511                   покупка жилья для сдачи\n",
       "21512     получение дополнительного образования\n",
       "21513                             покупка жилья\n",
       "21514                строительство недвижимости\n",
       "21515                     заняться образованием\n",
       "21516                      покупка своего жилья\n",
       "21517              на покупку своего автомобиля\n",
       "21518                      сделка с автомобилем\n",
       "21519         покупка коммерческой недвижимости\n",
       "21520                         операции с жильем\n",
       "21521                      сделка с автомобилем\n",
       "21522                              недвижимость\n",
       "21523              на покупку своего автомобиля\n",
       "21524                     на покупку автомобиля\n",
       "Name: purpose, Length: 21451, dtype: object"
      ]
     },
     "execution_count": 166,
     "metadata": {},
     "output_type": "execute_result"
    }
   ],
   "source": [
    "data['purpose']"
   ]
  },
  {
   "cell_type": "code",
   "execution_count": 167,
   "metadata": {},
   "outputs": [
    {
     "data": {
      "text/plain": [
       "0                              покупка жилья\n",
       "1                    приобретение автомобиля\n",
       "2                 дополнительное образование\n",
       "3                            сыграть свадьбу\n",
       "4                          операции с жильем\n",
       "5                                образование\n",
       "6                      на проведение свадьбы\n",
       "7                    покупка жилья для семьи\n",
       "8                       покупка недвижимости\n",
       "9          покупка коммерческой недвижимости\n",
       "10                покупка жилой недвижимости\n",
       "11    строительство собственной недвижимости\n",
       "12                              недвижимость\n",
       "13                строительство недвижимости\n",
       "14        на покупку подержанного автомобиля\n",
       "15              на покупку своего автомобиля\n",
       "16     операции с коммерческой недвижимостью\n",
       "17          строительство жилой недвижимости\n",
       "18                                     жилье\n",
       "19           операции со своей недвижимостью\n",
       "20                                автомобили\n",
       "21                     заняться образованием\n",
       "22          сделка с подержанным автомобилем\n",
       "23                     получение образования\n",
       "24                                автомобиль\n",
       "25                                   свадьба\n",
       "26     получение дополнительного образования\n",
       "27                      покупка своего жилья\n",
       "28                  операции с недвижимостью\n",
       "29             получение высшего образования\n",
       "30                           свой автомобиль\n",
       "31                      сделка с автомобилем\n",
       "32                    профильное образование\n",
       "33                        высшее образование\n",
       "34                   покупка жилья для сдачи\n",
       "35                     на покупку автомобиля\n",
       "36                              ремонт жилью\n",
       "37              заняться высшим образованием\n",
       "Name: purpose, dtype: object"
      ]
     },
     "execution_count": 167,
     "metadata": {},
     "output_type": "execute_result"
    }
   ],
   "source": [
    "purpose_df = data['purpose'].drop_duplicates().reset_index(drop=True)\n",
    "purpose_df"
   ]
  },
  {
   "cell_type": "markdown",
   "metadata": {},
   "source": [
    "Всего 38 разных значений. Сгруппируем их по четырем категориям: свадьба, недвижимость, образование, автомобиль (хорошо было бы разделить недвижимость на коммерческую и жилую, но в столбце есть двусмысленные значения, которые не позволяют этого сделать). Для этого сначала приведем каждое слово в столбце purpose к его лемме."
   ]
  },
  {
   "cell_type": "code",
   "execution_count": 168,
   "metadata": {},
   "outputs": [
    {
     "data": {
      "text/html": [
       "<div>\n",
       "<style scoped>\n",
       "    .dataframe tbody tr th:only-of-type {\n",
       "        vertical-align: middle;\n",
       "    }\n",
       "\n",
       "    .dataframe tbody tr th {\n",
       "        vertical-align: top;\n",
       "    }\n",
       "\n",
       "    .dataframe thead th {\n",
       "        text-align: right;\n",
       "    }\n",
       "</style>\n",
       "<table border=\"1\" class=\"dataframe\">\n",
       "  <thead>\n",
       "    <tr style=\"text-align: right;\">\n",
       "      <th></th>\n",
       "      <th>children</th>\n",
       "      <th>days_employed</th>\n",
       "      <th>dob_years</th>\n",
       "      <th>education</th>\n",
       "      <th>education_id</th>\n",
       "      <th>family_status</th>\n",
       "      <th>family_status_id</th>\n",
       "      <th>gender</th>\n",
       "      <th>income_type</th>\n",
       "      <th>debt</th>\n",
       "      <th>total_income</th>\n",
       "      <th>purpose</th>\n",
       "      <th>fill_gaps</th>\n",
       "    </tr>\n",
       "  </thead>\n",
       "  <tbody>\n",
       "    <tr>\n",
       "      <th>0</th>\n",
       "      <td>1</td>\n",
       "      <td>8437</td>\n",
       "      <td>42</td>\n",
       "      <td>высшее</td>\n",
       "      <td>0</td>\n",
       "      <td>женат / замужем</td>\n",
       "      <td>0</td>\n",
       "      <td>f</td>\n",
       "      <td>сотрудник</td>\n",
       "      <td>0</td>\n",
       "      <td>253875</td>\n",
       "      <td>[покупка,  , жилье, \\n]</td>\n",
       "      <td>142594.396847</td>\n",
       "    </tr>\n",
       "    <tr>\n",
       "      <th>1</th>\n",
       "      <td>1</td>\n",
       "      <td>4024</td>\n",
       "      <td>36</td>\n",
       "      <td>среднее</td>\n",
       "      <td>1</td>\n",
       "      <td>женат / замужем</td>\n",
       "      <td>0</td>\n",
       "      <td>f</td>\n",
       "      <td>сотрудник</td>\n",
       "      <td>0</td>\n",
       "      <td>112080</td>\n",
       "      <td>[приобретение,  , автомобиль, \\n]</td>\n",
       "      <td>142594.396847</td>\n",
       "    </tr>\n",
       "    <tr>\n",
       "      <th>2</th>\n",
       "      <td>0</td>\n",
       "      <td>5623</td>\n",
       "      <td>33</td>\n",
       "      <td>среднее</td>\n",
       "      <td>1</td>\n",
       "      <td>женат / замужем</td>\n",
       "      <td>0</td>\n",
       "      <td>m</td>\n",
       "      <td>сотрудник</td>\n",
       "      <td>0</td>\n",
       "      <td>145885</td>\n",
       "      <td>[покупка,  , жилье, \\n]</td>\n",
       "      <td>142594.396847</td>\n",
       "    </tr>\n",
       "    <tr>\n",
       "      <th>3</th>\n",
       "      <td>3</td>\n",
       "      <td>4124</td>\n",
       "      <td>32</td>\n",
       "      <td>среднее</td>\n",
       "      <td>1</td>\n",
       "      <td>женат / замужем</td>\n",
       "      <td>0</td>\n",
       "      <td>m</td>\n",
       "      <td>сотрудник</td>\n",
       "      <td>0</td>\n",
       "      <td>267628</td>\n",
       "      <td>[дополнительный,  , образование, \\n]</td>\n",
       "      <td>142594.396847</td>\n",
       "    </tr>\n",
       "    <tr>\n",
       "      <th>4</th>\n",
       "      <td>0</td>\n",
       "      <td>3280</td>\n",
       "      <td>53</td>\n",
       "      <td>среднее</td>\n",
       "      <td>1</td>\n",
       "      <td>гражданский брак</td>\n",
       "      <td>1</td>\n",
       "      <td>f</td>\n",
       "      <td>пенсионер</td>\n",
       "      <td>0</td>\n",
       "      <td>158616</td>\n",
       "      <td>[сыграть,  , свадьба, \\n]</td>\n",
       "      <td>118514.486412</td>\n",
       "    </tr>\n",
       "    <tr>\n",
       "      <th>5</th>\n",
       "      <td>0</td>\n",
       "      <td>926</td>\n",
       "      <td>27</td>\n",
       "      <td>высшее</td>\n",
       "      <td>0</td>\n",
       "      <td>гражданский брак</td>\n",
       "      <td>1</td>\n",
       "      <td>m</td>\n",
       "      <td>компаньон</td>\n",
       "      <td>0</td>\n",
       "      <td>255763</td>\n",
       "      <td>[покупка,  , жилье, \\n]</td>\n",
       "      <td>172357.950966</td>\n",
       "    </tr>\n",
       "    <tr>\n",
       "      <th>6</th>\n",
       "      <td>0</td>\n",
       "      <td>2879</td>\n",
       "      <td>43</td>\n",
       "      <td>высшее</td>\n",
       "      <td>0</td>\n",
       "      <td>женат / замужем</td>\n",
       "      <td>0</td>\n",
       "      <td>f</td>\n",
       "      <td>компаньон</td>\n",
       "      <td>0</td>\n",
       "      <td>240525</td>\n",
       "      <td>[операция,  , с,  , жилье, \\n]</td>\n",
       "      <td>172357.950966</td>\n",
       "    </tr>\n",
       "    <tr>\n",
       "      <th>7</th>\n",
       "      <td>0</td>\n",
       "      <td>152</td>\n",
       "      <td>50</td>\n",
       "      <td>среднее</td>\n",
       "      <td>1</td>\n",
       "      <td>женат / замужем</td>\n",
       "      <td>0</td>\n",
       "      <td>m</td>\n",
       "      <td>сотрудник</td>\n",
       "      <td>0</td>\n",
       "      <td>135823</td>\n",
       "      <td>[образование, \\n]</td>\n",
       "      <td>142594.396847</td>\n",
       "    </tr>\n",
       "    <tr>\n",
       "      <th>8</th>\n",
       "      <td>2</td>\n",
       "      <td>6929</td>\n",
       "      <td>35</td>\n",
       "      <td>высшее</td>\n",
       "      <td>0</td>\n",
       "      <td>гражданский брак</td>\n",
       "      <td>1</td>\n",
       "      <td>f</td>\n",
       "      <td>сотрудник</td>\n",
       "      <td>0</td>\n",
       "      <td>95856</td>\n",
       "      <td>[на,  , проведение,  , свадьба, \\n]</td>\n",
       "      <td>142594.396847</td>\n",
       "    </tr>\n",
       "    <tr>\n",
       "      <th>9</th>\n",
       "      <td>0</td>\n",
       "      <td>2188</td>\n",
       "      <td>41</td>\n",
       "      <td>среднее</td>\n",
       "      <td>1</td>\n",
       "      <td>женат / замужем</td>\n",
       "      <td>0</td>\n",
       "      <td>m</td>\n",
       "      <td>сотрудник</td>\n",
       "      <td>0</td>\n",
       "      <td>144425</td>\n",
       "      <td>[покупка,  , жилье,  , для,  , семья, \\n]</td>\n",
       "      <td>142594.396847</td>\n",
       "    </tr>\n",
       "  </tbody>\n",
       "</table>\n",
       "</div>"
      ],
      "text/plain": [
       "   children  days_employed  dob_years education  education_id  \\\n",
       "0         1           8437         42    высшее             0   \n",
       "1         1           4024         36   среднее             1   \n",
       "2         0           5623         33   среднее             1   \n",
       "3         3           4124         32   среднее             1   \n",
       "4         0           3280         53   среднее             1   \n",
       "5         0            926         27    высшее             0   \n",
       "6         0           2879         43    высшее             0   \n",
       "7         0            152         50   среднее             1   \n",
       "8         2           6929         35    высшее             0   \n",
       "9         0           2188         41   среднее             1   \n",
       "\n",
       "      family_status  family_status_id gender income_type  debt  total_income  \\\n",
       "0   женат / замужем                 0      f   сотрудник     0        253875   \n",
       "1   женат / замужем                 0      f   сотрудник     0        112080   \n",
       "2   женат / замужем                 0      m   сотрудник     0        145885   \n",
       "3   женат / замужем                 0      m   сотрудник     0        267628   \n",
       "4  гражданский брак                 1      f   пенсионер     0        158616   \n",
       "5  гражданский брак                 1      m   компаньон     0        255763   \n",
       "6   женат / замужем                 0      f   компаньон     0        240525   \n",
       "7   женат / замужем                 0      m   сотрудник     0        135823   \n",
       "8  гражданский брак                 1      f   сотрудник     0         95856   \n",
       "9   женат / замужем                 0      m   сотрудник     0        144425   \n",
       "\n",
       "                                     purpose      fill_gaps  \n",
       "0                    [покупка,  , жилье, \\n]  142594.396847  \n",
       "1          [приобретение,  , автомобиль, \\n]  142594.396847  \n",
       "2                    [покупка,  , жилье, \\n]  142594.396847  \n",
       "3       [дополнительный,  , образование, \\n]  142594.396847  \n",
       "4                  [сыграть,  , свадьба, \\n]  118514.486412  \n",
       "5                    [покупка,  , жилье, \\n]  172357.950966  \n",
       "6             [операция,  , с,  , жилье, \\n]  172357.950966  \n",
       "7                          [образование, \\n]  142594.396847  \n",
       "8        [на,  , проведение,  , свадьба, \\n]  142594.396847  \n",
       "9  [покупка,  , жилье,  , для,  , семья, \\n]  142594.396847  "
      ]
     },
     "execution_count": 168,
     "metadata": {},
     "output_type": "execute_result"
    }
   ],
   "source": [
    "from pymystem3 import Mystem\n",
    "m = Mystem()\n",
    "data['purpose'] = data['purpose'].apply(m.lemmatize)\n",
    "data.head(10)"
   ]
  },
  {
   "cell_type": "markdown",
   "metadata": {},
   "source": [
    "Теперь создадим функцию для распределения ячеек по категориям и применим ее к столбцу purpose."
   ]
  },
  {
   "cell_type": "code",
   "execution_count": 169,
   "metadata": {
    "scrolled": true
   },
   "outputs": [
    {
     "data": {
      "text/html": [
       "<div>\n",
       "<style scoped>\n",
       "    .dataframe tbody tr th:only-of-type {\n",
       "        vertical-align: middle;\n",
       "    }\n",
       "\n",
       "    .dataframe tbody tr th {\n",
       "        vertical-align: top;\n",
       "    }\n",
       "\n",
       "    .dataframe thead th {\n",
       "        text-align: right;\n",
       "    }\n",
       "</style>\n",
       "<table border=\"1\" class=\"dataframe\">\n",
       "  <thead>\n",
       "    <tr style=\"text-align: right;\">\n",
       "      <th></th>\n",
       "      <th>children</th>\n",
       "      <th>days_employed</th>\n",
       "      <th>dob_years</th>\n",
       "      <th>education</th>\n",
       "      <th>education_id</th>\n",
       "      <th>family_status</th>\n",
       "      <th>family_status_id</th>\n",
       "      <th>gender</th>\n",
       "      <th>income_type</th>\n",
       "      <th>debt</th>\n",
       "      <th>total_income</th>\n",
       "      <th>purpose</th>\n",
       "      <th>fill_gaps</th>\n",
       "    </tr>\n",
       "  </thead>\n",
       "  <tbody>\n",
       "    <tr>\n",
       "      <th>0</th>\n",
       "      <td>1</td>\n",
       "      <td>8437</td>\n",
       "      <td>42</td>\n",
       "      <td>высшее</td>\n",
       "      <td>0</td>\n",
       "      <td>женат / замужем</td>\n",
       "      <td>0</td>\n",
       "      <td>f</td>\n",
       "      <td>сотрудник</td>\n",
       "      <td>0</td>\n",
       "      <td>253875</td>\n",
       "      <td>недвижимость</td>\n",
       "      <td>142594.396847</td>\n",
       "    </tr>\n",
       "    <tr>\n",
       "      <th>1</th>\n",
       "      <td>1</td>\n",
       "      <td>4024</td>\n",
       "      <td>36</td>\n",
       "      <td>среднее</td>\n",
       "      <td>1</td>\n",
       "      <td>женат / замужем</td>\n",
       "      <td>0</td>\n",
       "      <td>f</td>\n",
       "      <td>сотрудник</td>\n",
       "      <td>0</td>\n",
       "      <td>112080</td>\n",
       "      <td>автомобиль</td>\n",
       "      <td>142594.396847</td>\n",
       "    </tr>\n",
       "    <tr>\n",
       "      <th>2</th>\n",
       "      <td>0</td>\n",
       "      <td>5623</td>\n",
       "      <td>33</td>\n",
       "      <td>среднее</td>\n",
       "      <td>1</td>\n",
       "      <td>женат / замужем</td>\n",
       "      <td>0</td>\n",
       "      <td>m</td>\n",
       "      <td>сотрудник</td>\n",
       "      <td>0</td>\n",
       "      <td>145885</td>\n",
       "      <td>недвижимость</td>\n",
       "      <td>142594.396847</td>\n",
       "    </tr>\n",
       "    <tr>\n",
       "      <th>3</th>\n",
       "      <td>3</td>\n",
       "      <td>4124</td>\n",
       "      <td>32</td>\n",
       "      <td>среднее</td>\n",
       "      <td>1</td>\n",
       "      <td>женат / замужем</td>\n",
       "      <td>0</td>\n",
       "      <td>m</td>\n",
       "      <td>сотрудник</td>\n",
       "      <td>0</td>\n",
       "      <td>267628</td>\n",
       "      <td>образование</td>\n",
       "      <td>142594.396847</td>\n",
       "    </tr>\n",
       "    <tr>\n",
       "      <th>4</th>\n",
       "      <td>0</td>\n",
       "      <td>3280</td>\n",
       "      <td>53</td>\n",
       "      <td>среднее</td>\n",
       "      <td>1</td>\n",
       "      <td>гражданский брак</td>\n",
       "      <td>1</td>\n",
       "      <td>f</td>\n",
       "      <td>пенсионер</td>\n",
       "      <td>0</td>\n",
       "      <td>158616</td>\n",
       "      <td>свадьба</td>\n",
       "      <td>118514.486412</td>\n",
       "    </tr>\n",
       "    <tr>\n",
       "      <th>5</th>\n",
       "      <td>0</td>\n",
       "      <td>926</td>\n",
       "      <td>27</td>\n",
       "      <td>высшее</td>\n",
       "      <td>0</td>\n",
       "      <td>гражданский брак</td>\n",
       "      <td>1</td>\n",
       "      <td>m</td>\n",
       "      <td>компаньон</td>\n",
       "      <td>0</td>\n",
       "      <td>255763</td>\n",
       "      <td>недвижимость</td>\n",
       "      <td>172357.950966</td>\n",
       "    </tr>\n",
       "    <tr>\n",
       "      <th>6</th>\n",
       "      <td>0</td>\n",
       "      <td>2879</td>\n",
       "      <td>43</td>\n",
       "      <td>высшее</td>\n",
       "      <td>0</td>\n",
       "      <td>женат / замужем</td>\n",
       "      <td>0</td>\n",
       "      <td>f</td>\n",
       "      <td>компаньон</td>\n",
       "      <td>0</td>\n",
       "      <td>240525</td>\n",
       "      <td>недвижимость</td>\n",
       "      <td>172357.950966</td>\n",
       "    </tr>\n",
       "    <tr>\n",
       "      <th>7</th>\n",
       "      <td>0</td>\n",
       "      <td>152</td>\n",
       "      <td>50</td>\n",
       "      <td>среднее</td>\n",
       "      <td>1</td>\n",
       "      <td>женат / замужем</td>\n",
       "      <td>0</td>\n",
       "      <td>m</td>\n",
       "      <td>сотрудник</td>\n",
       "      <td>0</td>\n",
       "      <td>135823</td>\n",
       "      <td>образование</td>\n",
       "      <td>142594.396847</td>\n",
       "    </tr>\n",
       "    <tr>\n",
       "      <th>8</th>\n",
       "      <td>2</td>\n",
       "      <td>6929</td>\n",
       "      <td>35</td>\n",
       "      <td>высшее</td>\n",
       "      <td>0</td>\n",
       "      <td>гражданский брак</td>\n",
       "      <td>1</td>\n",
       "      <td>f</td>\n",
       "      <td>сотрудник</td>\n",
       "      <td>0</td>\n",
       "      <td>95856</td>\n",
       "      <td>свадьба</td>\n",
       "      <td>142594.396847</td>\n",
       "    </tr>\n",
       "    <tr>\n",
       "      <th>9</th>\n",
       "      <td>0</td>\n",
       "      <td>2188</td>\n",
       "      <td>41</td>\n",
       "      <td>среднее</td>\n",
       "      <td>1</td>\n",
       "      <td>женат / замужем</td>\n",
       "      <td>0</td>\n",
       "      <td>m</td>\n",
       "      <td>сотрудник</td>\n",
       "      <td>0</td>\n",
       "      <td>144425</td>\n",
       "      <td>недвижимость</td>\n",
       "      <td>142594.396847</td>\n",
       "    </tr>\n",
       "  </tbody>\n",
       "</table>\n",
       "</div>"
      ],
      "text/plain": [
       "   children  days_employed  dob_years education  education_id  \\\n",
       "0         1           8437         42    высшее             0   \n",
       "1         1           4024         36   среднее             1   \n",
       "2         0           5623         33   среднее             1   \n",
       "3         3           4124         32   среднее             1   \n",
       "4         0           3280         53   среднее             1   \n",
       "5         0            926         27    высшее             0   \n",
       "6         0           2879         43    высшее             0   \n",
       "7         0            152         50   среднее             1   \n",
       "8         2           6929         35    высшее             0   \n",
       "9         0           2188         41   среднее             1   \n",
       "\n",
       "      family_status  family_status_id gender income_type  debt  total_income  \\\n",
       "0   женат / замужем                 0      f   сотрудник     0        253875   \n",
       "1   женат / замужем                 0      f   сотрудник     0        112080   \n",
       "2   женат / замужем                 0      m   сотрудник     0        145885   \n",
       "3   женат / замужем                 0      m   сотрудник     0        267628   \n",
       "4  гражданский брак                 1      f   пенсионер     0        158616   \n",
       "5  гражданский брак                 1      m   компаньон     0        255763   \n",
       "6   женат / замужем                 0      f   компаньон     0        240525   \n",
       "7   женат / замужем                 0      m   сотрудник     0        135823   \n",
       "8  гражданский брак                 1      f   сотрудник     0         95856   \n",
       "9   женат / замужем                 0      m   сотрудник     0        144425   \n",
       "\n",
       "        purpose      fill_gaps  \n",
       "0  недвижимость  142594.396847  \n",
       "1    автомобиль  142594.396847  \n",
       "2  недвижимость  142594.396847  \n",
       "3   образование  142594.396847  \n",
       "4       свадьба  118514.486412  \n",
       "5  недвижимость  172357.950966  \n",
       "6  недвижимость  172357.950966  \n",
       "7   образование  142594.396847  \n",
       "8       свадьба  142594.396847  \n",
       "9  недвижимость  142594.396847  "
      ]
     },
     "execution_count": 169,
     "metadata": {},
     "output_type": "execute_result"
    }
   ],
   "source": [
    "def categorize_purposes(string):\n",
    "    if 'жилье' in string or 'недвижимость' in string:\n",
    "        return 'недвижимость'\n",
    "    if 'свадьба' in string:\n",
    "        return 'свадьба'\n",
    "    if 'образование' in string:\n",
    "        return 'образование'\n",
    "    return 'автомобиль'\n",
    "\n",
    "data['purpose'] = data['purpose'].apply(categorize_purposes)\n",
    "data.head(10)"
   ]
  },
  {
   "cell_type": "markdown",
   "metadata": {},
   "source": [
    "### <font color='red'> Комментарий наставника 10\n",
    "Отлично, ты абсолютно корректно выделил 4 основных категории для целей получения кредита и вполне оптимально заменил цели на категории. <br>\n",
    "<strike>У меня есть только одно замечание к реализации. В том случае, когда изменения записываешь в тот же самый столбец, лучше применять apply с флагом inplace=True, чтобы не копировать данные лишний раз.</strike>\n",
    "    \n",
    "----"
   ]
  },
  {
   "cell_type": "markdown",
   "metadata": {},
   "source": [
    "<font color='green'> Не работает с inplace. В документации про этот флаг тоже ничего нет https://pandas.pydata.org/pandas-docs/stable/reference/api/pandas.DataFrame.apply.html"
   ]
  },
  {
   "cell_type": "markdown",
   "metadata": {},
   "source": [
    "### <font color='orange'>Комментарий от наставника 5 итерация 2 \n",
    "Да, думаю, ты прав. Извини за дезинформацию тут. Флаг inplace действительно есть у большинства методов в pandas, но в apply я его не вижу, да.\n",
    "    \n",
    "----"
   ]
  },
  {
   "cell_type": "markdown",
   "metadata": {},
   "source": [
    "Сравнение с предыдущим вызовом head() показывает, что функция отработала корректно. Можно приступать к исследованию.\n",
    "\n",
    "### Анализ данных\n",
    "\n",
    "Нам предстоит выяснить, влияют ли на надежность заемщиков четыре переменных, две из которых количественные, а другие две -- категориальные. \n",
    "\n",
    "Показателем надежности заемщиков будем считать среднее значение debt (чем ниже, тем надежнее). Чтобы от чего-то отталкиваться, стоит держать в уме среднее значение этой переменной по всему датасету."
   ]
  },
  {
   "cell_type": "code",
   "execution_count": 170,
   "metadata": {},
   "outputs": [
    {
     "data": {
      "text/plain": [
       "0.08111509952915948"
      ]
     },
     "execution_count": 170,
     "metadata": {},
     "output_type": "execute_result"
    }
   ],
   "source": [
    "data['debt'].mean()"
   ]
  },
  {
   "cell_type": "markdown",
   "metadata": {},
   "source": [
    "Сначала займемся количественными переменными. Напишем функцию, которая принимает на вход имя переменной и число перцентилей, на которые будет разбиваться множество ее значений, а возвращает таблицу, показывающую зависимость надежности заемщиков от этой переменной. "
   ]
  },
  {
   "cell_type": "code",
   "execution_count": 171,
   "metadata": {},
   "outputs": [],
   "source": [
    "def worthiness(factor, number_of_bins):\n",
    "    table = data.groupby(pd.qcut(data[factor], number_of_bins)).agg({'debt' : ['count', 'mean']})\n",
    "    return table"
   ]
  },
  {
   "cell_type": "markdown",
   "metadata": {},
   "source": [
    "Изменяя количество перцентилей, можно регулировать \"разрешение\" функции."
   ]
  },
  {
   "cell_type": "markdown",
   "metadata": {},
   "source": [
    "### <font color='red'> Комментарий наставника 11  <span style=\"color:green;font-size:200%\">&#10003;</span>\n",
    "Мне нравится твой вариант разбиения на группы, так как его очень легко переиспользовать. <br>\n",
    "Но всё же его можно улучшить. Давай смотреть не только на среднее значение, но и на число людей в каждой группе, чтобы понимать, можем ли мы вообще доверять этим долям. Для этого можешь использовать groupby с такой агрегацией: `.agg({'debt' : ['count', 'mean']})`, либо pivot_table. Пожалуйста, выведи такую информацию и сделай вывод о том, насколько хорошие корзинки у нас получились."
   ]
  },
  {
   "cell_type": "markdown",
   "metadata": {},
   "source": [
    "<font color='green'> Исправил. Только сделал без numpy. Вроде qcut в pandas делает то же самое? <span style=\"color:green;font-size:200%\">&#10003;</span>"
   ]
  },
  {
   "cell_type": "markdown",
   "metadata": {},
   "source": [
    "### <font color='orange'>Комментарий от наставника 6 итерация 2 \n",
    "Огонь, так ещё лучше, да. "
   ]
  },
  {
   "cell_type": "code",
   "execution_count": 172,
   "metadata": {},
   "outputs": [
    {
     "data": {
      "text/html": [
       "<div>\n",
       "<style scoped>\n",
       "    .dataframe tbody tr th:only-of-type {\n",
       "        vertical-align: middle;\n",
       "    }\n",
       "\n",
       "    .dataframe tbody tr th {\n",
       "        vertical-align: top;\n",
       "    }\n",
       "\n",
       "    .dataframe thead tr th {\n",
       "        text-align: left;\n",
       "    }\n",
       "\n",
       "    .dataframe thead tr:last-of-type th {\n",
       "        text-align: right;\n",
       "    }\n",
       "</style>\n",
       "<table border=\"1\" class=\"dataframe\">\n",
       "  <thead>\n",
       "    <tr>\n",
       "      <th></th>\n",
       "      <th colspan=\"2\" halign=\"left\">debt</th>\n",
       "    </tr>\n",
       "    <tr>\n",
       "      <th></th>\n",
       "      <th>count</th>\n",
       "      <th>mean</th>\n",
       "    </tr>\n",
       "    <tr>\n",
       "      <th>total_income</th>\n",
       "      <th></th>\n",
       "      <th></th>\n",
       "    </tr>\n",
       "  </thead>\n",
       "  <tbody>\n",
       "    <tr>\n",
       "      <th>(20666.999, 78733.0]</th>\n",
       "      <td>2146</td>\n",
       "      <td>0.072693</td>\n",
       "    </tr>\n",
       "    <tr>\n",
       "      <th>(78733.0, 98540.0]</th>\n",
       "      <td>2145</td>\n",
       "      <td>0.087179</td>\n",
       "    </tr>\n",
       "    <tr>\n",
       "      <th>(98540.0, 116009.0]</th>\n",
       "      <td>2146</td>\n",
       "      <td>0.083411</td>\n",
       "    </tr>\n",
       "    <tr>\n",
       "      <th>(116009.0, 132133.0]</th>\n",
       "      <td>2144</td>\n",
       "      <td>0.084888</td>\n",
       "    </tr>\n",
       "    <tr>\n",
       "      <th>(132133.0, 142594.0]</th>\n",
       "      <td>2261</td>\n",
       "      <td>0.090668</td>\n",
       "    </tr>\n",
       "    <tr>\n",
       "      <th>(142594.0, 161331.0]</th>\n",
       "      <td>2029</td>\n",
       "      <td>0.083785</td>\n",
       "    </tr>\n",
       "    <tr>\n",
       "      <th>(161331.0, 179794.0]</th>\n",
       "      <td>2145</td>\n",
       "      <td>0.083916</td>\n",
       "    </tr>\n",
       "    <tr>\n",
       "      <th>(179794.0, 214632.0]</th>\n",
       "      <td>2145</td>\n",
       "      <td>0.084382</td>\n",
       "    </tr>\n",
       "    <tr>\n",
       "      <th>(214632.0, 269836.0]</th>\n",
       "      <td>2145</td>\n",
       "      <td>0.069464</td>\n",
       "    </tr>\n",
       "    <tr>\n",
       "      <th>(269836.0, 2265604.0]</th>\n",
       "      <td>2145</td>\n",
       "      <td>0.070396</td>\n",
       "    </tr>\n",
       "  </tbody>\n",
       "</table>\n",
       "</div>"
      ],
      "text/plain": [
       "                       debt          \n",
       "                      count      mean\n",
       "total_income                         \n",
       "(20666.999, 78733.0]   2146  0.072693\n",
       "(78733.0, 98540.0]     2145  0.087179\n",
       "(98540.0, 116009.0]    2146  0.083411\n",
       "(116009.0, 132133.0]   2144  0.084888\n",
       "(132133.0, 142594.0]   2261  0.090668\n",
       "(142594.0, 161331.0]   2029  0.083785\n",
       "(161331.0, 179794.0]   2145  0.083916\n",
       "(179794.0, 214632.0]   2145  0.084382\n",
       "(214632.0, 269836.0]   2145  0.069464\n",
       "(269836.0, 2265604.0]  2145  0.070396"
      ]
     },
     "execution_count": 172,
     "metadata": {},
     "output_type": "execute_result"
    }
   ],
   "source": [
    "worthiness('total_income', 10)"
   ]
  },
  {
   "cell_type": "markdown",
   "metadata": {},
   "source": [
    "Все получившиеся категории состоят из примерно одинакового количества замеров, но границы последней различаются почти на порядок -- результаты по ней на практике применить будет сложно. В целом можно сказать, что безопаснее и выгоднее всего давать деньги в долг людям с доходом в 214-269 тыс. рублей и выше, первая категория (21-79 тыс.) по надежности не сильно уступает последним двум, а самые рискованные заемщики -- те, кто имеет доход в 132-143 тыс. Риски в остальных категориях примерно сооветствуют среднему значению по датасету."
   ]
  },
  {
   "cell_type": "markdown",
   "metadata": {},
   "source": [
    "### <font color='red'> Комментарий наставника 12  <span style=\"color:green;font-size:200%\">&#10003;</span>\n",
    "Вижу, что ты понял, в чём проблема. Действительно, в некоторые бакеты попадало слишком мало людей или вообще никто. Твой вариант исправления в целом решает проблему в данном случае. Но теперь тебе приходится руками задавать максимальное значение, что сразу делает твой код не таким универсальным. Представь себе, что завтра к нам придёт другой датасет (исправленный, дополненный). И ты уже не сможешь перезапустить свой код как есть и поправить выводы.<br>\n",
    "    \n",
    "Чтобы добавить коду универсальности, и избавиться от выявленных проблем, я предлагаю смотреть на перцентили. Вызывая в самом начале метод describe ты как раз их получаешь: перцентиль 25%, 50% и 75%. Если хочется больше категорий, то ты можешь задавать нужные тебе перцентили аргументом метода describe. Смотри на клетку ниже:"
   ]
  },
  {
   "cell_type": "code",
   "execution_count": 173,
   "metadata": {},
   "outputs": [
    {
     "data": {
      "text/plain": [
       "count    2.145100e+04\n",
       "mean     1.653209e+05\n",
       "std      9.819085e+04\n",
       "min      2.066700e+04\n",
       "0%       2.066700e+04\n",
       "14.3%    8.730286e+04\n",
       "28.6%    1.136064e+05\n",
       "42.9%    1.374679e+05\n",
       "50%      1.425940e+05\n",
       "57.1%    1.552804e+05\n",
       "71.4%    1.844367e+05\n",
       "85.7%    2.420324e+05\n",
       "100%     2.265604e+06\n",
       "max      2.265604e+06\n",
       "Name: total_income, dtype: float64"
      ]
     },
     "execution_count": 173,
     "metadata": {},
     "output_type": "execute_result"
    }
   ],
   "source": [
    "import numpy as np\n",
    "# НАСТАВНИК:\n",
    "categories_count = 8\n",
    "data[\"total_income\"].describe(percentiles=np.linspace(0, 1, categories_count))"
   ]
  },
  {
   "cell_type": "code",
   "execution_count": 174,
   "metadata": {},
   "outputs": [
    {
     "data": {
      "text/html": [
       "<div>\n",
       "<style scoped>\n",
       "    .dataframe tbody tr th:only-of-type {\n",
       "        vertical-align: middle;\n",
       "    }\n",
       "\n",
       "    .dataframe tbody tr th {\n",
       "        vertical-align: top;\n",
       "    }\n",
       "\n",
       "    .dataframe thead tr th {\n",
       "        text-align: left;\n",
       "    }\n",
       "\n",
       "    .dataframe thead tr:last-of-type th {\n",
       "        text-align: right;\n",
       "    }\n",
       "</style>\n",
       "<table border=\"1\" class=\"dataframe\">\n",
       "  <thead>\n",
       "    <tr>\n",
       "      <th></th>\n",
       "      <th colspan=\"2\" halign=\"left\">debt</th>\n",
       "    </tr>\n",
       "    <tr>\n",
       "      <th></th>\n",
       "      <th>count</th>\n",
       "      <th>mean</th>\n",
       "    </tr>\n",
       "    <tr>\n",
       "      <th>children</th>\n",
       "      <th></th>\n",
       "      <th></th>\n",
       "    </tr>\n",
       "  </thead>\n",
       "  <tbody>\n",
       "    <tr>\n",
       "      <th>0</th>\n",
       "      <td>14212</td>\n",
       "      <td>0.075429</td>\n",
       "    </tr>\n",
       "    <tr>\n",
       "      <th>1</th>\n",
       "      <td>4807</td>\n",
       "      <td>0.092157</td>\n",
       "    </tr>\n",
       "    <tr>\n",
       "      <th>2</th>\n",
       "      <td>2052</td>\n",
       "      <td>0.094542</td>\n",
       "    </tr>\n",
       "    <tr>\n",
       "      <th>3</th>\n",
       "      <td>330</td>\n",
       "      <td>0.081818</td>\n",
       "    </tr>\n",
       "    <tr>\n",
       "      <th>4</th>\n",
       "      <td>41</td>\n",
       "      <td>0.097561</td>\n",
       "    </tr>\n",
       "    <tr>\n",
       "      <th>5</th>\n",
       "      <td>9</td>\n",
       "      <td>0.000000</td>\n",
       "    </tr>\n",
       "  </tbody>\n",
       "</table>\n",
       "</div>"
      ],
      "text/plain": [
       "           debt          \n",
       "          count      mean\n",
       "children                 \n",
       "0         14212  0.075429\n",
       "1          4807  0.092157\n",
       "2          2052  0.094542\n",
       "3           330  0.081818\n",
       "4            41  0.097561\n",
       "5             9  0.000000"
      ]
     },
     "execution_count": 174,
     "metadata": {},
     "output_type": "execute_result"
    }
   ],
   "source": [
    "data.groupby('children').agg({'debt' : ['count', 'mean']})"
   ]
  },
  {
   "cell_type": "markdown",
   "metadata": {},
   "source": [
    "### <font color='red'> Комментарий наставника 13  <span style=\"color:green;font-size:200%\">&#10003;</span>\n",
    "Ты молодец, что смотришь на графики. Визуально действительно бывает проще обнаружить закономерности.<br>\n",
    "Но в данном случае согласись, что категории получились очень странными. Диапазоны дробных чисел тут смотрятся совсем не логично и только путают. И опять же не хватает числа людей по группам. Я бы всё же тут использовала просто pivot_table над исходными группами"
   ]
  },
  {
   "cell_type": "markdown",
   "metadata": {},
   "source": [
    "<font color='green'> Исправил.  <span style=\"color:green;font-size:200%\">&#10003;</span>"
   ]
  },
  {
   "cell_type": "markdown",
   "metadata": {},
   "source": [
    "Здесь зависимость слабая. Бездетные заемщики чуть надежнее тех, у кого трое детей, родители одного и двух детей где-то посередине, а наименее надежные те, у кого четыре. Нулевое значение в последней строке, скорее всего, случайность: банку повезло с девятью многодетными заемщиками. Но это не недостаток датасета, а следствие того обстоятельства, что многодетных семей в принципе не так много.\n",
    "\n",
    "Перейдем к исследованию категориальных переменных family_status и purpose. Для этого построим сводную таблицу, которая покажет влияние и совокупности этих факторов, и каждого из них по отдельности, а также численность всех групп. "
   ]
  },
  {
   "cell_type": "code",
   "execution_count": 175,
   "metadata": {},
   "outputs": [
    {
     "data": {
      "text/html": [
       "<div>\n",
       "<style scoped>\n",
       "    .dataframe tbody tr th:only-of-type {\n",
       "        vertical-align: middle;\n",
       "    }\n",
       "\n",
       "    .dataframe tbody tr th {\n",
       "        vertical-align: top;\n",
       "    }\n",
       "\n",
       "    .dataframe thead tr th {\n",
       "        text-align: left;\n",
       "    }\n",
       "\n",
       "    .dataframe thead tr:last-of-type th {\n",
       "        text-align: right;\n",
       "    }\n",
       "</style>\n",
       "<table border=\"1\" class=\"dataframe\">\n",
       "  <thead>\n",
       "    <tr>\n",
       "      <th></th>\n",
       "      <th colspan=\"6\" halign=\"left\">mean</th>\n",
       "      <th colspan=\"6\" halign=\"left\">count</th>\n",
       "    </tr>\n",
       "    <tr>\n",
       "      <th>family_status</th>\n",
       "      <th>в разводе</th>\n",
       "      <th>вдовец / вдова</th>\n",
       "      <th>гражданский брак</th>\n",
       "      <th>женат / замужем</th>\n",
       "      <th>не женат / не замужем</th>\n",
       "      <th>All</th>\n",
       "      <th>в разводе</th>\n",
       "      <th>вдовец / вдова</th>\n",
       "      <th>гражданский брак</th>\n",
       "      <th>женат / замужем</th>\n",
       "      <th>не женат / не замужем</th>\n",
       "      <th>All</th>\n",
       "    </tr>\n",
       "    <tr>\n",
       "      <th>purpose</th>\n",
       "      <th></th>\n",
       "      <th></th>\n",
       "      <th></th>\n",
       "      <th></th>\n",
       "      <th></th>\n",
       "      <th></th>\n",
       "      <th></th>\n",
       "      <th></th>\n",
       "      <th></th>\n",
       "      <th></th>\n",
       "      <th></th>\n",
       "      <th></th>\n",
       "    </tr>\n",
       "  </thead>\n",
       "  <tbody>\n",
       "    <tr>\n",
       "      <th>автомобиль</th>\n",
       "      <td>0.074733</td>\n",
       "      <td>0.091743</td>\n",
       "      <td>0.117512</td>\n",
       "      <td>0.083699</td>\n",
       "      <td>0.128728</td>\n",
       "      <td>0.093590</td>\n",
       "      <td>281.0</td>\n",
       "      <td>218.0</td>\n",
       "      <td>434.0</td>\n",
       "      <td>2736.0</td>\n",
       "      <td>637.0</td>\n",
       "      <td>4306</td>\n",
       "    </tr>\n",
       "    <tr>\n",
       "      <th>недвижимость</th>\n",
       "      <td>0.069527</td>\n",
       "      <td>0.051661</td>\n",
       "      <td>0.092199</td>\n",
       "      <td>0.069216</td>\n",
       "      <td>0.081454</td>\n",
       "      <td>0.072261</td>\n",
       "      <td>676.0</td>\n",
       "      <td>542.0</td>\n",
       "      <td>987.0</td>\n",
       "      <td>7007.0</td>\n",
       "      <td>1596.0</td>\n",
       "      <td>10808</td>\n",
       "    </tr>\n",
       "    <tr>\n",
       "      <th>образование</th>\n",
       "      <td>0.071429</td>\n",
       "      <td>0.075377</td>\n",
       "      <td>0.148515</td>\n",
       "      <td>0.083237</td>\n",
       "      <td>0.107452</td>\n",
       "      <td>0.092200</td>\n",
       "      <td>238.0</td>\n",
       "      <td>199.0</td>\n",
       "      <td>404.0</td>\n",
       "      <td>2595.0</td>\n",
       "      <td>577.0</td>\n",
       "      <td>4013</td>\n",
       "    </tr>\n",
       "    <tr>\n",
       "      <th>свадьба</th>\n",
       "      <td>NaN</td>\n",
       "      <td>NaN</td>\n",
       "      <td>0.080034</td>\n",
       "      <td>NaN</td>\n",
       "      <td>NaN</td>\n",
       "      <td>0.080034</td>\n",
       "      <td>NaN</td>\n",
       "      <td>NaN</td>\n",
       "      <td>2324.0</td>\n",
       "      <td>NaN</td>\n",
       "      <td>NaN</td>\n",
       "      <td>2324</td>\n",
       "    </tr>\n",
       "    <tr>\n",
       "      <th>All</th>\n",
       "      <td>0.071130</td>\n",
       "      <td>0.065693</td>\n",
       "      <td>0.093517</td>\n",
       "      <td>0.075377</td>\n",
       "      <td>0.097509</td>\n",
       "      <td>0.081115</td>\n",
       "      <td>1195.0</td>\n",
       "      <td>959.0</td>\n",
       "      <td>4149.0</td>\n",
       "      <td>12338.0</td>\n",
       "      <td>2810.0</td>\n",
       "      <td>21451</td>\n",
       "    </tr>\n",
       "  </tbody>\n",
       "</table>\n",
       "</div>"
      ],
      "text/plain": [
       "                   mean                                                  \\\n",
       "family_status в разводе вдовец / вдова гражданский брак женат / замужем   \n",
       "purpose                                                                   \n",
       "автомобиль     0.074733       0.091743         0.117512        0.083699   \n",
       "недвижимость   0.069527       0.051661         0.092199        0.069216   \n",
       "образование    0.071429       0.075377         0.148515        0.083237   \n",
       "свадьба             NaN            NaN         0.080034             NaN   \n",
       "All            0.071130       0.065693         0.093517        0.075377   \n",
       "\n",
       "                                                  count                 \\\n",
       "family_status не женат / не замужем       All в разводе вдовец / вдова   \n",
       "purpose                                                                  \n",
       "автомобиль                 0.128728  0.093590     281.0          218.0   \n",
       "недвижимость               0.081454  0.072261     676.0          542.0   \n",
       "образование                0.107452  0.092200     238.0          199.0   \n",
       "свадьба                         NaN  0.080034       NaN            NaN   \n",
       "All                        0.097509  0.081115    1195.0          959.0   \n",
       "\n",
       "                                                                             \n",
       "family_status гражданский брак женат / замужем не женат / не замужем    All  \n",
       "purpose                                                                      \n",
       "автомобиль               434.0          2736.0                 637.0   4306  \n",
       "недвижимость             987.0          7007.0                1596.0  10808  \n",
       "образование              404.0          2595.0                 577.0   4013  \n",
       "свадьба                 2324.0             NaN                   NaN   2324  \n",
       "All                     4149.0         12338.0                2810.0  21451  "
      ]
     },
     "execution_count": 175,
     "metadata": {},
     "output_type": "execute_result"
    }
   ],
   "source": [
    "data_pvt = data.pivot_table('debt', 'purpose', 'family_status', ['mean', 'count'], margins=True)\n",
    "data_pvt"
   ]
  },
  {
   "cell_type": "markdown",
   "metadata": {},
   "source": [
    "Первое, что бросается в глаза: банкирам лучше избегать состоящих в гражданском браке людей, которые хотят занять у них денег на образование. У них риск просрочить выплату почти на 6% выше чем в среднем по датасету. Странный, неочевидный результат, который заслуживает дополнительного исследования. \n",
    "\n",
    "Самые надежные заемщики -- это вдовы и вдовцы, берущие кредит на покупку недвижимости. Любопытно, что эти же две группы лидируют и в своих категориях по отдельности. К счастью для банков, недвижимость с большим отрывом лидирует среди целей кредитования.\n",
    "\n",
    "Еще один сюрприз: у тех, кто берет кредиты на свадьбу, все в порядке с финансовой дисциплиной."
   ]
  },
  {
   "cell_type": "markdown",
   "metadata": {},
   "source": [
    "### <font color='red'> Комментарий наставника 14  <span style=\"color:green;font-size:200%\">&#10003;</span>\n",
    "Отличная сводная таблица, молодец! Выводы вполне логичны. Но мне снова не хватает абсолютов (очень хочется смотреть на число людей в группах). "
   ]
  },
  {
   "cell_type": "markdown",
   "metadata": {},
   "source": [
    "<font color='green'> Сделал.  <span style=\"color:green;font-size:200%\">&#10003;</span>"
   ]
  },
  {
   "cell_type": "code",
   "execution_count": 176,
   "metadata": {},
   "outputs": [
    {
     "data": {
      "text/html": [
       "<div>\n",
       "<style scoped>\n",
       "    .dataframe tbody tr th:only-of-type {\n",
       "        vertical-align: middle;\n",
       "    }\n",
       "\n",
       "    .dataframe tbody tr th {\n",
       "        vertical-align: top;\n",
       "    }\n",
       "\n",
       "    .dataframe thead th {\n",
       "        text-align: right;\n",
       "    }\n",
       "</style>\n",
       "<table border=\"1\" class=\"dataframe\">\n",
       "  <thead>\n",
       "    <tr style=\"text-align: right;\">\n",
       "      <th></th>\n",
       "      <th>children</th>\n",
       "      <th>days_employed</th>\n",
       "      <th>dob_years</th>\n",
       "      <th>education_id</th>\n",
       "      <th>family_status_id</th>\n",
       "      <th>debt</th>\n",
       "      <th>total_income</th>\n",
       "      <th>fill_gaps</th>\n",
       "    </tr>\n",
       "  </thead>\n",
       "  <tbody>\n",
       "    <tr>\n",
       "      <th>count</th>\n",
       "      <td>21451.000000</td>\n",
       "      <td>21451.000000</td>\n",
       "      <td>21451.000000</td>\n",
       "      <td>21451.000000</td>\n",
       "      <td>21451.000000</td>\n",
       "      <td>21451.000000</td>\n",
       "      <td>2.145100e+04</td>\n",
       "      <td>21451.000000</td>\n",
       "    </tr>\n",
       "    <tr>\n",
       "      <th>mean</th>\n",
       "      <td>0.471307</td>\n",
       "      <td>2578.621043</td>\n",
       "      <td>43.476108</td>\n",
       "      <td>0.817071</td>\n",
       "      <td>0.973941</td>\n",
       "      <td>0.081115</td>\n",
       "      <td>1.653209e+05</td>\n",
       "      <td>145901.010626</td>\n",
       "    </tr>\n",
       "    <tr>\n",
       "      <th>std</th>\n",
       "      <td>0.751101</td>\n",
       "      <td>2067.272618</td>\n",
       "      <td>12.226713</td>\n",
       "      <td>0.548624</td>\n",
       "      <td>1.421651</td>\n",
       "      <td>0.273018</td>\n",
       "      <td>9.819085e+04</td>\n",
       "      <td>17853.628957</td>\n",
       "    </tr>\n",
       "    <tr>\n",
       "      <th>min</th>\n",
       "      <td>0.000000</td>\n",
       "      <td>24.000000</td>\n",
       "      <td>19.000000</td>\n",
       "      <td>0.000000</td>\n",
       "      <td>0.000000</td>\n",
       "      <td>0.000000</td>\n",
       "      <td>2.066700e+04</td>\n",
       "      <td>53829.130729</td>\n",
       "    </tr>\n",
       "    <tr>\n",
       "      <th>25%</th>\n",
       "      <td>0.000000</td>\n",
       "      <td>1011.000000</td>\n",
       "      <td>33.000000</td>\n",
       "      <td>1.000000</td>\n",
       "      <td>0.000000</td>\n",
       "      <td>0.000000</td>\n",
       "      <td>1.076260e+05</td>\n",
       "      <td>142594.396847</td>\n",
       "    </tr>\n",
       "    <tr>\n",
       "      <th>50%</th>\n",
       "      <td>0.000000</td>\n",
       "      <td>2294.000000</td>\n",
       "      <td>42.000000</td>\n",
       "      <td>1.000000</td>\n",
       "      <td>0.000000</td>\n",
       "      <td>0.000000</td>\n",
       "      <td>1.425940e+05</td>\n",
       "      <td>142594.396847</td>\n",
       "    </tr>\n",
       "    <tr>\n",
       "      <th>75%</th>\n",
       "      <td>1.000000</td>\n",
       "      <td>3577.000000</td>\n",
       "      <td>53.000000</td>\n",
       "      <td>1.000000</td>\n",
       "      <td>1.000000</td>\n",
       "      <td>0.000000</td>\n",
       "      <td>1.958085e+05</td>\n",
       "      <td>150447.935283</td>\n",
       "    </tr>\n",
       "    <tr>\n",
       "      <th>max</th>\n",
       "      <td>5.000000</td>\n",
       "      <td>18388.000000</td>\n",
       "      <td>75.000000</td>\n",
       "      <td>4.000000</td>\n",
       "      <td>4.000000</td>\n",
       "      <td>1.000000</td>\n",
       "      <td>2.265604e+06</td>\n",
       "      <td>499163.144947</td>\n",
       "    </tr>\n",
       "  </tbody>\n",
       "</table>\n",
       "</div>"
      ],
      "text/plain": [
       "           children  days_employed     dob_years  education_id  \\\n",
       "count  21451.000000   21451.000000  21451.000000  21451.000000   \n",
       "mean       0.471307    2578.621043     43.476108      0.817071   \n",
       "std        0.751101    2067.272618     12.226713      0.548624   \n",
       "min        0.000000      24.000000     19.000000      0.000000   \n",
       "25%        0.000000    1011.000000     33.000000      1.000000   \n",
       "50%        0.000000    2294.000000     42.000000      1.000000   \n",
       "75%        1.000000    3577.000000     53.000000      1.000000   \n",
       "max        5.000000   18388.000000     75.000000      4.000000   \n",
       "\n",
       "       family_status_id          debt  total_income      fill_gaps  \n",
       "count      21451.000000  21451.000000  2.145100e+04   21451.000000  \n",
       "mean           0.973941      0.081115  1.653209e+05  145901.010626  \n",
       "std            1.421651      0.273018  9.819085e+04   17853.628957  \n",
       "min            0.000000      0.000000  2.066700e+04   53829.130729  \n",
       "25%            0.000000      0.000000  1.076260e+05  142594.396847  \n",
       "50%            0.000000      0.000000  1.425940e+05  142594.396847  \n",
       "75%            1.000000      0.000000  1.958085e+05  150447.935283  \n",
       "max            4.000000      1.000000  2.265604e+06  499163.144947  "
      ]
     },
     "execution_count": 176,
     "metadata": {},
     "output_type": "execute_result"
    }
   ],
   "source": [
    "data.describe()"
   ]
  },
  {
   "cell_type": "markdown",
   "metadata": {},
   "source": [
    "### Выводы.\n",
    "\n",
    "Итак, мы исследовали массив данных, в котором собрана информация о заемщиках и просрочках по кредитам. Выгрузка была неидеальна с точки зрения полноты и качества данных: встречались пропуски, дубли, очевидно ошибочные значения. Этот недостаток был исправлен путем замены проблемных значений на усредненные и медианные, размер выгрузки после предобрадотки сократился на доли процента. \n",
    "\n",
    "Применительно к задачам этого исследования достоверность данных не пострадала, но если нужно будет изучить влияние стажа, лучше взять другой датасет, поскольку в исходном датасете 100% значений в этом столбце были искажены. Восстановленные значения имеют признаки истинных, но размерность их неясна.\n",
    "\n",
    "Анализ очищенного массива позволил выявить несколько закономерностей.\n",
    "\n",
    "Из четырех исследованных параметров (количество детей, семейное положение, уровень дохода и цель кредита) наиболее сильную связь с возвратом кредита в срок имеют семейное положение и цель кредита. Наибольшей пунктуальностью при погашении кредита отличаются люди с опытом официальной регистрации брака (процент невозвратов в пределах 6,5-7,5%), прежде всего вдовы и вдовцы, а также те, кто использует ссуды для финансирования сделок с недвижимостью (немного больше 7%). Люди, занимающие деньги на покупку автомобиля и образование, чаще других испытывают проблемы с возвратом кредита в срок (более 9% невозвратов).\n",
    "\n",
    "Уровень дохода и количество детей оказывают менее значимое влияние. По мере движения от категорий с низкой доходностью к более высокодоходным риски сначала возрастают с 7% невозратов в категории 21-79 тыс. к 8,5% в категориях 79-132 тыс., затем проходят пик, который приходится на категорию 132-142 тыс. (9%), и возвращаются к показателю чуть менее 8,5% для категорий 143-215 тыс. В более высокодоходных категориях уровень риска вновь опускается до 7%.\n",
    "\n",
    "Что касается количества детей, то достоверно можно судить только о заемщиках, которые имеют до 3 детей включительно. В целом можно сказать, что бездетные заемщики несколько надежнее (7% невозвратов против 8-9,5%), а среди тех, у кого есть дети, наибольшую пунктуальность демонстрируют родители трех детей (около 8%). Заемщики с 1-2 детьми допускают просрочки в 9% случаев."
   ]
  },
  {
   "cell_type": "markdown",
   "metadata": {},
   "source": [
    "### <font color='red'>Комментарий от наставника по выводам:  <span style=\"color:green;font-size:200%\">&#10003;</span>\n",
    "У тебя хорошие, логичные выводы, молодец! Есть лишь несколько комментариев о том, как их можно улучшить:\n",
    "1. В начале общего вывода стоит ещё раз упомянуть решаемую задачу.\n",
    "2. Стоит кратко описать шаги по предобработке данных, которые были выполнены\n",
    "3. Имеет смысл перечислить проблемы с данными и дать комментарий о том, могли ли они повлиять на результат\n",
    "4. В выводах про влияние стоит ещё добавить числа, на которые ты опираешься (лучше всего проценты невозврата).\n",
    "\n",
    "В целом представь, что общий вывод ты пишешь для менеджера, у которого нет времени вникать во все детали твоего исследования, но при этом он хочет получить довольно полную картину."
   ]
  },
  {
   "cell_type": "markdown",
   "metadata": {},
   "source": [
    "<font color='green'> Сделал. Спасибо за правки!  <span style=\"color:green;font-size:200%\">&#10003;</span>"
   ]
  },
  {
   "cell_type": "markdown",
   "metadata": {},
   "source": [
    "### <font color='red'>Комментарий от наставника по всей работе <span style=\"color:green;font-size:200%\">&#10003;</span>\n",
    "У тебя очень хорошая работа. Мне нравится твоя строгость при работе с данными и желание всё хранить оптимально, а код писать так, чтобы его можно было переиспользовать :)\n",
    "    \n",
    "При этом нам всё же есть что улучшать и я рекоммендовала бы исправить все замечания, данные мной выше. Но для того, чтобы работа была зачтена следует исправить по крайней мере вот эти пункты:\n",
    "\n",
    "1. Исправить неадекватности в данных без удаления строк, либо доказать, что удаление никак не влияет на результат исследования\n",
    "2. Дополнить сводные таблицы информацией про количество людей в группах\n",
    "3. Дополнить вывод числами, на которые опираешься"
   ]
  },
  {
   "cell_type": "markdown",
   "metadata": {},
   "source": [
    "### <font color='orange'>Финальный комментарий по работе\n",
    "Ты большой молодец, что исправил все мои замечания! Отлично, что ты умеешь читать документацию и критично относиться к комментариям наставника. Так и нужно работать :)\n",
    "\n",
    "У меня остались небольшие не критичные замечания. Можешь посмотреть, что ещё можно улучшить :)<br>\n",
    "Работа засчитана."
   ]
  }
 ],
 "metadata": {
  "kernelspec": {
   "display_name": "Python 3",
   "language": "python",
   "name": "python3"
  },
  "language_info": {
   "codemirror_mode": {
    "name": "ipython",
    "version": 3
   },
   "file_extension": ".py",
   "mimetype": "text/x-python",
   "name": "python",
   "nbconvert_exporter": "python",
   "pygments_lexer": "ipython3",
   "version": "3.8.0"
  }
 },
 "nbformat": 4,
 "nbformat_minor": 2
}
