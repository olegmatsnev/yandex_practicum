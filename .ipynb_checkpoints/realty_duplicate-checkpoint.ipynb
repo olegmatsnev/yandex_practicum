{
 "cells": [
  {
   "cell_type": "markdown",
   "metadata": {},
   "source": [
    "### <font color='green'>Комментарий от наставника 1\n",
    "Олег, привет! Спасибо, что учёл мои замечания из прошлого проекта :) <br>\n",
    "Как и прежде ищи мои комментарии в подобных ячейках. Пункты, где всё отлично, я отмечаю галкой <span style=\"color:green;font-size:200%\">&#10003;</span> или <font color='green'><b>зелёным комментарием</b></font>. Там, где нужно что-то исправить для привлечения внимания я пишу другими цветами (зависят от итерации). Начну с <font color='red'><b>красного</b></font> :)"
   ]
  },
  {
   "cell_type": "markdown",
   "metadata": {},
   "source": [
    "<font color='green'> Привет, Ира! Спасибо и тебе -- за дельные замечания и за то, что так оперативно проверила мою работу, хотя я затянул со сдачей (в этот раз было посложнее, чем в первый)."
   ]
  },
  {
   "cell_type": "markdown",
   "metadata": {},
   "source": [
    "# Исследование объявлений о продаже квартир\n",
    "\n",
    "Нам предстоит исследовать рынок жилой недвижимости Санкт-Петербурга и его окрестностей с тем, чтобы выявить закономерности, которые могут пригодится для определения рыночной цены квартир и автоматического отслеживания аномалий.\n",
    "\n",
    "### Загрузка данных и первое знакомство с ними <span style=\"color:green;font-size:200%\">&#10003;</span>"
   ]
  },
  {
   "cell_type": "code",
   "execution_count": 927,
   "metadata": {},
   "outputs": [],
   "source": [
    "import pandas as pd\n",
    "import matplotlib.pyplot as plt\n",
    "data = pd.read_csv('/datasets/real_estate_data.csv', sep='\\t')"
   ]
  },
  {
   "cell_type": "code",
   "execution_count": 928,
   "metadata": {
    "scrolled": true
   },
   "outputs": [
    {
     "name": "stdout",
     "output_type": "stream",
     "text": [
      "<class 'pandas.core.frame.DataFrame'>\n",
      "RangeIndex: 23699 entries, 0 to 23698\n",
      "Data columns (total 24 columns):\n",
      "building_series_id      6517 non-null object\n",
      "total_images            23699 non-null int64\n",
      "last_price              23699 non-null float64\n",
      "total_area              23699 non-null float64\n",
      "first_day_exposition    23699 non-null object\n",
      "rooms                   23699 non-null int64\n",
      "ceiling_height          14504 non-null float64\n",
      "floors_total            23613 non-null float64\n",
      "living_area             21796 non-null float64\n",
      "floor                   23699 non-null int64\n",
      "is_apartment            2775 non-null object\n",
      "studio                  23699 non-null bool\n",
      "area                    23699 non-null float64\n",
      "open_plan               23699 non-null bool\n",
      "kitchen_area            21421 non-null float64\n",
      "balcony                 12180 non-null float64\n",
      "locality_name           23650 non-null object\n",
      "airports_nearest        18157 non-null float64\n",
      "cityCenters_nearest     18180 non-null float64\n",
      "parks_around3000        18181 non-null float64\n",
      "parks_nearest           8079 non-null float64\n",
      "ponds_around3000        18181 non-null float64\n",
      "ponds_nearest           9110 non-null float64\n",
      "days_exposition         20518 non-null float64\n",
      "dtypes: bool(2), float64(15), int64(3), object(4)\n",
      "memory usage: 4.0+ MB\n"
     ]
    }
   ],
   "source": [
    "data.info()"
   ]
  },
  {
   "cell_type": "code",
   "execution_count": 929,
   "metadata": {},
   "outputs": [
    {
     "data": {
      "text/html": [
       "<div>\n",
       "<style scoped>\n",
       "    .dataframe tbody tr th:only-of-type {\n",
       "        vertical-align: middle;\n",
       "    }\n",
       "\n",
       "    .dataframe tbody tr th {\n",
       "        vertical-align: top;\n",
       "    }\n",
       "\n",
       "    .dataframe thead th {\n",
       "        text-align: right;\n",
       "    }\n",
       "</style>\n",
       "<table border=\"1\" class=\"dataframe\">\n",
       "  <thead>\n",
       "    <tr style=\"text-align: right;\">\n",
       "      <th></th>\n",
       "      <th>total_images</th>\n",
       "      <th>last_price</th>\n",
       "      <th>total_area</th>\n",
       "      <th>rooms</th>\n",
       "      <th>ceiling_height</th>\n",
       "      <th>floors_total</th>\n",
       "      <th>living_area</th>\n",
       "      <th>floor</th>\n",
       "      <th>area</th>\n",
       "      <th>kitchen_area</th>\n",
       "      <th>balcony</th>\n",
       "      <th>airports_nearest</th>\n",
       "      <th>cityCenters_nearest</th>\n",
       "      <th>parks_around3000</th>\n",
       "      <th>parks_nearest</th>\n",
       "      <th>ponds_around3000</th>\n",
       "      <th>ponds_nearest</th>\n",
       "      <th>days_exposition</th>\n",
       "    </tr>\n",
       "  </thead>\n",
       "  <tbody>\n",
       "    <tr>\n",
       "      <th>count</th>\n",
       "      <td>23699.000000</td>\n",
       "      <td>2.369900e+04</td>\n",
       "      <td>23699.000000</td>\n",
       "      <td>23699.000000</td>\n",
       "      <td>14504.000000</td>\n",
       "      <td>23613.000000</td>\n",
       "      <td>21796.000000</td>\n",
       "      <td>23699.000000</td>\n",
       "      <td>23699.000000</td>\n",
       "      <td>21421.000000</td>\n",
       "      <td>12180.000000</td>\n",
       "      <td>18157.000000</td>\n",
       "      <td>18180.000000</td>\n",
       "      <td>18181.000000</td>\n",
       "      <td>8079.000000</td>\n",
       "      <td>18181.000000</td>\n",
       "      <td>9110.000000</td>\n",
       "      <td>20518.000000</td>\n",
       "    </tr>\n",
       "    <tr>\n",
       "      <th>mean</th>\n",
       "      <td>9.858475</td>\n",
       "      <td>6.541549e+06</td>\n",
       "      <td>60.348651</td>\n",
       "      <td>2.070636</td>\n",
       "      <td>2.771499</td>\n",
       "      <td>10.673824</td>\n",
       "      <td>34.457852</td>\n",
       "      <td>5.892358</td>\n",
       "      <td>60.348651</td>\n",
       "      <td>10.569807</td>\n",
       "      <td>1.150082</td>\n",
       "      <td>28793.672193</td>\n",
       "      <td>14191.277833</td>\n",
       "      <td>0.611408</td>\n",
       "      <td>490.804555</td>\n",
       "      <td>0.770255</td>\n",
       "      <td>517.980900</td>\n",
       "      <td>180.888634</td>\n",
       "    </tr>\n",
       "    <tr>\n",
       "      <th>std</th>\n",
       "      <td>5.682529</td>\n",
       "      <td>1.088701e+07</td>\n",
       "      <td>35.654083</td>\n",
       "      <td>1.078405</td>\n",
       "      <td>1.261056</td>\n",
       "      <td>6.597173</td>\n",
       "      <td>22.030445</td>\n",
       "      <td>4.885249</td>\n",
       "      <td>35.654083</td>\n",
       "      <td>5.905438</td>\n",
       "      <td>1.071300</td>\n",
       "      <td>12630.880622</td>\n",
       "      <td>8608.386210</td>\n",
       "      <td>0.802074</td>\n",
       "      <td>342.317995</td>\n",
       "      <td>0.938346</td>\n",
       "      <td>277.720643</td>\n",
       "      <td>219.727988</td>\n",
       "    </tr>\n",
       "    <tr>\n",
       "      <th>min</th>\n",
       "      <td>0.000000</td>\n",
       "      <td>1.219000e+04</td>\n",
       "      <td>12.000000</td>\n",
       "      <td>0.000000</td>\n",
       "      <td>1.000000</td>\n",
       "      <td>1.000000</td>\n",
       "      <td>2.000000</td>\n",
       "      <td>1.000000</td>\n",
       "      <td>12.000000</td>\n",
       "      <td>1.300000</td>\n",
       "      <td>0.000000</td>\n",
       "      <td>0.000000</td>\n",
       "      <td>181.000000</td>\n",
       "      <td>0.000000</td>\n",
       "      <td>1.000000</td>\n",
       "      <td>0.000000</td>\n",
       "      <td>13.000000</td>\n",
       "      <td>1.000000</td>\n",
       "    </tr>\n",
       "    <tr>\n",
       "      <th>25%</th>\n",
       "      <td>6.000000</td>\n",
       "      <td>3.400000e+06</td>\n",
       "      <td>40.000000</td>\n",
       "      <td>1.000000</td>\n",
       "      <td>2.520000</td>\n",
       "      <td>5.000000</td>\n",
       "      <td>18.600000</td>\n",
       "      <td>2.000000</td>\n",
       "      <td>40.000000</td>\n",
       "      <td>7.000000</td>\n",
       "      <td>0.000000</td>\n",
       "      <td>18585.000000</td>\n",
       "      <td>9238.000000</td>\n",
       "      <td>0.000000</td>\n",
       "      <td>288.000000</td>\n",
       "      <td>0.000000</td>\n",
       "      <td>294.000000</td>\n",
       "      <td>45.000000</td>\n",
       "    </tr>\n",
       "    <tr>\n",
       "      <th>50%</th>\n",
       "      <td>9.000000</td>\n",
       "      <td>4.650000e+06</td>\n",
       "      <td>52.000000</td>\n",
       "      <td>2.000000</td>\n",
       "      <td>2.650000</td>\n",
       "      <td>9.000000</td>\n",
       "      <td>30.000000</td>\n",
       "      <td>4.000000</td>\n",
       "      <td>52.000000</td>\n",
       "      <td>9.100000</td>\n",
       "      <td>1.000000</td>\n",
       "      <td>26726.000000</td>\n",
       "      <td>13098.500000</td>\n",
       "      <td>0.000000</td>\n",
       "      <td>455.000000</td>\n",
       "      <td>1.000000</td>\n",
       "      <td>502.000000</td>\n",
       "      <td>95.000000</td>\n",
       "    </tr>\n",
       "    <tr>\n",
       "      <th>75%</th>\n",
       "      <td>14.000000</td>\n",
       "      <td>6.800000e+06</td>\n",
       "      <td>69.900000</td>\n",
       "      <td>3.000000</td>\n",
       "      <td>2.800000</td>\n",
       "      <td>16.000000</td>\n",
       "      <td>42.300000</td>\n",
       "      <td>8.000000</td>\n",
       "      <td>69.900000</td>\n",
       "      <td>12.000000</td>\n",
       "      <td>2.000000</td>\n",
       "      <td>37273.000000</td>\n",
       "      <td>16293.000000</td>\n",
       "      <td>1.000000</td>\n",
       "      <td>612.000000</td>\n",
       "      <td>1.000000</td>\n",
       "      <td>729.000000</td>\n",
       "      <td>232.000000</td>\n",
       "    </tr>\n",
       "    <tr>\n",
       "      <th>max</th>\n",
       "      <td>50.000000</td>\n",
       "      <td>7.630000e+08</td>\n",
       "      <td>900.000000</td>\n",
       "      <td>19.000000</td>\n",
       "      <td>100.000000</td>\n",
       "      <td>60.000000</td>\n",
       "      <td>409.700000</td>\n",
       "      <td>33.000000</td>\n",
       "      <td>900.000000</td>\n",
       "      <td>112.000000</td>\n",
       "      <td>5.000000</td>\n",
       "      <td>84869.000000</td>\n",
       "      <td>65968.000000</td>\n",
       "      <td>3.000000</td>\n",
       "      <td>3190.000000</td>\n",
       "      <td>3.000000</td>\n",
       "      <td>1344.000000</td>\n",
       "      <td>1580.000000</td>\n",
       "    </tr>\n",
       "  </tbody>\n",
       "</table>\n",
       "</div>"
      ],
      "text/plain": [
       "       total_images    last_price    total_area         rooms  ceiling_height  \\\n",
       "count  23699.000000  2.369900e+04  23699.000000  23699.000000    14504.000000   \n",
       "mean       9.858475  6.541549e+06     60.348651      2.070636        2.771499   \n",
       "std        5.682529  1.088701e+07     35.654083      1.078405        1.261056   \n",
       "min        0.000000  1.219000e+04     12.000000      0.000000        1.000000   \n",
       "25%        6.000000  3.400000e+06     40.000000      1.000000        2.520000   \n",
       "50%        9.000000  4.650000e+06     52.000000      2.000000        2.650000   \n",
       "75%       14.000000  6.800000e+06     69.900000      3.000000        2.800000   \n",
       "max       50.000000  7.630000e+08    900.000000     19.000000      100.000000   \n",
       "\n",
       "       floors_total   living_area         floor          area  kitchen_area  \\\n",
       "count  23613.000000  21796.000000  23699.000000  23699.000000  21421.000000   \n",
       "mean      10.673824     34.457852      5.892358     60.348651     10.569807   \n",
       "std        6.597173     22.030445      4.885249     35.654083      5.905438   \n",
       "min        1.000000      2.000000      1.000000     12.000000      1.300000   \n",
       "25%        5.000000     18.600000      2.000000     40.000000      7.000000   \n",
       "50%        9.000000     30.000000      4.000000     52.000000      9.100000   \n",
       "75%       16.000000     42.300000      8.000000     69.900000     12.000000   \n",
       "max       60.000000    409.700000     33.000000    900.000000    112.000000   \n",
       "\n",
       "            balcony  airports_nearest  cityCenters_nearest  parks_around3000  \\\n",
       "count  12180.000000      18157.000000         18180.000000      18181.000000   \n",
       "mean       1.150082      28793.672193         14191.277833          0.611408   \n",
       "std        1.071300      12630.880622          8608.386210          0.802074   \n",
       "min        0.000000          0.000000           181.000000          0.000000   \n",
       "25%        0.000000      18585.000000          9238.000000          0.000000   \n",
       "50%        1.000000      26726.000000         13098.500000          0.000000   \n",
       "75%        2.000000      37273.000000         16293.000000          1.000000   \n",
       "max        5.000000      84869.000000         65968.000000          3.000000   \n",
       "\n",
       "       parks_nearest  ponds_around3000  ponds_nearest  days_exposition  \n",
       "count    8079.000000      18181.000000    9110.000000     20518.000000  \n",
       "mean      490.804555          0.770255     517.980900       180.888634  \n",
       "std       342.317995          0.938346     277.720643       219.727988  \n",
       "min         1.000000          0.000000      13.000000         1.000000  \n",
       "25%       288.000000          0.000000     294.000000        45.000000  \n",
       "50%       455.000000          1.000000     502.000000        95.000000  \n",
       "75%       612.000000          1.000000     729.000000       232.000000  \n",
       "max      3190.000000          3.000000    1344.000000      1580.000000  "
      ]
     },
     "execution_count": 929,
     "metadata": {},
     "output_type": "execute_result"
    }
   ],
   "source": [
    "data.describe()"
   ]
  },
  {
   "cell_type": "code",
   "execution_count": 930,
   "metadata": {},
   "outputs": [
    {
     "data": {
      "text/html": [
       "<div>\n",
       "<style scoped>\n",
       "    .dataframe tbody tr th:only-of-type {\n",
       "        vertical-align: middle;\n",
       "    }\n",
       "\n",
       "    .dataframe tbody tr th {\n",
       "        vertical-align: top;\n",
       "    }\n",
       "\n",
       "    .dataframe thead th {\n",
       "        text-align: right;\n",
       "    }\n",
       "</style>\n",
       "<table border=\"1\" class=\"dataframe\">\n",
       "  <thead>\n",
       "    <tr style=\"text-align: right;\">\n",
       "      <th></th>\n",
       "      <th>building_series_id</th>\n",
       "      <th>total_images</th>\n",
       "      <th>last_price</th>\n",
       "      <th>total_area</th>\n",
       "      <th>first_day_exposition</th>\n",
       "      <th>rooms</th>\n",
       "      <th>ceiling_height</th>\n",
       "      <th>floors_total</th>\n",
       "      <th>living_area</th>\n",
       "      <th>floor</th>\n",
       "      <th>...</th>\n",
       "      <th>kitchen_area</th>\n",
       "      <th>balcony</th>\n",
       "      <th>locality_name</th>\n",
       "      <th>airports_nearest</th>\n",
       "      <th>cityCenters_nearest</th>\n",
       "      <th>parks_around3000</th>\n",
       "      <th>parks_nearest</th>\n",
       "      <th>ponds_around3000</th>\n",
       "      <th>ponds_nearest</th>\n",
       "      <th>days_exposition</th>\n",
       "    </tr>\n",
       "  </thead>\n",
       "  <tbody>\n",
       "    <tr>\n",
       "      <th>0</th>\n",
       "      <td>1564812</td>\n",
       "      <td>20</td>\n",
       "      <td>13000000.0</td>\n",
       "      <td>108.0</td>\n",
       "      <td>2019-03-07T00:00:00</td>\n",
       "      <td>3</td>\n",
       "      <td>2.70</td>\n",
       "      <td>16.0</td>\n",
       "      <td>51.0</td>\n",
       "      <td>8</td>\n",
       "      <td>...</td>\n",
       "      <td>25.0</td>\n",
       "      <td>NaN</td>\n",
       "      <td>Санкт-Петербург</td>\n",
       "      <td>18863.0</td>\n",
       "      <td>16028.0</td>\n",
       "      <td>1.0</td>\n",
       "      <td>482.0</td>\n",
       "      <td>2.0</td>\n",
       "      <td>755.0</td>\n",
       "      <td>NaN</td>\n",
       "    </tr>\n",
       "    <tr>\n",
       "      <th>1</th>\n",
       "      <td>NaN</td>\n",
       "      <td>7</td>\n",
       "      <td>3350000.0</td>\n",
       "      <td>40.4</td>\n",
       "      <td>2018-12-04T00:00:00</td>\n",
       "      <td>1</td>\n",
       "      <td>NaN</td>\n",
       "      <td>11.0</td>\n",
       "      <td>18.6</td>\n",
       "      <td>1</td>\n",
       "      <td>...</td>\n",
       "      <td>11.0</td>\n",
       "      <td>2.0</td>\n",
       "      <td>посёлок Шушары</td>\n",
       "      <td>12817.0</td>\n",
       "      <td>18603.0</td>\n",
       "      <td>0.0</td>\n",
       "      <td>NaN</td>\n",
       "      <td>0.0</td>\n",
       "      <td>NaN</td>\n",
       "      <td>81.0</td>\n",
       "    </tr>\n",
       "    <tr>\n",
       "      <th>2</th>\n",
       "      <td>Сталинский</td>\n",
       "      <td>10</td>\n",
       "      <td>5196000.0</td>\n",
       "      <td>56.0</td>\n",
       "      <td>2015-08-20T00:00:00</td>\n",
       "      <td>2</td>\n",
       "      <td>NaN</td>\n",
       "      <td>5.0</td>\n",
       "      <td>34.3</td>\n",
       "      <td>4</td>\n",
       "      <td>...</td>\n",
       "      <td>8.3</td>\n",
       "      <td>0.0</td>\n",
       "      <td>Санкт-Петербург</td>\n",
       "      <td>21741.0</td>\n",
       "      <td>13933.0</td>\n",
       "      <td>1.0</td>\n",
       "      <td>90.0</td>\n",
       "      <td>2.0</td>\n",
       "      <td>574.0</td>\n",
       "      <td>558.0</td>\n",
       "    </tr>\n",
       "    <tr>\n",
       "      <th>3</th>\n",
       "      <td>NaN</td>\n",
       "      <td>0</td>\n",
       "      <td>64900000.0</td>\n",
       "      <td>159.0</td>\n",
       "      <td>2015-07-24T00:00:00</td>\n",
       "      <td>3</td>\n",
       "      <td>NaN</td>\n",
       "      <td>14.0</td>\n",
       "      <td>NaN</td>\n",
       "      <td>9</td>\n",
       "      <td>...</td>\n",
       "      <td>NaN</td>\n",
       "      <td>0.0</td>\n",
       "      <td>Санкт-Петербург</td>\n",
       "      <td>28098.0</td>\n",
       "      <td>6800.0</td>\n",
       "      <td>2.0</td>\n",
       "      <td>84.0</td>\n",
       "      <td>3.0</td>\n",
       "      <td>234.0</td>\n",
       "      <td>424.0</td>\n",
       "    </tr>\n",
       "    <tr>\n",
       "      <th>4</th>\n",
       "      <td>NaN</td>\n",
       "      <td>2</td>\n",
       "      <td>10000000.0</td>\n",
       "      <td>100.0</td>\n",
       "      <td>2018-06-19T00:00:00</td>\n",
       "      <td>2</td>\n",
       "      <td>3.03</td>\n",
       "      <td>14.0</td>\n",
       "      <td>32.0</td>\n",
       "      <td>13</td>\n",
       "      <td>...</td>\n",
       "      <td>41.0</td>\n",
       "      <td>NaN</td>\n",
       "      <td>Санкт-Петербург</td>\n",
       "      <td>31856.0</td>\n",
       "      <td>8098.0</td>\n",
       "      <td>2.0</td>\n",
       "      <td>112.0</td>\n",
       "      <td>1.0</td>\n",
       "      <td>48.0</td>\n",
       "      <td>121.0</td>\n",
       "    </tr>\n",
       "  </tbody>\n",
       "</table>\n",
       "<p>5 rows × 24 columns</p>\n",
       "</div>"
      ],
      "text/plain": [
       "  building_series_id  total_images  last_price  total_area  \\\n",
       "0            1564812            20  13000000.0       108.0   \n",
       "1                NaN             7   3350000.0        40.4   \n",
       "2         Сталинский            10   5196000.0        56.0   \n",
       "3                NaN             0  64900000.0       159.0   \n",
       "4                NaN             2  10000000.0       100.0   \n",
       "\n",
       "  first_day_exposition  rooms  ceiling_height  floors_total  living_area  \\\n",
       "0  2019-03-07T00:00:00      3            2.70          16.0         51.0   \n",
       "1  2018-12-04T00:00:00      1             NaN          11.0         18.6   \n",
       "2  2015-08-20T00:00:00      2             NaN           5.0         34.3   \n",
       "3  2015-07-24T00:00:00      3             NaN          14.0          NaN   \n",
       "4  2018-06-19T00:00:00      2            3.03          14.0         32.0   \n",
       "\n",
       "   floor  ... kitchen_area  balcony    locality_name  airports_nearest  \\\n",
       "0      8  ...         25.0      NaN  Санкт-Петербург           18863.0   \n",
       "1      1  ...         11.0      2.0   посёлок Шушары           12817.0   \n",
       "2      4  ...          8.3      0.0  Санкт-Петербург           21741.0   \n",
       "3      9  ...          NaN      0.0  Санкт-Петербург           28098.0   \n",
       "4     13  ...         41.0      NaN  Санкт-Петербург           31856.0   \n",
       "\n",
       "   cityCenters_nearest  parks_around3000 parks_nearest  ponds_around3000  \\\n",
       "0              16028.0               1.0         482.0               2.0   \n",
       "1              18603.0               0.0           NaN               0.0   \n",
       "2              13933.0               1.0          90.0               2.0   \n",
       "3               6800.0               2.0          84.0               3.0   \n",
       "4               8098.0               2.0         112.0               1.0   \n",
       "\n",
       "   ponds_nearest  days_exposition  \n",
       "0          755.0              NaN  \n",
       "1            NaN             81.0  \n",
       "2          574.0            558.0  \n",
       "3          234.0            424.0  \n",
       "4           48.0            121.0  \n",
       "\n",
       "[5 rows x 24 columns]"
      ]
     },
     "execution_count": 930,
     "metadata": {},
     "output_type": "execute_result"
    }
   ],
   "source": [
    "data.head()"
   ]
  },
  {
   "cell_type": "code",
   "execution_count": 931,
   "metadata": {},
   "outputs": [
    {
     "data": {
      "text/html": [
       "<div>\n",
       "<style scoped>\n",
       "    .dataframe tbody tr th:only-of-type {\n",
       "        vertical-align: middle;\n",
       "    }\n",
       "\n",
       "    .dataframe tbody tr th {\n",
       "        vertical-align: top;\n",
       "    }\n",
       "\n",
       "    .dataframe thead th {\n",
       "        text-align: right;\n",
       "    }\n",
       "</style>\n",
       "<table border=\"1\" class=\"dataframe\">\n",
       "  <thead>\n",
       "    <tr style=\"text-align: right;\">\n",
       "      <th></th>\n",
       "      <th>building_series_id</th>\n",
       "      <th>total_images</th>\n",
       "      <th>last_price</th>\n",
       "      <th>total_area</th>\n",
       "      <th>first_day_exposition</th>\n",
       "      <th>rooms</th>\n",
       "      <th>ceiling_height</th>\n",
       "      <th>floors_total</th>\n",
       "      <th>living_area</th>\n",
       "      <th>floor</th>\n",
       "      <th>...</th>\n",
       "      <th>kitchen_area</th>\n",
       "      <th>balcony</th>\n",
       "      <th>locality_name</th>\n",
       "      <th>airports_nearest</th>\n",
       "      <th>cityCenters_nearest</th>\n",
       "      <th>parks_around3000</th>\n",
       "      <th>parks_nearest</th>\n",
       "      <th>ponds_around3000</th>\n",
       "      <th>ponds_nearest</th>\n",
       "      <th>days_exposition</th>\n",
       "    </tr>\n",
       "  </thead>\n",
       "  <tbody>\n",
       "    <tr>\n",
       "      <th>9524</th>\n",
       "      <td>NaN</td>\n",
       "      <td>10</td>\n",
       "      <td>6500000.0</td>\n",
       "      <td>66.00</td>\n",
       "      <td>2016-02-17T00:00:00</td>\n",
       "      <td>2</td>\n",
       "      <td>3.10</td>\n",
       "      <td>5.0</td>\n",
       "      <td>33.90</td>\n",
       "      <td>5</td>\n",
       "      <td>...</td>\n",
       "      <td>7.80</td>\n",
       "      <td>0.0</td>\n",
       "      <td>Санкт-Петербург</td>\n",
       "      <td>29348.0</td>\n",
       "      <td>5967.0</td>\n",
       "      <td>1.0</td>\n",
       "      <td>240.0</td>\n",
       "      <td>1.0</td>\n",
       "      <td>852.0</td>\n",
       "      <td>139.0</td>\n",
       "    </tr>\n",
       "    <tr>\n",
       "      <th>8639</th>\n",
       "      <td>1564812.0</td>\n",
       "      <td>6</td>\n",
       "      <td>1300000.0</td>\n",
       "      <td>62.00</td>\n",
       "      <td>2018-10-03T00:00:00</td>\n",
       "      <td>3</td>\n",
       "      <td>2.55</td>\n",
       "      <td>5.0</td>\n",
       "      <td>52.00</td>\n",
       "      <td>1</td>\n",
       "      <td>...</td>\n",
       "      <td>6.00</td>\n",
       "      <td>NaN</td>\n",
       "      <td>Подпорожье</td>\n",
       "      <td>NaN</td>\n",
       "      <td>NaN</td>\n",
       "      <td>NaN</td>\n",
       "      <td>NaN</td>\n",
       "      <td>NaN</td>\n",
       "      <td>NaN</td>\n",
       "      <td>182.0</td>\n",
       "    </tr>\n",
       "    <tr>\n",
       "      <th>3052</th>\n",
       "      <td>NaN</td>\n",
       "      <td>15</td>\n",
       "      <td>5400000.0</td>\n",
       "      <td>46.50</td>\n",
       "      <td>2016-04-06T00:00:00</td>\n",
       "      <td>1</td>\n",
       "      <td>2.70</td>\n",
       "      <td>12.0</td>\n",
       "      <td>16.30</td>\n",
       "      <td>11</td>\n",
       "      <td>...</td>\n",
       "      <td>17.40</td>\n",
       "      <td>5.0</td>\n",
       "      <td>Санкт-Петербург</td>\n",
       "      <td>34201.0</td>\n",
       "      <td>14069.0</td>\n",
       "      <td>0.0</td>\n",
       "      <td>NaN</td>\n",
       "      <td>0.0</td>\n",
       "      <td>NaN</td>\n",
       "      <td>139.0</td>\n",
       "    </tr>\n",
       "    <tr>\n",
       "      <th>18272</th>\n",
       "      <td>NaN</td>\n",
       "      <td>8</td>\n",
       "      <td>6000000.0</td>\n",
       "      <td>36.00</td>\n",
       "      <td>2017-09-28T00:00:00</td>\n",
       "      <td>1</td>\n",
       "      <td>3.10</td>\n",
       "      <td>9.0</td>\n",
       "      <td>17.60</td>\n",
       "      <td>6</td>\n",
       "      <td>...</td>\n",
       "      <td>8.30</td>\n",
       "      <td>1.0</td>\n",
       "      <td>Санкт-Петербург</td>\n",
       "      <td>32106.0</td>\n",
       "      <td>5065.0</td>\n",
       "      <td>0.0</td>\n",
       "      <td>NaN</td>\n",
       "      <td>2.0</td>\n",
       "      <td>471.0</td>\n",
       "      <td>29.0</td>\n",
       "    </tr>\n",
       "    <tr>\n",
       "      <th>10628</th>\n",
       "      <td>NaN</td>\n",
       "      <td>3</td>\n",
       "      <td>8500000.0</td>\n",
       "      <td>92.30</td>\n",
       "      <td>2017-07-13T00:00:00</td>\n",
       "      <td>3</td>\n",
       "      <td>3.00</td>\n",
       "      <td>5.0</td>\n",
       "      <td>55.20</td>\n",
       "      <td>1</td>\n",
       "      <td>...</td>\n",
       "      <td>14.60</td>\n",
       "      <td>NaN</td>\n",
       "      <td>Санкт-Петербург</td>\n",
       "      <td>24238.0</td>\n",
       "      <td>3805.0</td>\n",
       "      <td>1.0</td>\n",
       "      <td>887.0</td>\n",
       "      <td>3.0</td>\n",
       "      <td>307.0</td>\n",
       "      <td>194.0</td>\n",
       "    </tr>\n",
       "    <tr>\n",
       "      <th>11480</th>\n",
       "      <td>NaN</td>\n",
       "      <td>3</td>\n",
       "      <td>4090000.0</td>\n",
       "      <td>47.72</td>\n",
       "      <td>2018-11-27T00:00:00</td>\n",
       "      <td>1</td>\n",
       "      <td>NaN</td>\n",
       "      <td>22.0</td>\n",
       "      <td>13.92</td>\n",
       "      <td>12</td>\n",
       "      <td>...</td>\n",
       "      <td>23.28</td>\n",
       "      <td>NaN</td>\n",
       "      <td>Санкт-Петербург</td>\n",
       "      <td>16795.0</td>\n",
       "      <td>15591.0</td>\n",
       "      <td>0.0</td>\n",
       "      <td>NaN</td>\n",
       "      <td>1.0</td>\n",
       "      <td>936.0</td>\n",
       "      <td>20.0</td>\n",
       "    </tr>\n",
       "    <tr>\n",
       "      <th>8297</th>\n",
       "      <td>1564792.0</td>\n",
       "      <td>10</td>\n",
       "      <td>6000000.0</td>\n",
       "      <td>55.70</td>\n",
       "      <td>2019-04-08T00:00:00</td>\n",
       "      <td>2</td>\n",
       "      <td>2.65</td>\n",
       "      <td>16.0</td>\n",
       "      <td>32.70</td>\n",
       "      <td>16</td>\n",
       "      <td>...</td>\n",
       "      <td>10.00</td>\n",
       "      <td>1.0</td>\n",
       "      <td>Санкт-Петербург</td>\n",
       "      <td>20558.0</td>\n",
       "      <td>22271.0</td>\n",
       "      <td>0.0</td>\n",
       "      <td>NaN</td>\n",
       "      <td>0.0</td>\n",
       "      <td>NaN</td>\n",
       "      <td>NaN</td>\n",
       "    </tr>\n",
       "    <tr>\n",
       "      <th>3482</th>\n",
       "      <td>NaN</td>\n",
       "      <td>10</td>\n",
       "      <td>4200000.0</td>\n",
       "      <td>42.00</td>\n",
       "      <td>2018-02-08T00:00:00</td>\n",
       "      <td>2</td>\n",
       "      <td>2.50</td>\n",
       "      <td>5.0</td>\n",
       "      <td>28.00</td>\n",
       "      <td>2</td>\n",
       "      <td>...</td>\n",
       "      <td>6.50</td>\n",
       "      <td>NaN</td>\n",
       "      <td>Санкт-Петербург</td>\n",
       "      <td>21225.0</td>\n",
       "      <td>14930.0</td>\n",
       "      <td>1.0</td>\n",
       "      <td>763.0</td>\n",
       "      <td>2.0</td>\n",
       "      <td>751.0</td>\n",
       "      <td>45.0</td>\n",
       "    </tr>\n",
       "    <tr>\n",
       "      <th>11906</th>\n",
       "      <td>1568734.0</td>\n",
       "      <td>11</td>\n",
       "      <td>3350000.0</td>\n",
       "      <td>43.00</td>\n",
       "      <td>2018-02-12T00:00:00</td>\n",
       "      <td>3</td>\n",
       "      <td>2.50</td>\n",
       "      <td>5.0</td>\n",
       "      <td>31.00</td>\n",
       "      <td>2</td>\n",
       "      <td>...</td>\n",
       "      <td>5.40</td>\n",
       "      <td>NaN</td>\n",
       "      <td>Санкт-Петербург</td>\n",
       "      <td>13984.0</td>\n",
       "      <td>15063.0</td>\n",
       "      <td>1.0</td>\n",
       "      <td>622.0</td>\n",
       "      <td>0.0</td>\n",
       "      <td>NaN</td>\n",
       "      <td>86.0</td>\n",
       "    </tr>\n",
       "    <tr>\n",
       "      <th>15852</th>\n",
       "      <td>1568627.0</td>\n",
       "      <td>5</td>\n",
       "      <td>4500000.0</td>\n",
       "      <td>46.30</td>\n",
       "      <td>2018-02-19T00:00:00</td>\n",
       "      <td>2</td>\n",
       "      <td>2.50</td>\n",
       "      <td>9.0</td>\n",
       "      <td>NaN</td>\n",
       "      <td>4</td>\n",
       "      <td>...</td>\n",
       "      <td>NaN</td>\n",
       "      <td>NaN</td>\n",
       "      <td>Санкт-Петербург</td>\n",
       "      <td>10493.0</td>\n",
       "      <td>14859.0</td>\n",
       "      <td>0.0</td>\n",
       "      <td>NaN</td>\n",
       "      <td>1.0</td>\n",
       "      <td>734.0</td>\n",
       "      <td>57.0</td>\n",
       "    </tr>\n",
       "    <tr>\n",
       "      <th>9399</th>\n",
       "      <td>1564812</td>\n",
       "      <td>11</td>\n",
       "      <td>7650000.0</td>\n",
       "      <td>57.00</td>\n",
       "      <td>2019-03-08T00:00:00</td>\n",
       "      <td>2</td>\n",
       "      <td>2.56</td>\n",
       "      <td>10.0</td>\n",
       "      <td>30.00</td>\n",
       "      <td>7</td>\n",
       "      <td>...</td>\n",
       "      <td>9.00</td>\n",
       "      <td>3.0</td>\n",
       "      <td>Санкт-Петербург</td>\n",
       "      <td>12896.0</td>\n",
       "      <td>12430.0</td>\n",
       "      <td>1.0</td>\n",
       "      <td>719.0</td>\n",
       "      <td>1.0</td>\n",
       "      <td>26.0</td>\n",
       "      <td>NaN</td>\n",
       "    </tr>\n",
       "    <tr>\n",
       "      <th>11181</th>\n",
       "      <td>NaN</td>\n",
       "      <td>10</td>\n",
       "      <td>2100000.0</td>\n",
       "      <td>58.70</td>\n",
       "      <td>2018-01-18T00:00:00</td>\n",
       "      <td>3</td>\n",
       "      <td>2.50</td>\n",
       "      <td>9.0</td>\n",
       "      <td>42.00</td>\n",
       "      <td>1</td>\n",
       "      <td>...</td>\n",
       "      <td>8.00</td>\n",
       "      <td>NaN</td>\n",
       "      <td>Светогорск</td>\n",
       "      <td>NaN</td>\n",
       "      <td>NaN</td>\n",
       "      <td>NaN</td>\n",
       "      <td>NaN</td>\n",
       "      <td>NaN</td>\n",
       "      <td>NaN</td>\n",
       "      <td>NaN</td>\n",
       "    </tr>\n",
       "    <tr>\n",
       "      <th>21621</th>\n",
       "      <td>NaN</td>\n",
       "      <td>8</td>\n",
       "      <td>4900000.0</td>\n",
       "      <td>76.70</td>\n",
       "      <td>2016-05-27T00:00:00</td>\n",
       "      <td>4</td>\n",
       "      <td>NaN</td>\n",
       "      <td>9.0</td>\n",
       "      <td>46.90</td>\n",
       "      <td>1</td>\n",
       "      <td>...</td>\n",
       "      <td>7.60</td>\n",
       "      <td>0.0</td>\n",
       "      <td>Санкт-Петербург</td>\n",
       "      <td>21190.0</td>\n",
       "      <td>22902.0</td>\n",
       "      <td>0.0</td>\n",
       "      <td>NaN</td>\n",
       "      <td>1.0</td>\n",
       "      <td>450.0</td>\n",
       "      <td>168.0</td>\n",
       "    </tr>\n",
       "    <tr>\n",
       "      <th>21468</th>\n",
       "      <td>NaN</td>\n",
       "      <td>5</td>\n",
       "      <td>3195000.0</td>\n",
       "      <td>35.05</td>\n",
       "      <td>2016-02-25T00:00:00</td>\n",
       "      <td>1</td>\n",
       "      <td>2.70</td>\n",
       "      <td>25.0</td>\n",
       "      <td>17.35</td>\n",
       "      <td>9</td>\n",
       "      <td>...</td>\n",
       "      <td>9.18</td>\n",
       "      <td>0.0</td>\n",
       "      <td>деревня Кудрово</td>\n",
       "      <td>NaN</td>\n",
       "      <td>NaN</td>\n",
       "      <td>NaN</td>\n",
       "      <td>NaN</td>\n",
       "      <td>NaN</td>\n",
       "      <td>NaN</td>\n",
       "      <td>602.0</td>\n",
       "    </tr>\n",
       "    <tr>\n",
       "      <th>9457</th>\n",
       "      <td>NaN</td>\n",
       "      <td>12</td>\n",
       "      <td>4550000.0</td>\n",
       "      <td>48.40</td>\n",
       "      <td>2017-04-27T00:00:00</td>\n",
       "      <td>4</td>\n",
       "      <td>2.50</td>\n",
       "      <td>5.0</td>\n",
       "      <td>37.70</td>\n",
       "      <td>2</td>\n",
       "      <td>...</td>\n",
       "      <td>5.50</td>\n",
       "      <td>0.0</td>\n",
       "      <td>Санкт-Петербург</td>\n",
       "      <td>12274.0</td>\n",
       "      <td>12818.0</td>\n",
       "      <td>0.0</td>\n",
       "      <td>NaN</td>\n",
       "      <td>0.0</td>\n",
       "      <td>NaN</td>\n",
       "      <td>156.0</td>\n",
       "    </tr>\n",
       "    <tr>\n",
       "      <th>11308</th>\n",
       "      <td>Сталинский</td>\n",
       "      <td>1</td>\n",
       "      <td>8999000.0</td>\n",
       "      <td>80.00</td>\n",
       "      <td>2017-01-21T00:00:00</td>\n",
       "      <td>3</td>\n",
       "      <td>NaN</td>\n",
       "      <td>5.0</td>\n",
       "      <td>56.00</td>\n",
       "      <td>1</td>\n",
       "      <td>...</td>\n",
       "      <td>9.00</td>\n",
       "      <td>0.0</td>\n",
       "      <td>Санкт-Петербург</td>\n",
       "      <td>39119.0</td>\n",
       "      <td>10822.0</td>\n",
       "      <td>0.0</td>\n",
       "      <td>NaN</td>\n",
       "      <td>0.0</td>\n",
       "      <td>NaN</td>\n",
       "      <td>81.0</td>\n",
       "    </tr>\n",
       "    <tr>\n",
       "      <th>23074</th>\n",
       "      <td>NaN</td>\n",
       "      <td>13</td>\n",
       "      <td>5000000.0</td>\n",
       "      <td>50.00</td>\n",
       "      <td>2015-06-26T00:00:00</td>\n",
       "      <td>2</td>\n",
       "      <td>NaN</td>\n",
       "      <td>9.0</td>\n",
       "      <td>31.20</td>\n",
       "      <td>8</td>\n",
       "      <td>...</td>\n",
       "      <td>6.00</td>\n",
       "      <td>1.0</td>\n",
       "      <td>Санкт-Петербург</td>\n",
       "      <td>35853.0</td>\n",
       "      <td>10522.0</td>\n",
       "      <td>0.0</td>\n",
       "      <td>NaN</td>\n",
       "      <td>1.0</td>\n",
       "      <td>684.0</td>\n",
       "      <td>563.0</td>\n",
       "    </tr>\n",
       "    <tr>\n",
       "      <th>3099</th>\n",
       "      <td>NaN</td>\n",
       "      <td>15</td>\n",
       "      <td>4900000.0</td>\n",
       "      <td>46.90</td>\n",
       "      <td>2018-02-12T00:00:00</td>\n",
       "      <td>1</td>\n",
       "      <td>NaN</td>\n",
       "      <td>20.0</td>\n",
       "      <td>NaN</td>\n",
       "      <td>8</td>\n",
       "      <td>...</td>\n",
       "      <td>NaN</td>\n",
       "      <td>NaN</td>\n",
       "      <td>Санкт-Петербург</td>\n",
       "      <td>33386.0</td>\n",
       "      <td>14234.0</td>\n",
       "      <td>0.0</td>\n",
       "      <td>NaN</td>\n",
       "      <td>0.0</td>\n",
       "      <td>NaN</td>\n",
       "      <td>105.0</td>\n",
       "    </tr>\n",
       "    <tr>\n",
       "      <th>23467</th>\n",
       "      <td>NaN</td>\n",
       "      <td>12</td>\n",
       "      <td>3180000.0</td>\n",
       "      <td>42.10</td>\n",
       "      <td>2018-10-16T00:00:00</td>\n",
       "      <td>1</td>\n",
       "      <td>2.75</td>\n",
       "      <td>12.0</td>\n",
       "      <td>17.11</td>\n",
       "      <td>5</td>\n",
       "      <td>...</td>\n",
       "      <td>13.55</td>\n",
       "      <td>NaN</td>\n",
       "      <td>Всеволожск</td>\n",
       "      <td>NaN</td>\n",
       "      <td>NaN</td>\n",
       "      <td>NaN</td>\n",
       "      <td>NaN</td>\n",
       "      <td>NaN</td>\n",
       "      <td>NaN</td>\n",
       "      <td>42.0</td>\n",
       "    </tr>\n",
       "    <tr>\n",
       "      <th>18288</th>\n",
       "      <td>NaN</td>\n",
       "      <td>8</td>\n",
       "      <td>1300000.0</td>\n",
       "      <td>31.00</td>\n",
       "      <td>2017-02-20T00:00:00</td>\n",
       "      <td>1</td>\n",
       "      <td>NaN</td>\n",
       "      <td>4.0</td>\n",
       "      <td>17.00</td>\n",
       "      <td>4</td>\n",
       "      <td>...</td>\n",
       "      <td>6.00</td>\n",
       "      <td>0.0</td>\n",
       "      <td>поселок городского типа Дубровка</td>\n",
       "      <td>NaN</td>\n",
       "      <td>NaN</td>\n",
       "      <td>NaN</td>\n",
       "      <td>NaN</td>\n",
       "      <td>NaN</td>\n",
       "      <td>NaN</td>\n",
       "      <td>34.0</td>\n",
       "    </tr>\n",
       "  </tbody>\n",
       "</table>\n",
       "<p>20 rows × 24 columns</p>\n",
       "</div>"
      ],
      "text/plain": [
       "      building_series_id  total_images  last_price  total_area  \\\n",
       "9524                 NaN            10   6500000.0       66.00   \n",
       "8639           1564812.0             6   1300000.0       62.00   \n",
       "3052                 NaN            15   5400000.0       46.50   \n",
       "18272                NaN             8   6000000.0       36.00   \n",
       "10628                NaN             3   8500000.0       92.30   \n",
       "11480                NaN             3   4090000.0       47.72   \n",
       "8297           1564792.0            10   6000000.0       55.70   \n",
       "3482                 NaN            10   4200000.0       42.00   \n",
       "11906          1568734.0            11   3350000.0       43.00   \n",
       "15852          1568627.0             5   4500000.0       46.30   \n",
       "9399             1564812            11   7650000.0       57.00   \n",
       "11181                NaN            10   2100000.0       58.70   \n",
       "21621                NaN             8   4900000.0       76.70   \n",
       "21468                NaN             5   3195000.0       35.05   \n",
       "9457                 NaN            12   4550000.0       48.40   \n",
       "11308         Сталинский             1   8999000.0       80.00   \n",
       "23074                NaN            13   5000000.0       50.00   \n",
       "3099                 NaN            15   4900000.0       46.90   \n",
       "23467                NaN            12   3180000.0       42.10   \n",
       "18288                NaN             8   1300000.0       31.00   \n",
       "\n",
       "      first_day_exposition  rooms  ceiling_height  floors_total  living_area  \\\n",
       "9524   2016-02-17T00:00:00      2            3.10           5.0        33.90   \n",
       "8639   2018-10-03T00:00:00      3            2.55           5.0        52.00   \n",
       "3052   2016-04-06T00:00:00      1            2.70          12.0        16.30   \n",
       "18272  2017-09-28T00:00:00      1            3.10           9.0        17.60   \n",
       "10628  2017-07-13T00:00:00      3            3.00           5.0        55.20   \n",
       "11480  2018-11-27T00:00:00      1             NaN          22.0        13.92   \n",
       "8297   2019-04-08T00:00:00      2            2.65          16.0        32.70   \n",
       "3482   2018-02-08T00:00:00      2            2.50           5.0        28.00   \n",
       "11906  2018-02-12T00:00:00      3            2.50           5.0        31.00   \n",
       "15852  2018-02-19T00:00:00      2            2.50           9.0          NaN   \n",
       "9399   2019-03-08T00:00:00      2            2.56          10.0        30.00   \n",
       "11181  2018-01-18T00:00:00      3            2.50           9.0        42.00   \n",
       "21621  2016-05-27T00:00:00      4             NaN           9.0        46.90   \n",
       "21468  2016-02-25T00:00:00      1            2.70          25.0        17.35   \n",
       "9457   2017-04-27T00:00:00      4            2.50           5.0        37.70   \n",
       "11308  2017-01-21T00:00:00      3             NaN           5.0        56.00   \n",
       "23074  2015-06-26T00:00:00      2             NaN           9.0        31.20   \n",
       "3099   2018-02-12T00:00:00      1             NaN          20.0          NaN   \n",
       "23467  2018-10-16T00:00:00      1            2.75          12.0        17.11   \n",
       "18288  2017-02-20T00:00:00      1             NaN           4.0        17.00   \n",
       "\n",
       "       floor  ... kitchen_area  balcony                     locality_name  \\\n",
       "9524       5  ...         7.80      0.0                   Санкт-Петербург   \n",
       "8639       1  ...         6.00      NaN                        Подпорожье   \n",
       "3052      11  ...        17.40      5.0                   Санкт-Петербург   \n",
       "18272      6  ...         8.30      1.0                   Санкт-Петербург   \n",
       "10628      1  ...        14.60      NaN                   Санкт-Петербург   \n",
       "11480     12  ...        23.28      NaN                   Санкт-Петербург   \n",
       "8297      16  ...        10.00      1.0                   Санкт-Петербург   \n",
       "3482       2  ...         6.50      NaN                   Санкт-Петербург   \n",
       "11906      2  ...         5.40      NaN                   Санкт-Петербург   \n",
       "15852      4  ...          NaN      NaN                   Санкт-Петербург   \n",
       "9399       7  ...         9.00      3.0                   Санкт-Петербург   \n",
       "11181      1  ...         8.00      NaN                        Светогорск   \n",
       "21621      1  ...         7.60      0.0                   Санкт-Петербург   \n",
       "21468      9  ...         9.18      0.0                   деревня Кудрово   \n",
       "9457       2  ...         5.50      0.0                   Санкт-Петербург   \n",
       "11308      1  ...         9.00      0.0                   Санкт-Петербург   \n",
       "23074      8  ...         6.00      1.0                   Санкт-Петербург   \n",
       "3099       8  ...          NaN      NaN                   Санкт-Петербург   \n",
       "23467      5  ...        13.55      NaN                        Всеволожск   \n",
       "18288      4  ...         6.00      0.0  поселок городского типа Дубровка   \n",
       "\n",
       "       airports_nearest  cityCenters_nearest  parks_around3000 parks_nearest  \\\n",
       "9524            29348.0               5967.0               1.0         240.0   \n",
       "8639                NaN                  NaN               NaN           NaN   \n",
       "3052            34201.0              14069.0               0.0           NaN   \n",
       "18272           32106.0               5065.0               0.0           NaN   \n",
       "10628           24238.0               3805.0               1.0         887.0   \n",
       "11480           16795.0              15591.0               0.0           NaN   \n",
       "8297            20558.0              22271.0               0.0           NaN   \n",
       "3482            21225.0              14930.0               1.0         763.0   \n",
       "11906           13984.0              15063.0               1.0         622.0   \n",
       "15852           10493.0              14859.0               0.0           NaN   \n",
       "9399            12896.0              12430.0               1.0         719.0   \n",
       "11181               NaN                  NaN               NaN           NaN   \n",
       "21621           21190.0              22902.0               0.0           NaN   \n",
       "21468               NaN                  NaN               NaN           NaN   \n",
       "9457            12274.0              12818.0               0.0           NaN   \n",
       "11308           39119.0              10822.0               0.0           NaN   \n",
       "23074           35853.0              10522.0               0.0           NaN   \n",
       "3099            33386.0              14234.0               0.0           NaN   \n",
       "23467               NaN                  NaN               NaN           NaN   \n",
       "18288               NaN                  NaN               NaN           NaN   \n",
       "\n",
       "       ponds_around3000  ponds_nearest  days_exposition  \n",
       "9524                1.0          852.0            139.0  \n",
       "8639                NaN            NaN            182.0  \n",
       "3052                0.0            NaN            139.0  \n",
       "18272               2.0          471.0             29.0  \n",
       "10628               3.0          307.0            194.0  \n",
       "11480               1.0          936.0             20.0  \n",
       "8297                0.0            NaN              NaN  \n",
       "3482                2.0          751.0             45.0  \n",
       "11906               0.0            NaN             86.0  \n",
       "15852               1.0          734.0             57.0  \n",
       "9399                1.0           26.0              NaN  \n",
       "11181               NaN            NaN              NaN  \n",
       "21621               1.0          450.0            168.0  \n",
       "21468               NaN            NaN            602.0  \n",
       "9457                0.0            NaN            156.0  \n",
       "11308               0.0            NaN             81.0  \n",
       "23074               1.0          684.0            563.0  \n",
       "3099                0.0            NaN            105.0  \n",
       "23467               NaN            NaN             42.0  \n",
       "18288               NaN            NaN             34.0  \n",
       "\n",
       "[20 rows x 24 columns]"
      ]
     },
     "execution_count": 931,
     "metadata": {},
     "output_type": "execute_result"
    }
   ],
   "source": [
    "data.sample(20)"
   ]
  },
  {
   "cell_type": "code",
   "execution_count": 932,
   "metadata": {
    "scrolled": true
   },
   "outputs": [
    {
     "data": {
      "text/html": [
       "<div>\n",
       "<style scoped>\n",
       "    .dataframe tbody tr th:only-of-type {\n",
       "        vertical-align: middle;\n",
       "    }\n",
       "\n",
       "    .dataframe tbody tr th {\n",
       "        vertical-align: top;\n",
       "    }\n",
       "\n",
       "    .dataframe thead th {\n",
       "        text-align: right;\n",
       "    }\n",
       "</style>\n",
       "<table border=\"1\" class=\"dataframe\">\n",
       "  <thead>\n",
       "    <tr style=\"text-align: right;\">\n",
       "      <th></th>\n",
       "      <th>building_series_id</th>\n",
       "      <th>total_images</th>\n",
       "      <th>last_price</th>\n",
       "      <th>total_area</th>\n",
       "      <th>first_day_exposition</th>\n",
       "      <th>rooms</th>\n",
       "      <th>ceiling_height</th>\n",
       "      <th>floors_total</th>\n",
       "      <th>living_area</th>\n",
       "      <th>floor</th>\n",
       "      <th>...</th>\n",
       "      <th>kitchen_area</th>\n",
       "      <th>balcony</th>\n",
       "      <th>locality_name</th>\n",
       "      <th>airports_nearest</th>\n",
       "      <th>cityCenters_nearest</th>\n",
       "      <th>parks_around3000</th>\n",
       "      <th>parks_nearest</th>\n",
       "      <th>ponds_around3000</th>\n",
       "      <th>ponds_nearest</th>\n",
       "      <th>days_exposition</th>\n",
       "    </tr>\n",
       "  </thead>\n",
       "  <tbody>\n",
       "    <tr>\n",
       "      <th>23694</th>\n",
       "      <td>1564812.0</td>\n",
       "      <td>9</td>\n",
       "      <td>9700000.0</td>\n",
       "      <td>133.81</td>\n",
       "      <td>2017-03-21T00:00:00</td>\n",
       "      <td>3</td>\n",
       "      <td>3.7</td>\n",
       "      <td>5.0</td>\n",
       "      <td>73.3</td>\n",
       "      <td>3</td>\n",
       "      <td>...</td>\n",
       "      <td>13.83</td>\n",
       "      <td>NaN</td>\n",
       "      <td>Санкт-Петербург</td>\n",
       "      <td>24665.0</td>\n",
       "      <td>4232.0</td>\n",
       "      <td>1.0</td>\n",
       "      <td>796.0</td>\n",
       "      <td>3.0</td>\n",
       "      <td>381.0</td>\n",
       "      <td>NaN</td>\n",
       "    </tr>\n",
       "    <tr>\n",
       "      <th>23695</th>\n",
       "      <td>NaN</td>\n",
       "      <td>14</td>\n",
       "      <td>3100000.0</td>\n",
       "      <td>59.00</td>\n",
       "      <td>2018-01-15T00:00:00</td>\n",
       "      <td>3</td>\n",
       "      <td>NaN</td>\n",
       "      <td>5.0</td>\n",
       "      <td>38.0</td>\n",
       "      <td>4</td>\n",
       "      <td>...</td>\n",
       "      <td>8.50</td>\n",
       "      <td>NaN</td>\n",
       "      <td>Тосно</td>\n",
       "      <td>NaN</td>\n",
       "      <td>NaN</td>\n",
       "      <td>NaN</td>\n",
       "      <td>NaN</td>\n",
       "      <td>NaN</td>\n",
       "      <td>NaN</td>\n",
       "      <td>45.0</td>\n",
       "    </tr>\n",
       "    <tr>\n",
       "      <th>23696</th>\n",
       "      <td>NaN</td>\n",
       "      <td>18</td>\n",
       "      <td>2500000.0</td>\n",
       "      <td>56.70</td>\n",
       "      <td>2018-02-11T00:00:00</td>\n",
       "      <td>2</td>\n",
       "      <td>NaN</td>\n",
       "      <td>3.0</td>\n",
       "      <td>29.7</td>\n",
       "      <td>1</td>\n",
       "      <td>...</td>\n",
       "      <td>NaN</td>\n",
       "      <td>NaN</td>\n",
       "      <td>село Рождествено</td>\n",
       "      <td>NaN</td>\n",
       "      <td>NaN</td>\n",
       "      <td>NaN</td>\n",
       "      <td>NaN</td>\n",
       "      <td>NaN</td>\n",
       "      <td>NaN</td>\n",
       "      <td>NaN</td>\n",
       "    </tr>\n",
       "    <tr>\n",
       "      <th>23697</th>\n",
       "      <td>NaN</td>\n",
       "      <td>13</td>\n",
       "      <td>11475000.0</td>\n",
       "      <td>76.75</td>\n",
       "      <td>2017-03-28T00:00:00</td>\n",
       "      <td>2</td>\n",
       "      <td>3.0</td>\n",
       "      <td>17.0</td>\n",
       "      <td>NaN</td>\n",
       "      <td>12</td>\n",
       "      <td>...</td>\n",
       "      <td>23.30</td>\n",
       "      <td>2.0</td>\n",
       "      <td>Санкт-Петербург</td>\n",
       "      <td>39140.0</td>\n",
       "      <td>10364.0</td>\n",
       "      <td>2.0</td>\n",
       "      <td>173.0</td>\n",
       "      <td>3.0</td>\n",
       "      <td>196.0</td>\n",
       "      <td>602.0</td>\n",
       "    </tr>\n",
       "    <tr>\n",
       "      <th>23698</th>\n",
       "      <td>NaN</td>\n",
       "      <td>4</td>\n",
       "      <td>1350000.0</td>\n",
       "      <td>32.30</td>\n",
       "      <td>2017-07-21T00:00:00</td>\n",
       "      <td>1</td>\n",
       "      <td>2.5</td>\n",
       "      <td>5.0</td>\n",
       "      <td>12.3</td>\n",
       "      <td>1</td>\n",
       "      <td>...</td>\n",
       "      <td>9.00</td>\n",
       "      <td>NaN</td>\n",
       "      <td>поселок Новый Учхоз</td>\n",
       "      <td>NaN</td>\n",
       "      <td>NaN</td>\n",
       "      <td>NaN</td>\n",
       "      <td>NaN</td>\n",
       "      <td>NaN</td>\n",
       "      <td>NaN</td>\n",
       "      <td>NaN</td>\n",
       "    </tr>\n",
       "  </tbody>\n",
       "</table>\n",
       "<p>5 rows × 24 columns</p>\n",
       "</div>"
      ],
      "text/plain": [
       "      building_series_id  total_images  last_price  total_area  \\\n",
       "23694          1564812.0             9   9700000.0      133.81   \n",
       "23695                NaN            14   3100000.0       59.00   \n",
       "23696                NaN            18   2500000.0       56.70   \n",
       "23697                NaN            13  11475000.0       76.75   \n",
       "23698                NaN             4   1350000.0       32.30   \n",
       "\n",
       "      first_day_exposition  rooms  ceiling_height  floors_total  living_area  \\\n",
       "23694  2017-03-21T00:00:00      3             3.7           5.0         73.3   \n",
       "23695  2018-01-15T00:00:00      3             NaN           5.0         38.0   \n",
       "23696  2018-02-11T00:00:00      2             NaN           3.0         29.7   \n",
       "23697  2017-03-28T00:00:00      2             3.0          17.0          NaN   \n",
       "23698  2017-07-21T00:00:00      1             2.5           5.0         12.3   \n",
       "\n",
       "       floor  ... kitchen_area  balcony        locality_name  \\\n",
       "23694      3  ...        13.83      NaN      Санкт-Петербург   \n",
       "23695      4  ...         8.50      NaN                Тосно   \n",
       "23696      1  ...          NaN      NaN     село Рождествено   \n",
       "23697     12  ...        23.30      2.0      Санкт-Петербург   \n",
       "23698      1  ...         9.00      NaN  поселок Новый Учхоз   \n",
       "\n",
       "       airports_nearest  cityCenters_nearest  parks_around3000 parks_nearest  \\\n",
       "23694           24665.0               4232.0               1.0         796.0   \n",
       "23695               NaN                  NaN               NaN           NaN   \n",
       "23696               NaN                  NaN               NaN           NaN   \n",
       "23697           39140.0              10364.0               2.0         173.0   \n",
       "23698               NaN                  NaN               NaN           NaN   \n",
       "\n",
       "       ponds_around3000  ponds_nearest  days_exposition  \n",
       "23694               3.0          381.0              NaN  \n",
       "23695               NaN            NaN             45.0  \n",
       "23696               NaN            NaN              NaN  \n",
       "23697               3.0          196.0            602.0  \n",
       "23698               NaN            NaN              NaN  \n",
       "\n",
       "[5 rows x 24 columns]"
      ]
     },
     "execution_count": 932,
     "metadata": {},
     "output_type": "execute_result"
    }
   ],
   "source": [
    "data.tail()"
   ]
  },
  {
   "cell_type": "markdown",
   "metadata": {},
   "source": [
    "В таблице много пропусков, и не все из них можно заполнить правдоподобными значениями, которые не исказят датасет. Например, вряд ли получится с помощью простых расчетов в pandas корректно заполнить недостающие расстояния до прудов, парков, аэропортов и центров городов. Или сериии домов. Если все строки с пропущенными значениями удалить, от датасета ничего не останется в прямом смысле. Если заполнить пропуски техническими значениями (допустим, -1), исказятся многие расчеты. Если оставить все как есть, не будут строиться некоторые графики (например, `boxplot`). Но последнюю проблему можно обойти, если строить график по срезу. Поэтому пропуски в столбцах типа `object` заполним словом 'неизвестно', а численные столбцы оставим как есть. Недостающие данные в `living_area` и `kitchen_area` можно было бы восстановить, опираясь на `total_area`, но данных во всех столбцах хватает и так, поэтому делать этого не будем.\n",
    "\n",
    "Некоторые крайние значения явно ошибочны. Это касается минимального и максимального в `ceiling_height`, минимального в `last_price`. Их нужно отсеять в ходе предобработки.\n",
    "\n",
    "Другие выглядят хоть и правдоподобно, но подозрительно: например, максимальное в `kitchen_area`. В задании сказано, что нас интересуют \"типичные\" параметры продаваемых квартир, поэтому эти выбросы мы учитывать не будем, но не станем и удалять их (на случай если они пригодятся для другого исследования), а отфильтруем на этапе анализа."
   ]
  },
  {
   "cell_type": "markdown",
   "metadata": {},
   "source": [
    "### <font color='green'>Комментарий от наставника 2\n",
    "Лайк!"
   ]
  },
  {
   "cell_type": "markdown",
   "metadata": {},
   "source": [
    "### Предобработка данных <span style=\"color:green;font-size:200%\">&#10003;</span>"
   ]
  },
  {
   "cell_type": "markdown",
   "metadata": {},
   "source": [
    "В датасете есть два столбца, значения в которых на вид одинаковые. Проверим, совпадают ли они полностью, и если да, один из столбцов удалим."
   ]
  },
  {
   "cell_type": "code",
   "execution_count": 933,
   "metadata": {},
   "outputs": [
    {
     "data": {
      "text/plain": [
       "True"
      ]
     },
     "execution_count": 933,
     "metadata": {},
     "output_type": "execute_result"
    }
   ],
   "source": [
    "data['total_area'].equals(data['area'])"
   ]
  },
  {
   "cell_type": "code",
   "execution_count": 934,
   "metadata": {},
   "outputs": [],
   "source": [
    "data.drop(columns='area', inplace=True)"
   ]
  },
  {
   "cell_type": "markdown",
   "metadata": {},
   "source": [
    "Преобразуем данные в столбце с датой выставления квартиры на продажу в формат `datetime`."
   ]
  },
  {
   "cell_type": "code",
   "execution_count": 935,
   "metadata": {},
   "outputs": [],
   "source": [
    "data['first_day_exposition'] = pd.to_datetime(data['first_day_exposition'])"
   ]
  },
  {
   "cell_type": "markdown",
   "metadata": {},
   "source": [
    "Судя по названию, столбец `is_apartment` должен содержать данные булева типа, но почему-то там `object`. Посмотрим, какие значения в нем встречаются, и если догадка верна, преобразуем в `bool`, исходя из того, что пропуски соответствуют значению `False` (предположим, что в несовершенном пользовательском интерфейсе была не одна галочка, которой можно было обозначить, что квартира относится к типу апартаментов, а два поля -- да, апартаменты и нет, не апартаменты, и владельцы обычных квартир при заполнении анкеты просто игнорировали оба)."
   ]
  },
  {
   "cell_type": "code",
   "execution_count": 936,
   "metadata": {},
   "outputs": [
    {
     "data": {
      "text/plain": [
       "array([nan, False, True], dtype=object)"
      ]
     },
     "execution_count": 936,
     "metadata": {},
     "output_type": "execute_result"
    }
   ],
   "source": [
    "data.is_apartment.unique()"
   ]
  },
  {
   "cell_type": "code",
   "execution_count": 937,
   "metadata": {},
   "outputs": [
    {
     "data": {
      "text/plain": [
       "array([False,  True])"
      ]
     },
     "execution_count": 937,
     "metadata": {},
     "output_type": "execute_result"
    }
   ],
   "source": [
    "data.is_apartment.fillna(0, inplace=True)\n",
    "data.is_apartment = data.is_apartment.astype('bool')\n",
    "data.is_apartment.unique()"
   ]
  },
  {
   "cell_type": "markdown",
   "metadata": {},
   "source": [
    "Очистим датасет от возможных дубликатов и приведем все строковые столбцы к нижнему регистру."
   ]
  },
  {
   "cell_type": "code",
   "execution_count": 938,
   "metadata": {},
   "outputs": [],
   "source": [
    "data = data.drop_duplicates()\n",
    "data.building_series_id = data.building_series_id.str.lower()\n",
    "data.locality_name = data.locality_name.str.lower()"
   ]
  },
  {
   "cell_type": "markdown",
   "metadata": {},
   "source": [
    "Предположим, что пропущенные значения в столбце `balcony` имеют ту же природу, что и в столбце `is_apartment`, и их корректно заполнить нулями."
   ]
  },
  {
   "cell_type": "code",
   "execution_count": 939,
   "metadata": {},
   "outputs": [],
   "source": [
    "data.balcony.fillna(0, inplace=True)"
   ]
  },
  {
   "cell_type": "markdown",
   "metadata": {},
   "source": [
    "Очистим `last_price` от явно ошибочных значений. Для этого отсортируем таблицу по этому столбцу."
   ]
  },
  {
   "cell_type": "code",
   "execution_count": 940,
   "metadata": {},
   "outputs": [
    {
     "data": {
      "text/html": [
       "<div>\n",
       "<style scoped>\n",
       "    .dataframe tbody tr th:only-of-type {\n",
       "        vertical-align: middle;\n",
       "    }\n",
       "\n",
       "    .dataframe tbody tr th {\n",
       "        vertical-align: top;\n",
       "    }\n",
       "\n",
       "    .dataframe thead th {\n",
       "        text-align: right;\n",
       "    }\n",
       "</style>\n",
       "<table border=\"1\" class=\"dataframe\">\n",
       "  <thead>\n",
       "    <tr style=\"text-align: right;\">\n",
       "      <th></th>\n",
       "      <th>building_series_id</th>\n",
       "      <th>total_images</th>\n",
       "      <th>last_price</th>\n",
       "      <th>total_area</th>\n",
       "      <th>first_day_exposition</th>\n",
       "      <th>rooms</th>\n",
       "      <th>ceiling_height</th>\n",
       "      <th>floors_total</th>\n",
       "      <th>living_area</th>\n",
       "      <th>floor</th>\n",
       "      <th>...</th>\n",
       "      <th>kitchen_area</th>\n",
       "      <th>balcony</th>\n",
       "      <th>locality_name</th>\n",
       "      <th>airports_nearest</th>\n",
       "      <th>cityCenters_nearest</th>\n",
       "      <th>parks_around3000</th>\n",
       "      <th>parks_nearest</th>\n",
       "      <th>ponds_around3000</th>\n",
       "      <th>ponds_nearest</th>\n",
       "      <th>days_exposition</th>\n",
       "    </tr>\n",
       "  </thead>\n",
       "  <tbody>\n",
       "    <tr>\n",
       "      <th>8793</th>\n",
       "      <td>1564812.0</td>\n",
       "      <td>7</td>\n",
       "      <td>12190.0</td>\n",
       "      <td>109.0</td>\n",
       "      <td>2019-03-20</td>\n",
       "      <td>2</td>\n",
       "      <td>2.75</td>\n",
       "      <td>25.0</td>\n",
       "      <td>32.0</td>\n",
       "      <td>25</td>\n",
       "      <td>...</td>\n",
       "      <td>40.5</td>\n",
       "      <td>0.0</td>\n",
       "      <td>санкт-петербург</td>\n",
       "      <td>36421.0</td>\n",
       "      <td>9176.0</td>\n",
       "      <td>1.0</td>\n",
       "      <td>805.0</td>\n",
       "      <td>0.0</td>\n",
       "      <td>NaN</td>\n",
       "      <td>8.0</td>\n",
       "    </tr>\n",
       "    <tr>\n",
       "      <th>17456</th>\n",
       "      <td>NaN</td>\n",
       "      <td>7</td>\n",
       "      <td>430000.0</td>\n",
       "      <td>30.4</td>\n",
       "      <td>2019-04-22</td>\n",
       "      <td>1</td>\n",
       "      <td>NaN</td>\n",
       "      <td>2.0</td>\n",
       "      <td>16.0</td>\n",
       "      <td>1</td>\n",
       "      <td>...</td>\n",
       "      <td>6.0</td>\n",
       "      <td>0.0</td>\n",
       "      <td>сланцы</td>\n",
       "      <td>NaN</td>\n",
       "      <td>NaN</td>\n",
       "      <td>NaN</td>\n",
       "      <td>NaN</td>\n",
       "      <td>NaN</td>\n",
       "      <td>NaN</td>\n",
       "      <td>NaN</td>\n",
       "    </tr>\n",
       "    <tr>\n",
       "      <th>14911</th>\n",
       "      <td>NaN</td>\n",
       "      <td>5</td>\n",
       "      <td>430000.0</td>\n",
       "      <td>54.0</td>\n",
       "      <td>2018-06-26</td>\n",
       "      <td>2</td>\n",
       "      <td>NaN</td>\n",
       "      <td>3.0</td>\n",
       "      <td>NaN</td>\n",
       "      <td>3</td>\n",
       "      <td>...</td>\n",
       "      <td>NaN</td>\n",
       "      <td>0.0</td>\n",
       "      <td>посёлок станции свирь</td>\n",
       "      <td>NaN</td>\n",
       "      <td>NaN</td>\n",
       "      <td>NaN</td>\n",
       "      <td>NaN</td>\n",
       "      <td>NaN</td>\n",
       "      <td>NaN</td>\n",
       "      <td>44.0</td>\n",
       "    </tr>\n",
       "    <tr>\n",
       "      <th>16274</th>\n",
       "      <td>NaN</td>\n",
       "      <td>18</td>\n",
       "      <td>440000.0</td>\n",
       "      <td>40.0</td>\n",
       "      <td>2018-07-10</td>\n",
       "      <td>1</td>\n",
       "      <td>NaN</td>\n",
       "      <td>5.0</td>\n",
       "      <td>NaN</td>\n",
       "      <td>1</td>\n",
       "      <td>...</td>\n",
       "      <td>NaN</td>\n",
       "      <td>0.0</td>\n",
       "      <td>деревня старополье</td>\n",
       "      <td>NaN</td>\n",
       "      <td>NaN</td>\n",
       "      <td>NaN</td>\n",
       "      <td>NaN</td>\n",
       "      <td>NaN</td>\n",
       "      <td>NaN</td>\n",
       "      <td>45.0</td>\n",
       "    </tr>\n",
       "    <tr>\n",
       "      <th>17676</th>\n",
       "      <td>NaN</td>\n",
       "      <td>0</td>\n",
       "      <td>450000.0</td>\n",
       "      <td>36.5</td>\n",
       "      <td>2018-02-01</td>\n",
       "      <td>1</td>\n",
       "      <td>NaN</td>\n",
       "      <td>5.0</td>\n",
       "      <td>17.3</td>\n",
       "      <td>4</td>\n",
       "      <td>...</td>\n",
       "      <td>8.5</td>\n",
       "      <td>1.0</td>\n",
       "      <td>деревня ям-тесово</td>\n",
       "      <td>NaN</td>\n",
       "      <td>NaN</td>\n",
       "      <td>NaN</td>\n",
       "      <td>NaN</td>\n",
       "      <td>NaN</td>\n",
       "      <td>NaN</td>\n",
       "      <td>120.0</td>\n",
       "    </tr>\n",
       "  </tbody>\n",
       "</table>\n",
       "<p>5 rows × 23 columns</p>\n",
       "</div>"
      ],
      "text/plain": [
       "      building_series_id  total_images  last_price  total_area  \\\n",
       "8793           1564812.0             7     12190.0       109.0   \n",
       "17456                NaN             7    430000.0        30.4   \n",
       "14911                NaN             5    430000.0        54.0   \n",
       "16274                NaN            18    440000.0        40.0   \n",
       "17676                NaN             0    450000.0        36.5   \n",
       "\n",
       "      first_day_exposition  rooms  ceiling_height  floors_total  living_area  \\\n",
       "8793            2019-03-20      2            2.75          25.0         32.0   \n",
       "17456           2019-04-22      1             NaN           2.0         16.0   \n",
       "14911           2018-06-26      2             NaN           3.0          NaN   \n",
       "16274           2018-07-10      1             NaN           5.0          NaN   \n",
       "17676           2018-02-01      1             NaN           5.0         17.3   \n",
       "\n",
       "       floor  ...  kitchen_area  balcony          locality_name  \\\n",
       "8793      25  ...          40.5      0.0        санкт-петербург   \n",
       "17456      1  ...           6.0      0.0                 сланцы   \n",
       "14911      3  ...           NaN      0.0  посёлок станции свирь   \n",
       "16274      1  ...           NaN      0.0     деревня старополье   \n",
       "17676      4  ...           8.5      1.0      деревня ям-тесово   \n",
       "\n",
       "       airports_nearest  cityCenters_nearest parks_around3000  parks_nearest  \\\n",
       "8793            36421.0               9176.0              1.0          805.0   \n",
       "17456               NaN                  NaN              NaN            NaN   \n",
       "14911               NaN                  NaN              NaN            NaN   \n",
       "16274               NaN                  NaN              NaN            NaN   \n",
       "17676               NaN                  NaN              NaN            NaN   \n",
       "\n",
       "       ponds_around3000  ponds_nearest  days_exposition  \n",
       "8793                0.0            NaN              8.0  \n",
       "17456               NaN            NaN              NaN  \n",
       "14911               NaN            NaN             44.0  \n",
       "16274               NaN            NaN             45.0  \n",
       "17676               NaN            NaN            120.0  \n",
       "\n",
       "[5 rows x 23 columns]"
      ]
     },
     "execution_count": 940,
     "metadata": {},
     "output_type": "execute_result"
    }
   ],
   "source": [
    "data.sort_values(by='last_price').head()"
   ]
  },
  {
   "cell_type": "markdown",
   "metadata": {},
   "source": [
    "Явно ошибочное (или сознательно искаженное) значение обнаружилось только одно: это двушка площадью больше ста квадратных метров за 12 тыс. рублей. Возможно, кто-то пытался таким образом поднять свое объявление в поисковой выдаче. Удалим эту строку из датасета и посмотрим, что там с высотой потолков."
   ]
  },
  {
   "cell_type": "code",
   "execution_count": 941,
   "metadata": {},
   "outputs": [
    {
     "data": {
      "text/plain": [
       "<matplotlib.axes._subplots.AxesSubplot at 0x7f7328d55ba8>"
      ]
     },
     "execution_count": 941,
     "metadata": {},
     "output_type": "execute_result"
    },
    {
     "data": {
      "image/png": "[encoded data removed]",
      "text/plain": [
       "<Figure size 432x288 with 1 Axes>"
      ]
     },
     "metadata": {
      "needs_background": "light"
     },
     "output_type": "display_data"
    }
   ],
   "source": [
    "data.drop(labels=8793, inplace=True)\n",
    "data.boxplot('ceiling_height')"
   ]
  },
  {
   "cell_type": "markdown",
   "metadata": {},
   "source": [
    "На отшибе оказался тот самый 100-метровый потолок, который мы видели еще при первом вызове `describe()`. Есть и другие выбросы, но они не похожи на ошибочные значения (может быть, под жилье продают какие-нибудь заводские помещения или дворцы с потолками по 30 м), поэтому их удалять их не будем. Посмотрим на аномальные значения снизу."
   ]
  },
  {
   "cell_type": "code",
   "execution_count": 942,
   "metadata": {},
   "outputs": [
    {
     "data": {
      "text/plain": [
       "(0, 4)"
      ]
     },
     "execution_count": 942,
     "metadata": {},
     "output_type": "execute_result"
    },
    {
     "data": {
      "image/png": "[encoded data removed]",
      "text/plain": [
       "<Figure size 432x288 with 1 Axes>"
      ]
     },
     "metadata": {
      "needs_background": "light"
     },
     "output_type": "display_data"
    }
   ],
   "source": [
    "data.boxplot('ceiling_height')\n",
    "plt.ylim(0, 4)"
   ]
  },
  {
   "cell_type": "markdown",
   "metadata": {},
   "source": [
    "Значения ниже нижнего уса явно ошибочные. Удалим их и строку квартиры со 100-метровым потолком."
   ]
  },
  {
   "cell_type": "code",
   "execution_count": 943,
   "metadata": {},
   "outputs": [],
   "source": [
    "data = data.query('ceiling_height != 100 or ceiling_height > 2.2')"
   ]
  },
  {
   "cell_type": "markdown",
   "metadata": {},
   "source": [
    "Добавим в таблицу несколько столбцов, которые пригодятся нам для дальнейшего анализа."
   ]
  },
  {
   "cell_type": "code",
   "execution_count": 944,
   "metadata": {},
   "outputs": [],
   "source": [
    "data['price_per_meter'] = data.apply(lambda row: row.last_price / row.total_area, axis=1) # цена за квадратный метр\n",
    "data['weekday_posted'] = data.first_day_exposition.dt.weekday # в какой день недели была выставлена на продажу\n",
    "data['month_posted'] = data.first_day_exposition.dt.month # ...месяц...\n",
    "data['year_posted'] = data.first_day_exposition.dt.year # ...год...\n",
    "data['living_total_ratio'] = data.apply(lambda row: row.living_area / row.total_area, axis=1) # жилая площадь к общей\n",
    "data['kitchen_total_ratio'] = data.apply(lambda row: row.kitchen_area / row.total_area, axis=1) # кухонная площадь к общей\n",
    "\n",
    "\n",
    "def define_floor_type(row):\n",
    "    if row['floor'] == 1:\n",
    "        return 'первый'\n",
    "    # если дом одноэтажный, будем считать, что квартира в нем находится на первом этаже, а не на последнем\n",
    "    if (row['floors_total'] > 1) & (row['floors_total'] - row['floor'] == 0):\n",
    "        return 'последний'\n",
    "    return 'другой'\n",
    "\n",
    "\n",
    "data['floor_type'] = data.apply(define_floor_type, axis=1) # тип этажа -- первый, последний или ни то, ни то"
   ]
  },
  {
   "cell_type": "markdown",
   "metadata": {},
   "source": [
    "Сделаем перекрестную проверку данных о расстояниях до парков/прудов и их численности, а также о площадях и этажности, чтобы убедиться, что в данных нет противоречий. <span style=\"color:green;font-size:200%\">&#10003;</span>"
   ]
  },
  {
   "cell_type": "code",
   "execution_count": 945,
   "metadata": {},
   "outputs": [
    {
     "name": "stdout",
     "output_type": "stream",
     "text": [
      "0\n",
      "0\n",
      "0\n",
      "0\n",
      "0\n",
      "0\n",
      "0\n"
     ]
    }
   ],
   "source": [
    "print(len(data.query('ponds_nearest <= 3000').query('ponds_around3000 < 1')))\n",
    "print(len(data.query('ponds_around3000 > 0').query('ponds_nearest > 3000')))\n",
    "print(len(data.query('parks_nearest <= 3000').query('parks_around3000 < 1')))\n",
    "print(len(data.query('parks_around3000 > 0').query('parks_nearest > 3000')))\n",
    "print(len(data.query('kitchen_area > total_area')))\n",
    "print(len(data.query('living_area > total_area')))\n",
    "print(len(data.query('floor > floors_total')))"
   ]
  },
  {
   "cell_type": "markdown",
   "metadata": {},
   "source": [
    "Осталось заполнить оставшиеся пропуски маркерами и переименовать ради единообразия один столбец -- и можно считать предобработку данных завершенной."
   ]
  },
  {
   "cell_type": "code",
   "execution_count": 946,
   "metadata": {},
   "outputs": [
    {
     "name": "stdout",
     "output_type": "stream",
     "text": [
      "<class 'pandas.core.frame.DataFrame'>\n",
      "Int64Index: 23698 entries, 0 to 23698\n",
      "Data columns (total 30 columns):\n",
      "building_series_id      23698 non-null object\n",
      "total_images            23698 non-null int64\n",
      "last_price              23698 non-null float64\n",
      "total_area              23698 non-null float64\n",
      "first_day_exposition    23698 non-null datetime64[ns]\n",
      "rooms                   23698 non-null int64\n",
      "ceiling_height          14503 non-null float64\n",
      "floors_total            23612 non-null float64\n",
      "living_area             21795 non-null float64\n",
      "floor                   23698 non-null int64\n",
      "apartment               23698 non-null bool\n",
      "studio                  23698 non-null bool\n",
      "open_plan               23698 non-null bool\n",
      "kitchen_area            21420 non-null float64\n",
      "balcony                 23698 non-null float64\n",
      "locality_name           23698 non-null object\n",
      "airports_nearest        18156 non-null float64\n",
      "cityCenters_nearest     18179 non-null float64\n",
      "parks_around3000        18180 non-null float64\n",
      "parks_nearest           8078 non-null float64\n",
      "ponds_around3000        18180 non-null float64\n",
      "ponds_nearest           9110 non-null float64\n",
      "days_exposition         20517 non-null float64\n",
      "price_per_meter         23698 non-null float64\n",
      "weekday_posted          23698 non-null int64\n",
      "month_posted            23698 non-null int64\n",
      "year_posted             23698 non-null int64\n",
      "living_total_ratio      21795 non-null float64\n",
      "kitchen_total_ratio     21420 non-null float64\n",
      "floor_type              23698 non-null object\n",
      "dtypes: bool(3), datetime64[ns](1), float64(17), int64(6), object(3)\n",
      "memory usage: 5.1+ MB\n"
     ]
    }
   ],
   "source": [
    "data.building_series_id.fillna('неизвестно', inplace=True)\n",
    "data.locality_name.fillna('неизвестно', inplace=True)\n",
    "data.rename(columns={'is_apartment': 'apartment'}, inplace=True)\n",
    "data.info()"
   ]
  },
  {
   "cell_type": "markdown",
   "metadata": {},
   "source": [
    "### <font color='red'>Комментарий от наставника 3\n",
    "Очень хорошо! Единственное, я бы ещё привела явно целочисленные параметры (такие как floors_total и ponds_around3000) к типу int."
   ]
  },
  {
   "cell_type": "markdown",
   "metadata": {},
   "source": [
    "### Анализ данных"
   ]
  },
  {
   "cell_type": "markdown",
   "metadata": {},
   "source": [
    "Нам нужно выделить типичные значения наиболее важных параметров продаваемых квартир -- цены (абсолютной и в пересчете на квадратный метр), общей площади, количества комнат. Для этого построим диаграмму размаха для каждого значимого параметра и отфильтруем исходный датасет, исключая из него выбросы.\n",
    "\n",
    "Начнем с `last price`."
   ]
  },
  {
   "cell_type": "code",
   "execution_count": 947,
   "metadata": {},
   "outputs": [
    {
     "data": {
      "text/plain": [
       "23698"
      ]
     },
     "execution_count": 947,
     "metadata": {},
     "output_type": "execute_result"
    }
   ],
   "source": [
    "data_filtered = data\n",
    "len(data_filtered)"
   ]
  },
  {
   "cell_type": "code",
   "execution_count": 948,
   "metadata": {},
   "outputs": [
    {
     "data": {
      "image/png": "[encoded data removed]",
      "text/plain": [
       "<Figure size 432x288 with 1 Axes>"
      ]
     },
     "metadata": {
      "needs_background": "light"
     },
     "output_type": "display_data"
    },
    {
     "name": "stdout",
     "output_type": "stream",
     "text": [
      "Нормальные значения: от 430000.0 до 11900000.0\n",
      "В датасете осталось 21635 строк\n"
     ]
    },
    {
     "name": "stderr",
     "output_type": "stream",
     "text": [
      "/opt/conda/lib/python3.7/site-packages/pandas/core/ops.py:1649: FutureWarning: elementwise comparison failed; returning scalar instead, but in the future will perform elementwise comparison\n",
      "  result = method(y)\n"
     ]
    },
    {
     "data": {
      "image/png": "[encoded data removed]",
      "text/plain": [
       "<Figure size 432x288 with 1 Axes>"
      ]
     },
     "metadata": {
      "needs_background": "light"
     },
     "output_type": "display_data"
    },
    {
     "name": "stdout",
     "output_type": "stream",
     "text": [
      "Нормальные значения: от 22490.093648914597 до 161110.77331405098\n",
      "В датасете осталось 21093 строк\n"
     ]
    },
    {
     "name": "stderr",
     "output_type": "stream",
     "text": [
      "/opt/conda/lib/python3.7/site-packages/pandas/core/ops.py:1649: FutureWarning: elementwise comparison failed; returning scalar instead, but in the future will perform elementwise comparison\n",
      "  result = method(y)\n"
     ]
    },
    {
     "data": {
      "image/png": "[encoded data removed]",
      "text/plain": [
       "<Figure size 432x288 with 1 Axes>"
      ]
     },
     "metadata": {
      "needs_background": "light"
     },
     "output_type": "display_data"
    },
    {
     "name": "stdout",
     "output_type": "stream",
     "text": [
      "Нормальные значения: от 13.0 до 101.5\n",
      "В датасете осталось 20681 строк\n"
     ]
    },
    {
     "name": "stderr",
     "output_type": "stream",
     "text": [
      "/opt/conda/lib/python3.7/site-packages/pandas/core/ops.py:1649: FutureWarning: elementwise comparison failed; returning scalar instead, but in the future will perform elementwise comparison\n",
      "  result = method(y)\n"
     ]
    },
    {
     "data": {
      "image/png": "[encoded data removed]",
      "text/plain": [
       "<Figure size 432x288 with 1 Axes>"
      ]
     },
     "metadata": {
      "needs_background": "light"
     },
     "output_type": "display_data"
    },
    {
     "name": "stdout",
     "output_type": "stream",
     "text": [
      "Нормальные значения: от 0 до 6.0\n",
      "В датасете осталось 20488 строк\n"
     ]
    },
    {
     "name": "stderr",
     "output_type": "stream",
     "text": [
      "/opt/conda/lib/python3.7/site-packages/pandas/core/ops.py:1649: FutureWarning: elementwise comparison failed; returning scalar instead, but in the future will perform elementwise comparison\n",
      "  result = method(y)\n"
     ]
    },
    {
     "data": {
      "image/png": "[encoded data removed]",
      "text/plain": [
       "<Figure size 432x288 with 1 Axes>"
      ]
     },
     "metadata": {
      "needs_background": "light"
     },
     "output_type": "display_data"
    },
    {
     "name": "stdout",
     "output_type": "stream",
     "text": [
      "Нормальные значения: от 2.125 до 3.125\n",
      "В датасете осталось 11851 строк\n",
      "Было 23698\n",
      "Стало 11851\n"
     ]
    },
    {
     "name": "stderr",
     "output_type": "stream",
     "text": [
      "/opt/conda/lib/python3.7/site-packages/pandas/core/ops.py:1649: FutureWarning: elementwise comparison failed; returning scalar instead, but in the future will perform elementwise comparison\n",
      "  result = method(y)\n"
     ]
    }
   ],
   "source": [
    "def make_boxplot(df, num_cols):\n",
    "    num_rows_before = len(df)\n",
    "    for num in num_cols:\n",
    "        col = df.columns[num]\n",
    "        q1 = df[col].describe()['25%']\n",
    "        q3 = df[col].describe()['75%']\n",
    "        upper_whisker = q3 + 1.5*(q3 - q1)\n",
    "        lower_whisker = q1 - 1.5*(q3 - q1)\n",
    "        if lower_whisker < 0:\n",
    "            lower_whisker = 0\n",
    "        if lower_whisker < df[col].min():\n",
    "            lower_whisker = df[col].min()\n",
    "        \n",
    "        df.boxplot(col)\n",
    "        plt.ylim(lower_whisker, upper_whisker)\n",
    "        plt.show()\n",
    "        print('Нормальные значения: от', lower_whisker, 'до', upper_whisker)\n",
    "        df = df.loc[((df[col] > lower_whisker) & (df[col] < upper_whisker)) | (df[col].isnull())]\n",
    "        print('В датасете осталось', len(df), 'строк')\n",
    "        \n",
    "    num_rows_after = df.shape[0]\n",
    "    print('Было', num_rows_before)\n",
    "    print('Стало', num_rows_after)\n",
    "    return df\n",
    "#     print('Количество строк в датафрейме сократилось на', num_rows_before - num_rows_after)\n",
    "        \n",
    "\n",
    "        \n",
    "data_filtered = make_boxplot(data_filtered, [2, 23, 3, 5, 6])   "
   ]
  },
  {
   "cell_type": "code",
   "execution_count": 949,
   "metadata": {},
   "outputs": [
    {
     "data": {
      "text/plain": [
       "11851"
      ]
     },
     "execution_count": 949,
     "metadata": {},
     "output_type": "execute_result"
    }
   ],
   "source": [
    "len(data_filtered)"
   ]
  },
  {
   "cell_type": "code",
   "execution_count": 950,
   "metadata": {},
   "outputs": [
    {
     "data": {
      "text/plain": [
       "<matplotlib.axes._subplots.AxesSubplot at 0x7f73289cf6d8>"
      ]
     },
     "execution_count": 950,
     "metadata": {},
     "output_type": "execute_result"
    },
    {
     "data": {
      "image/png": "[encoded data removed]",
      "text/plain": [
       "<Figure size 432x288 with 1 Axes>"
      ]
     },
     "metadata": {
      "needs_background": "light"
     },
     "output_type": "display_data"
    }
   ],
   "source": [
    "data.boxplot('last_price')"
   ]
  },
  {
   "cell_type": "markdown",
   "metadata": {},
   "source": [
    "Видно, что медиана, да и весь ящик, в таком масштабе почти сливаются с нулем, а выше верхнего уса есть значительные выбросы. Скорректируем границу оси `y` таким образом, чтобы в поле зрения остался только ящик и усы."
   ]
  },
  {
   "cell_type": "code",
   "execution_count": 951,
   "metadata": {},
   "outputs": [
    {
     "data": {
      "text/plain": [
       "(400000, 12000000)"
      ]
     },
     "execution_count": 951,
     "metadata": {},
     "output_type": "execute_result"
    },
    {
     "data": {
      "image/png": "[encoded data removed]",
      "text/plain": [
       "<Figure size 432x288 with 1 Axes>"
      ]
     },
     "metadata": {
      "needs_background": "light"
     },
     "output_type": "display_data"
    }
   ],
   "source": [
    "data.boxplot('last_price')\n",
    "plt.ylim(400000,12000000)"
   ]
  },
  {
   "cell_type": "markdown",
   "metadata": {},
   "source": [
    "Стало ясно, что нужно убрать квартиры стоимостью менее 400 тыс. и более 12 млн. рублей. Чтобы не портить исходный датасет, создадим новый."
   ]
  },
  {
   "cell_type": "code",
   "execution_count": 952,
   "metadata": {},
   "outputs": [
    {
     "data": {
      "text/plain": [
       "21699"
      ]
     },
     "execution_count": 952,
     "metadata": {},
     "output_type": "execute_result"
    }
   ],
   "source": [
    "data_filtered = data.query('last_price > 400000 and last_price < 12000000')\n",
    "len(data_filtered)"
   ]
  },
  {
   "cell_type": "markdown",
   "metadata": {},
   "source": [
    "Теперь по тому же алгоритму обработаем остальные важные параметры."
   ]
  },
  {
   "cell_type": "code",
   "execution_count": 953,
   "metadata": {},
   "outputs": [
    {
     "data": {
      "text/plain": [
       "(22000, 162000)"
      ]
     },
     "execution_count": 953,
     "metadata": {},
     "output_type": "execute_result"
    },
    {
     "data": {
      "image/png": "[encoded data removed]",
      "text/plain": [
       "<Figure size 432x288 with 1 Axes>"
      ]
     },
     "metadata": {
      "needs_background": "light"
     },
     "output_type": "display_data"
    }
   ],
   "source": [
    "data_filtered.boxplot('price_per_meter')\n",
    "plt.ylim(22000, 162000)"
   ]
  },
  {
   "cell_type": "code",
   "execution_count": 954,
   "metadata": {},
   "outputs": [
    {
     "data": {
      "text/plain": [
       "22326"
      ]
     },
     "execution_count": 954,
     "metadata": {},
     "output_type": "execute_result"
    }
   ],
   "source": [
    "data_filtered = data.query('price_per_meter > 22000 and price_per_meter < 162000')\n",
    "len(data_filtered)"
   ]
  },
  {
   "cell_type": "code",
   "execution_count": 955,
   "metadata": {},
   "outputs": [
    {
     "data": {
      "text/plain": [
       "(11, 115)"
      ]
     },
     "execution_count": 955,
     "metadata": {},
     "output_type": "execute_result"
    },
    {
     "data": {
      "image/png": "[encoded data removed]",
      "text/plain": [
       "<Figure size 432x288 with 1 Axes>"
      ]
     },
     "metadata": {
      "needs_background": "light"
     },
     "output_type": "display_data"
    }
   ],
   "source": [
    "data.boxplot('total_area')\n",
    "plt.ylim(11,115)"
   ]
  },
  {
   "cell_type": "markdown",
   "metadata": {},
   "source": [
    "В выборку попали крохотные квартиры общей площадью от 12 кв. м -- наверное, какие-нибудь мансарды. Оснований отбраковывать их у нас нет: они находятся между усами, во время предобработки столбцы с площадями были проверены на непротиворечивость."
   ]
  },
  {
   "cell_type": "code",
   "execution_count": 956,
   "metadata": {},
   "outputs": [
    {
     "data": {
      "text/plain": [
       "21462"
      ]
     },
     "execution_count": 956,
     "metadata": {},
     "output_type": "execute_result"
    }
   ],
   "source": [
    "data_filtered = data_filtered.query('total_area > 11 and total_area < 115')\n",
    "len(data_filtered)"
   ]
  },
  {
   "cell_type": "code",
   "execution_count": 957,
   "metadata": {},
   "outputs": [
    {
     "data": {
      "text/plain": [
       "(0, 7)"
      ]
     },
     "execution_count": 957,
     "metadata": {},
     "output_type": "execute_result"
    },
    {
     "data": {
      "image/png": "[encoded data removed]",
      "text/plain": [
       "<Figure size 432x288 with 1 Axes>"
      ]
     },
     "metadata": {
      "needs_background": "light"
     },
     "output_type": "display_data"
    }
   ],
   "source": [
    "data.boxplot('rooms')\n",
    "plt.ylim(0,7)"
   ]
  },
  {
   "cell_type": "markdown",
   "metadata": {},
   "source": [
    "Нулевые значения в столбце rooms можно принять за ошибку, но если посмотреть на соответствующие значения в столбцах `open_plan` и `studio`, становится ясно, что нули здесь появляются тогда и только тогда, когда квартира принадлежит к одному из двух этих типов, для которых характерно объединение жилого пространства с кухней."
   ]
  },
  {
   "cell_type": "code",
   "execution_count": 958,
   "metadata": {},
   "outputs": [
    {
     "data": {
      "text/plain": [
       "True"
      ]
     },
     "execution_count": 958,
     "metadata": {},
     "output_type": "execute_result"
    }
   ],
   "source": [
    "aux_data = data[['rooms', 'studio', 'open_plan']].query('rooms == 0')\n",
    "aux_data['studio'].sum() + aux_data['open_plan'].sum() == len(aux_data)"
   ]
  },
  {
   "cell_type": "code",
   "execution_count": 959,
   "metadata": {},
   "outputs": [
    {
     "data": {
      "text/plain": [
       "21461"
      ]
     },
     "execution_count": 959,
     "metadata": {},
     "output_type": "execute_result"
    }
   ],
   "source": [
    "data_filtered = data_filtered.query('rooms <= 6')\n",
    "len(data_filtered)"
   ]
  },
  {
   "cell_type": "code",
   "execution_count": 960,
   "metadata": {},
   "outputs": [
    {
     "data": {
      "text/plain": [
       "(2.15, 3.15)"
      ]
     },
     "execution_count": 960,
     "metadata": {},
     "output_type": "execute_result"
    },
    {
     "data": {
      "image/png": "[encoded data removed]",
      "text/plain": [
       "<Figure size 432x288 with 1 Axes>"
      ]
     },
     "metadata": {
      "needs_background": "light"
     },
     "output_type": "display_data"
    }
   ],
   "source": [
    "data_filtered.boxplot('ceiling_height')\n",
    "plt.ylim(2.15, 3.15)"
   ]
  },
  {
   "cell_type": "code",
   "execution_count": 961,
   "metadata": {},
   "outputs": [
    {
     "data": {
      "text/plain": [
       "20786"
      ]
     },
     "execution_count": 961,
     "metadata": {},
     "output_type": "execute_result"
    }
   ],
   "source": [
    "data_filtered = data_filtered.query('2.2 <= ceiling_height <= 3.15 or ceiling_height == \"NaN\"')\n",
    "len(data_filtered)"
   ]
  },
  {
   "cell_type": "markdown",
   "metadata": {},
   "source": [
    "Посмотрим, за сколько дней квартиры обычно продаются (но фильтровать датасет по этому признаку не будем, так как слишком велика вероятность, что аномалии связаны с внешними факторами, а не со свойствами самих квартир)."
   ]
  },
  {
   "cell_type": "code",
   "execution_count": 962,
   "metadata": {},
   "outputs": [
    {
     "data": {
      "text/plain": [
       "(0, 480)"
      ]
     },
     "execution_count": 962,
     "metadata": {},
     "output_type": "execute_result"
    },
    {
     "data": {
      "image/png": "[encoded data removed]",
      "text/plain": [
       "<Figure size 432x288 with 1 Axes>"
      ]
     },
     "metadata": {
      "needs_background": "light"
     },
     "output_type": "display_data"
    }
   ],
   "source": [
    "data_filtered.boxplot('days_exposition')\n",
    "plt.ylim(0, 480)"
   ]
  },
  {
   "cell_type": "markdown",
   "metadata": {},
   "source": [
    "### <font color='red'>Комментарий от наставника 4\n",
    "Твой способ убирания выбросов очень хорош, молодец!<br>\n",
    "Единственный момент. Давай обратим внимание на то, что ты по сути следовал одному алгоритму - отфильтровывал строки со значениями, которые были выше и ниже \"усов\" на графике boxplot. Насколько я понимаю, ты каждый раз пороги подбирал руками, тратя на это своё время :) Представь, что завтра нам дадут другой аналогичный датасет (расширенный, например), и придётся делать всё то же самое руками заново.<br>\n",
    "Давай будем учиться писать такой код, который затем будет просто переиспользовать!\n",
    "    \n",
    "Для этого я предлагаю взглянуть на изображение ниже и понять, как нам можно технически, не руками, достать границы наших усов.\n",
    "    \n",
    "Q1 и Q3 - это первая и третья квантили, т.е. перцентили 25% и 75% соответственно.<br>\n",
    "Т.е. их можно вытащить из describe, вот так, например: `q1 = data_filtered[\"days_exposition\"].describe()[\"25%\"]`.<br>\n",
    "Тебе нужны границы усов, которые находятся не сложно по формуле с картинки :)\n",
    "\n",
    "Когда мы научимся выполнять такую фильтрацию по усам для одного параметра, останется сделать это всё в цикле. Т.е. я предлагаю нам \"автоматизировать\" нашу фильтрацию, строя в цикле соответствующие графики и выполняя соответствующие фильтрации. Цикл будет по выбранным нами колонкам.\n",
    "\n",
    "![Boxplot explanation](https://habrastorage.org/files/d0f/f53/8d5/d0ff538d59154901b18a98469de07fde.png)"
   ]
  },
  {
   "cell_type": "code",
   "execution_count": 963,
   "metadata": {},
   "outputs": [
    {
     "data": {
      "text/html": [
       "<div>\n",
       "<style scoped>\n",
       "    .dataframe tbody tr th:only-of-type {\n",
       "        vertical-align: middle;\n",
       "    }\n",
       "\n",
       "    .dataframe tbody tr th {\n",
       "        vertical-align: top;\n",
       "    }\n",
       "\n",
       "    .dataframe thead th {\n",
       "        text-align: right;\n",
       "    }\n",
       "</style>\n",
       "<table border=\"1\" class=\"dataframe\">\n",
       "  <thead>\n",
       "    <tr style=\"text-align: right;\">\n",
       "      <th></th>\n",
       "      <th>building_series_id</th>\n",
       "      <th>total_images</th>\n",
       "      <th>last_price</th>\n",
       "      <th>total_area</th>\n",
       "      <th>first_day_exposition</th>\n",
       "      <th>rooms</th>\n",
       "      <th>ceiling_height</th>\n",
       "      <th>floors_total</th>\n",
       "      <th>living_area</th>\n",
       "      <th>floor</th>\n",
       "      <th>...</th>\n",
       "      <th>ponds_around3000</th>\n",
       "      <th>ponds_nearest</th>\n",
       "      <th>days_exposition</th>\n",
       "      <th>price_per_meter</th>\n",
       "      <th>weekday_posted</th>\n",
       "      <th>month_posted</th>\n",
       "      <th>year_posted</th>\n",
       "      <th>living_total_ratio</th>\n",
       "      <th>kitchen_total_ratio</th>\n",
       "      <th>floor_type</th>\n",
       "    </tr>\n",
       "  </thead>\n",
       "  <tbody>\n",
       "    <tr>\n",
       "      <th>0</th>\n",
       "      <td>1564812</td>\n",
       "      <td>20</td>\n",
       "      <td>13000000.0</td>\n",
       "      <td>108.0</td>\n",
       "      <td>2019-03-07</td>\n",
       "      <td>3</td>\n",
       "      <td>2.70</td>\n",
       "      <td>16.0</td>\n",
       "      <td>51.0</td>\n",
       "      <td>8</td>\n",
       "      <td>...</td>\n",
       "      <td>2.0</td>\n",
       "      <td>755.0</td>\n",
       "      <td>NaN</td>\n",
       "      <td>120370.370370</td>\n",
       "      <td>3</td>\n",
       "      <td>3</td>\n",
       "      <td>2019</td>\n",
       "      <td>0.472222</td>\n",
       "      <td>0.231481</td>\n",
       "      <td>другой</td>\n",
       "    </tr>\n",
       "    <tr>\n",
       "      <th>1</th>\n",
       "      <td>неизвестно</td>\n",
       "      <td>7</td>\n",
       "      <td>3350000.0</td>\n",
       "      <td>40.4</td>\n",
       "      <td>2018-12-04</td>\n",
       "      <td>1</td>\n",
       "      <td>NaN</td>\n",
       "      <td>11.0</td>\n",
       "      <td>18.6</td>\n",
       "      <td>1</td>\n",
       "      <td>...</td>\n",
       "      <td>0.0</td>\n",
       "      <td>NaN</td>\n",
       "      <td>81.0</td>\n",
       "      <td>82920.792079</td>\n",
       "      <td>1</td>\n",
       "      <td>12</td>\n",
       "      <td>2018</td>\n",
       "      <td>0.460396</td>\n",
       "      <td>0.272277</td>\n",
       "      <td>первый</td>\n",
       "    </tr>\n",
       "    <tr>\n",
       "      <th>2</th>\n",
       "      <td>сталинский</td>\n",
       "      <td>10</td>\n",
       "      <td>5196000.0</td>\n",
       "      <td>56.0</td>\n",
       "      <td>2015-08-20</td>\n",
       "      <td>2</td>\n",
       "      <td>NaN</td>\n",
       "      <td>5.0</td>\n",
       "      <td>34.3</td>\n",
       "      <td>4</td>\n",
       "      <td>...</td>\n",
       "      <td>2.0</td>\n",
       "      <td>574.0</td>\n",
       "      <td>558.0</td>\n",
       "      <td>92785.714286</td>\n",
       "      <td>3</td>\n",
       "      <td>8</td>\n",
       "      <td>2015</td>\n",
       "      <td>0.612500</td>\n",
       "      <td>0.148214</td>\n",
       "      <td>другой</td>\n",
       "    </tr>\n",
       "    <tr>\n",
       "      <th>4</th>\n",
       "      <td>неизвестно</td>\n",
       "      <td>2</td>\n",
       "      <td>10000000.0</td>\n",
       "      <td>100.0</td>\n",
       "      <td>2018-06-19</td>\n",
       "      <td>2</td>\n",
       "      <td>3.03</td>\n",
       "      <td>14.0</td>\n",
       "      <td>32.0</td>\n",
       "      <td>13</td>\n",
       "      <td>...</td>\n",
       "      <td>1.0</td>\n",
       "      <td>48.0</td>\n",
       "      <td>121.0</td>\n",
       "      <td>100000.000000</td>\n",
       "      <td>1</td>\n",
       "      <td>6</td>\n",
       "      <td>2018</td>\n",
       "      <td>0.320000</td>\n",
       "      <td>0.410000</td>\n",
       "      <td>другой</td>\n",
       "    </tr>\n",
       "    <tr>\n",
       "      <th>5</th>\n",
       "      <td>неизвестно</td>\n",
       "      <td>10</td>\n",
       "      <td>2890000.0</td>\n",
       "      <td>30.4</td>\n",
       "      <td>2018-09-10</td>\n",
       "      <td>1</td>\n",
       "      <td>NaN</td>\n",
       "      <td>12.0</td>\n",
       "      <td>14.4</td>\n",
       "      <td>5</td>\n",
       "      <td>...</td>\n",
       "      <td>NaN</td>\n",
       "      <td>NaN</td>\n",
       "      <td>55.0</td>\n",
       "      <td>95065.789474</td>\n",
       "      <td>0</td>\n",
       "      <td>9</td>\n",
       "      <td>2018</td>\n",
       "      <td>0.473684</td>\n",
       "      <td>0.299342</td>\n",
       "      <td>другой</td>\n",
       "    </tr>\n",
       "  </tbody>\n",
       "</table>\n",
       "<p>5 rows × 30 columns</p>\n",
       "</div>"
      ],
      "text/plain": [
       "  building_series_id  total_images  last_price  total_area  \\\n",
       "0            1564812            20  13000000.0       108.0   \n",
       "1         неизвестно             7   3350000.0        40.4   \n",
       "2         сталинский            10   5196000.0        56.0   \n",
       "4         неизвестно             2  10000000.0       100.0   \n",
       "5         неизвестно            10   2890000.0        30.4   \n",
       "\n",
       "  first_day_exposition  rooms  ceiling_height  floors_total  living_area  \\\n",
       "0           2019-03-07      3            2.70          16.0         51.0   \n",
       "1           2018-12-04      1             NaN          11.0         18.6   \n",
       "2           2015-08-20      2             NaN           5.0         34.3   \n",
       "4           2018-06-19      2            3.03          14.0         32.0   \n",
       "5           2018-09-10      1             NaN          12.0         14.4   \n",
       "\n",
       "   floor  ...  ponds_around3000  ponds_nearest  days_exposition  \\\n",
       "0      8  ...               2.0          755.0              NaN   \n",
       "1      1  ...               0.0            NaN             81.0   \n",
       "2      4  ...               2.0          574.0            558.0   \n",
       "4     13  ...               1.0           48.0            121.0   \n",
       "5      5  ...               NaN            NaN             55.0   \n",
       "\n",
       "   price_per_meter  weekday_posted month_posted  year_posted  \\\n",
       "0    120370.370370               3            3         2019   \n",
       "1     82920.792079               1           12         2018   \n",
       "2     92785.714286               3            8         2015   \n",
       "4    100000.000000               1            6         2018   \n",
       "5     95065.789474               0            9         2018   \n",
       "\n",
       "   living_total_ratio  kitchen_total_ratio  floor_type  \n",
       "0            0.472222             0.231481      другой  \n",
       "1            0.460396             0.272277      первый  \n",
       "2            0.612500             0.148214      другой  \n",
       "4            0.320000             0.410000      другой  \n",
       "5            0.473684             0.299342      другой  \n",
       "\n",
       "[5 rows x 30 columns]"
      ]
     },
     "execution_count": 963,
     "metadata": {},
     "output_type": "execute_result"
    }
   ],
   "source": [
    "data_filtered.head()"
   ]
  },
  {
   "cell_type": "markdown",
   "metadata": {},
   "source": [
    "Разница между средним и медианным значениями для большинства колонок существенно уменьшилась. Вот самые важные из типичных параметров продаваемых квартир:\n",
    "* количество комнат до 6, в среднем чуть меньше 2\n",
    "* общая площадь от 13 до 115 кв. м, в среднем 53 кв. м\n",
    "* цена за квадратный метр от 22 до 162 тыс. рублей, среднее и медианное значения -- 92 и 93 тыс.\n",
    "* стоимость за всю квартиру от 0,65 до 17,9 млн рублей\n",
    "* в норме квартира проводит на рынке не более 480 дней, а половина всех квартир продается быстрее, чем за 100 дней"
   ]
  },
  {
   "cell_type": "markdown",
   "metadata": {},
   "source": [
    "Какие факторы больше всего влияют на цену квартир? Чтобы ответить на этот вопрос, изучим матрицу корреляций `last_price`."
   ]
  },
  {
   "cell_type": "code",
   "execution_count": 964,
   "metadata": {},
   "outputs": [
    {
     "data": {
      "text/html": [
       "<div>\n",
       "<style scoped>\n",
       "    .dataframe tbody tr th:only-of-type {\n",
       "        vertical-align: middle;\n",
       "    }\n",
       "\n",
       "    .dataframe tbody tr th {\n",
       "        vertical-align: top;\n",
       "    }\n",
       "\n",
       "    .dataframe thead th {\n",
       "        text-align: right;\n",
       "    }\n",
       "</style>\n",
       "<table border=\"1\" class=\"dataframe\">\n",
       "  <thead>\n",
       "    <tr style=\"text-align: right;\">\n",
       "      <th></th>\n",
       "      <th>index</th>\n",
       "      <th>last_price</th>\n",
       "    </tr>\n",
       "  </thead>\n",
       "  <tbody>\n",
       "    <tr>\n",
       "      <th>1</th>\n",
       "      <td>last_price</td>\n",
       "      <td>1.000000</td>\n",
       "    </tr>\n",
       "    <tr>\n",
       "      <th>2</th>\n",
       "      <td>total_area</td>\n",
       "      <td>0.756741</td>\n",
       "    </tr>\n",
       "    <tr>\n",
       "      <th>20</th>\n",
       "      <td>price_per_meter</td>\n",
       "      <td>0.627097</td>\n",
       "    </tr>\n",
       "    <tr>\n",
       "      <th>6</th>\n",
       "      <td>living_area</td>\n",
       "      <td>0.622847</td>\n",
       "    </tr>\n",
       "    <tr>\n",
       "      <th>11</th>\n",
       "      <td>kitchen_area</td>\n",
       "      <td>0.520233</td>\n",
       "    </tr>\n",
       "    <tr>\n",
       "      <th>3</th>\n",
       "      <td>rooms</td>\n",
       "      <td>0.472520</td>\n",
       "    </tr>\n",
       "    <tr>\n",
       "      <th>4</th>\n",
       "      <td>ceiling_height</td>\n",
       "      <td>0.431924</td>\n",
       "    </tr>\n",
       "    <tr>\n",
       "      <th>5</th>\n",
       "      <td>floors_total</td>\n",
       "      <td>0.211930</td>\n",
       "    </tr>\n",
       "    <tr>\n",
       "      <th>0</th>\n",
       "      <td>total_images</td>\n",
       "      <td>0.166601</td>\n",
       "    </tr>\n",
       "    <tr>\n",
       "      <th>7</th>\n",
       "      <td>floor</td>\n",
       "      <td>0.145727</td>\n",
       "    </tr>\n",
       "    <tr>\n",
       "      <th>17</th>\n",
       "      <td>ponds_around3000</td>\n",
       "      <td>0.121578</td>\n",
       "    </tr>\n",
       "    <tr>\n",
       "      <th>15</th>\n",
       "      <td>parks_around3000</td>\n",
       "      <td>0.100277</td>\n",
       "    </tr>\n",
       "    <tr>\n",
       "      <th>12</th>\n",
       "      <td>balcony</td>\n",
       "      <td>0.085355</td>\n",
       "    </tr>\n",
       "    <tr>\n",
       "      <th>19</th>\n",
       "      <td>days_exposition</td>\n",
       "      <td>0.079167</td>\n",
       "    </tr>\n",
       "    <tr>\n",
       "      <th>16</th>\n",
       "      <td>parks_nearest</td>\n",
       "      <td>0.057915</td>\n",
       "    </tr>\n",
       "    <tr>\n",
       "      <th>24</th>\n",
       "      <td>living_total_ratio</td>\n",
       "      <td>0.024460</td>\n",
       "    </tr>\n",
       "    <tr>\n",
       "      <th>8</th>\n",
       "      <td>apartment</td>\n",
       "      <td>0.020912</td>\n",
       "    </tr>\n",
       "    <tr>\n",
       "      <th>22</th>\n",
       "      <td>month_posted</td>\n",
       "      <td>0.004334</td>\n",
       "    </tr>\n",
       "    <tr>\n",
       "      <th>23</th>\n",
       "      <td>year_posted</td>\n",
       "      <td>-0.003621</td>\n",
       "    </tr>\n",
       "    <tr>\n",
       "      <th>21</th>\n",
       "      <td>weekday_posted</td>\n",
       "      <td>-0.005668</td>\n",
       "    </tr>\n",
       "    <tr>\n",
       "      <th>13</th>\n",
       "      <td>airports_nearest</td>\n",
       "      <td>-0.017062</td>\n",
       "    </tr>\n",
       "    <tr>\n",
       "      <th>18</th>\n",
       "      <td>ponds_nearest</td>\n",
       "      <td>-0.044029</td>\n",
       "    </tr>\n",
       "    <tr>\n",
       "      <th>10</th>\n",
       "      <td>open_plan</td>\n",
       "      <td>-0.045886</td>\n",
       "    </tr>\n",
       "    <tr>\n",
       "      <th>9</th>\n",
       "      <td>studio</td>\n",
       "      <td>-0.070290</td>\n",
       "    </tr>\n",
       "    <tr>\n",
       "      <th>25</th>\n",
       "      <td>kitchen_total_ratio</td>\n",
       "      <td>-0.131911</td>\n",
       "    </tr>\n",
       "    <tr>\n",
       "      <th>14</th>\n",
       "      <td>cityCenters_nearest</td>\n",
       "      <td>-0.310858</td>\n",
       "    </tr>\n",
       "  </tbody>\n",
       "</table>\n",
       "</div>"
      ],
      "text/plain": [
       "                  index  last_price\n",
       "1            last_price    1.000000\n",
       "2            total_area    0.756741\n",
       "20      price_per_meter    0.627097\n",
       "6           living_area    0.622847\n",
       "11         kitchen_area    0.520233\n",
       "3                 rooms    0.472520\n",
       "4        ceiling_height    0.431924\n",
       "5          floors_total    0.211930\n",
       "0          total_images    0.166601\n",
       "7                 floor    0.145727\n",
       "17     ponds_around3000    0.121578\n",
       "15     parks_around3000    0.100277\n",
       "12              balcony    0.085355\n",
       "19      days_exposition    0.079167\n",
       "16        parks_nearest    0.057915\n",
       "24   living_total_ratio    0.024460\n",
       "8             apartment    0.020912\n",
       "22         month_posted    0.004334\n",
       "23          year_posted   -0.003621\n",
       "21       weekday_posted   -0.005668\n",
       "13     airports_nearest   -0.017062\n",
       "18        ponds_nearest   -0.044029\n",
       "10            open_plan   -0.045886\n",
       "9                studio   -0.070290\n",
       "25  kitchen_total_ratio   -0.131911\n",
       "14  cityCenters_nearest   -0.310858"
      ]
     },
     "execution_count": 964,
     "metadata": {},
     "output_type": "execute_result"
    }
   ],
   "source": [
    "data_filtered.corr().loc['last_price'].reset_index().sort_values('last_price', ascending=False)"
   ]
  },
  {
   "cell_type": "markdown",
   "metadata": {},
   "source": [
    "Что стоимость квартиры сильно связана с ее площадью и ценой квадратного метра, можно было догадаться и так, а вот менее очевидный факт: стоимость квартиры коррелирует с суммарной площадью комнат в большей степени, чем с площадью кухни или с количеством комнат (коэффициенты Пирсона 0,62, 0,52 и 0,47 соответственно). Все остальные корреляции слишком незначительны, чтобы принимать их во внимание.\n",
    "\n",
    "Интересно, есть ли корреляции между какими-то другими параметрами квартир? Матрица получится большая, поэтому выведем ее в отсортированном виде."
   ]
  },
  {
   "cell_type": "code",
   "execution_count": 965,
   "metadata": {},
   "outputs": [
    {
     "name": "stdout",
     "output_type": "stream",
     "text": [
      "living_area          total_area             0.909554\n",
      "total_area           living_area            0.909554\n",
      "living_area          rooms                  0.890969\n",
      "rooms                living_area            0.890969\n",
      "                     total_area             0.798094\n",
      "total_area           rooms                  0.798094\n",
      "                     last_price             0.756741\n",
      "last_price           total_area             0.756741\n",
      "floor                floors_total           0.670208\n",
      "floors_total         floor                  0.670208\n",
      "price_per_meter      last_price             0.627097\n",
      "last_price           price_per_meter        0.627097\n",
      "                     living_area            0.622847\n",
      "living_area          last_price             0.622847\n",
      "living_total_ratio   living_area            0.593003\n",
      "living_area          living_total_ratio     0.593003\n",
      "kitchen_area         kitchen_total_ratio    0.576640\n",
      "kitchen_total_ratio  kitchen_area           0.576640\n",
      "living_total_ratio   rooms                  0.560400\n",
      "rooms                living_total_ratio     0.560400\n",
      "last_price           kitchen_area           0.520233\n",
      "kitchen_area         last_price             0.520233\n",
      "last_price           rooms                  0.472520\n",
      "rooms                last_price             0.472520\n",
      "total_area           kitchen_area           0.460828\n",
      "kitchen_area         total_area             0.460828\n",
      "ceiling_height       last_price             0.431924\n",
      "last_price           ceiling_height         0.431924\n",
      "ceiling_height       kitchen_area           0.399471\n",
      "kitchen_area         ceiling_height         0.399471\n",
      "floors_total         kitchen_total_ratio    0.377080\n",
      "kitchen_total_ratio  floors_total           0.377080\n",
      "floors_total         price_per_meter        0.364385\n",
      "price_per_meter      floors_total           0.364385\n",
      "kitchen_area         floors_total           0.351708\n",
      "floors_total         kitchen_area           0.351708\n",
      "total_area           ceiling_height         0.325340\n",
      "ceiling_height       total_area             0.325340\n",
      "price_per_meter      ceiling_height         0.294413\n",
      "ceiling_height       price_per_meter        0.294413\n",
      "price_per_meter      kitchen_total_ratio    0.273132\n",
      "kitchen_total_ratio  price_per_meter        0.273132\n",
      "ponds_around3000     parks_around3000       0.269162\n",
      "parks_around3000     ponds_around3000       0.269162\n",
      "kitchen_area         price_per_meter        0.263997\n",
      "price_per_meter      kitchen_area           0.263997\n",
      "floor                kitchen_total_ratio    0.263060\n",
      "kitchen_total_ratio  floor                  0.263060\n",
      "price_per_meter      floor                  0.260933\n",
      "floor                price_per_meter        0.260933\n",
      "airports_nearest     cityCenters_nearest    0.251656\n",
      "cityCenters_nearest  airports_nearest       0.251656\n",
      "floor                kitchen_area           0.236068\n",
      "kitchen_area         floor                  0.236068\n",
      "living_total_ratio   total_area             0.230951\n",
      "total_area           living_total_ratio     0.230951\n",
      "floors_total         last_price             0.211930\n",
      "last_price           floors_total           0.211930\n",
      "living_area          ceiling_height         0.210048\n",
      "ceiling_height       living_area            0.210048\n",
      "living_area          kitchen_area           0.167158\n",
      "kitchen_area         living_area            0.167158\n",
      "total_images         last_price             0.166601\n",
      "last_price           total_images           0.166601\n",
      "floors_total         balcony                0.157541\n",
      "balcony              floors_total           0.157541\n",
      "floor                balcony                0.155898\n",
      "balcony              floor                  0.155898\n",
      "ponds_around3000     ceiling_height         0.155806\n",
      "ceiling_height       ponds_around3000       0.155806\n",
      "                     kitchen_total_ratio    0.150481\n",
      "kitchen_total_ratio  ceiling_height         0.150481\n",
      "total_images         year_posted            0.148307\n",
      "year_posted          total_images           0.148307\n",
      "last_price           floor                  0.145727\n",
      "floor                last_price             0.145727\n",
      "floors_total         ceiling_height         0.144658\n",
      "ceiling_height       floors_total           0.144658\n",
      "                     parks_around3000       0.141397\n",
      "parks_around3000     ceiling_height         0.141397\n",
      "total_images         price_per_meter        0.128836\n",
      "price_per_meter      total_images           0.128836\n",
      "last_price           ponds_around3000       0.121578\n",
      "ponds_around3000     last_price             0.121578\n",
      "total_images         total_area             0.118472\n",
      "total_area           total_images           0.118472\n",
      "                     days_exposition        0.111555\n",
      "days_exposition      total_area             0.111555\n",
      "total_images         living_area            0.104421\n",
      "living_area          total_images           0.104421\n",
      "parks_nearest        floors_total           0.102800\n",
      "floors_total         parks_nearest          0.102800\n",
      "last_price           parks_around3000       0.100277\n",
      "parks_around3000     last_price             0.100277\n",
      "living_area          days_exposition        0.099731\n",
      "days_exposition      living_area            0.099731\n",
      "floors_total         airports_nearest       0.093483\n",
      "airports_nearest     floors_total           0.093483\n",
      "living_total_ratio   studio                 0.092992\n",
      "studio               living_total_ratio     0.092992\n",
      "total_area           ponds_around3000       0.092883\n",
      "ponds_around3000     total_area             0.092883\n",
      "rooms                total_images           0.092197\n",
      "total_images         rooms                  0.092197\n",
      "balcony              kitchen_area           0.091065\n",
      "kitchen_area         balcony                0.091065\n",
      "floor                ceiling_height         0.089252\n",
      "ceiling_height       floor                  0.089252\n",
      "parks_around3000     price_per_meter        0.088421\n",
      "price_per_meter      parks_around3000       0.088421\n",
      "ponds_around3000     kitchen_area           0.088050\n",
      "kitchen_area         ponds_around3000       0.088050\n",
      "balcony              last_price             0.085355\n",
      "last_price           balcony                0.085355\n",
      "living_total_ratio   parks_around3000       0.082733\n",
      "parks_around3000     living_total_ratio     0.082733\n",
      "days_exposition      rooms                  0.080741\n",
      "rooms                days_exposition        0.080741\n",
      "days_exposition      last_price             0.079167\n",
      "last_price           days_exposition        0.079167\n",
      "balcony              total_area             0.079024\n",
      "total_area           balcony                0.079024\n",
      "living_area          parks_around3000       0.078278\n",
      "parks_around3000     living_area            0.078278\n",
      "price_per_meter      parks_nearest          0.075008\n",
      "parks_nearest        price_per_meter        0.075008\n",
      "price_per_meter      ponds_around3000       0.072870\n",
      "ponds_around3000     price_per_meter        0.072870\n",
      "floors_total         studio                 0.072790\n",
      "studio               floors_total           0.072790\n",
      "floor                parks_nearest          0.072512\n",
      "parks_nearest        floor                  0.072512\n",
      "apartment            ceiling_height         0.071816\n",
      "ceiling_height       apartment              0.071816\n",
      "year_posted          price_per_meter        0.067986\n",
      "price_per_meter      year_posted            0.067986\n",
      "living_total_ratio   open_plan              0.067135\n",
      "open_plan            living_total_ratio     0.067135\n",
      "days_exposition      ceiling_height         0.066394\n",
      "ceiling_height       days_exposition        0.066394\n",
      "living_area          ponds_around3000       0.066298\n",
      "ponds_around3000     living_area            0.066298\n",
      "                     parks_nearest          0.065491\n",
      "parks_nearest        ponds_around3000       0.065491\n",
      "total_images         kitchen_area           0.063366\n",
      "kitchen_area         total_images           0.063366\n",
      "airports_nearest     floor                  0.062483\n",
      "floor                airports_nearest       0.062483\n",
      "parks_nearest        kitchen_area           0.062340\n",
      "kitchen_area         parks_nearest          0.062340\n",
      "days_exposition      kitchen_area           0.059121\n",
      "kitchen_area         days_exposition        0.059121\n",
      "last_price           parks_nearest          0.057915\n",
      "parks_nearest        last_price             0.057915\n",
      "ponds_around3000     days_exposition        0.054906\n",
      "days_exposition      ponds_around3000       0.054906\n",
      "kitchen_area         rooms                  0.054535\n",
      "rooms                kitchen_area           0.054535\n",
      "parks_nearest        days_exposition        0.053343\n",
      "days_exposition      parks_nearest          0.053343\n",
      "parks_around3000     total_area             0.052414\n",
      "total_area           parks_around3000       0.052414\n",
      "open_plan            floors_total           0.051567\n",
      "floors_total         open_plan              0.051567\n",
      "rooms                parks_around3000       0.051047\n",
      "parks_around3000     rooms                  0.051047\n",
      "balcony              total_images           0.050758\n",
      "total_images         balcony                0.050758\n",
      "price_per_meter      balcony                0.048492\n",
      "balcony              price_per_meter        0.048492\n",
      "ceiling_height       rooms                  0.047438\n",
      "rooms                ceiling_height         0.047438\n",
      "airports_nearest     kitchen_total_ratio    0.042449\n",
      "kitchen_total_ratio  airports_nearest       0.042449\n",
      "living_area          balcony                0.041727\n",
      "balcony              living_area            0.041727\n",
      "studio               price_per_meter        0.041697\n",
      "price_per_meter      studio                 0.041697\n",
      "parks_nearest        kitchen_total_ratio    0.041163\n",
      "kitchen_total_ratio  parks_nearest          0.041163\n",
      "balcony              airports_nearest       0.039571\n",
      "airports_nearest     balcony                0.039571\n",
      "apartment            balcony                0.039323\n",
      "balcony              apartment              0.039323\n",
      "year_posted          ponds_nearest          0.038783\n",
      "ponds_nearest        year_posted            0.038783\n",
      "balcony              cityCenters_nearest    0.038655\n",
      "cityCenters_nearest  balcony                0.038655\n",
      "studio               floor                  0.037344\n",
      "floor                studio                 0.037344\n",
      "open_plan            floor                  0.036266\n",
      "floor                open_plan              0.036266\n",
      "balcony              open_plan              0.035270\n",
      "open_plan            balcony                0.035270\n",
      "total_images         floor                  0.033071\n",
      "floor                total_images           0.033071\n",
      "studio               ceiling_height         0.032614\n",
      "ceiling_height       studio                 0.032614\n",
      "parks_nearest        balcony                0.030924\n",
      "balcony              parks_nearest          0.030924\n",
      "ponds_nearest        living_total_ratio     0.030865\n",
      "living_total_ratio   ponds_nearest          0.030865\n",
      "studio               balcony                0.029872\n",
      "balcony              studio                 0.029872\n",
      "days_exposition      parks_around3000       0.029850\n",
      "parks_around3000     days_exposition        0.029850\n",
      "month_posted         open_plan              0.028872\n",
      "open_plan            month_posted           0.028872\n",
      "airports_nearest     parks_around3000       0.028024\n",
      "parks_around3000     airports_nearest       0.028024\n",
      "parks_nearest        total_area             0.026859\n",
      "total_area           parks_nearest          0.026859\n",
      "kitchen_area         apartment              0.026695\n",
      "apartment            kitchen_area           0.026695\n",
      "airports_nearest     kitchen_area           0.026152\n",
      "kitchen_area         airports_nearest       0.026152\n",
      "ponds_around3000     rooms                  0.026117\n",
      "rooms                ponds_around3000       0.026117\n",
      "ponds_nearest        parks_nearest          0.025754\n",
      "parks_nearest        ponds_nearest          0.025754\n",
      "living_total_ratio   last_price             0.024460\n",
      "last_price           living_total_ratio     0.024460\n",
      "year_posted          cityCenters_nearest    0.023654\n",
      "cityCenters_nearest  year_posted            0.023654\n",
      "kitchen_total_ratio  balcony                0.023464\n",
      "balcony              kitchen_total_ratio    0.023464\n",
      "apartment            ponds_nearest          0.023240\n",
      "ponds_nearest        apartment              0.023240\n",
      "cityCenters_nearest  apartment              0.023109\n",
      "apartment            cityCenters_nearest    0.023109\n",
      "balcony              ceiling_height         0.022544\n",
      "ceiling_height       balcony                0.022544\n",
      "month_posted         kitchen_area           0.021883\n",
      "kitchen_area         month_posted           0.021883\n",
      "airports_nearest     apartment              0.021099\n",
      "apartment            airports_nearest       0.021099\n",
      "                     last_price             0.020912\n",
      "last_price           apartment              0.020912\n",
      "open_plan            price_per_meter        0.020118\n",
      "price_per_meter      open_plan              0.020118\n",
      "ponds_nearest        balcony                0.019663\n",
      "balcony              ponds_nearest          0.019663\n",
      "ponds_nearest        airports_nearest       0.019329\n",
      "airports_nearest     ponds_nearest          0.019329\n",
      "floor                month_posted           0.017973\n",
      "month_posted         floor                  0.017973\n",
      "apartment            kitchen_total_ratio    0.017750\n",
      "kitchen_total_ratio  apartment              0.017750\n",
      "rooms                balcony                0.017414\n",
      "balcony              rooms                  0.017414\n",
      "year_posted          apartment              0.016891\n",
      "apartment            year_posted            0.016891\n",
      "price_per_meter      apartment              0.016650\n",
      "apartment            price_per_meter        0.016650\n",
      "open_plan            ceiling_height         0.016011\n",
      "ceiling_height       open_plan              0.016011\n",
      "month_posted         floors_total           0.015063\n",
      "floors_total         month_posted           0.015063\n",
      "apartment            total_images           0.015044\n",
      "total_images         apartment              0.015044\n",
      "                     floors_total           0.015029\n",
      "floors_total         total_images           0.015029\n",
      "ponds_nearest        floors_total           0.014404\n",
      "floors_total         ponds_nearest          0.014404\n",
      "month_posted         kitchen_total_ratio    0.014397\n",
      "kitchen_total_ratio  month_posted           0.014397\n",
      "floor                ponds_nearest          0.014271\n",
      "ponds_nearest        floor                  0.014271\n",
      "total_area           apartment              0.013221\n",
      "apartment            total_area             0.013221\n",
      "weekday_posted       month_posted           0.012505\n",
      "month_posted         weekday_posted         0.012505\n",
      "price_per_meter      total_area             0.012444\n",
      "total_area           price_per_meter        0.012444\n",
      "open_plan            parks_nearest          0.012277\n",
      "parks_nearest        open_plan              0.012277\n",
      "open_plan            ponds_around3000       0.012043\n",
      "ponds_around3000     open_plan              0.012043\n",
      "open_plan            weekday_posted         0.011990\n",
      "weekday_posted       open_plan              0.011990\n",
      "                     floors_total           0.011349\n",
      "floors_total         weekday_posted         0.011349\n",
      "month_posted         parks_nearest          0.011216\n",
      "parks_nearest        month_posted           0.011216\n",
      "total_images         living_total_ratio     0.011109\n",
      "living_total_ratio   total_images           0.011109\n",
      "floor                weekday_posted         0.010623\n",
      "weekday_posted       floor                  0.010623\n",
      "year_posted          studio                 0.010288\n",
      "studio               year_posted            0.010288\n",
      "airports_nearest     year_posted            0.008826\n",
      "year_posted          airports_nearest       0.008826\n",
      "ceiling_height       total_images           0.008471\n",
      "total_images         ceiling_height         0.008471\n",
      "weekday_posted       living_total_ratio     0.008309\n",
      "living_total_ratio   weekday_posted         0.008309\n",
      "floors_total         total_area             0.008280\n",
      "total_area           floors_total           0.008280\n",
      "studio               parks_nearest          0.008235\n",
      "parks_nearest        studio                 0.008235\n",
      "month_posted         total_area             0.007874\n",
      "total_area           month_posted           0.007874\n",
      "kitchen_total_ratio  year_posted            0.007720\n",
      "year_posted          kitchen_total_ratio    0.007720\n",
      "ponds_around3000     cityCenters_nearest    0.006612\n",
      "cityCenters_nearest  ponds_around3000       0.006612\n",
      "ponds_nearest        month_posted           0.006284\n",
      "month_posted         ponds_nearest          0.006284\n",
      "parks_around3000     total_images           0.006202\n",
      "total_images         parks_around3000       0.006202\n",
      "ponds_around3000     kitchen_total_ratio    0.006146\n",
      "kitchen_total_ratio  ponds_around3000       0.006146\n",
      "studio               ponds_around3000       0.006033\n",
      "ponds_around3000     studio                 0.006033\n",
      "balcony              month_posted           0.005932\n",
      "month_posted         balcony                0.005932\n",
      "year_posted          living_total_ratio     0.005188\n",
      "living_total_ratio   year_posted            0.005188\n",
      "                     days_exposition        0.005003\n",
      "days_exposition      living_total_ratio     0.005003\n",
      "cityCenters_nearest  weekday_posted         0.004901\n",
      "weekday_posted       cityCenters_nearest    0.004901\n",
      "airports_nearest     month_posted           0.004551\n",
      "month_posted         airports_nearest       0.004551\n",
      "last_price           month_posted           0.004334\n",
      "month_posted         last_price             0.004334\n",
      "total_images         month_posted           0.003691\n",
      "month_posted         total_images           0.003691\n",
      "apartment            living_area            0.003404\n",
      "living_area          apartment              0.003404\n",
      "year_posted          balcony                0.003082\n",
      "balcony              year_posted            0.003082\n",
      "ponds_nearest        total_images           0.002989\n",
      "total_images         ponds_nearest          0.002989\n",
      "floor                year_posted            0.001236\n",
      "year_posted          floor                  0.001236\n",
      "airports_nearest     total_images           0.001181\n",
      "total_images         airports_nearest       0.001181\n",
      "airports_nearest     weekday_posted         0.001010\n",
      "weekday_posted       airports_nearest       0.001010\n",
      "month_posted         studio                 0.000298\n",
      "studio               month_posted           0.000298\n",
      "days_exposition      apartment             -0.000120\n",
      "apartment            days_exposition       -0.000120\n",
      "weekday_posted       living_area           -0.000769\n",
      "living_area          weekday_posted        -0.000769\n",
      "rooms                weekday_posted        -0.000814\n",
      "weekday_posted       rooms                 -0.000814\n",
      "ponds_around3000     weekday_posted        -0.001420\n",
      "weekday_posted       ponds_around3000      -0.001420\n",
      "kitchen_total_ratio  weekday_posted        -0.001452\n",
      "weekday_posted       kitchen_total_ratio   -0.001452\n",
      "year_posted          floors_total          -0.001552\n",
      "floors_total         year_posted           -0.001552\n",
      "living_area          month_posted          -0.001720\n",
      "month_posted         living_area           -0.001720\n",
      "apartment            open_plan             -0.002096\n",
      "open_plan            apartment             -0.002096\n",
      "weekday_posted       studio                -0.002560\n",
      "studio               weekday_posted        -0.002560\n",
      "parks_around3000     month_posted          -0.002579\n",
      "month_posted         parks_around3000      -0.002579\n",
      "ponds_around3000     apartment             -0.002746\n",
      "apartment            ponds_around3000      -0.002746\n",
      "                     studio                -0.003131\n",
      "studio               apartment             -0.003131\n",
      "weekday_posted       ponds_nearest         -0.003392\n",
      "ponds_nearest        weekday_posted        -0.003392\n",
      "rooms                month_posted          -0.003405\n",
      "month_posted         rooms                 -0.003405\n",
      "last_price           year_posted           -0.003621\n",
      "year_posted          last_price            -0.003621\n",
      "parks_around3000     weekday_posted        -0.003671\n",
      "weekday_posted       parks_around3000      -0.003671\n",
      "                     parks_nearest         -0.003684\n",
      "parks_nearest        weekday_posted        -0.003684\n",
      "rooms                ponds_nearest         -0.003809\n",
      "ponds_nearest        rooms                 -0.003809\n",
      "weekday_posted       price_per_meter       -0.003943\n",
      "price_per_meter      weekday_posted        -0.003943\n",
      "weekday_posted       year_posted           -0.004229\n",
      "year_posted          weekday_posted        -0.004229\n",
      "price_per_meter      month_posted          -0.004268\n",
      "month_posted         price_per_meter       -0.004268\n",
      "balcony              weekday_posted        -0.004517\n",
      "weekday_posted       balcony               -0.004517\n",
      "studio               open_plan             -0.004540\n",
      "open_plan            studio                -0.004540\n",
      "month_posted         ceiling_height        -0.004592\n",
      "ceiling_height       month_posted          -0.004592\n",
      "kitchen_total_ratio  cityCenters_nearest   -0.004810\n",
      "cityCenters_nearest  kitchen_total_ratio   -0.004810\n",
      "floor                total_area            -0.004974\n",
      "total_area           floor                 -0.004974\n",
      "weekday_posted       total_area            -0.005032\n",
      "total_area           weekday_posted        -0.005032\n",
      "apartment            weekday_posted        -0.005160\n",
      "weekday_posted       apartment             -0.005160\n",
      "ponds_nearest        open_plan             -0.005183\n",
      "open_plan            ponds_nearest         -0.005183\n",
      "last_price           weekday_posted        -0.005668\n",
      "weekday_posted       last_price            -0.005668\n",
      "month_posted         apartment             -0.005749\n",
      "apartment            month_posted          -0.005749\n",
      "weekday_posted       total_images          -0.006381\n",
      "total_images         weekday_posted        -0.006381\n",
      "cityCenters_nearest  open_plan             -0.006807\n",
      "open_plan            cityCenters_nearest   -0.006807\n",
      "kitchen_area         weekday_posted        -0.007170\n",
      "weekday_posted       kitchen_area          -0.007170\n",
      "month_posted         ponds_around3000      -0.008092\n",
      "ponds_around3000     month_posted          -0.008092\n",
      "ceiling_height       weekday_posted        -0.008108\n",
      "weekday_posted       ceiling_height        -0.008108\n",
      "apartment            floor                 -0.008316\n",
      "floor                apartment             -0.008316\n",
      "studio               ponds_nearest         -0.008320\n",
      "ponds_nearest        studio                -0.008320\n",
      "parks_around3000     open_plan             -0.009565\n",
      "open_plan            parks_around3000      -0.009565\n",
      "apartment            rooms                 -0.009601\n",
      "rooms                apartment             -0.009601\n",
      "studio               cityCenters_nearest   -0.011051\n",
      "cityCenters_nearest  studio                -0.011051\n",
      "total_area           airports_nearest      -0.011235\n",
      "airports_nearest     total_area            -0.011235\n",
      "living_area          ponds_nearest         -0.011525\n",
      "ponds_nearest        living_area           -0.011525\n",
      "parks_nearest        total_images          -0.011821\n",
      "total_images         parks_nearest         -0.011821\n",
      "airports_nearest     days_exposition       -0.011892\n",
      "days_exposition      airports_nearest      -0.011892\n",
      "price_per_meter      days_exposition       -0.011994\n",
      "days_exposition      price_per_meter       -0.011994\n",
      "month_posted         living_total_ratio    -0.012370\n",
      "living_total_ratio   month_posted          -0.012370\n",
      "apartment            living_total_ratio    -0.013235\n",
      "living_total_ratio   apartment             -0.013235\n",
      "apartment            parks_around3000      -0.013321\n",
      "parks_around3000     apartment             -0.013321\n",
      "living_area          parks_nearest         -0.013751\n",
      "parks_nearest        living_area           -0.013751\n",
      "open_plan            airports_nearest      -0.014948\n",
      "airports_nearest     open_plan             -0.014948\n",
      "cityCenters_nearest  month_posted          -0.015680\n",
      "month_posted         cityCenters_nearest   -0.015680\n",
      "apartment            floors_total          -0.016790\n",
      "floors_total         apartment             -0.016790\n",
      "apartment            parks_nearest         -0.017061\n",
      "parks_nearest        apartment             -0.017061\n",
      "last_price           airports_nearest      -0.017062\n",
      "airports_nearest     last_price            -0.017062\n",
      "days_exposition      cityCenters_nearest   -0.020525\n",
      "cityCenters_nearest  days_exposition       -0.020525\n",
      "days_exposition      balcony               -0.020603\n",
      "balcony              days_exposition       -0.020603\n",
      "cityCenters_nearest  living_total_ratio    -0.020654\n",
      "living_total_ratio   cityCenters_nearest   -0.020654\n",
      "ponds_around3000     living_total_ratio    -0.020682\n",
      "living_total_ratio   ponds_around3000      -0.020682\n",
      "days_exposition      studio                -0.020722\n",
      "studio               days_exposition       -0.020722\n",
      "weekday_posted       days_exposition       -0.021511\n",
      "days_exposition      weekday_posted        -0.021511\n",
      "year_posted          open_plan             -0.022202\n",
      "open_plan            year_posted           -0.022202\n",
      "                     total_images          -0.022209\n",
      "total_images         open_plan             -0.022209\n",
      "studio               airports_nearest      -0.022287\n",
      "airports_nearest     studio                -0.022287\n",
      "days_exposition      open_plan             -0.023168\n",
      "open_plan            days_exposition       -0.023168\n",
      "parks_around3000     year_posted           -0.023536\n",
      "year_posted          parks_around3000      -0.023536\n",
      "cityCenters_nearest  ponds_nearest         -0.024438\n",
      "ponds_nearest        cityCenters_nearest   -0.024438\n",
      "total_images         ponds_around3000      -0.024793\n",
      "ponds_around3000     total_images          -0.024793\n",
      "price_per_meter      airports_nearest      -0.026592\n",
      "airports_nearest     price_per_meter       -0.026592\n",
      "price_per_meter      ponds_nearest         -0.027296\n",
      "ponds_nearest        price_per_meter       -0.027296\n",
      "rooms                parks_nearest         -0.029457\n",
      "parks_nearest        rooms                 -0.029457\n",
      "cityCenters_nearest  floor                 -0.029759\n",
      "floor                cityCenters_nearest   -0.029759\n",
      "ponds_nearest        total_area            -0.029931\n",
      "total_area           ponds_nearest         -0.029931\n",
      "studio               total_images          -0.030254\n",
      "total_images         studio                -0.030254\n",
      "year_posted          rooms                 -0.030535\n",
      "rooms                year_posted           -0.030535\n",
      "total_images         cityCenters_nearest   -0.031008\n",
      "cityCenters_nearest  total_images          -0.031008\n",
      "days_exposition      kitchen_total_ratio   -0.031118\n",
      "kitchen_total_ratio  days_exposition       -0.031118\n",
      "parks_around3000     studio                -0.031179\n",
      "studio               parks_around3000      -0.031179\n",
      "ponds_nearest        kitchen_total_ratio   -0.031190\n",
      "kitchen_total_ratio  ponds_nearest         -0.031190\n",
      "kitchen_area         parks_around3000      -0.032520\n",
      "parks_around3000     kitchen_area          -0.032520\n",
      "year_posted          ponds_around3000      -0.033039\n",
      "ponds_around3000     year_posted           -0.033039\n",
      "total_images         days_exposition       -0.033524\n",
      "days_exposition      total_images          -0.033524\n",
      "ponds_around3000     balcony               -0.034249\n",
      "balcony              ponds_around3000      -0.034249\n",
      "floors_total         days_exposition       -0.035100\n",
      "days_exposition      floors_total          -0.035100\n",
      "                     floor                 -0.035147\n",
      "floor                days_exposition       -0.035147\n",
      "parks_nearest        ceiling_height        -0.036495\n",
      "ceiling_height       parks_nearest         -0.036495\n",
      "days_exposition      month_posted          -0.036572\n",
      "month_posted         days_exposition       -0.036572\n",
      "airports_nearest     rooms                 -0.040314\n",
      "rooms                airports_nearest      -0.040314\n",
      "parks_nearest        year_posted           -0.040366\n",
      "year_posted          parks_nearest         -0.040366\n",
      "kitchen_total_ratio  total_images          -0.040574\n",
      "total_images         kitchen_total_ratio   -0.040574\n",
      "year_posted          kitchen_area          -0.041495\n",
      "kitchen_area         year_posted           -0.041495\n",
      "living_area          airports_nearest      -0.042690\n",
      "airports_nearest     living_area           -0.042690\n",
      "last_price           ponds_nearest         -0.044029\n",
      "ponds_nearest        last_price            -0.044029\n",
      "living_area          open_plan             -0.045876\n",
      "open_plan            living_area           -0.045876\n",
      "last_price           open_plan             -0.045886\n",
      "open_plan            last_price            -0.045886\n",
      "living_area          year_posted           -0.046954\n",
      "year_posted          living_area           -0.046954\n",
      "ponds_around3000     airports_nearest      -0.048625\n",
      "airports_nearest     ponds_around3000      -0.048625\n",
      "cityCenters_nearest  floors_total          -0.054729\n",
      "floors_total         cityCenters_nearest   -0.054729\n",
      "ponds_around3000     floor                 -0.055796\n",
      "floor                ponds_around3000      -0.055796\n",
      "balcony              living_total_ratio    -0.057461\n",
      "living_total_ratio   balcony               -0.057461\n",
      "total_area           year_posted           -0.058250\n",
      "year_posted          total_area            -0.058250\n",
      "kitchen_area         ponds_nearest         -0.060793\n",
      "ponds_nearest        kitchen_area          -0.060793\n",
      "ceiling_height       airports_nearest      -0.062755\n",
      "airports_nearest     ceiling_height        -0.062755\n",
      "balcony              parks_around3000      -0.065532\n",
      "parks_around3000     balcony               -0.065532\n",
      "studio               last_price            -0.070290\n",
      "last_price           studio                -0.070290\n",
      "parks_nearest        cityCenters_nearest   -0.070931\n",
      "cityCenters_nearest  parks_nearest         -0.070931\n",
      "open_plan            total_area            -0.071825\n",
      "total_area           open_plan             -0.071825\n",
      "parks_nearest        living_total_ratio    -0.073861\n",
      "living_total_ratio   parks_nearest         -0.073861\n",
      "studio               living_area           -0.077095\n",
      "living_area          studio                -0.077095\n",
      "year_posted          ceiling_height        -0.077782\n",
      "ceiling_height       year_posted           -0.077782\n",
      "days_exposition      ponds_nearest         -0.080942\n",
      "ponds_nearest        days_exposition       -0.080942\n",
      "living_total_ratio   airports_nearest      -0.081001\n",
      "airports_nearest     living_total_ratio    -0.081001\n",
      "kitchen_total_ratio  parks_around3000      -0.081952\n",
      "parks_around3000     kitchen_total_ratio   -0.081952\n",
      "rooms                cityCenters_nearest   -0.082137\n",
      "cityCenters_nearest  rooms                 -0.082137\n",
      "ponds_nearest        ceiling_height        -0.085734\n",
      "ceiling_height       ponds_nearest         -0.085734\n",
      "floors_total         ponds_around3000      -0.086153\n",
      "ponds_around3000     floors_total          -0.086153\n",
      "price_per_meter      living_area           -0.093967\n",
      "living_area          price_per_meter       -0.093967\n",
      "cityCenters_nearest  parks_around3000      -0.096657\n",
      "parks_around3000     cityCenters_nearest   -0.096657\n",
      "parks_nearest        airports_nearest      -0.107838\n",
      "airports_nearest     parks_nearest         -0.107838\n",
      "open_plan            rooms                 -0.108140\n",
      "rooms                open_plan             -0.108140\n",
      "cityCenters_nearest  kitchen_area          -0.109890\n",
      "kitchen_area         cityCenters_nearest   -0.109890\n",
      "studio               total_area            -0.116705\n",
      "total_area           studio                -0.116705\n",
      "living_area          floor                 -0.116847\n",
      "floor                living_area           -0.116847\n",
      "living_area          cityCenters_nearest   -0.121535\n",
      "cityCenters_nearest  living_area           -0.121535\n",
      "parks_around3000     ponds_nearest         -0.131228\n",
      "ponds_nearest        parks_around3000      -0.131228\n",
      "kitchen_total_ratio  last_price            -0.131911\n",
      "last_price           kitchen_total_ratio   -0.131911\n",
      "cityCenters_nearest  total_area            -0.135609\n",
      "total_area           cityCenters_nearest   -0.135609\n",
      "floor                parks_around3000      -0.148107\n",
      "parks_around3000     floor                 -0.148107\n",
      "living_area          floors_total          -0.151619\n",
      "floors_total         living_area           -0.151619\n",
      "floor                rooms                 -0.160130\n",
      "rooms                floor                 -0.160130\n",
      "ceiling_height       living_total_ratio    -0.160149\n",
      "living_total_ratio   ceiling_height        -0.160149\n",
      "rooms                studio                -0.170364\n",
      "studio               rooms                 -0.170364\n",
      "rooms                price_per_meter       -0.179088\n",
      "price_per_meter      rooms                 -0.179088\n",
      "rooms                floors_total          -0.214719\n",
      "floors_total         rooms                 -0.214719\n",
      "parks_around3000     floors_total          -0.224928\n",
      "floors_total         parks_around3000      -0.224928\n",
      "price_per_meter      living_total_ratio    -0.235457\n",
      "living_total_ratio   price_per_meter       -0.235457\n",
      "cityCenters_nearest  ceiling_height        -0.237408\n",
      "ceiling_height       cityCenters_nearest   -0.237408\n",
      "parks_nearest        parks_around3000      -0.250003\n",
      "parks_around3000     parks_nearest         -0.250003\n",
      "year_posted          month_posted          -0.266267\n",
      "month_posted         year_posted           -0.266267\n",
      "living_total_ratio   floor                 -0.272906\n",
      "floor                living_total_ratio    -0.272906\n",
      "ponds_around3000     ponds_nearest         -0.301870\n",
      "ponds_nearest        ponds_around3000      -0.301870\n",
      "cityCenters_nearest  last_price            -0.310858\n",
      "last_price           cityCenters_nearest   -0.310858\n",
      "living_total_ratio   floors_total          -0.381737\n",
      "floors_total         living_total_ratio    -0.381737\n",
      "cityCenters_nearest  price_per_meter       -0.397638\n",
      "price_per_meter      cityCenters_nearest   -0.397638\n",
      "total_area           kitchen_total_ratio   -0.407855\n",
      "kitchen_total_ratio  total_area            -0.407855\n",
      "living_total_ratio   kitchen_area          -0.452944\n",
      "kitchen_area         living_total_ratio    -0.452944\n",
      "year_posted          days_exposition       -0.600846\n",
      "days_exposition      year_posted           -0.600846\n",
      "kitchen_total_ratio  living_area           -0.625613\n",
      "living_area          kitchen_total_ratio   -0.625613\n",
      "rooms                kitchen_total_ratio   -0.658099\n",
      "kitchen_total_ratio  rooms                 -0.658099\n",
      "living_total_ratio   kitchen_total_ratio   -0.744743\n",
      "kitchen_total_ratio  living_total_ratio    -0.744743\n",
      "total_images         total_images                NaN\n",
      "last_price           last_price                  NaN\n",
      "total_area           total_area                  NaN\n",
      "rooms                rooms                       NaN\n",
      "ceiling_height       ceiling_height              NaN\n",
      "floors_total         floors_total                NaN\n",
      "living_area          living_area                 NaN\n",
      "floor                floor                       NaN\n",
      "apartment            apartment                   NaN\n",
      "studio               studio                      NaN\n",
      "                     kitchen_area                NaN\n",
      "                     kitchen_total_ratio         NaN\n",
      "open_plan            open_plan                   NaN\n",
      "                     kitchen_area                NaN\n",
      "                     kitchen_total_ratio         NaN\n",
      "kitchen_area         studio                      NaN\n",
      "                     open_plan                   NaN\n",
      "                     kitchen_area                NaN\n",
      "balcony              balcony                     NaN\n",
      "airports_nearest     airports_nearest            NaN\n",
      "cityCenters_nearest  cityCenters_nearest         NaN\n",
      "parks_around3000     parks_around3000            NaN\n",
      "parks_nearest        parks_nearest               NaN\n",
      "ponds_around3000     ponds_around3000            NaN\n",
      "ponds_nearest        ponds_nearest               NaN\n",
      "days_exposition      days_exposition             NaN\n",
      "price_per_meter      price_per_meter             NaN\n",
      "weekday_posted       weekday_posted              NaN\n",
      "month_posted         month_posted                NaN\n",
      "year_posted          year_posted                 NaN\n",
      "living_total_ratio   living_total_ratio          NaN\n",
      "kitchen_total_ratio  studio                      NaN\n",
      "                     open_plan                   NaN\n",
      "                     kitchen_total_ratio         NaN\n",
      "dtype: float64\n"
     ]
    }
   ],
   "source": [
    "pd.set_option('display.max_rows', 1000)\n",
    "corr_list = data_filtered.corr().unstack()\n",
    "print(corr_list.where(corr_list != 1).sort_values(ascending=False))\n",
    "pd.reset_option('display.max_rows') "
   ]
  },
  {
   "cell_type": "markdown",
   "metadata": {},
   "source": [
    "Любопытное наблюдение можно сделать по отрицательной части матрицы: чем ближе к концу исследуемого периода, тем быстрее продавались квартиры (`days_exposition` падает по мере увеличения `year_posted` и наоборот, коэффициент Пирсона -0,6).\n",
    "\n",
    "Значимой корреляции цены квадратного метра с количеством комнат нет. Это может говорить как о том, что эти два параметра никак не связаны, так и о том, что их связь сложнее, чем обычная положительная или отрицательная связь. Сгруппируем даатсет по числу комнат и посмотрим, что происходит с ценой квадратного метра."
   ]
  },
  {
   "cell_type": "code",
   "execution_count": 966,
   "metadata": {},
   "outputs": [
    {
     "data": {
      "text/plain": [
       "<matplotlib.axes._subplots.AxesSubplot at 0x7f73284c84a8>"
      ]
     },
     "execution_count": 966,
     "metadata": {},
     "output_type": "execute_result"
    },
    {
     "data": {
      "image/png": "[encoded data removed]",
      "text/plain": [
       "<Figure size 432x288 with 1 Axes>"
      ]
     },
     "metadata": {
      "needs_background": "light"
     },
     "output_type": "display_data"
    }
   ],
   "source": [
    "data_filtered.groupby('rooms')['price_per_meter'].median().plot()"
   ]
  },
  {
   "cell_type": "markdown",
   "metadata": {},
   "source": [
    "Оказывается, цена квадратного метра снижается по мере роста числа комнат в квартире от нуля до пяти, а потом резко возрастает до уровня, который превышает цену метра в квартирах-студиях и квартирах с открытой планировкой. Падение в начале компенсируется взлетом в конце, а коэфффициент Пирсона в результате близок к нулю. По всей видимости, квартиры с 6 комнатами относятся к элитному сегменту.\n",
    "\n",
    "Теперь выясним, влияет ли размещение квартиры на первом или последнем этаже на цену квадратного метра в ней."
   ]
  },
  {
   "cell_type": "code",
   "execution_count": 967,
   "metadata": {
    "scrolled": true
   },
   "outputs": [
    {
     "data": {
      "text/plain": [
       "floor_type\n",
       "другой       96323.529412\n",
       "первый       80449.263485\n",
       "последний    84848.484848\n",
       "Name: price_per_meter, dtype: float64"
      ]
     },
     "execution_count": 967,
     "metadata": {},
     "output_type": "execute_result"
    }
   ],
   "source": [
    "data_filtered.groupby('floor_type')['price_per_meter'].median()"
   ]
  },
  {
   "cell_type": "markdown",
   "metadata": {},
   "source": [
    "Тут без сюрпризов: на первых этажах метры самые дешевые, на последнем чуть подороже, а на остальных этажах цена чуть выше среднего.\n",
    "\n",
    "Есть ли связь между удаленностью от центра и ценой квадратного метра?"
   ]
  },
  {
   "cell_type": "code",
   "execution_count": 968,
   "metadata": {},
   "outputs": [
    {
     "data": {
      "text/plain": [
       "<matplotlib.axes._subplots.AxesSubplot at 0x7f7327ba5a20>"
      ]
     },
     "execution_count": 968,
     "metadata": {},
     "output_type": "execute_result"
    },
    {
     "data": {
      "image/png": "[encoded data removed]",
      "text/plain": [
       "<Figure size 432x288 with 1 Axes>"
      ]
     },
     "metadata": {
      "needs_background": "light"
     },
     "output_type": "display_data"
    }
   ],
   "source": [
    "data_filtered.plot(x='cityCenters_nearest', y='price_per_meter', kind='scatter', alpha=0.03)"
   ]
  },
  {
   "cell_type": "markdown",
   "metadata": {},
   "source": [
    "В центрах городов (еле заметная вертикальная полоса, расположенная на графике в районе отметки 4 км) есть и совсем дорогие квартиры, и варианты подешевле, а нижняя ценовая граница бошинства предложений -- около 80 тыс. рублей за метр. В зоне, которая соответствует спальным районам и пригородам Санкт-Петербурга, а также дальним окрестностям более мелких городов (темное пятно на удалении 10-20 км от центров), спектр предложений по мере удаления от центров становится шире: ставка за квадратный метр начинается примерно от 60 тыс, но и дорогих предложений почти столько же, сколько ближе к центру. По мере дальнейшего удаления от условного центра диапазон цен сужается при сохранении нижней границы на уровне в 50-60 тыс. рублей.\n",
    "\n",
    "Изучим, как на цене квадратного метра отражается день недели, месяц и год, когда было вывешено объявление."
   ]
  },
  {
   "cell_type": "code",
   "execution_count": 969,
   "metadata": {},
   "outputs": [
    {
     "data": {
      "text/plain": [
       "<matplotlib.axes._subplots.AxesSubplot at 0x7f7328435470>"
      ]
     },
     "execution_count": 969,
     "metadata": {},
     "output_type": "execute_result"
    },
    {
     "data": {
      "image/png": "[encoded data removed]",
      "text/plain": [
       "<Figure size 432x288 with 1 Axes>"
      ]
     },
     "metadata": {
      "needs_background": "light"
     },
     "output_type": "display_data"
    }
   ],
   "source": [
    "data_filtered.groupby('weekday_posted')['price_per_meter'].median().plot()"
   ]
  },
  {
   "cell_type": "markdown",
   "metadata": {},
   "source": [
    "Выгоднее всего выставлять квартиру на продажу во вторник. В субботу лучше этого не делать."
   ]
  },
  {
   "cell_type": "code",
   "execution_count": 970,
   "metadata": {},
   "outputs": [
    {
     "data": {
      "text/plain": [
       "<matplotlib.axes._subplots.AxesSubplot at 0x7f732838f550>"
      ]
     },
     "execution_count": 970,
     "metadata": {},
     "output_type": "execute_result"
    },
    {
     "data": {
      "image/png": "[encoded data removed]",
      "text/plain": [
       "<Figure size 432x288 with 1 Axes>"
      ]
     },
     "metadata": {
      "needs_background": "light"
     },
     "output_type": "display_data"
    }
   ],
   "source": [
    "data_filtered.groupby('month_posted')['price_per_meter'].median().plot()"
   ]
  },
  {
   "cell_type": "markdown",
   "metadata": {},
   "source": [
    "Самые неудачные месяцы для продажи квартиры -- июнь и декабрь, самые удачные -- апрель и август."
   ]
  },
  {
   "cell_type": "code",
   "execution_count": 971,
   "metadata": {},
   "outputs": [
    {
     "data": {
      "text/plain": [
       "<matplotlib.axes._subplots.AxesSubplot at 0x7f732837e198>"
      ]
     },
     "execution_count": 971,
     "metadata": {},
     "output_type": "execute_result"
    },
    {
     "data": {
      "image/png": "[encoded data removed]",
      "text/plain": [
       "<Figure size 432x288 with 1 Axes>"
      ]
     },
     "metadata": {
      "needs_background": "light"
     },
     "output_type": "display_data"
    }
   ],
   "source": [
    "data_filtered.groupby('year_posted')['price_per_meter'].median().plot()"
   ]
  },
  {
   "cell_type": "markdown",
   "metadata": {},
   "source": [
    "### <font color='red'>Комментарий от наставника 5\n",
    "Мне очень нравится твой анализ и выводы, молодец! Единственное, я предлагаю тут тоже немного \"автоматизировать\" построение однотипных графиков с помощью цикла по выбранным столбцам. Ты можешь в цикле построить графики. В такой клетке будет большой вывод, но это не страшно, его всегда можно спрятать. А дальше я предлагаю последовательно пробежаться глазами по этим графикам и в следующей клетке написать один хороший комментарий по тому, что ты там увидел.\n",
    "    \n",
    "-----"
   ]
  },
  {
   "cell_type": "markdown",
   "metadata": {},
   "source": [
    "Здесь видим другое проявление той же динамики, которую заметили в матрице корреляций. Там с течением времени падал срок экспозиции квартир, а здесь начиная с 2018 года резко растет цена квадратного метра (до этого два года наблюдалась стангнация, а еще годом раньше цены на рынке недвижимости упали). Спрос на квартиры вырос.\n",
    "\n",
    "Посмотрим, какие населенные пункты лидируют по количеству объявленний."
   ]
  },
  {
   "cell_type": "code",
   "execution_count": 972,
   "metadata": {},
   "outputs": [
    {
     "data": {
      "text/plain": [
       "locality_name\n",
       "санкт-петербург      15720\n",
       "посёлок мурино         522\n",
       "посёлок шушары         440\n",
       "всеволожск             398\n",
       "пушкин                 369\n",
       "колпино                338\n",
       "посёлок парголово      327\n",
       "гатчина                307\n",
       "деревня кудрово        299\n",
       "выборг                 237\n",
       "Name: last_price, dtype: int64"
      ]
     },
     "execution_count": 972,
     "metadata": {},
     "output_type": "execute_result"
    }
   ],
   "source": [
    "data.groupby('locality_name')['last_price'].count().sort_values(ascending=False).head(10)"
   ]
  },
  {
   "cell_type": "markdown",
   "metadata": {},
   "source": [
    "Поселок Мурино, второй по числу объявлений после Санкт-Петербурга, в апреле этого года получил статус города. То же самое, только годом раньше, случилось с деревней Кудрово, номер 9 в списке. Всеволожск и Выбобрг (4 и 10) -- тоже города, а все остальные населенные пункты из первой десятки административно входят в Санкт-Петербург. Причем Кудрово лежит в пределах Кольцевой автодороги, Мурино вплотную к ней примыкает, а Всеволожск удален от Санкт-Петербурга меньше, чем на 10 километров. То есть на самом деле все, кроме Выборга, это либо Санкт-Петербург, либо его пригороды. Посмотрим, как местоположение влияет на цену квадратного метра (статус Мурино и Кудрово менять не будем, потому что большую часть исследуемого периода они городами не были.)"
   ]
  },
  {
   "cell_type": "code",
   "execution_count": 973,
   "metadata": {},
   "outputs": [
    {
     "data": {
      "text/plain": [
       "locality_name\n",
       "санкт-петербург      102230.514096\n",
       "пушкин                99542.334096\n",
       "деревня кудрово       91831.871902\n",
       "посёлок парголово     91780.224134\n",
       "посёлок мурино        85878.462169\n",
       "посёлок шушары        76747.967480\n",
       "колпино               74725.274725\n",
       "гатчина               67925.849585\n",
       "всеволожск            65789.473684\n",
       "выборг                58133.213989\n",
       "Name: price_per_meter, dtype: float64"
      ]
     },
     "execution_count": 973,
     "metadata": {},
     "output_type": "execute_result"
    }
   ],
   "source": [
    "# превращаем предыдущую группировку в список населенных пунктов, фильтруем по нему датасет и смотрим медицану цены метра\n",
    "top10 = list(data.groupby('locality_name')['last_price'].count().sort_values(ascending=False).head(10).index)\n",
    "data_filtered.query('locality_name in @top10').groupby('locality_name')['price_per_meter'].median()\\\n",
    ".sort_values(ascending=False)"
   ]
  },
  {
   "cell_type": "markdown",
   "metadata": {},
   "source": [
    "Опять обошлось без сюрпризов: даже административное деление в пределах Санкт-Петербурга влияет на цену квадратного метра. В наиболее удаленных от центра Санкт-Петербурга Всеволожске и Выборге и квадратный метр дешевле. \n",
    "\n",
    "Интересно, насколько велика будет разница, если всю недвижимость в датасете поделить на городскую и сельскую? Сначала посмотрим, какие значения в принципе есть `locality_name`."
   ]
  },
  {
   "cell_type": "code",
   "execution_count": 974,
   "metadata": {},
   "outputs": [
    {
     "data": {
      "text/plain": [
       "array(['санкт-петербург', 'посёлок шушары', 'городской посёлок янино-1',\n",
       "       'посёлок парголово', 'посёлок мурино', 'ломоносов', 'сертолово',\n",
       "       'петергоф', 'пушкин', 'деревня кудрово', 'коммунар', 'колпино',\n",
       "       'поселок городского типа красный бор', 'гатчина', 'поселок мурино',\n",
       "       'деревня фёдоровское', 'выборг', 'кронштадт', 'кировск',\n",
       "       'деревня новое девяткино', 'посёлок металлострой',\n",
       "       'посёлок городского типа лебяжье',\n",
       "       'посёлок городского типа сиверский', 'поселок молодцово',\n",
       "       'поселок городского типа кузьмоловский',\n",
       "       'садовое товарищество новая ропша', 'павловск',\n",
       "       'деревня пикколово', 'всеволожск', 'волхов', 'кингисепп',\n",
       "       'приозерск', 'деревня куттузи', 'сестрорецк', 'посёлок аннино',\n",
       "       'посёлок плодовое', 'деревня заклинье', 'поселок первомайское',\n",
       "       'красное село', 'посёлок понтонный', 'сясьстрой', 'деревня старая',\n",
       "       'деревня лесколово', 'посёлок новый свет', 'село путилово',\n",
       "       'ивангород', 'мурино', 'шлиссельбург', 'никольское', 'зеленогорск',\n",
       "       'поселок новый свет', 'деревня оржицы', 'деревня кальтино',\n",
       "       'кудрово', 'поселок романовка', 'посёлок бугры', 'поселок бугры',\n",
       "       'сланцы', 'поселок городского типа рощино', 'сосновый бор',\n",
       "       'кириши', 'луга', 'волосово', 'отрадное', 'село павлово',\n",
       "       'село копорье', 'посёлок городского типа красный бор',\n",
       "       'посёлок молодёжное', 'тихвин', 'посёлок победа', 'деревня нурма',\n",
       "       'тосно', 'посёлок городского типа кузьмоловский',\n",
       "       'посёлок стрельна', 'деревня лопухинка', 'поселок терволово',\n",
       "       'поселок городского типа советский', 'подпорожье',\n",
       "       'посёлок петровское', 'посёлок городского типа токсово',\n",
       "       'поселок сельцо', 'посёлок городского типа вырица',\n",
       "       'деревня кипень', 'деревня келози', 'деревня вартемяги',\n",
       "       'посёлок тельмана', 'поселок севастьяново',\n",
       "       'городской поселок большая ижора', 'городской посёлок павлово',\n",
       "       'деревня агалатово', 'посёлок новогорелово', 'деревня лаголово',\n",
       "       'поселок цвелодубово', 'поселок городского типа рахья',\n",
       "       'поселок городского типа вырица', 'деревня белогорка',\n",
       "       'поселок заводской', 'городской посёлок новоселье',\n",
       "       'деревня большие колпаны', 'деревня горбунки', 'деревня батово',\n",
       "       'деревня заневка', 'деревня иссад', 'приморск',\n",
       "       'городской посёлок фёдоровское', 'деревня мистолово',\n",
       "       'новая ладога', 'поселок зимитицы', 'поселок барышево',\n",
       "       'деревня разметелево', 'поселок городского типа имени свердлова',\n",
       "       'деревня пеники', 'поселок рябово', 'деревня пудомяги',\n",
       "       'поселок станции корнево', 'деревня низино', 'деревня бегуницы',\n",
       "       'посёлок поляны', 'городской посёлок мга', 'поселок елизаветино',\n",
       "       'посёлок городского типа кузнечное',\n",
       "       'поселок городского типа синявино', 'деревня колтуши',\n",
       "       'поселок запорожское', 'посёлок городского типа рощино',\n",
       "       'деревня гостилицы', 'деревня малое карлино',\n",
       "       'посёлок мичуринское', 'посёлок городского типа имени морозова',\n",
       "       'посёлок песочный', 'посёлок сосново', 'деревня аро',\n",
       "       'поселок ильичёво', 'посёлок городского типа тайцы',\n",
       "       'деревня малое верево', 'деревня извара', 'поселок станции вещево',\n",
       "       'село паша', 'деревня калитино', 'неизвестно',\n",
       "       'посёлок городского типа ульяновка',\n",
       "       'поселок городского типа дубровка', 'деревня мины',\n",
       "       'поселок войсковицы', 'посёлок городского типа имени свердлова',\n",
       "       'деревня коркино', 'поселок городского типа приладожский',\n",
       "       'посёлок щеглово', 'посёлок гаврилово', 'лодейное поле',\n",
       "       'пикалёво', 'деревня рабитицы', 'деревня кузьмолово',\n",
       "       'деревня малые колпаны', 'поселок тельмана',\n",
       "       'посёлок петро-славянка', 'городской посёлок назия',\n",
       "       'посёлок ильичёво', 'поселок углово', 'поселок старая малукса',\n",
       "       'садовое товарищество рахья', 'поселок аннино', 'поселок победа',\n",
       "       'деревня меньково', 'деревня старые бегуницы', 'посёлок сапёрный',\n",
       "       'поселок семрино', 'поселок гаврилово', 'поселок глажево',\n",
       "       'поселок кобринское', 'деревня гарболово', 'деревня юкки',\n",
       "       'поселок станции приветнинское', 'деревня мануйлово',\n",
       "       'деревня пчева', 'поселок поляны', 'поселок мельниково',\n",
       "       'посёлок пудость', 'посёлок усть-луга', 'светогорск', 'любань',\n",
       "       'поселок селезнёво', 'поселок городского типа рябово',\n",
       "       'каменногорск', 'деревня кривко', 'поселок глебычево',\n",
       "       'деревня парицы', 'поселок жилпосёлок',\n",
       "       'посёлок городского типа мга', 'городской поселок янино-1',\n",
       "       'посёлок войскорово', 'село никольское', 'посёлок терволово',\n",
       "       'поселок стеклянный', 'посёлок мыза-ивановка',\n",
       "       'село русско-высоцкое', 'поселок городского типа лебяжье',\n",
       "       'поселок городского типа форносово', 'село старая ладога',\n",
       "       'городской посёлок виллози', 'деревня лампово',\n",
       "       'деревня шпаньково', 'деревня лаврики', 'посёлок возрождение',\n",
       "       'деревня старосиверская', 'посёлок кикерино',\n",
       "       'поселок возрождение', 'деревня старое хинколово',\n",
       "       'посёлок пригородный', 'посёлок торфяное', 'поселок суходолье',\n",
       "       'поселок красная долина', 'деревня хапо-ое',\n",
       "       'поселок городского типа дружная горка', 'поселок лисий нос',\n",
       "       'деревня яльгелево', 'посёлок стеклянный', 'село рождествено',\n",
       "       'посёлок левашово', 'деревня сяськелево', 'деревня камышовка',\n",
       "       'садоводческое некоммерческое товарищество лесная поляна',\n",
       "       'поселок жилгородок', 'посёлок городского типа павлово',\n",
       "       'поселок новый учхоз', 'городской посёлок рощино',\n",
       "       'поселок гончарово', 'посёлок сапёрное',\n",
       "       'посёлок платформа 69-й километр', 'поселок каложицы',\n",
       "       'посёлок белоостров', 'посёлок алексеевка', 'поселок лукаши',\n",
       "       'поселок петровское', 'деревня щеглово', 'поселок мичуринское',\n",
       "       'деревня тарасово', 'поселок кингисеппский',\n",
       "       'посёлок при железнодорожной станции вещево', 'поселок ушаки',\n",
       "       'деревня котлы', 'деревня торосово', 'посёлок форт красная горка',\n",
       "       'поселок городского типа токсово', 'деревня новолисино',\n",
       "       'посёлок станции громово', 'деревня глинка', 'посёлок мельниково',\n",
       "       'поселок городского типа назия', 'деревня старая пустошь',\n",
       "       'поселок коммунары', 'поселок починок',\n",
       "       'посёлок городского типа вознесенье', 'посёлок репино',\n",
       "       'деревня разбегаево', 'посёлок городского типа рябово',\n",
       "       'поселок гладкое',\n",
       "       'посёлок при железнодорожной станции приветнинское',\n",
       "       'посёлок жилгородок', 'посёлок коробицыно',\n",
       "       'деревня большая вруда', 'городской посёлок лесогорский',\n",
       "       'деревня курковицы', 'посёлок лисий нос',\n",
       "       'городской посёлок советский', 'посёлок кобралово',\n",
       "       'деревня суоранда', 'поселок кобралово',\n",
       "       'поселок городского типа кондратьево',\n",
       "       'коттеджный поселок счастье', 'поселок любань', 'деревня реброво',\n",
       "       'городской посёлок будогощь', 'деревня зимитицы',\n",
       "       'деревня тойворово', 'поселок семиозерье', 'поселок лесное',\n",
       "       'поселок усть-луга', 'посёлок ленинское', 'посёлок суйда',\n",
       "       'посёлок городского типа форносово', 'поселок торковичи',\n",
       "       'деревня нижние осельки', 'поселок перово', 'высоцк',\n",
       "       'поселок гарболово', 'село шум', 'поселок котельский',\n",
       "       'посёлок городского типа важины', 'деревня большая пустомержа',\n",
       "       'поселок красносельское', 'деревня пижма',\n",
       "       'коттеджный поселок кивеннапа север', 'поселок коробицыно',\n",
       "       'поселок ромашки', 'посёлок перово', 'деревня каськово',\n",
       "       'деревня куровицы', 'поселок сумино',\n",
       "       'поселок городского типа большая ижора', 'поселок кирпичное',\n",
       "       'деревня раздолье', 'деревня терпилицы', 'деревня ваганово',\n",
       "       'поселок пушное', 'садовое товарищество садко',\n",
       "       'посёлок усть-ижора', 'поселок городского типа лесогорский',\n",
       "       'городской посёлок свирьстрой', 'поселок громово',\n",
       "       'посёлок старая малукса', 'деревня трубников бор',\n",
       "       'поселок калитино', 'посёлок высокоключевой',\n",
       "       'садовое товарищество приладожский',\n",
       "       'посёлок пансионат зелёный бор', 'деревня ненимяки',\n",
       "       'поселок пансионат зелёный бор', 'деревня снегирёвка',\n",
       "       'посёлок александровская', 'деревня рапполово', 'деревня пустынка',\n",
       "       'поселок рабитицы', 'деревня русско', 'деревня лупполово',\n",
       "       'деревня большое рейзино', 'поселок дружноселье',\n",
       "       'коттеджный посёлок лесное', 'деревня борисова грива',\n",
       "       'посёлок дзержинского'], dtype=object)"
      ]
     },
     "execution_count": 974,
     "metadata": {},
     "output_type": "execute_result"
    }
   ],
   "source": [
    "data_filtered.locality_name.unique()"
   ]
  },
  {
   "cell_type": "markdown",
   "metadata": {},
   "source": [
    "Во многих случаях тип населенного пункта указан вместе с названием. Попробуем отфильтровать датасет по этому принципу."
   ]
  },
  {
   "cell_type": "code",
   "execution_count": 975,
   "metadata": {},
   "outputs": [
    {
     "data": {
      "text/plain": [
       "array(['санкт-петербург', 'ломоносов', 'сертолово', 'петергоф', 'пушкин',\n",
       "       'коммунар', 'колпино', 'гатчина', 'выборг', 'кронштадт', 'кировск',\n",
       "       'павловск', 'всеволожск', 'волхов', 'кингисепп', 'приозерск',\n",
       "       'сестрорецк', 'сясьстрой', 'ивангород', 'мурино', 'шлиссельбург',\n",
       "       'никольское', 'зеленогорск', 'кудрово', 'сланцы', 'сосновый бор',\n",
       "       'кириши', 'луга', 'волосово', 'отрадное', 'тихвин', 'тосно',\n",
       "       'подпорожье', 'приморск', 'новая ладога', 'неизвестно',\n",
       "       'лодейное поле', 'пикалёво', 'светогорск', 'любань',\n",
       "       'каменногорск', 'высоцк'], dtype=object)"
      ]
     },
     "execution_count": 975,
     "metadata": {},
     "output_type": "execute_result"
    }
   ],
   "source": [
    "data_filtered[~data_filtered['locality_name'].str.contains(\n",
    "    'поселок|посёлок|деревня|село|садовое товарищество|садоводческое некоммерческое товарищество'\n",
    ")]['locality_name'].unique()"
   ]
  },
  {
   "cell_type": "markdown",
   "metadata": {},
   "source": [
    "Отлично. Видимо, данные о населенном пункте вносились автоматически, раз без всякой лемматизации получился такой чистый список. Он достаточно короткий, чтобы пробежать его глазами и убедиться, что все остальные населенные пункты в столбце `locality_name` -- это города (или части городов, как Петергоф). Теперь создадим новый столбец, в котором отделим города от сельских населенных пунктов и немногочисленных пропусков. Затем посмотрим, как отличается цена квадратного метра."
   ]
  },
  {
   "cell_type": "code",
   "execution_count": 976,
   "metadata": {},
   "outputs": [
    {
     "data": {
      "text/plain": [
       "locality_type\n",
       "город    97058.823529\n",
       "село     71725.951157\n",
       "Name: price_per_meter, dtype: float64"
      ]
     },
     "execution_count": 976,
     "metadata": {},
     "output_type": "execute_result"
    }
   ],
   "source": [
    "def define_locality_type(string):\n",
    "    if 'поселок' in string or 'посёлок' in string or 'деревня' in string or 'село' in string or \\\n",
    "    'садовое товарищество' in string or 'садоводческое некоммерческое товарищество' in string:\n",
    "        return 'село'\n",
    "    if 'неизвестно' in string:\n",
    "        return 'неизвестно'\n",
    "    else:\n",
    "        return 'город'\n",
    "\n",
    "data_filtered['locality_type'] = data_filtered.locality_name.apply(define_locality_type)\n",
    "\n",
    "data_filtered.query('locality_type == \"город\" or locality_type == \"село\"')\\\n",
    ".groupby('locality_type')['price_per_meter'].median()"
   ]
  },
  {
   "cell_type": "markdown",
   "metadata": {},
   "source": [
    "Выходит, в Гатчине, Всеволожске и особенно Выборге цена метра недвижимости ниже сельской. Наверняка в значительной степени из-за таких \"деревень\", как Мурино и Кудрово. Кстати, на их примере удобно исследовать влияние статуса города на цену квадратного метра (сравнить цены на недвижимость до и после изменения статуса с поправкой на динамику рынка в целом).\n",
    "\n",
    "Теперь сравним квартиры \"в центре\" и не в центре. Санкт-Петербург и так домиинирует в датасете, но все же отберем только строки с \"санкт-петерубргом\" в `locality_name`. За условную границу центра примем окружность радиусом не менее 4 км: с одной стороны, это чуть больше расстояния от Адмиралтейства до Московского вокзала или Обводного канала, с другой стороны -- как раз включает в себя ядро первой зоны, которую мы видели на диаграмме рассеивания выше. Еще один критерий -- в выборке должно оказаться не менее 1000 строк. Внешнюю границу исследуемой области проведем в 15 км от центра: сюда попадет территория в границах Кольцевой автодороги и часть пригородов."
   ]
  },
  {
   "cell_type": "code",
   "execution_count": 977,
   "metadata": {},
   "outputs": [
    {
     "data": {
      "text/plain": [
       "1000"
      ]
     },
     "execution_count": 977,
     "metadata": {},
     "output_type": "execute_result"
    }
   ],
   "source": [
    "downtown = data_filtered.query('cityCenters_nearest <= 5130 and locality_name == \"санкт-петербург\"')\n",
    "len(downtown)"
   ]
  },
  {
   "cell_type": "code",
   "execution_count": 978,
   "metadata": {},
   "outputs": [
    {
     "data": {
      "text/plain": [
       "8479"
      ]
     },
     "execution_count": 978,
     "metadata": {},
     "output_type": "execute_result"
    }
   ],
   "source": [
    "suburbs = data_filtered.query('5130 < cityCenters_nearest <= 15000 and locality_name == \"санкт-петербург\"')\n",
    "len(suburbs)"
   ]
  },
  {
   "cell_type": "markdown",
   "metadata": {},
   "source": [
    "Cоставим таблицу, в которой данные будут представлены для обеих выборок с разбивкой по числу комнат."
   ]
  },
  {
   "cell_type": "code",
   "execution_count": 979,
   "metadata": {},
   "outputs": [
    {
     "data": {
      "text/html": [
       "<div>\n",
       "<style scoped>\n",
       "    .dataframe tbody tr th:only-of-type {\n",
       "        vertical-align: middle;\n",
       "    }\n",
       "\n",
       "    .dataframe tbody tr th {\n",
       "        vertical-align: top;\n",
       "    }\n",
       "\n",
       "    .dataframe thead th {\n",
       "        text-align: right;\n",
       "    }\n",
       "</style>\n",
       "<table border=\"1\" class=\"dataframe\">\n",
       "  <thead>\n",
       "    <tr style=\"text-align: right;\">\n",
       "      <th></th>\n",
       "      <th>price_per_meter_dt</th>\n",
       "      <th>price_per_meter_su</th>\n",
       "      <th>total_area_dt</th>\n",
       "      <th>total_area_su</th>\n",
       "      <th>cityCenters_nearest_dt</th>\n",
       "      <th>cityCenters_nearest_su</th>\n",
       "      <th>count_dt</th>\n",
       "      <th>count_su</th>\n",
       "    </tr>\n",
       "    <tr>\n",
       "      <th>rooms</th>\n",
       "      <th></th>\n",
       "      <th></th>\n",
       "      <th></th>\n",
       "      <th></th>\n",
       "      <th></th>\n",
       "      <th></th>\n",
       "      <th></th>\n",
       "      <th></th>\n",
       "    </tr>\n",
       "  </thead>\n",
       "  <tbody>\n",
       "    <tr>\n",
       "      <th>0</th>\n",
       "      <td>129879.108030</td>\n",
       "      <td>123541.416904</td>\n",
       "      <td>19.525000</td>\n",
       "      <td>28.320312</td>\n",
       "      <td>3177.000000</td>\n",
       "      <td>11838.531250</td>\n",
       "      <td>4</td>\n",
       "      <td>64</td>\n",
       "    </tr>\n",
       "    <tr>\n",
       "      <th>1</th>\n",
       "      <td>130941.994040</td>\n",
       "      <td>114052.239439</td>\n",
       "      <td>41.879737</td>\n",
       "      <td>37.645404</td>\n",
       "      <td>4070.500000</td>\n",
       "      <td>11830.963771</td>\n",
       "      <td>152</td>\n",
       "      <td>2981</td>\n",
       "    </tr>\n",
       "    <tr>\n",
       "      <th>2</th>\n",
       "      <td>117254.181209</td>\n",
       "      <td>106139.882330</td>\n",
       "      <td>63.006147</td>\n",
       "      <td>55.182224</td>\n",
       "      <td>3601.050992</td>\n",
       "      <td>11383.251398</td>\n",
       "      <td>353</td>\n",
       "      <td>3039</td>\n",
       "    </tr>\n",
       "    <tr>\n",
       "      <th>3</th>\n",
       "      <td>110735.492102</td>\n",
       "      <td>99628.366877</td>\n",
       "      <td>80.302678</td>\n",
       "      <td>73.081936</td>\n",
       "      <td>3623.806268</td>\n",
       "      <td>11336.549010</td>\n",
       "      <td>351</td>\n",
       "      <td>2071</td>\n",
       "    </tr>\n",
       "    <tr>\n",
       "      <th>4</th>\n",
       "      <td>98404.332208</td>\n",
       "      <td>91325.447152</td>\n",
       "      <td>94.934146</td>\n",
       "      <td>80.918590</td>\n",
       "      <td>3478.308943</td>\n",
       "      <td>10997.268852</td>\n",
       "      <td>123</td>\n",
       "      <td>305</td>\n",
       "    </tr>\n",
       "    <tr>\n",
       "      <th>5</th>\n",
       "      <td>110660.940022</td>\n",
       "      <td>82278.063975</td>\n",
       "      <td>98.778571</td>\n",
       "      <td>91.429412</td>\n",
       "      <td>3524.285714</td>\n",
       "      <td>11723.294118</td>\n",
       "      <td>14</td>\n",
       "      <td>17</td>\n",
       "    </tr>\n",
       "    <tr>\n",
       "      <th>6</th>\n",
       "      <td>105912.232988</td>\n",
       "      <td>110594.400896</td>\n",
       "      <td>107.666667</td>\n",
       "      <td>94.500000</td>\n",
       "      <td>3430.000000</td>\n",
       "      <td>11868.000000</td>\n",
       "      <td>3</td>\n",
       "      <td>2</td>\n",
       "    </tr>\n",
       "  </tbody>\n",
       "</table>\n",
       "</div>"
      ],
      "text/plain": [
       "       price_per_meter_dt  price_per_meter_su  total_area_dt  total_area_su  \\\n",
       "rooms                                                                         \n",
       "0           129879.108030       123541.416904      19.525000      28.320312   \n",
       "1           130941.994040       114052.239439      41.879737      37.645404   \n",
       "2           117254.181209       106139.882330      63.006147      55.182224   \n",
       "3           110735.492102        99628.366877      80.302678      73.081936   \n",
       "4            98404.332208        91325.447152      94.934146      80.918590   \n",
       "5           110660.940022        82278.063975      98.778571      91.429412   \n",
       "6           105912.232988       110594.400896     107.666667      94.500000   \n",
       "\n",
       "       cityCenters_nearest_dt  cityCenters_nearest_su  count_dt  count_su  \n",
       "rooms                                                                      \n",
       "0                 3177.000000            11838.531250         4        64  \n",
       "1                 4070.500000            11830.963771       152      2981  \n",
       "2                 3601.050992            11383.251398       353      3039  \n",
       "3                 3623.806268            11336.549010       351      2071  \n",
       "4                 3478.308943            10997.268852       123       305  \n",
       "5                 3524.285714            11723.294118        14        17  \n",
       "6                 3430.000000            11868.000000         3         2  "
      ]
     },
     "execution_count": 979,
     "metadata": {},
     "output_type": "execute_result"
    }
   ],
   "source": [
    "# выделим интересующие нас столбцы\n",
    "columns_of_interest = ['price_per_meter', 'total_area', 'cityCenters_nearest']\n",
    "\n",
    "# посчитаем средние\n",
    "downtown_grouped = downtown.groupby('rooms')[columns_of_interest].mean()\n",
    "suburbs_grouped = suburbs.groupby('rooms')[columns_of_interest].mean()\n",
    "\n",
    "# объединим таблицы\n",
    "downtown_vs_suburbs = downtown_grouped.join(suburbs_grouped, lsuffix='_dt', rsuffix='_su')\n",
    "\n",
    "# добавим информацию о количестве квартир с разным количеством комнат\n",
    "downtown_vs_suburbs['count_dt'] = downtown.groupby('rooms')['last_price'].count()\n",
    "downtown_vs_suburbs['count_su'] = suburbs.groupby('rooms')['last_price'].count()\n",
    "\n",
    "# для наглядности изменим порядок столбцов\n",
    "downtown_vs_suburbs[['price_per_meter_dt', 'price_per_meter_su', 'total_area_dt', 'total_area_su', \n",
    "                     'cityCenters_nearest_dt', 'cityCenters_nearest_su', 'count_dt', 'count_su']]"
   ]
  },
  {
   "cell_type": "markdown",
   "metadata": {},
   "source": [
    "Делать вывыды о студиях/квартирах открытой планировки и о квартирах с числом комнат больше 4 мы не можем, слишком мало информации.\n",
    "\n",
    "Разница в цене метра между центром и окраинами сильнее всего проявляется на однокомнатных квартирах, а слабее всего -- на четырехкомнатных. На 2-3-комнатных она примерно одинакова. Квартиры в центре просторнее, независимо от количества комнат. В обеих зонах чем ближе к центру, тем больше в среднем в квартире комнат, но двушки и трешки располагаются примерно на одинаковом удалении (3,61 и 11,35 км от центра соответственно) -- и это единственный сегмент, который можно выделить в обеих выборках."
   ]
  },
  {
   "cell_type": "code",
   "execution_count": 980,
   "metadata": {},
   "outputs": [
    {
     "data": {
      "text/plain": [
       "<matplotlib.axes._subplots.AxesSubplot at 0x7f7328767438>"
      ]
     },
     "execution_count": 980,
     "metadata": {},
     "output_type": "execute_result"
    },
    {
     "data": {
      "image/png": "[encoded data removed]",
      "text/plain": [
       "<Figure size 432x288 with 1 Axes>"
      ]
     },
     "metadata": {
      "needs_background": "light"
     },
     "output_type": "display_data"
    }
   ],
   "source": [
    "downtown_vs_suburbs.boxplot(['price_per_meter_dt', 'price_per_meter_su'])"
   ]
  },
  {
   "cell_type": "markdown",
   "metadata": {},
   "source": [
    "Ценовая вилка в пригорордах шире, чем в центре. Медианы в обеих выборках стремятся навстречу друг другу -- к цене в районе 108 тыс. за кв. м."
   ]
  },
  {
   "cell_type": "code",
   "execution_count": 981,
   "metadata": {},
   "outputs": [
    {
     "data": {
      "text/plain": [
       "<matplotlib.axes._subplots.AxesSubplot at 0x7f73288295f8>"
      ]
     },
     "execution_count": 981,
     "metadata": {},
     "output_type": "execute_result"
    },
    {
     "data": {
      "image/png": "[encoded data removed]",
      "text/plain": [
       "<Figure size 432x288 with 1 Axes>"
      ]
     },
     "metadata": {
      "needs_background": "light"
     },
     "output_type": "display_data"
    }
   ],
   "source": [
    "downtown_vs_suburbs.boxplot(['total_area_dt', 'total_area_su'])"
   ]
  },
  {
   "cell_type": "markdown",
   "metadata": {},
   "source": [
    "Квартиры-студии и многокомнатные квартиры, которые мы не учитывали в разбивке по числу комнат, здесь заметно расширяют диапазон значений для центральной выборки.\n",
    "\n",
    "Сравним корреляцию основных факторов в трех выборках: общей, центральной и пригородной."
   ]
  },
  {
   "cell_type": "code",
   "execution_count": 982,
   "metadata": {},
   "outputs": [
    {
     "data": {
      "text/html": [
       "<div>\n",
       "<style scoped>\n",
       "    .dataframe tbody tr th:only-of-type {\n",
       "        vertical-align: middle;\n",
       "    }\n",
       "\n",
       "    .dataframe tbody tr th {\n",
       "        vertical-align: top;\n",
       "    }\n",
       "\n",
       "    .dataframe thead th {\n",
       "        text-align: right;\n",
       "    }\n",
       "</style>\n",
       "<table border=\"1\" class=\"dataframe\">\n",
       "  <thead>\n",
       "    <tr style=\"text-align: right;\">\n",
       "      <th></th>\n",
       "      <th>last_price_all</th>\n",
       "      <th>last_price_dt</th>\n",
       "      <th>last_price_su</th>\n",
       "    </tr>\n",
       "    <tr>\n",
       "      <th>index</th>\n",
       "      <th></th>\n",
       "      <th></th>\n",
       "      <th></th>\n",
       "    </tr>\n",
       "  </thead>\n",
       "  <tbody>\n",
       "    <tr>\n",
       "      <th>last_price</th>\n",
       "      <td>1.000000</td>\n",
       "      <td>1.000000</td>\n",
       "      <td>1.000000</td>\n",
       "    </tr>\n",
       "    <tr>\n",
       "      <th>total_area</th>\n",
       "      <td>0.756741</td>\n",
       "      <td>0.772403</td>\n",
       "      <td>0.857445</td>\n",
       "    </tr>\n",
       "    <tr>\n",
       "      <th>price_per_meter</th>\n",
       "      <td>0.627097</td>\n",
       "      <td>0.355978</td>\n",
       "      <td>0.457698</td>\n",
       "    </tr>\n",
       "    <tr>\n",
       "      <th>living_area</th>\n",
       "      <td>0.622847</td>\n",
       "      <td>0.644572</td>\n",
       "      <td>0.696306</td>\n",
       "    </tr>\n",
       "    <tr>\n",
       "      <th>kitchen_area</th>\n",
       "      <td>0.520233</td>\n",
       "      <td>0.387622</td>\n",
       "      <td>0.601688</td>\n",
       "    </tr>\n",
       "    <tr>\n",
       "      <th>rooms</th>\n",
       "      <td>0.472520</td>\n",
       "      <td>0.486822</td>\n",
       "      <td>0.512842</td>\n",
       "    </tr>\n",
       "    <tr>\n",
       "      <th>ceiling_height</th>\n",
       "      <td>0.431924</td>\n",
       "      <td>0.129898</td>\n",
       "      <td>0.433267</td>\n",
       "    </tr>\n",
       "    <tr>\n",
       "      <th>floors_total</th>\n",
       "      <td>0.211930</td>\n",
       "      <td>0.165955</td>\n",
       "      <td>0.217128</td>\n",
       "    </tr>\n",
       "    <tr>\n",
       "      <th>total_images</th>\n",
       "      <td>0.166601</td>\n",
       "      <td>0.075993</td>\n",
       "      <td>0.156656</td>\n",
       "    </tr>\n",
       "    <tr>\n",
       "      <th>floor</th>\n",
       "      <td>0.145727</td>\n",
       "      <td>0.226721</td>\n",
       "      <td>0.145997</td>\n",
       "    </tr>\n",
       "  </tbody>\n",
       "</table>\n",
       "</div>"
      ],
      "text/plain": [
       "                 last_price_all  last_price_dt  last_price_su\n",
       "index                                                        \n",
       "last_price             1.000000       1.000000       1.000000\n",
       "total_area             0.756741       0.772403       0.857445\n",
       "price_per_meter        0.627097       0.355978       0.457698\n",
       "living_area            0.622847       0.644572       0.696306\n",
       "kitchen_area           0.520233       0.387622       0.601688\n",
       "rooms                  0.472520       0.486822       0.512842\n",
       "ceiling_height         0.431924       0.129898       0.433267\n",
       "floors_total           0.211930       0.165955       0.217128\n",
       "total_images           0.166601       0.075993       0.156656\n",
       "floor                  0.145727       0.226721       0.145997"
      ]
     },
     "execution_count": 982,
     "metadata": {},
     "output_type": "execute_result"
    }
   ],
   "source": [
    "compare_corrs = data_filtered.corr().loc['last_price'].reset_index().set_index('index').merge(\n",
    "    downtown.corr().loc['last_price'].reset_index().set_index('index'), left_index=True, right_index=True).merge(\n",
    "    suburbs.corr().loc['last_price'].reset_index().set_index('index'), left_index=True, right_index=True)\n",
    "\n",
    "compare_corrs.columns = ['last_price_all', 'last_price_dt', 'last_price_su']\n",
    "\n",
    "compare_corrs.sort_values('last_price_all', ascending=False).head(10)"
   ]
  },
  {
   "cell_type": "markdown",
   "metadata": {},
   "source": [
    "В центре общая площадь квартиры коррелирует с ее ценой примерно так же, как и в общей выборке, а в пригороде коэффициент корреляции заметно выше (0,76, 0,77 и 0,85). Другими словами, в спальных районах главное достоинство квартиры -- ее общая площадь. \n",
    "\n",
    "Из следующих строк видно, что эта разница обеспечивается во многом вниманием к площади кухни и лишь в малой степени -- к площади жилых помещений и количеству комнат: в центре корреляция `kitchen_area` с итоговой ценой на 0,13 слабее, чем в общей выборке, а в пригородах -- на 0,08 сильнее. Разница между центром и пригородом очень заметная: 0,21. \n",
    "\n",
    "Еще можно сделать вывод, что продавцы и покупатели квартир в центре значительно меньше внимания уделяют высоте потолков: коэффициент Пирсона отличается на целых 0,3 (0,43 в общей и пригородной выборках против 0,13 в центральной).\n",
    "\n",
    "Перейдем к изучению апартаментов, студий и квартир свободной планировки. Сравним их с остальными квартирами по средним значениям цены за квадратный метр, площади, срокам экспозиции и удаленности от центра. Для этого сначала создадим вспомогательный столбец с маркерами."
   ]
  },
  {
   "cell_type": "code",
   "execution_count": 983,
   "metadata": {},
   "outputs": [
    {
     "data": {
      "text/plain": [
       "233"
      ]
     },
     "execution_count": 983,
     "metadata": {},
     "output_type": "execute_result"
    }
   ],
   "source": [
    "data_filtered.loc[\n",
    "    (data_filtered['apartment'] == True) | \n",
    "    (data_filtered['studio'] == True) | \n",
    "    (data_filtered['open_plan'] == True), \n",
    "    'typical_or_not'] = 'untypical'\n",
    "\n",
    "data_filtered.loc[\n",
    "    (data_filtered['apartment'] != True) & \n",
    "    (data_filtered['studio'] != True) & \n",
    "    (data_filtered['open_plan'] != True), \n",
    "    'typical_or_not'] = 'typical'\n",
    "\n",
    "len(data_filtered.query('typical_or_not == \"untypical\"'))"
   ]
  },
  {
   "cell_type": "markdown",
   "metadata": {},
   "source": [
    "Выборка нетипичных квартир получилась совсем маленькая, но делать нечего."
   ]
  },
  {
   "cell_type": "code",
   "execution_count": 984,
   "metadata": {},
   "outputs": [
    {
     "data": {
      "text/plain": [
       "<matplotlib.axes._subplots.AxesSubplot at 0x7f73289728d0>"
      ]
     },
     "execution_count": 984,
     "metadata": {},
     "output_type": "execute_result"
    },
    {
     "data": {
      "image/png": "[encoded data removed]",
      "text/plain": [
       "<Figure size 432x288 with 1 Axes>"
      ]
     },
     "metadata": {
      "needs_background": "light"
     },
     "output_type": "display_data"
    }
   ],
   "source": [
    "data_filtered.boxplot(column='price_per_meter', by='typical_or_not')"
   ]
  },
  {
   "cell_type": "markdown",
   "metadata": {},
   "source": [
    "Ставка за квадратный метр в нетипичных квартирах начинается с 50 тыс. рублей, что почти в два раза дороже, чем у самых дешевых из обычных квартир. Дорогие квариры в обеих категориях стоят одинаково."
   ]
  },
  {
   "cell_type": "code",
   "execution_count": 985,
   "metadata": {},
   "outputs": [
    {
     "data": {
      "text/plain": [
       "<matplotlib.axes._subplots.AxesSubplot at 0x7f7328972860>"
      ]
     },
     "execution_count": 985,
     "metadata": {},
     "output_type": "execute_result"
    },
    {
     "data": {
      "image/png": "[encoded data removed]",
      "text/plain": [
       "<Figure size 432x288 with 1 Axes>"
      ]
     },
     "metadata": {
      "needs_background": "light"
     },
     "output_type": "display_data"
    }
   ],
   "source": [
    "data_filtered.boxplot(column='total_area', by='typical_or_not')"
   ]
  },
  {
   "cell_type": "markdown",
   "metadata": {},
   "source": [
    "Площадь нетипичных квартир очень редко превышаает 40 кв. м. Обычные квартиры часто бывают в 2,5 раза больше."
   ]
  },
  {
   "cell_type": "code",
   "execution_count": 986,
   "metadata": {},
   "outputs": [
    {
     "data": {
      "text/plain": [
       "<matplotlib.axes._subplots.AxesSubplot at 0x7f7328a268d0>"
      ]
     },
     "execution_count": 986,
     "metadata": {},
     "output_type": "execute_result"
    },
    {
     "data": {
      "image/png": "[encoded data removed]",
      "text/plain": [
       "<Figure size 432x288 with 1 Axes>"
      ]
     },
     "metadata": {
      "needs_background": "light"
     },
     "output_type": "display_data"
    }
   ],
   "source": [
    "data_filtered.boxplot(column='days_exposition', by='typical_or_not')"
   ]
  },
  {
   "cell_type": "markdown",
   "metadata": {},
   "source": [
    "Нетипичные квартиры обычно продаются значительно быстрее типичных. На целых 150 дней."
   ]
  },
  {
   "cell_type": "code",
   "execution_count": 987,
   "metadata": {},
   "outputs": [
    {
     "data": {
      "text/plain": [
       "<matplotlib.axes._subplots.AxesSubplot at 0x7f732871b400>"
      ]
     },
     "execution_count": 987,
     "metadata": {},
     "output_type": "execute_result"
    },
    {
     "data": {
      "image/png": "[encoded data removed]",
      "text/plain": [
       "<Figure size 432x288 with 1 Axes>"
      ]
     },
     "metadata": {
      "needs_background": "light"
     },
     "output_type": "display_data"
    }
   ],
   "source": [
    "data_filtered.boxplot(column='cityCenters_nearest', by='typical_or_not')"
   ]
  },
  {
   "cell_type": "markdown",
   "metadata": {},
   "source": [
    "По удаленности от центра значимых различий не видно. \n",
    "\n",
    "Посмотрим, отличаются ли корреляции между этими параметрами и общей ценой квартир в двух категориях."
   ]
  },
  {
   "cell_type": "code",
   "execution_count": 988,
   "metadata": {},
   "outputs": [
    {
     "data": {
      "text/html": [
       "<div>\n",
       "<style scoped>\n",
       "    .dataframe tbody tr th:only-of-type {\n",
       "        vertical-align: middle;\n",
       "    }\n",
       "\n",
       "    .dataframe tbody tr th {\n",
       "        vertical-align: top;\n",
       "    }\n",
       "\n",
       "    .dataframe thead th {\n",
       "        text-align: right;\n",
       "    }\n",
       "</style>\n",
       "<table border=\"1\" class=\"dataframe\">\n",
       "  <thead>\n",
       "    <tr style=\"text-align: right;\">\n",
       "      <th></th>\n",
       "      <th>last_price_typ</th>\n",
       "      <th>last_price_untyp</th>\n",
       "    </tr>\n",
       "    <tr>\n",
       "      <th>index</th>\n",
       "      <th></th>\n",
       "      <th></th>\n",
       "    </tr>\n",
       "  </thead>\n",
       "  <tbody>\n",
       "    <tr>\n",
       "      <th>last_price</th>\n",
       "      <td>1.000000</td>\n",
       "      <td>1.000000</td>\n",
       "    </tr>\n",
       "    <tr>\n",
       "      <th>total_area</th>\n",
       "      <td>0.754992</td>\n",
       "      <td>0.858197</td>\n",
       "    </tr>\n",
       "    <tr>\n",
       "      <th>price_per_meter</th>\n",
       "      <td>0.634608</td>\n",
       "      <td>0.416286</td>\n",
       "    </tr>\n",
       "    <tr>\n",
       "      <th>living_area</th>\n",
       "      <td>0.619800</td>\n",
       "      <td>0.776256</td>\n",
       "    </tr>\n",
       "    <tr>\n",
       "      <th>kitchen_area</th>\n",
       "      <td>0.520923</td>\n",
       "      <td>0.119059</td>\n",
       "    </tr>\n",
       "    <tr>\n",
       "      <th>rooms</th>\n",
       "      <td>0.467462</td>\n",
       "      <td>0.666265</td>\n",
       "    </tr>\n",
       "    <tr>\n",
       "      <th>ceiling_height</th>\n",
       "      <td>0.437001</td>\n",
       "      <td>0.372411</td>\n",
       "    </tr>\n",
       "    <tr>\n",
       "      <th>floors_total</th>\n",
       "      <td>0.222944</td>\n",
       "      <td>-0.248596</td>\n",
       "    </tr>\n",
       "    <tr>\n",
       "      <th>total_images</th>\n",
       "      <td>0.164242</td>\n",
       "      <td>0.266485</td>\n",
       "    </tr>\n",
       "    <tr>\n",
       "      <th>floor</th>\n",
       "      <td>0.151674</td>\n",
       "      <td>-0.046963</td>\n",
       "    </tr>\n",
       "  </tbody>\n",
       "</table>\n",
       "</div>"
      ],
      "text/plain": [
       "                 last_price_typ  last_price_untyp\n",
       "index                                            \n",
       "last_price             1.000000          1.000000\n",
       "total_area             0.754992          0.858197\n",
       "price_per_meter        0.634608          0.416286\n",
       "living_area            0.619800          0.776256\n",
       "kitchen_area           0.520923          0.119059\n",
       "rooms                  0.467462          0.666265\n",
       "ceiling_height         0.437001          0.372411\n",
       "floors_total           0.222944         -0.248596\n",
       "total_images           0.164242          0.266485\n",
       "floor                  0.151674         -0.046963"
      ]
     },
     "execution_count": 988,
     "metadata": {},
     "output_type": "execute_result"
    }
   ],
   "source": [
    "typical_corr = data_filtered.query('typical_or_not == \"typical\"').corr().loc['last_price'].reset_index()\\\n",
    ".set_index('index')\n",
    "\n",
    "untypical_corr = data_filtered.query('typical_or_not == \"untypical\"').corr().loc['last_price'].reset_index()\\\n",
    ".set_index('index')\n",
    "\n",
    "compare_corrs_2 = typical_corr.merge(untypical_corr, left_index=True, right_index=True, suffixes=('_typ', '_untyp'))\n",
    "compare_corrs_2.sort_values('last_price_typ', ascending=False).head(10)    "
   ]
  },
  {
   "cell_type": "markdown",
   "metadata": {},
   "source": [
    "В квартирах нетиповой планировки цена коррелирует с площадью сильнее, чем в обычных. Разница в строке `kitchen_area` объясняется тем, что в квартирах нетиповой планировки кухня совмещена с жилой площадью и отдельно не учитывается. Каждая лишняя комната сказывается на цене нетиповых квартир сильнее, чем типовых."
   ]
  },
  {
   "cell_type": "markdown",
   "metadata": {},
   "source": [
    "### Выводы. <span style=\"color:green;font-size:200%\">&#10003;</span>"
   ]
  },
  {
   "cell_type": "markdown",
   "metadata": {},
   "source": [
    "Мы исследовали рынок жилой недвижимости Санкт-Петербурга за последние пять лет и выявили основные параметры продаваемых квартир:\n",
    "\n",
    "* количество комнат до 6, в среднем чуть меньше 2\n",
    "* общая площадь от 13 до 115 кв. м, в среднем 53 кв. м\n",
    "* цена за квадратный метр от 22 до 162 тыс. рублей, среднее и медианное значения -- 92 и 93 тыс.\n",
    "* стоимость за всю квартиру от 0,65 до 17,9 млн рублей\n",
    "* в норме квартира проводит на рынке не более 480 дней, а половина всех квартир продается быстрее, чем за 100 дней\n",
    "\n",
    "Также удалось определить основные параметры, положительно коррелирующие со стоимостью квартиры (помимо ее размера):\n",
    "\n",
    "* жилая площадь (с большим отрывом опережает следующие)\n",
    "* площадь кухни\n",
    "* количество комнат\n",
    "\n",
    "Шестикомнатные квартиры (объекты с большим числом комнат не изучались) выделяются значительно более высокой ценой квадратного метра.\n",
    "\n",
    "Получил подтверждение известный факт, что квартиры, расположенные не на первом и не на последнем этаже здания ценятся выше. \n",
    "\n",
    "О распределении цен по географическому признаку можно сказать следующее. В центрах городов есть и совсем дорогие квартиры, и варианты подешевле. Нижняя ценовая граница бошинства предложений -- около 80 тыс. рублей за метр. В зоне, которая соответствует спальным районам и пригородам Санкт-Петербурга, а также дальним окрестностям более мелких городов, спектр предложений по мере удаления от центров становится шире: минимальная ставка за квадратный метр опускается примерно до 60 тыс., но и дорогих предложений почти столько же, сколько ближе к центру. По мере дальнейшего удаления диапазон цен сужается при сохранении нижней границы на уровне в 50-60 тыс. рублей.\n",
    "\n",
    "Годовой цикл рынка недвижимости характеризуется пиками активности в апреле и августе и спадами в июне и декабре. Оказалось, что существует и недельный цикл: в объявлениях, опубликованных во вторник, медианная цена квадратного метра выше, чем в опубликованных в субботу.\n",
    "\n",
    "В течение пяти лет, которые охватывает это исследование, рынок недвижимости Ленинградской области пережил сначала спад, затем два года стагнации и, наконец, резкий рост начиная с 2018 года. Это видно как по росту цены квадратного метра, так и по снижению срока экспозиции квартир.\n",
    "\n",
    "Медианная цена квадратного метра в зависимости от расположения квартиры варьируется от 102 тыс. в Санкт-Петербурге до 65 тыс. в его дальних пригородах и от 97 тыс. в городах Ленинградской области до 72 тыс. в сельских населенных пунктах.\n",
    "\n",
    "Если рассмотреть Санкт-Петербург отдельно от всех остальных населенных пунктов, то разница в средней цене метра между его центром и окраинами сильнее всего проявляется на однокомнатных квартирах (17 тыс. рублей), а слабее всего -- на четырехкомнатных (7 тыс. рублей). На 2-3-комнатных она примерно одинакова (11 тыс. рублей). \n",
    "\n",
    "Квартиры в центре просторнее, независимо от количества комнат. В обеих зонах чем ближе к центру, тем больше в среднем в квартире комнат, но двушки и трешки располагаются примерно на одинаковом удалении (3,61 и 11,35 км от центра соответственно). Двух- и трехкомнатные квартиры имеют схожие характеристики, поэтому их можно выделить в единый сегмент.\n",
    "\n",
    "Ценовая вилка в пригорордах Санкт-Петербурга шире, чем в центре. Медианы цены за квадратный метр в обеих выборках стремятся навстречу друг другу -- к цене в районе 108 тыс. за кв. м.\n",
    "\n",
    "В центре общая площадь квартиры коррелирует с ее ценой примерно так же, как и в общей выборке, а вот в пригороде коэффициент корреляции заметно выше (0,76, 0,77 и 0,85). Другими словами, в спальных районах главное достоинство квартиры -- ее общая площадь. Эта разница обеспечивается во многом вниманием к площади кухни и лишь в малой степени -- к площади жилых помещений и количеству комнат: в центре корреляция пощади кухни с итоговой ценой на 0,13 слабее, чем в общей выборке, а в пригородах -- на 0,08 сильнее. Разница между центром и пригородом очень заметная: 0,21.\n",
    "\n",
    "Продавцы и покупатели квартир в центре значительно меньше внимания уделяют высоте потолков: коэффициент корреляции отличается на целых 0,3 (0,43 в общей и пригородной выборках против 0,13 в центральной).\n",
    "\n",
    "Наконец, мы специально остановились на особенностях апартаментов, студий и квартир свободной планировки. Ставка за квадратный метр в таких квартирах начинается с 50 тыс. рублей, что почти в два раза дороже, чем у самых дешевых из обычных квартир. Дорогие квариры в обеих категориях стоят одинаково. Площадь апартаментов, студий и квартир свободной планировки очень редко превышаает 40 кв. м (обычные квартиры часто бывают в 2,5 раза больше), а продаются они обычно на целых 150 дней быстрее остальных. Каждая лишняя комната сказывается на цене нетиповых квартир сильнее, чем в случае обычных квартир.\n",
    "\n",
    "Техническому специалисту, ответственному за выгрузку, сообщим, что в полученном датасете было два столбца с одинаковыми значениями (`area` и `total_area`)."
   ]
  },
  {
   "cell_type": "markdown",
   "metadata": {},
   "source": [
    "### <font color='red'>Комментарий от наставника по всей работе\n",
    "Мне нравится твоя работа, у тебя получилось очень качественное исследование, молодец! Особенно хороши выводы - очень развёрнуто, при этом всё по делу.\n",
    "\n",
    "Единственное, давай добавим \"автоматизации\" к нашему исследованию. Смотри комментарии 4 и 5.<br>\n",
    "И ещё не помешало бы в процессе исследования всё-таки немного разграничивать наши шаги с помощью заголовков в markdown ячейках.\n",
    "\n",
    "Уверена, для тебя не составит труда это исправить :)"
   ]
  }
 ],
 "metadata": {
  "kernelspec": {
   "display_name": "Python 3",
   "language": "python",
   "name": "python3"
  },
  "language_info": {
   "codemirror_mode": {
    "name": "ipython",
    "version": 3
   },
   "file_extension": ".py",
   "mimetype": "text/x-python",
   "name": "python",
   "nbconvert_exporter": "python",
   "pygments_lexer": "ipython3",
   "version": "3.8.0"
  }
 },
 "nbformat": 4,
 "nbformat_minor": 2
}
