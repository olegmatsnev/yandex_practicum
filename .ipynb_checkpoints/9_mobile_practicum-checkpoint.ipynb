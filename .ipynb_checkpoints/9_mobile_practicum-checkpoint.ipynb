{
 "cells": [
  {
   "cell_type": "markdown",
   "metadata": {},
   "source": [
    "---\n",
    "\n",
    "**<font color=\"green\">Комментарий наставника</font>**\n",
    "\n",
    "Привет, Олег! Ты хорошо справился с проектом.\n",
    "\n",
    "По ходу тетрадки ты найдешь комментарии к проекту, они будут в отдельных ячейках Markdown с заголовком «Комментарий наставника». Постарайся учесть эти комментарии в ходе выполнения дальнейших проектов.\n",
    "\n",
    "Пожалуйста, не удаляй комментарии.\n",
    "\n",
    "---\n",
    "\n",
    "Я буду красить комментарии цветом:\n",
    "\n",
    "<div class=\"alert alert-block alert-danger\">\n",
    "    \n",
    "\n",
    "### Комментарий от наставника\n",
    "\n",
    "Такой комментарий нужно исправить обязательно, он критически влияет на удачное выполнение проекта.\n",
    "</div>\n",
    "    \n",
    "---\n",
    "\n",
    "<div class=\"alert alert-block alert-warning\">\n",
    "    \n",
    "\n",
    "### Комментарий от наставника\n",
    "\n",
    "\n",
    "Такой комментарий является рекомендацией или советом. Можешь использовать их на своё усмотрение.\n",
    "</div>\n",
    "\n",
    "---\n",
    "\n",
    "<div class=\"alert alert-block alert-success\">\n",
    "    \n",
    "\n",
    "### Комментарий от наставника\n",
    "\n",
    "Такой комментарий в начале проекта означает, что работа принята. В основной части работы комментарии такого цвета говорят о том, что было сделано что-то качественное и правильное =)\n",
    "</div>\n",
    "\n",
    "---\n",
    "\n",
    "<div class=\"alert alert-block alert-success\">\n",
    "    \n",
    "\n",
    "### Комментарий от наставника\n",
    "\n",
    "Поздравляю! Проект принят =)\n",
    "</div>\n",
    "    \n",
    "---\n"
   ]
  },
  {
   "cell_type": "markdown",
   "metadata": {},
   "source": [
    "# Анализ поведения пользователей мобильного приложения\n",
    "\n",
    "Задача: изучить логи пользовательской активности, построить событийную воронку и проанализировать результаты A/B тестирования.\n",
    "\n",
    "### Загрузка и предобработка данных"
   ]
  },
  {
   "cell_type": "markdown",
   "metadata": {},
   "source": [
    "---\n",
    "\n",
    "<div class=\"alert alert-block alert-warning\">\n",
    "    \n",
    "\n",
    "### Комментарий от наставника\n",
    "\n",
    "Когда проект пришел на проверку, то ячейки начинались с 51. Хорошая практика - это сделать полный перезапуск проекта перед отправкой другому. Сделать это можно с помощью выбора пункта меню Kernel > Restart & Run All\n",
    "\n",
    "</div>\n",
    "    \n",
    "---"
   ]
  },
  {
   "cell_type": "code",
   "execution_count": 1,
   "metadata": {},
   "outputs": [],
   "source": [
    "import pandas as pd\n",
    "import matplotlib.pyplot as plt\n",
    "import numpy as np\n",
    "import scipy.stats as st\n",
    "import math as mth"
   ]
  },
  {
   "cell_type": "code",
   "execution_count": 2,
   "metadata": {},
   "outputs": [],
   "source": [
    "data = pd.read_csv('/datasets/logs_exp.csv', sep='\\t')"
   ]
  },
  {
   "cell_type": "code",
   "execution_count": 3,
   "metadata": {},
   "outputs": [
    {
     "data": {
      "text/html": [
       "<div>\n",
       "<style scoped>\n",
       "    .dataframe tbody tr th:only-of-type {\n",
       "        vertical-align: middle;\n",
       "    }\n",
       "\n",
       "    .dataframe tbody tr th {\n",
       "        vertical-align: top;\n",
       "    }\n",
       "\n",
       "    .dataframe thead th {\n",
       "        text-align: right;\n",
       "    }\n",
       "</style>\n",
       "<table border=\"1\" class=\"dataframe\">\n",
       "  <thead>\n",
       "    <tr style=\"text-align: right;\">\n",
       "      <th></th>\n",
       "      <th>EventName</th>\n",
       "      <th>DeviceIDHash</th>\n",
       "      <th>EventTimestamp</th>\n",
       "      <th>ExpId</th>\n",
       "    </tr>\n",
       "  </thead>\n",
       "  <tbody>\n",
       "    <tr>\n",
       "      <th>182448</th>\n",
       "      <td>MainScreenAppear</td>\n",
       "      <td>1458354809465956900</td>\n",
       "      <td>1565073039</td>\n",
       "      <td>247</td>\n",
       "    </tr>\n",
       "    <tr>\n",
       "      <th>85170</th>\n",
       "      <td>OffersScreenAppear</td>\n",
       "      <td>9110608674894233944</td>\n",
       "      <td>1564826798</td>\n",
       "      <td>246</td>\n",
       "    </tr>\n",
       "    <tr>\n",
       "      <th>21713</th>\n",
       "      <td>MainScreenAppear</td>\n",
       "      <td>1516987131121708371</td>\n",
       "      <td>1564666676</td>\n",
       "      <td>246</td>\n",
       "    </tr>\n",
       "    <tr>\n",
       "      <th>208713</th>\n",
       "      <td>PaymentScreenSuccessful</td>\n",
       "      <td>4386750967105107765</td>\n",
       "      <td>1565116650</td>\n",
       "      <td>248</td>\n",
       "    </tr>\n",
       "    <tr>\n",
       "      <th>130414</th>\n",
       "      <td>PaymentScreenSuccessful</td>\n",
       "      <td>7738058666231999878</td>\n",
       "      <td>1564932924</td>\n",
       "      <td>246</td>\n",
       "    </tr>\n",
       "    <tr>\n",
       "      <th>92003</th>\n",
       "      <td>MainScreenAppear</td>\n",
       "      <td>8797684996731506475</td>\n",
       "      <td>1564837116</td>\n",
       "      <td>246</td>\n",
       "    </tr>\n",
       "    <tr>\n",
       "      <th>221880</th>\n",
       "      <td>MainScreenAppear</td>\n",
       "      <td>3063248032210795834</td>\n",
       "      <td>1565170178</td>\n",
       "      <td>247</td>\n",
       "    </tr>\n",
       "    <tr>\n",
       "      <th>51338</th>\n",
       "      <td>CartScreenAppear</td>\n",
       "      <td>1199460720826649005</td>\n",
       "      <td>1564740494</td>\n",
       "      <td>247</td>\n",
       "    </tr>\n",
       "    <tr>\n",
       "      <th>96872</th>\n",
       "      <td>CartScreenAppear</td>\n",
       "      <td>7235689600187012281</td>\n",
       "      <td>1564844527</td>\n",
       "      <td>248</td>\n",
       "    </tr>\n",
       "    <tr>\n",
       "      <th>129436</th>\n",
       "      <td>OffersScreenAppear</td>\n",
       "      <td>1832951734389458979</td>\n",
       "      <td>1564931416</td>\n",
       "      <td>246</td>\n",
       "    </tr>\n",
       "  </tbody>\n",
       "</table>\n",
       "</div>"
      ],
      "text/plain": [
       "                      EventName         DeviceIDHash  EventTimestamp  ExpId\n",
       "182448         MainScreenAppear  1458354809465956900      1565073039    247\n",
       "85170        OffersScreenAppear  9110608674894233944      1564826798    246\n",
       "21713          MainScreenAppear  1516987131121708371      1564666676    246\n",
       "208713  PaymentScreenSuccessful  4386750967105107765      1565116650    248\n",
       "130414  PaymentScreenSuccessful  7738058666231999878      1564932924    246\n",
       "92003          MainScreenAppear  8797684996731506475      1564837116    246\n",
       "221880         MainScreenAppear  3063248032210795834      1565170178    247\n",
       "51338          CartScreenAppear  1199460720826649005      1564740494    247\n",
       "96872          CartScreenAppear  7235689600187012281      1564844527    248\n",
       "129436       OffersScreenAppear  1832951734389458979      1564931416    246"
      ]
     },
     "execution_count": 3,
     "metadata": {},
     "output_type": "execute_result"
    }
   ],
   "source": [
    "data.sample(10)"
   ]
  },
  {
   "cell_type": "code",
   "execution_count": 4,
   "metadata": {},
   "outputs": [
    {
     "name": "stdout",
     "output_type": "stream",
     "text": [
      "<class 'pandas.core.frame.DataFrame'>\n",
      "RangeIndex: 244126 entries, 0 to 244125\n",
      "Data columns (total 4 columns):\n",
      "EventName         244126 non-null object\n",
      "DeviceIDHash      244126 non-null int64\n",
      "EventTimestamp    244126 non-null int64\n",
      "ExpId             244126 non-null int64\n",
      "dtypes: int64(3), object(1)\n",
      "memory usage: 7.5+ MB\n"
     ]
    }
   ],
   "source": [
    "data.info()"
   ]
  },
  {
   "cell_type": "markdown",
   "metadata": {},
   "source": [
    "Пропусков не видно. Проверим на дубликаты и если они есть, удалим."
   ]
  },
  {
   "cell_type": "code",
   "execution_count": 5,
   "metadata": {},
   "outputs": [
    {
     "data": {
      "text/plain": [
       "243713"
      ]
     },
     "execution_count": 5,
     "metadata": {},
     "output_type": "execute_result"
    }
   ],
   "source": [
    "data.drop_duplicates().shape[0]"
   ]
  },
  {
   "cell_type": "code",
   "execution_count": 6,
   "metadata": {},
   "outputs": [],
   "source": [
    "data = data.drop_duplicates()"
   ]
  },
  {
   "cell_type": "markdown",
   "metadata": {},
   "source": [
    "---\n",
    "\n",
    "<div class=\"alert alert-block alert-warning\">\n",
    "    \n",
    "\n",
    "### Комментарий от наставника\n",
    "\n",
    "Перед удалением дубликаты лучше всего их исследовать. Это может дать какие-то мысли о причинах их возникновения.\n",
    "\n",
    "Также можно было бы отдельно сделать акцент на наличии дубликатов и выдвинуть гипотезы об из возникновении.\n",
    "\n",
    "</div>\n",
    "    \n",
    "---"
   ]
  },
  {
   "cell_type": "markdown",
   "metadata": {},
   "source": [
    "Дадим столбцам понятные названия, добавим столбцы с датой и временем и отдельно с датой."
   ]
  },
  {
   "cell_type": "code",
   "execution_count": 7,
   "metadata": {},
   "outputs": [],
   "source": [
    "data.columns = ['event_name', 'id', 'timestamp', 'group']\n",
    "data['date_time'] = pd.to_datetime(data.timestamp, unit='s')\n",
    "data['date_only'] = pd.to_datetime(data.date_time.dt.date)"
   ]
  },
  {
   "cell_type": "markdown",
   "metadata": {},
   "source": [
    "---\n",
    "\n",
    "<div class=\"alert alert-block alert-warning\">\n",
    "    \n",
    "\n",
    "### Комментарий от наставника\n",
    "\n",
    "Переименование колонок лучше делать с помощью `.rename(columns=)`. Так ты сможешь быть уверенным, что колонки правильно переименуются в случае если вдруг придет файл с другим порядком колонок\n",
    "\n",
    "</div>\n",
    "    \n",
    "---"
   ]
  },
  {
   "cell_type": "code",
   "execution_count": 8,
   "metadata": {},
   "outputs": [
    {
     "name": "stdout",
     "output_type": "stream",
     "text": [
      "В логе содержатся данные о 243713 действия 5 разных видов, совершенных 7551 пользователем. В среднем на пользователя приходится 32 события.\n"
     ]
    }
   ],
   "source": [
    "print('В логе содержатся данные о {} действия {} разных видов, совершенных {} пользователем. \\\n",
    "В среднем на пользователя приходится {} события.'.format(\n",
    "len(data.event_name),\n",
    "data.event_name.nunique(),\n",
    "data.id.nunique(),\n",
    "round(len(data.event_name) / (data.id.nunique()))))"
   ]
  },
  {
   "cell_type": "code",
   "execution_count": 9,
   "metadata": {},
   "outputs": [
    {
     "data": {
      "text/plain": [
       "Timestamp('2019-07-25 00:00:00')"
      ]
     },
     "metadata": {},
     "output_type": "display_data"
    },
    {
     "data": {
      "text/plain": [
       "Timestamp('2019-08-07 00:00:00')"
      ]
     },
     "metadata": {},
     "output_type": "display_data"
    }
   ],
   "source": [
    "display(data.date_only.min())\n",
    "display(data.date_only.max())"
   ]
  },
  {
   "cell_type": "markdown",
   "metadata": {},
   "source": [
    "Временной охват данных -- с раннего утра 25 июля 2019 г. до вечера 7 августа того же года, суммарно 2 недели. Но насколько равномерно распредлены данные в пределах этого промежутка?"
   ]
  },
  {
   "cell_type": "raw",
   "metadata": {},
   "source": [
    "data.query('date_only > \"2019-08-06\"')"
   ]
  },
  {
   "cell_type": "code",
   "execution_count": 10,
   "metadata": {},
   "outputs": [
    {
     "name": "stderr",
     "output_type": "stream",
     "text": [
      "/opt/conda/lib/python3.7/site-packages/pandas/plotting/_converter.py:129: FutureWarning: Using an implicitly registered datetime converter for a matplotlib plotting method. The converter was registered by pandas on import. Future versions of pandas will require you to explicitly register matplotlib converters.\n",
      "\n",
      "To register the converters:\n",
      "\t>>> from pandas.plotting import register_matplotlib_converters\n",
      "\t>>> register_matplotlib_converters()\n",
      "  warnings.warn(msg, FutureWarning)\n"
     ]
    },
    {
     "data": {
      "image/png": "[encoded data removed]",
      "text/plain": [
       "<Figure size 432x288 with 1 Axes>"
      ]
     },
     "metadata": {
      "needs_background": "light"
     },
     "output_type": "display_data"
    }
   ],
   "source": [
    "plt.hist(data.date_only, bins=14)\n",
    "plt.xticks(ticks=data.date_only.unique(), rotation=45, ha='right')\n",
    "plt.show()"
   ]
  },
  {
   "cell_type": "markdown",
   "metadata": {},
   "source": [
    "Оказывается, за период до 28 июля в логах почти пусто, а стабильно данные стали накапливаться только с начала августа. Посмотрим, сколько за первую неделю было совершено действий и сколько пользователей были активны  только в этот период."
   ]
  },
  {
   "cell_type": "code",
   "execution_count": 11,
   "metadata": {},
   "outputs": [
    {
     "data": {
      "text/plain": [
       "2826"
      ]
     },
     "metadata": {},
     "output_type": "display_data"
    },
    {
     "data": {
      "text/plain": [
       "17"
      ]
     },
     "metadata": {},
     "output_type": "display_data"
    }
   ],
   "source": [
    "display(data.query('date_only < \"2019-08-01\"').shape[0]) # действия\n",
    "display(data.id.nunique() - data.query('date_only >= \"2019-08-01\"').id.nunique()) # сколько пользователей будет потеряно"
   ]
  },
  {
   "cell_type": "markdown",
   "metadata": {},
   "source": [
    "Меньше 3 тысяч строк из 240 с лишним тысяч и меньше 20 пользователей из более чем 7,5 тысяч. Возможно, в первую неделю проводилось тестирование системы либо произошла ошибка логгирования. В любом случае, эти данные не репрезентативны и немногочисленны, их можно безболезненно удалить."
   ]
  },
  {
   "cell_type": "markdown",
   "metadata": {},
   "source": [
    "---\n",
    "\n",
    "<div class=\"alert alert-block alert-success\">\n",
    "    \n",
    "\n",
    "### Комментарий от наставника\n",
    "\n",
    "Здорово, что ты выдвигаешь гипотезу о причинах возникновения неполных данных\n",
    "\n",
    "</div>\n",
    "    \n",
    "---"
   ]
  },
  {
   "cell_type": "code",
   "execution_count": 12,
   "metadata": {},
   "outputs": [],
   "source": [
    "data = data.query('date_only >= \"2019-07-28\"')"
   ]
  },
  {
   "cell_type": "markdown",
   "metadata": {},
   "source": [
    "Убедимся, что в каждой группе осталось достаточное количество пользователей."
   ]
  },
  {
   "cell_type": "code",
   "execution_count": 13,
   "metadata": {},
   "outputs": [
    {
     "data": {
      "text/plain": [
       "group\n",
       "246    2488\n",
       "247    2520\n",
       "248    2542\n",
       "Name: id, dtype: int64"
      ]
     },
     "execution_count": 13,
     "metadata": {},
     "output_type": "execute_result"
    }
   ],
   "source": [
    "data.groupby('group')['id'].nunique()"
   ]
  },
  {
   "cell_type": "markdown",
   "metadata": {},
   "source": [
    "Все в порядке. Можно переходить к анализу данных.\n",
    "\n",
    "### Анализ данных\n",
    "\n",
    "Построим и изучим воронку событий. Посмотрим, какие в логах встречаются события (действия), как они распределены по частоте и отсортируем их в порядке убывания частотности."
   ]
  },
  {
   "cell_type": "code",
   "execution_count": 14,
   "metadata": {},
   "outputs": [
    {
     "data": {
      "text/html": [
       "<div>\n",
       "<style scoped>\n",
       "    .dataframe tbody tr th:only-of-type {\n",
       "        vertical-align: middle;\n",
       "    }\n",
       "\n",
       "    .dataframe tbody tr th {\n",
       "        vertical-align: top;\n",
       "    }\n",
       "\n",
       "    .dataframe thead th {\n",
       "        text-align: right;\n",
       "    }\n",
       "</style>\n",
       "<table border=\"1\" class=\"dataframe\">\n",
       "  <thead>\n",
       "    <tr style=\"text-align: right;\">\n",
       "      <th></th>\n",
       "      <th>event_name</th>\n",
       "      <th>timestamp</th>\n",
       "    </tr>\n",
       "  </thead>\n",
       "  <tbody>\n",
       "    <tr>\n",
       "      <th>0</th>\n",
       "      <td>MainScreenAppear</td>\n",
       "      <td>119042</td>\n",
       "    </tr>\n",
       "    <tr>\n",
       "      <th>1</th>\n",
       "      <td>OffersScreenAppear</td>\n",
       "      <td>46794</td>\n",
       "    </tr>\n",
       "    <tr>\n",
       "      <th>2</th>\n",
       "      <td>CartScreenAppear</td>\n",
       "      <td>42656</td>\n",
       "    </tr>\n",
       "    <tr>\n",
       "      <th>3</th>\n",
       "      <td>PaymentScreenSuccessful</td>\n",
       "      <td>34112</td>\n",
       "    </tr>\n",
       "    <tr>\n",
       "      <th>4</th>\n",
       "      <td>Tutorial</td>\n",
       "      <td>1014</td>\n",
       "    </tr>\n",
       "  </tbody>\n",
       "</table>\n",
       "</div>"
      ],
      "text/plain": [
       "                event_name  timestamp\n",
       "0         MainScreenAppear     119042\n",
       "1       OffersScreenAppear      46794\n",
       "2         CartScreenAppear      42656\n",
       "3  PaymentScreenSuccessful      34112\n",
       "4                 Tutorial       1014"
      ]
     },
     "execution_count": 14,
     "metadata": {},
     "output_type": "execute_result"
    }
   ],
   "source": [
    "data.groupby('event_name')['timestamp'].count().sort_values(ascending=False).reset_index()"
   ]
  },
  {
   "cell_type": "markdown",
   "metadata": {},
   "source": [
    "Судя по названиям действий, если исключить событие `Tutorial` (видимо, необязательная инструкция по пользованию сервисом), у нас получится событийная воронка: по мере продвижения от основного экрана к списку товаров, затем к корзине и, наконец, к экрану подтверждения оплаты количество совершенных действий соответствующих типов убывает.\n",
    "\n",
    "Сгруппируем действия не по их количеству, а по количеству совершавших их уникальных пользователей."
   ]
  },
  {
   "cell_type": "code",
   "execution_count": 15,
   "metadata": {},
   "outputs": [
    {
     "data": {
      "text/html": [
       "<div>\n",
       "<style scoped>\n",
       "    .dataframe tbody tr th:only-of-type {\n",
       "        vertical-align: middle;\n",
       "    }\n",
       "\n",
       "    .dataframe tbody tr th {\n",
       "        vertical-align: top;\n",
       "    }\n",
       "\n",
       "    .dataframe thead th {\n",
       "        text-align: right;\n",
       "    }\n",
       "</style>\n",
       "<table border=\"1\" class=\"dataframe\">\n",
       "  <thead>\n",
       "    <tr style=\"text-align: right;\">\n",
       "      <th></th>\n",
       "      <th>event_name</th>\n",
       "      <th>id</th>\n",
       "      <th>percentage_total</th>\n",
       "    </tr>\n",
       "  </thead>\n",
       "  <tbody>\n",
       "    <tr>\n",
       "      <th>0</th>\n",
       "      <td>MainScreenAppear</td>\n",
       "      <td>7438</td>\n",
       "      <td>98.52</td>\n",
       "    </tr>\n",
       "    <tr>\n",
       "      <th>1</th>\n",
       "      <td>OffersScreenAppear</td>\n",
       "      <td>4612</td>\n",
       "      <td>61.09</td>\n",
       "    </tr>\n",
       "    <tr>\n",
       "      <th>2</th>\n",
       "      <td>CartScreenAppear</td>\n",
       "      <td>3749</td>\n",
       "      <td>49.66</td>\n",
       "    </tr>\n",
       "    <tr>\n",
       "      <th>3</th>\n",
       "      <td>PaymentScreenSuccessful</td>\n",
       "      <td>3547</td>\n",
       "      <td>46.98</td>\n",
       "    </tr>\n",
       "    <tr>\n",
       "      <th>4</th>\n",
       "      <td>Tutorial</td>\n",
       "      <td>845</td>\n",
       "      <td>11.19</td>\n",
       "    </tr>\n",
       "  </tbody>\n",
       "</table>\n",
       "</div>"
      ],
      "text/plain": [
       "                event_name    id  percentage_total\n",
       "0         MainScreenAppear  7438             98.52\n",
       "1       OffersScreenAppear  4612             61.09\n",
       "2         CartScreenAppear  3749             49.66\n",
       "3  PaymentScreenSuccessful  3547             46.98\n",
       "4                 Tutorial   845             11.19"
      ]
     },
     "execution_count": 15,
     "metadata": {},
     "output_type": "execute_result"
    }
   ],
   "source": [
    "events_grouped = data.groupby('event_name')['id'].nunique().sort_values(ascending=False).reset_index()\n",
    "events_grouped['percentage_total'] = round(events_grouped.id / data.id.nunique() * 100, 2)\n",
    "events_grouped"
   ]
  },
  {
   "cell_type": "markdown",
   "metadata": {},
   "source": [
    "Порядок действий не изменился, что подтверждает нашу догадку. В столбце `percentage_total` указана доля пользователей, хотя бы раз совершавших то или иное действие. Теперь рассчитаем, какая часть пользователей, совершивших данное действие, совершает следующее (`percentage_previous`), а также какая часть пользователей, совершивших первое действие, совершает каждое из остальных (`percentage_first`). Действие `Tutorial` исключим из рассмотрения."
   ]
  },
  {
   "cell_type": "code",
   "execution_count": 16,
   "metadata": {},
   "outputs": [
    {
     "data": {
      "text/html": [
       "<div>\n",
       "<style scoped>\n",
       "    .dataframe tbody tr th:only-of-type {\n",
       "        vertical-align: middle;\n",
       "    }\n",
       "\n",
       "    .dataframe tbody tr th {\n",
       "        vertical-align: top;\n",
       "    }\n",
       "\n",
       "    .dataframe thead th {\n",
       "        text-align: right;\n",
       "    }\n",
       "</style>\n",
       "<table border=\"1\" class=\"dataframe\">\n",
       "  <thead>\n",
       "    <tr style=\"text-align: right;\">\n",
       "      <th></th>\n",
       "      <th>event_name</th>\n",
       "      <th>id</th>\n",
       "      <th>percentage_total</th>\n",
       "      <th>percentage_previous</th>\n",
       "      <th>percentage_first</th>\n",
       "    </tr>\n",
       "  </thead>\n",
       "  <tbody>\n",
       "    <tr>\n",
       "      <th>0</th>\n",
       "      <td>MainScreenAppear</td>\n",
       "      <td>7438</td>\n",
       "      <td>98.52</td>\n",
       "      <td>100.00</td>\n",
       "      <td>100.00</td>\n",
       "    </tr>\n",
       "    <tr>\n",
       "      <th>1</th>\n",
       "      <td>OffersScreenAppear</td>\n",
       "      <td>4612</td>\n",
       "      <td>61.09</td>\n",
       "      <td>62.01</td>\n",
       "      <td>62.01</td>\n",
       "    </tr>\n",
       "    <tr>\n",
       "      <th>2</th>\n",
       "      <td>CartScreenAppear</td>\n",
       "      <td>3749</td>\n",
       "      <td>49.66</td>\n",
       "      <td>81.29</td>\n",
       "      <td>50.40</td>\n",
       "    </tr>\n",
       "    <tr>\n",
       "      <th>3</th>\n",
       "      <td>PaymentScreenSuccessful</td>\n",
       "      <td>3547</td>\n",
       "      <td>46.98</td>\n",
       "      <td>94.61</td>\n",
       "      <td>47.69</td>\n",
       "    </tr>\n",
       "  </tbody>\n",
       "</table>\n",
       "</div>"
      ],
      "text/plain": [
       "                event_name    id  percentage_total  percentage_previous  \\\n",
       "0         MainScreenAppear  7438             98.52               100.00   \n",
       "1       OffersScreenAppear  4612             61.09                62.01   \n",
       "2         CartScreenAppear  3749             49.66                81.29   \n",
       "3  PaymentScreenSuccessful  3547             46.98                94.61   \n",
       "\n",
       "   percentage_first  \n",
       "0            100.00  \n",
       "1             62.01  \n",
       "2             50.40  \n",
       "3             47.69  "
      ]
     },
     "execution_count": 16,
     "metadata": {},
     "output_type": "execute_result"
    }
   ],
   "source": [
    "events_grouped['percentage_previous'] = round(events_grouped.id / events_grouped.id.shift(1) * 100, 2).fillna(100)\n",
    "events_grouped['percentage_first'] = round(events_grouped.id / events_grouped.id[0] * 100, 2)\n",
    "events_grouped = events_grouped.query('event_name != \"Tutorial\"')\n",
    "events_grouped"
   ]
  },
  {
   "cell_type": "markdown",
   "metadata": {},
   "source": [
    "Видно, что сильнее всего воронка сужается при переходе с главного экрана к странице выбора товаров. На этом шаге отпадает почти 40% пользователей. Зато дальше retention rate очень неплохой. В итоге успешной оплатой заканчивается чуть меньше половины всех переходов на главный экран."
   ]
  },
  {
   "cell_type": "markdown",
   "metadata": {},
   "source": [
    "---\n",
    "\n",
    "<div class=\"alert alert-block alert-success\">\n",
    "    \n",
    "\n",
    "### Комментарий от наставника\n",
    "\n",
    "Ты правильно посчитал сколько пользователей переходят с предыдущего этапа на последующий\n",
    "\n",
    "</div>\n",
    "    \n",
    "---"
   ]
  },
  {
   "cell_type": "code",
   "execution_count": 17,
   "metadata": {},
   "outputs": [
    {
     "data": {
      "text/plain": [
       "group\n",
       "246    2488\n",
       "247    2520\n",
       "248    2542\n",
       "Name: id, dtype: int64"
      ]
     },
     "execution_count": 17,
     "metadata": {},
     "output_type": "execute_result"
    }
   ],
   "source": [
    "data.groupby('group')['id'].nunique()"
   ]
  },
  {
   "cell_type": "markdown",
   "metadata": {},
   "source": [
    "В каждой из трех групп примерно одинаковое количество пользователей -- около 2,5 тысяч. \n",
    "\n",
    "Создадим функцию, которая построит пропорции для пары поданных на вход групп, сравнит их и посчитает уровень статистической значимости различий, если они будут, причем сделает все это отдельно для каждого типа событий. \n",
    "\n",
    "Как мы выяснили на одном из предыдущих шагов, самое популярное событие -- это показ главного экрана (`MainScreenAppear`)."
   ]
  },
  {
   "cell_type": "code",
   "execution_count": 18,
   "metadata": {},
   "outputs": [],
   "source": [
    "def check_props(df, compare_list, alpha):\n",
    "    alpha = alpha\n",
    "    distr = st.norm(0, 1)\n",
    "    for event in df.event_name.unique():\n",
    "        group_one = df.loc[df['group'].astype('str').str.contains(compare_list[0])] # чтобы работали регулярки\n",
    "        group_two = df.loc[df['group'].astype('str').str.contains(compare_list[1])]\n",
    "        success_one = group_one.query('event_name == @event').id.nunique()\n",
    "        success_two = group_two.query('event_name == @event').id.nunique()\n",
    "        trials_one = group_one.id.nunique()\n",
    "        trials_two = group_two.id.nunique()\n",
    "        p1 = success_one/trials_one\n",
    "        p2 = success_two/trials_two\n",
    "        p_combined = (success_one + success_two)/(trials_one + trials_two)\n",
    "        difference = p1 - p2\n",
    "        z_value = difference/mth.sqrt(p_combined*(1 - p_combined)*(1/group_one.id.nunique() + 1/group_two.id.nunique()))\n",
    "        p_value = (1 - distr.cdf(abs(z_value))) * 2\n",
    "        print('P-value для события {} равен {}'.format(event, p_value))\n",
    "        if (p_value < alpha):\n",
    "            print(\"Отвергаем нулевую гипотезу: между долями есть значимая разница\")\n",
    "        else:\n",
    "            print(\"Не получилось отвергнуть нулевую гипотезу, нет оснований считать доли разными\")\n",
    "    return None"
   ]
  },
  {
   "cell_type": "markdown",
   "metadata": {},
   "source": [
    "Теперь прогоним через эту функцию две контрольные группы -- 246 и 247. Это позволит проверить, что группы подобраны правильно и механизм расчета p-value работает без сбоев. Уровень значимости выберем стандартный -- 5% (примерно в одном из двадцати опытов будет получен ложный результат)."
   ]
  },
  {
   "cell_type": "code",
   "execution_count": 19,
   "metadata": {},
   "outputs": [
    {
     "name": "stdout",
     "output_type": "stream",
     "text": [
      "P-value для события MainScreenAppear равен 0.586836151388404\n",
      "Не получилось отвергнуть нулевую гипотезу, нет оснований считать доли разными\n",
      "P-value для события CartScreenAppear равен 0.19320688457551216\n",
      "Не получилось отвергнуть нулевую гипотезу, нет оснований считать доли разными\n",
      "P-value для события OffersScreenAppear равен 0.3009085617879146\n",
      "Не получилось отвергнуть нулевую гипотезу, нет оснований считать доли разными\n",
      "P-value для события PaymentScreenSuccessful равен 0.10605809903278152\n",
      "Не получилось отвергнуть нулевую гипотезу, нет оснований считать доли разными\n",
      "P-value для события Tutorial равен 0.8790177050920478\n",
      "Не получилось отвергнуть нулевую гипотезу, нет оснований считать доли разными\n"
     ]
    }
   ],
   "source": [
    "check_props(data, ['246', '247'], 0.05)"
   ]
  },
  {
   "cell_type": "markdown",
   "metadata": {},
   "source": [
    "Все в порядке, значимых различий быть не должно -- их и нет. В задании просят посчитать, сколько пользователей (в людях и процентах) каждой из контрольных групп совершили каждое из действий -- дополним этой информацией ранее созданный датафрейм `events_grouped`."
   ]
  },
  {
   "cell_type": "code",
   "execution_count": 20,
   "metadata": {},
   "outputs": [
    {
     "data": {
      "text/html": [
       "<div>\n",
       "<style scoped>\n",
       "    .dataframe tbody tr th:only-of-type {\n",
       "        vertical-align: middle;\n",
       "    }\n",
       "\n",
       "    .dataframe tbody tr th {\n",
       "        vertical-align: top;\n",
       "    }\n",
       "\n",
       "    .dataframe thead th {\n",
       "        text-align: right;\n",
       "    }\n",
       "</style>\n",
       "<table border=\"1\" class=\"dataframe\">\n",
       "  <thead>\n",
       "    <tr style=\"text-align: right;\">\n",
       "      <th></th>\n",
       "      <th>event_name</th>\n",
       "      <th>num_total</th>\n",
       "      <th>percentage_total</th>\n",
       "      <th>percentage_previous</th>\n",
       "      <th>percentage_first</th>\n",
       "      <th>num_246</th>\n",
       "      <th>num_247</th>\n",
       "      <th>prop_246</th>\n",
       "      <th>prop_247</th>\n",
       "    </tr>\n",
       "  </thead>\n",
       "  <tbody>\n",
       "    <tr>\n",
       "      <th>0</th>\n",
       "      <td>MainScreenAppear</td>\n",
       "      <td>7438</td>\n",
       "      <td>98.52</td>\n",
       "      <td>100.00</td>\n",
       "      <td>100.00</td>\n",
       "      <td>2455</td>\n",
       "      <td>2482</td>\n",
       "      <td>98.67</td>\n",
       "      <td>98.49</td>\n",
       "    </tr>\n",
       "    <tr>\n",
       "      <th>1</th>\n",
       "      <td>OffersScreenAppear</td>\n",
       "      <td>4612</td>\n",
       "      <td>61.09</td>\n",
       "      <td>62.01</td>\n",
       "      <td>62.01</td>\n",
       "      <td>1545</td>\n",
       "      <td>1529</td>\n",
       "      <td>62.10</td>\n",
       "      <td>60.67</td>\n",
       "    </tr>\n",
       "    <tr>\n",
       "      <th>2</th>\n",
       "      <td>CartScreenAppear</td>\n",
       "      <td>3749</td>\n",
       "      <td>49.66</td>\n",
       "      <td>81.29</td>\n",
       "      <td>50.40</td>\n",
       "      <td>1270</td>\n",
       "      <td>1240</td>\n",
       "      <td>51.05</td>\n",
       "      <td>49.21</td>\n",
       "    </tr>\n",
       "    <tr>\n",
       "      <th>3</th>\n",
       "      <td>PaymentScreenSuccessful</td>\n",
       "      <td>3547</td>\n",
       "      <td>46.98</td>\n",
       "      <td>94.61</td>\n",
       "      <td>47.69</td>\n",
       "      <td>1202</td>\n",
       "      <td>1160</td>\n",
       "      <td>48.31</td>\n",
       "      <td>46.03</td>\n",
       "    </tr>\n",
       "  </tbody>\n",
       "</table>\n",
       "</div>"
      ],
      "text/plain": [
       "                event_name  num_total  percentage_total  percentage_previous  \\\n",
       "0         MainScreenAppear       7438             98.52               100.00   \n",
       "1       OffersScreenAppear       4612             61.09                62.01   \n",
       "2         CartScreenAppear       3749             49.66                81.29   \n",
       "3  PaymentScreenSuccessful       3547             46.98                94.61   \n",
       "\n",
       "   percentage_first  num_246  num_247  prop_246  prop_247  \n",
       "0            100.00     2455     2482     98.67     98.49  \n",
       "1             62.01     1545     1529     62.10     60.67  \n",
       "2             50.40     1270     1240     51.05     49.21  \n",
       "3             47.69     1202     1160     48.31     46.03  "
      ]
     },
     "execution_count": 20,
     "metadata": {},
     "output_type": "execute_result"
    }
   ],
   "source": [
    "events_grouped = events_grouped.merge(data.query('group == \"246\"').groupby('event_name')['id'].nunique().reset_index(),\n",
    "                                    on='event_name')\n",
    "events_grouped = events_grouped.merge(data.query('group == \"247\"').groupby('event_name')['id'].nunique().reset_index(),\n",
    "                                    on='event_name')\n",
    "events_grouped.rename(columns={'id_x': 'num_total', 'id_y': 'num_246', 'id': 'num_247'}, inplace=True)\n",
    "events_grouped['prop_246'] = events_grouped['num_246'].map(lambda x: round(x / data.query('group == \"246\"')['id'].nunique() * 100, 2))\n",
    "events_grouped['prop_247'] = events_grouped['num_247'].map(lambda x: round(x / data.query('group == \"247\"')['id'].nunique() * 100, 2))\n",
    "events_grouped"
   ]
  },
  {
   "cell_type": "markdown",
   "metadata": {},
   "source": [
    "Теперь сравним экспериментальную группу с каждой из контрольных."
   ]
  },
  {
   "cell_type": "code",
   "execution_count": 21,
   "metadata": {},
   "outputs": [
    {
     "name": "stdout",
     "output_type": "stream",
     "text": [
      "P-value для события MainScreenAppear равен 0.3987202257264393\n",
      "Не получилось отвергнуть нулевую гипотезу, нет оснований считать доли разными\n",
      "P-value для события CartScreenAppear равен 0.10228601083368605\n",
      "Не получилось отвергнуть нулевую гипотезу, нет оснований считать доли разными\n",
      "P-value для события OffersScreenAppear равен 0.24572044809208005\n",
      "Не получилось отвергнуть нулевую гипотезу, нет оснований считать доли разными\n",
      "P-value для события PaymentScreenSuccessful равен 0.22871737270563663\n",
      "Не получилось отвергнуть нулевую гипотезу, нет оснований считать доли разными\n",
      "P-value для события Tutorial равен 0.9281336916355087\n",
      "Не получилось отвергнуть нулевую гипотезу, нет оснований считать доли разными\n"
     ]
    }
   ],
   "source": [
    "check_props(data, ['246', '248'], 0.05)"
   ]
  },
  {
   "cell_type": "code",
   "execution_count": 22,
   "metadata": {},
   "outputs": [
    {
     "name": "stdout",
     "output_type": "stream",
     "text": [
      "P-value для события MainScreenAppear равен 0.7632160970326178\n",
      "Не получилось отвергнуть нулевую гипотезу, нет оснований считать доли разными\n",
      "P-value для события CartScreenAppear равен 0.7406094633808076\n",
      "Не получилось отвергнуть нулевую гипотезу, нет оснований считать доли разными\n",
      "P-value для события OffersScreenAppear равен 0.9008951953446449\n",
      "Не получилось отвергнуть нулевую гипотезу, нет оснований считать доли разными\n",
      "P-value для события PaymentScreenSuccessful равен 0.6763830984465451\n",
      "Не получилось отвергнуть нулевую гипотезу, нет оснований считать доли разными\n",
      "P-value для события Tutorial равен 0.80760077183978\n",
      "Не получилось отвергнуть нулевую гипотезу, нет оснований считать доли разными\n"
     ]
    }
   ],
   "source": [
    "check_props(data, ['247', '248'], 0.05)"
   ]
  },
  {
   "cell_type": "markdown",
   "metadata": {},
   "source": [
    "Значимых различий между группами по-прежнему нет -- ни между двумя контрольными, ни между каждой из них и экспериментальной. А что будет, если сравнить с экспериментальной группой комбинированную, созданную из двух контрольных?"
   ]
  },
  {
   "cell_type": "code",
   "execution_count": 23,
   "metadata": {},
   "outputs": [
    {
     "name": "stdout",
     "output_type": "stream",
     "text": [
      "P-value для события MainScreenAppear равен 0.5073702519850276\n",
      "Не получилось отвергнуть нулевую гипотезу, нет оснований считать доли разными\n",
      "P-value для события CartScreenAppear равен 0.25752772774123756\n",
      "Не получилось отвергнуть нулевую гипотезу, нет оснований считать доли разными\n",
      "P-value для события OffersScreenAppear равен 0.4594978426246661\n",
      "Не получилось отвергнуть нулевую гипотезу, нет оснований считать доли разными\n",
      "P-value для события PaymentScreenSuccessful равен 0.6522619653710271\n",
      "Не получилось отвергнуть нулевую гипотезу, нет оснований считать доли разными\n",
      "P-value для события Tutorial равен 0.846749851963805\n",
      "Не получилось отвергнуть нулевую гипотезу, нет оснований считать доли разными\n"
     ]
    }
   ],
   "source": [
    "check_props(data, ['246|247', '248'], 0.05)"
   ]
  },
  {
   "cell_type": "markdown",
   "metadata": {},
   "source": [
    "Ничего особенного, результат тот же. Это означает, что замена шрифта, веротяно, никаких не скажется на посещаемости приложения, и двустороннего теста достаточно. Менеджеры волновались зря (а дизайнеры, возможно, зря рисовали новый шрифт, но это не точно)."
   ]
  },
  {
   "cell_type": "markdown",
   "metadata": {},
   "source": [
    "---\n",
    "\n",
    "<div class=\"alert alert-block alert-success\">\n",
    "    \n",
    "\n",
    "### Комментарий от наставника\n",
    "\n",
    "Ты правильно провел проверку статистических гипотез\n",
    "\n",
    "</div>\n",
    "    \n",
    "---"
   ]
  },
  {
   "cell_type": "code",
   "execution_count": null,
   "metadata": {},
   "outputs": [],
   "source": []
  }
 ],
 "metadata": {
  "kernelspec": {
   "display_name": "Python 3",
   "language": "python",
   "name": "python3"
  },
  "language_info": {
   "codemirror_mode": {
    "name": "ipython",
    "version": 3
   },
   "file_extension": ".py",
   "mimetype": "text/x-python",
   "name": "python",
   "nbconvert_exporter": "python",
   "pygments_lexer": "ipython3",
   "version": "3.8.0"
  }
 },
 "nbformat": 4,
 "nbformat_minor": 2
}
