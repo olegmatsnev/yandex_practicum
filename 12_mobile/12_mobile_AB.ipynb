{
 "cells": [
  {
   "cell_type": "markdown",
   "metadata": {},
   "source": [
    "# Оценка результатов A/B тестирования\n",
    "\n",
    "На сайте внедрено новое решение -- назойливый чат с менеджером. Менеджеры продукта говорят о том, что это вызовет негативный опыт у пользователей, а менеджеры по продажам считают, что так получится больше продавать. Имеются результаты A/B теста — одной выборке показывали назойливый чат, а другой нет. Нужно оценить результаты теста и описать выводы. \n",
    "\n",
    "С точки зрения статистического анализа, нам нужно будет сравнить доли \"успехов\" в двух датасетах -- экспериментальном и контрольном. Что считать успехом и от чего считать его долю, станет ясно после знакомства с данными."
   ]
  },
  {
   "cell_type": "code",
   "execution_count": 1,
   "metadata": {},
   "outputs": [],
   "source": [
    "import pandas as pd\n",
    "import scipy.stats as st\n",
    "import math as mth\n",
    "import seaborn as sns\n",
    "from matplotlib import pyplot as plt"
   ]
  },
  {
   "cell_type": "code",
   "execution_count": 2,
   "metadata": {},
   "outputs": [],
   "source": [
    "test = pd.read_csv(r'ab_log new.csv')"
   ]
  },
  {
   "cell_type": "code",
   "execution_count": 3,
   "metadata": {},
   "outputs": [
    {
     "data": {
      "text/html": [
       "<div>\n",
       "<style scoped>\n",
       "    .dataframe tbody tr th:only-of-type {\n",
       "        vertical-align: middle;\n",
       "    }\n",
       "\n",
       "    .dataframe tbody tr th {\n",
       "        vertical-align: top;\n",
       "    }\n",
       "\n",
       "    .dataframe thead th {\n",
       "        text-align: right;\n",
       "    }\n",
       "</style>\n",
       "<table border=\"1\" class=\"dataframe\">\n",
       "  <thead>\n",
       "    <tr style=\"text-align: right;\">\n",
       "      <th></th>\n",
       "      <th>event</th>\n",
       "      <th>user_id</th>\n",
       "      <th>EventTime</th>\n",
       "      <th>Group</th>\n",
       "    </tr>\n",
       "  </thead>\n",
       "  <tbody>\n",
       "    <tr>\n",
       "      <th>0</th>\n",
       "      <td>StartReadingOffer</td>\n",
       "      <td>7241586465170049200</td>\n",
       "      <td>1564978321</td>\n",
       "      <td>A2</td>\n",
       "    </tr>\n",
       "    <tr>\n",
       "      <th>1</th>\n",
       "      <td>OpenProductCard</td>\n",
       "      <td>4998498972125515821</td>\n",
       "      <td>1564678223</td>\n",
       "      <td>A2</td>\n",
       "    </tr>\n",
       "    <tr>\n",
       "      <th>2</th>\n",
       "      <td>StartReadingOffer</td>\n",
       "      <td>5794343176311717876</td>\n",
       "      <td>1564681595</td>\n",
       "      <td>B</td>\n",
       "    </tr>\n",
       "    <tr>\n",
       "      <th>3</th>\n",
       "      <td>StartReadingOffer</td>\n",
       "      <td>3371640160394640961</td>\n",
       "      <td>1564635919</td>\n",
       "      <td>A1</td>\n",
       "    </tr>\n",
       "    <tr>\n",
       "      <th>4</th>\n",
       "      <td>OpenProductCard</td>\n",
       "      <td>4623191541226589455</td>\n",
       "      <td>1564695060</td>\n",
       "      <td>A1</td>\n",
       "    </tr>\n",
       "  </tbody>\n",
       "</table>\n",
       "</div>"
      ],
      "text/plain": [
       "               event              user_id   EventTime Group\n",
       "0  StartReadingOffer  7241586465170049200  1564978321    A2\n",
       "1    OpenProductCard  4998498972125515821  1564678223    A2\n",
       "2  StartReadingOffer  5794343176311717876  1564681595     B\n",
       "3  StartReadingOffer  3371640160394640961  1564635919    A1\n",
       "4    OpenProductCard  4623191541226589455  1564695060    A1"
      ]
     },
     "execution_count": 3,
     "metadata": {},
     "output_type": "execute_result"
    }
   ],
   "source": [
    "test.head()"
   ]
  },
  {
   "cell_type": "code",
   "execution_count": 4,
   "metadata": {},
   "outputs": [
    {
     "name": "stdout",
     "output_type": "stream",
     "text": [
      "<class 'pandas.core.frame.DataFrame'>\n",
      "RangeIndex: 154788 entries, 0 to 154787\n",
      "Data columns (total 4 columns):\n",
      "event        154788 non-null object\n",
      "user_id      154788 non-null int64\n",
      "EventTime    154788 non-null int64\n",
      "Group        154788 non-null object\n",
      "dtypes: int64(2), object(2)\n",
      "memory usage: 4.7+ MB\n"
     ]
    }
   ],
   "source": [
    "test.info()"
   ]
  },
  {
   "cell_type": "markdown",
   "metadata": {},
   "source": [
    "Пропусков нет. Поменяем названия колонок, колонку со временем приведем к типу `datetime`. Затем проверим датасет на дубликаты."
   ]
  },
  {
   "cell_type": "code",
   "execution_count": 5,
   "metadata": {},
   "outputs": [
    {
     "data": {
      "text/html": [
       "<div>\n",
       "<style scoped>\n",
       "    .dataframe tbody tr th:only-of-type {\n",
       "        vertical-align: middle;\n",
       "    }\n",
       "\n",
       "    .dataframe tbody tr th {\n",
       "        vertical-align: top;\n",
       "    }\n",
       "\n",
       "    .dataframe thead th {\n",
       "        text-align: right;\n",
       "    }\n",
       "</style>\n",
       "<table border=\"1\" class=\"dataframe\">\n",
       "  <thead>\n",
       "    <tr style=\"text-align: right;\">\n",
       "      <th></th>\n",
       "      <th>event</th>\n",
       "      <th>user_id</th>\n",
       "      <th>event_time</th>\n",
       "      <th>group</th>\n",
       "    </tr>\n",
       "  </thead>\n",
       "  <tbody>\n",
       "    <tr>\n",
       "      <th>11731</th>\n",
       "      <td>OpenPaymentScreen</td>\n",
       "      <td>4980045449131162880</td>\n",
       "      <td>2019-08-01 13:37:24</td>\n",
       "      <td>A1</td>\n",
       "    </tr>\n",
       "    <tr>\n",
       "      <th>15075</th>\n",
       "      <td>OpenPaymentScreen</td>\n",
       "      <td>2511459110931442424</td>\n",
       "      <td>2019-08-02 20:59:37</td>\n",
       "      <td>A1</td>\n",
       "    </tr>\n",
       "    <tr>\n",
       "      <th>16804</th>\n",
       "      <td>OpenProductCard</td>\n",
       "      <td>8505917781362183177</td>\n",
       "      <td>2019-08-02 08:31:08</td>\n",
       "      <td>A1</td>\n",
       "    </tr>\n",
       "    <tr>\n",
       "      <th>20784</th>\n",
       "      <td>OpenPaymentScreen</td>\n",
       "      <td>3755777888713945322</td>\n",
       "      <td>2019-08-01 18:35:47</td>\n",
       "      <td>A1</td>\n",
       "    </tr>\n",
       "    <tr>\n",
       "      <th>25201</th>\n",
       "      <td>OpenProductCard</td>\n",
       "      <td>4559082052532557813</td>\n",
       "      <td>2019-08-04 21:51:05</td>\n",
       "      <td>A2</td>\n",
       "    </tr>\n",
       "    <tr>\n",
       "      <th>26038</th>\n",
       "      <td>OpenPaymentScreen</td>\n",
       "      <td>7967446953403308042</td>\n",
       "      <td>2019-08-03 16:09:08</td>\n",
       "      <td>A2</td>\n",
       "    </tr>\n",
       "    <tr>\n",
       "      <th>26154</th>\n",
       "      <td>OpenProductCard</td>\n",
       "      <td>6304868067492272236</td>\n",
       "      <td>2019-08-02 00:14:15</td>\n",
       "      <td>B</td>\n",
       "    </tr>\n",
       "    <tr>\n",
       "      <th>29898</th>\n",
       "      <td>OpenPaymentScreen</td>\n",
       "      <td>747706080584224044</td>\n",
       "      <td>2019-08-05 10:55:22</td>\n",
       "      <td>A1</td>\n",
       "    </tr>\n",
       "    <tr>\n",
       "      <th>30701</th>\n",
       "      <td>OpenPaymentScreen</td>\n",
       "      <td>3610536745626436187</td>\n",
       "      <td>2019-08-03 15:37:46</td>\n",
       "      <td>B</td>\n",
       "    </tr>\n",
       "    <tr>\n",
       "      <th>30880</th>\n",
       "      <td>OpenProductCard</td>\n",
       "      <td>438481114997559986</td>\n",
       "      <td>2019-08-02 05:26:17</td>\n",
       "      <td>A1</td>\n",
       "    </tr>\n",
       "    <tr>\n",
       "      <th>32819</th>\n",
       "      <td>OpenPaymentScreen</td>\n",
       "      <td>5767286434027527889</td>\n",
       "      <td>2019-08-05 11:42:27</td>\n",
       "      <td>A2</td>\n",
       "    </tr>\n",
       "    <tr>\n",
       "      <th>32944</th>\n",
       "      <td>OpenPaymentScreen</td>\n",
       "      <td>3473691793394566698</td>\n",
       "      <td>2019-08-01 22:28:29</td>\n",
       "      <td>B</td>\n",
       "    </tr>\n",
       "    <tr>\n",
       "      <th>33034</th>\n",
       "      <td>StartReadingOffer</td>\n",
       "      <td>4149035846951963938</td>\n",
       "      <td>2019-08-05 07:26:56</td>\n",
       "      <td>B</td>\n",
       "    </tr>\n",
       "    <tr>\n",
       "      <th>34086</th>\n",
       "      <td>StartReadingOffer</td>\n",
       "      <td>677967665217718289</td>\n",
       "      <td>2019-08-01 12:15:50</td>\n",
       "      <td>A2</td>\n",
       "    </tr>\n",
       "    <tr>\n",
       "      <th>35113</th>\n",
       "      <td>OpenProductCard</td>\n",
       "      <td>197027893278109535</td>\n",
       "      <td>2019-08-01 18:52:24</td>\n",
       "      <td>A2</td>\n",
       "    </tr>\n",
       "    <tr>\n",
       "      <th>36127</th>\n",
       "      <td>OpenPaymentScreen</td>\n",
       "      <td>5663529522107587910</td>\n",
       "      <td>2019-08-02 19:16:45</td>\n",
       "      <td>B</td>\n",
       "    </tr>\n",
       "    <tr>\n",
       "      <th>39168</th>\n",
       "      <td>OpenPaymentScreen</td>\n",
       "      <td>3473691793394566698</td>\n",
       "      <td>2019-08-01 22:28:29</td>\n",
       "      <td>B</td>\n",
       "    </tr>\n",
       "    <tr>\n",
       "      <th>39363</th>\n",
       "      <td>OpenPaymentScreen</td>\n",
       "      <td>2765616896154707965</td>\n",
       "      <td>2019-08-01 20:28:59</td>\n",
       "      <td>A2</td>\n",
       "    </tr>\n",
       "    <tr>\n",
       "      <th>40680</th>\n",
       "      <td>OpenPaymentScreen</td>\n",
       "      <td>6276181155703353703</td>\n",
       "      <td>2019-08-04 08:41:24</td>\n",
       "      <td>A2</td>\n",
       "    </tr>\n",
       "    <tr>\n",
       "      <th>40963</th>\n",
       "      <td>OpenPaymentScreen</td>\n",
       "      <td>789235048127129273</td>\n",
       "      <td>2019-08-04 15:13:38</td>\n",
       "      <td>A2</td>\n",
       "    </tr>\n",
       "    <tr>\n",
       "      <th>41725</th>\n",
       "      <td>OpenPaymentScreen</td>\n",
       "      <td>3473691793394566698</td>\n",
       "      <td>2019-08-01 22:28:30</td>\n",
       "      <td>B</td>\n",
       "    </tr>\n",
       "    <tr>\n",
       "      <th>42781</th>\n",
       "      <td>OpenProductCard</td>\n",
       "      <td>2863001408315206548</td>\n",
       "      <td>2019-08-03 18:04:30</td>\n",
       "      <td>A2</td>\n",
       "    </tr>\n",
       "    <tr>\n",
       "      <th>44151</th>\n",
       "      <td>OpenProductCard</td>\n",
       "      <td>1694940645348351119</td>\n",
       "      <td>2019-07-31 22:08:19</td>\n",
       "      <td>B</td>\n",
       "    </tr>\n",
       "    <tr>\n",
       "      <th>44186</th>\n",
       "      <td>OpenPaymentScreen</td>\n",
       "      <td>9110248565817502916</td>\n",
       "      <td>2019-08-02 13:04:34</td>\n",
       "      <td>B</td>\n",
       "    </tr>\n",
       "    <tr>\n",
       "      <th>44529</th>\n",
       "      <td>OpenPaymentScreen</td>\n",
       "      <td>3610536745626436187</td>\n",
       "      <td>2019-08-04 14:06:29</td>\n",
       "      <td>B</td>\n",
       "    </tr>\n",
       "    <tr>\n",
       "      <th>44546</th>\n",
       "      <td>OpenPaymentScreen</td>\n",
       "      <td>7738058666244543753</td>\n",
       "      <td>2019-08-03 18:23:51</td>\n",
       "      <td>A2</td>\n",
       "    </tr>\n",
       "    <tr>\n",
       "      <th>45619</th>\n",
       "      <td>OpenPaymentScreen</td>\n",
       "      <td>3473691793394566698</td>\n",
       "      <td>2019-08-01 22:28:33</td>\n",
       "      <td>B</td>\n",
       "    </tr>\n",
       "    <tr>\n",
       "      <th>45835</th>\n",
       "      <td>StartCheckProduct</td>\n",
       "      <td>8149552824226478650</td>\n",
       "      <td>2019-08-03 16:39:00</td>\n",
       "      <td>A1</td>\n",
       "    </tr>\n",
       "    <tr>\n",
       "      <th>46643</th>\n",
       "      <td>StartReadingOffer</td>\n",
       "      <td>2835328739801850497</td>\n",
       "      <td>2019-08-01 05:00:41</td>\n",
       "      <td>B</td>\n",
       "    </tr>\n",
       "    <tr>\n",
       "      <th>47589</th>\n",
       "      <td>OpenPaymentScreen</td>\n",
       "      <td>3610536745626436187</td>\n",
       "      <td>2019-08-04 08:00:36</td>\n",
       "      <td>B</td>\n",
       "    </tr>\n",
       "    <tr>\n",
       "      <th>...</th>\n",
       "      <td>...</td>\n",
       "      <td>...</td>\n",
       "      <td>...</td>\n",
       "      <td>...</td>\n",
       "    </tr>\n",
       "    <tr>\n",
       "      <th>146698</th>\n",
       "      <td>OpenPaymentScreen</td>\n",
       "      <td>2877433916187952651</td>\n",
       "      <td>2019-08-01 11:30:01</td>\n",
       "      <td>A1</td>\n",
       "    </tr>\n",
       "    <tr>\n",
       "      <th>146949</th>\n",
       "      <td>OpenPaymentScreen</td>\n",
       "      <td>1211886626206348337</td>\n",
       "      <td>2019-08-03 08:47:10</td>\n",
       "      <td>A2</td>\n",
       "    </tr>\n",
       "    <tr>\n",
       "      <th>147181</th>\n",
       "      <td>OpenPaymentScreen</td>\n",
       "      <td>1591209869036636804</td>\n",
       "      <td>2019-08-01 17:55:09</td>\n",
       "      <td>B</td>\n",
       "    </tr>\n",
       "    <tr>\n",
       "      <th>147321</th>\n",
       "      <td>StartReadingOffer</td>\n",
       "      <td>4935699981293076612</td>\n",
       "      <td>2019-08-01 15:21:42</td>\n",
       "      <td>B</td>\n",
       "    </tr>\n",
       "    <tr>\n",
       "      <th>147752</th>\n",
       "      <td>OpenPaymentScreen</td>\n",
       "      <td>3473691793394566698</td>\n",
       "      <td>2019-08-01 22:28:32</td>\n",
       "      <td>B</td>\n",
       "    </tr>\n",
       "    <tr>\n",
       "      <th>147758</th>\n",
       "      <td>OpenPaymentScreen</td>\n",
       "      <td>3473691793394566698</td>\n",
       "      <td>2019-08-01 22:28:29</td>\n",
       "      <td>B</td>\n",
       "    </tr>\n",
       "    <tr>\n",
       "      <th>148722</th>\n",
       "      <td>StartCheckProduct</td>\n",
       "      <td>4753277292495101504</td>\n",
       "      <td>2019-08-03 11:17:09</td>\n",
       "      <td>B</td>\n",
       "    </tr>\n",
       "    <tr>\n",
       "      <th>148932</th>\n",
       "      <td>StartReadingOffer</td>\n",
       "      <td>9062390201434391235</td>\n",
       "      <td>2019-08-02 14:32:14</td>\n",
       "      <td>B</td>\n",
       "    </tr>\n",
       "    <tr>\n",
       "      <th>148958</th>\n",
       "      <td>StartCheckProduct</td>\n",
       "      <td>4195213728906788711</td>\n",
       "      <td>2019-08-02 12:00:01</td>\n",
       "      <td>A2</td>\n",
       "    </tr>\n",
       "    <tr>\n",
       "      <th>149465</th>\n",
       "      <td>OpenPaymentScreen</td>\n",
       "      <td>3610536745626436187</td>\n",
       "      <td>2019-08-03 04:56:31</td>\n",
       "      <td>B</td>\n",
       "    </tr>\n",
       "    <tr>\n",
       "      <th>149774</th>\n",
       "      <td>OpenPaymentScreen</td>\n",
       "      <td>636437379440272961</td>\n",
       "      <td>2019-08-02 06:26:45</td>\n",
       "      <td>A1</td>\n",
       "    </tr>\n",
       "    <tr>\n",
       "      <th>149895</th>\n",
       "      <td>OpenPaymentScreen</td>\n",
       "      <td>3755777888713945322</td>\n",
       "      <td>2019-08-01 18:36:57</td>\n",
       "      <td>A1</td>\n",
       "    </tr>\n",
       "    <tr>\n",
       "      <th>150379</th>\n",
       "      <td>OpenPaymentScreen</td>\n",
       "      <td>3610536745626436187</td>\n",
       "      <td>2019-08-04 08:00:33</td>\n",
       "      <td>B</td>\n",
       "    </tr>\n",
       "    <tr>\n",
       "      <th>150633</th>\n",
       "      <td>OpenPaymentScreen</td>\n",
       "      <td>7035352794311775808</td>\n",
       "      <td>2019-08-01 08:37:07</td>\n",
       "      <td>B</td>\n",
       "    </tr>\n",
       "    <tr>\n",
       "      <th>150695</th>\n",
       "      <td>StartReadingOffer</td>\n",
       "      <td>736519707457265843</td>\n",
       "      <td>2019-08-05 05:15:32</td>\n",
       "      <td>A2</td>\n",
       "    </tr>\n",
       "    <tr>\n",
       "      <th>150891</th>\n",
       "      <td>OpenProductCard</td>\n",
       "      <td>7738058666244543753</td>\n",
       "      <td>2019-08-01 19:23:15</td>\n",
       "      <td>A2</td>\n",
       "    </tr>\n",
       "    <tr>\n",
       "      <th>151320</th>\n",
       "      <td>OpenPaymentScreen</td>\n",
       "      <td>3610536745626436187</td>\n",
       "      <td>2019-08-03 09:50:27</td>\n",
       "      <td>B</td>\n",
       "    </tr>\n",
       "    <tr>\n",
       "      <th>151369</th>\n",
       "      <td>OpenPaymentScreen</td>\n",
       "      <td>3473691793394566698</td>\n",
       "      <td>2019-08-01 22:25:55</td>\n",
       "      <td>B</td>\n",
       "    </tr>\n",
       "    <tr>\n",
       "      <th>151373</th>\n",
       "      <td>OpenPaymentScreen</td>\n",
       "      <td>5767286434027527889</td>\n",
       "      <td>2019-08-05 11:42:32</td>\n",
       "      <td>A2</td>\n",
       "    </tr>\n",
       "    <tr>\n",
       "      <th>151516</th>\n",
       "      <td>OpenPaymentScreen</td>\n",
       "      <td>6461593331332989937</td>\n",
       "      <td>2019-08-04 10:31:52</td>\n",
       "      <td>A2</td>\n",
       "    </tr>\n",
       "    <tr>\n",
       "      <th>151572</th>\n",
       "      <td>StartReadingOffer</td>\n",
       "      <td>2458857792144773477</td>\n",
       "      <td>2019-08-02 09:26:09</td>\n",
       "      <td>B</td>\n",
       "    </tr>\n",
       "    <tr>\n",
       "      <th>151980</th>\n",
       "      <td>StartReadingOffer</td>\n",
       "      <td>6874363509611235261</td>\n",
       "      <td>2019-08-02 06:01:06</td>\n",
       "      <td>A1</td>\n",
       "    </tr>\n",
       "    <tr>\n",
       "      <th>152107</th>\n",
       "      <td>OpenProductCard</td>\n",
       "      <td>4623191541226589455</td>\n",
       "      <td>2019-08-01 21:27:24</td>\n",
       "      <td>A1</td>\n",
       "    </tr>\n",
       "    <tr>\n",
       "      <th>152266</th>\n",
       "      <td>OpenPaymentScreen</td>\n",
       "      <td>3473691793394566698</td>\n",
       "      <td>2019-08-01 22:28:33</td>\n",
       "      <td>B</td>\n",
       "    </tr>\n",
       "    <tr>\n",
       "      <th>153019</th>\n",
       "      <td>OpenPaymentScreen</td>\n",
       "      <td>3610536745626436187</td>\n",
       "      <td>2019-08-04 08:00:38</td>\n",
       "      <td>B</td>\n",
       "    </tr>\n",
       "    <tr>\n",
       "      <th>153049</th>\n",
       "      <td>OpenPaymentScreen</td>\n",
       "      <td>1501430434324035413</td>\n",
       "      <td>2019-08-03 11:29:30</td>\n",
       "      <td>A1</td>\n",
       "    </tr>\n",
       "    <tr>\n",
       "      <th>153162</th>\n",
       "      <td>OpenPaymentScreen</td>\n",
       "      <td>1602535389328790980</td>\n",
       "      <td>2019-08-04 19:12:19</td>\n",
       "      <td>B</td>\n",
       "    </tr>\n",
       "    <tr>\n",
       "      <th>153301</th>\n",
       "      <td>OpenPaymentScreen</td>\n",
       "      <td>1754140665452978090</td>\n",
       "      <td>2019-08-03 02:39:00</td>\n",
       "      <td>A1</td>\n",
       "    </tr>\n",
       "    <tr>\n",
       "      <th>154316</th>\n",
       "      <td>StartReadingOffer</td>\n",
       "      <td>1256042479769752110</td>\n",
       "      <td>2019-08-02 14:56:57</td>\n",
       "      <td>A2</td>\n",
       "    </tr>\n",
       "    <tr>\n",
       "      <th>154554</th>\n",
       "      <td>OpenPaymentScreen</td>\n",
       "      <td>7757756163351975825</td>\n",
       "      <td>2019-08-03 18:53:49</td>\n",
       "      <td>A1</td>\n",
       "    </tr>\n",
       "  </tbody>\n",
       "</table>\n",
       "<p>296 rows × 4 columns</p>\n",
       "</div>"
      ],
      "text/plain": [
       "                    event              user_id          event_time group\n",
       "11731   OpenPaymentScreen  4980045449131162880 2019-08-01 13:37:24    A1\n",
       "15075   OpenPaymentScreen  2511459110931442424 2019-08-02 20:59:37    A1\n",
       "16804     OpenProductCard  8505917781362183177 2019-08-02 08:31:08    A1\n",
       "20784   OpenPaymentScreen  3755777888713945322 2019-08-01 18:35:47    A1\n",
       "25201     OpenProductCard  4559082052532557813 2019-08-04 21:51:05    A2\n",
       "...                   ...                  ...                 ...   ...\n",
       "153049  OpenPaymentScreen  1501430434324035413 2019-08-03 11:29:30    A1\n",
       "153162  OpenPaymentScreen  1602535389328790980 2019-08-04 19:12:19     B\n",
       "153301  OpenPaymentScreen  1754140665452978090 2019-08-03 02:39:00    A1\n",
       "154316  StartReadingOffer  1256042479769752110 2019-08-02 14:56:57    A2\n",
       "154554  OpenPaymentScreen  7757756163351975825 2019-08-03 18:53:49    A1\n",
       "\n",
       "[296 rows x 4 columns]"
      ]
     },
     "execution_count": 5,
     "metadata": {},
     "output_type": "execute_result"
    }
   ],
   "source": [
    "test.rename(columns={'EventTime': 'event_time', 'Group': 'group'}, inplace=True)\n",
    "test.event_time = pd.to_datetime(test.event_time, unit='s')\n",
    "test.loc[test.duplicated() == True]"
   ]
  },
  {
   "cell_type": "markdown",
   "metadata": {},
   "source": [
    "Дубликаты есть. Каких-то особенностей, которые проливали бы свет на их природу, на первый взгляд не видно. Это явная ошибка, к тому же в масштабах датасета дубликатов очень мало, так что удалим их."
   ]
  },
  {
   "cell_type": "code",
   "execution_count": 6,
   "metadata": {},
   "outputs": [],
   "source": [
    "test = test.drop_duplicates()"
   ]
  },
  {
   "cell_type": "markdown",
   "metadata": {},
   "source": [
    "Посмотрим, нет ли выбросов."
   ]
  },
  {
   "cell_type": "code",
   "execution_count": 7,
   "metadata": {},
   "outputs": [
    {
     "data": {
      "text/plain": [
       "<matplotlib.axes._subplots.AxesSubplot at 0x1a1529be80>"
      ]
     },
     "metadata": {},
     "output_type": "display_data"
    },
    {
     "data": {
      "text/html": [
       "<div>\n",
       "<style scoped>\n",
       "    .dataframe tbody tr th:only-of-type {\n",
       "        vertical-align: middle;\n",
       "    }\n",
       "\n",
       "    .dataframe tbody tr th {\n",
       "        vertical-align: top;\n",
       "    }\n",
       "\n",
       "    .dataframe thead th {\n",
       "        text-align: right;\n",
       "    }\n",
       "</style>\n",
       "<table border=\"1\" class=\"dataframe\">\n",
       "  <thead>\n",
       "    <tr style=\"text-align: right;\">\n",
       "      <th></th>\n",
       "      <th>user_id</th>\n",
       "      <th>event_time</th>\n",
       "    </tr>\n",
       "  </thead>\n",
       "  <tbody>\n",
       "    <tr>\n",
       "      <th>count</th>\n",
       "      <td>6.805000e+03</td>\n",
       "      <td>6805.000000</td>\n",
       "    </tr>\n",
       "    <tr>\n",
       "      <th>mean</th>\n",
       "      <td>4.686604e+18</td>\n",
       "      <td>22.702719</td>\n",
       "    </tr>\n",
       "    <tr>\n",
       "      <th>std</th>\n",
       "      <td>2.657051e+18</td>\n",
       "      <td>54.695659</td>\n",
       "    </tr>\n",
       "    <tr>\n",
       "      <th>min</th>\n",
       "      <td>6.922445e+15</td>\n",
       "      <td>1.000000</td>\n",
       "    </tr>\n",
       "    <tr>\n",
       "      <th>25%</th>\n",
       "      <td>2.408195e+18</td>\n",
       "      <td>7.000000</td>\n",
       "    </tr>\n",
       "    <tr>\n",
       "      <th>50%</th>\n",
       "      <td>4.693746e+18</td>\n",
       "      <td>14.000000</td>\n",
       "    </tr>\n",
       "    <tr>\n",
       "      <th>75%</th>\n",
       "      <td>7.034504e+18</td>\n",
       "      <td>26.000000</td>\n",
       "    </tr>\n",
       "    <tr>\n",
       "      <th>max</th>\n",
       "      <td>9.222603e+18</td>\n",
       "      <td>2289.000000</td>\n",
       "    </tr>\n",
       "  </tbody>\n",
       "</table>\n",
       "</div>"
      ],
      "text/plain": [
       "            user_id   event_time\n",
       "count  6.805000e+03  6805.000000\n",
       "mean   4.686604e+18    22.702719\n",
       "std    2.657051e+18    54.695659\n",
       "min    6.922445e+15     1.000000\n",
       "25%    2.408195e+18     7.000000\n",
       "50%    4.693746e+18    14.000000\n",
       "75%    7.034504e+18    26.000000\n",
       "max    9.222603e+18  2289.000000"
      ]
     },
     "metadata": {},
     "output_type": "display_data"
    },
    {
     "data": {
      "image/png": "[encoded data removed]",
      "text/plain": [
       "<Figure size 432x288 with 1 Axes>"
      ]
     },
     "metadata": {
      "needs_background": "light"
     },
     "output_type": "display_data"
    }
   ],
   "source": [
    "events_num = test.groupby('user_id')['event_time'].count().reset_index()\n",
    "display(events_num.boxplot('event_time'))\n",
    "display(events_num.describe())"
   ]
  },
  {
   "cell_type": "markdown",
   "metadata": {},
   "source": [
    "В датасете есть выбросы -- пользователи с очень болшим количеством действий (до 2289 при медианном значении всего в 14). Посмотрим, много ли таких аномальных пользователей, и какое количество действий в среднем на пользователя можно считать нормальным, исходя из критерия \"75-я перцентиль плюс полтора межквартильных интервала\"."
   ]
  },
  {
   "cell_type": "code",
   "execution_count": 8,
   "metadata": {},
   "outputs": [
    {
     "data": {
      "text/plain": [
       "461"
      ]
     },
     "metadata": {},
     "output_type": "display_data"
    },
    {
     "data": {
      "text/plain": [
       "54.5"
      ]
     },
     "metadata": {},
     "output_type": "display_data"
    }
   ],
   "source": [
    "iqr = events_num.event_time.describe()['75%'] - events_num.event_time.describe()['25%']\n",
    "upper_limit = events_num.event_time.describe()['75%'] + 1.5*iqr\n",
    "outliers = events_num.query('event_time > @upper_limit').user_id\n",
    "display(outliers.shape[0])\n",
    "display(upper_limit)"
   ]
  },
  {
   "cell_type": "markdown",
   "metadata": {},
   "source": [
    "Их 461 из 6805, это довольно много. Вряд ли стоит исключать их из дальнейшего рассмотрения, но стоит иметь в виду, что они есть. Верхняя граница нормы -- 54,5 события на одного пользователя.\n",
    "\n",
    "Посмотрим, как события распределены во времени. Сначала выясним, в какие даты проводился тест."
   ]
  },
  {
   "cell_type": "code",
   "execution_count": 9,
   "metadata": {},
   "outputs": [
    {
     "data": {
      "text/plain": [
       "count                  154492\n",
       "unique                 112980\n",
       "top       2019-08-01 14:57:15\n",
       "freq                        9\n",
       "first     2019-07-25 05:00:16\n",
       "last      2019-08-05 11:47:10\n",
       "Name: event_time, dtype: object"
      ]
     },
     "execution_count": 9,
     "metadata": {},
     "output_type": "execute_result"
    }
   ],
   "source": [
    "test.event_time.describe()"
   ]
  },
  {
   "cell_type": "markdown",
   "metadata": {},
   "source": [
    "С 25 июля по 5 августа 2019 г.. Узнаем, равномерно ли поступали данные в течение этого периода."
   ]
  },
  {
   "cell_type": "code",
   "execution_count": 10,
   "metadata": {},
   "outputs": [
    {
     "data": {
      "text/plain": [
       "<matplotlib.axes._subplots.AxesSubplot at 0x101fc6b70>"
      ]
     },
     "execution_count": 10,
     "metadata": {},
     "output_type": "execute_result"
    },
    {
     "data": {
      "image/png": "[encoded data removed]",
      "text/plain": [
       "<Figure size 432x288 with 1 Axes>"
      ]
     },
     "metadata": {
      "needs_background": "light"
     },
     "output_type": "display_data"
    }
   ],
   "source": [
    "test['event_date'] = test.event_time.dt.date\n",
    "test.event_date.hist(bins=14, xrot=45)"
   ]
  },
  {
   "cell_type": "markdown",
   "metadata": {},
   "source": [
    "Какой-то странный провал накануне дня ВДВ. Но самое главное, что в июле данные почти не поступали -- можно ограничить рассматриваемые данные периодом с 30 июля."
   ]
  },
  {
   "cell_type": "code",
   "execution_count": 11,
   "metadata": {},
   "outputs": [],
   "source": [
    "test = test.query('event_time > \"2019-07-29\"')"
   ]
  },
  {
   "cell_type": "markdown",
   "metadata": {},
   "source": [
    "Убедимся, что размеры контрольной и экспериментальной групп соизмеримы."
   ]
  },
  {
   "cell_type": "code",
   "execution_count": 12,
   "metadata": {},
   "outputs": [
    {
     "data": {
      "text/plain": [
       "group\n",
       "A1    49578\n",
       "A2    49753\n",
       "B     54961\n",
       "Name: user_id, dtype: int64"
      ]
     },
     "execution_count": 12,
     "metadata": {},
     "output_type": "execute_result"
    }
   ],
   "source": [
    "test.groupby('group')['user_id'].count()"
   ]
  },
  {
   "cell_type": "markdown",
   "metadata": {},
   "source": [
    "Посмотрим, какие события встречаются в датасете и построим событийную воронку."
   ]
  },
  {
   "cell_type": "code",
   "execution_count": 13,
   "metadata": {
    "scrolled": true
   },
   "outputs": [
    {
     "data": {
      "text/html": [
       "<div>\n",
       "<style scoped>\n",
       "    .dataframe tbody tr th:only-of-type {\n",
       "        vertical-align: middle;\n",
       "    }\n",
       "\n",
       "    .dataframe tbody tr th {\n",
       "        vertical-align: top;\n",
       "    }\n",
       "\n",
       "    .dataframe thead th {\n",
       "        text-align: right;\n",
       "    }\n",
       "</style>\n",
       "<table border=\"1\" class=\"dataframe\">\n",
       "  <thead>\n",
       "    <tr style=\"text-align: right;\">\n",
       "      <th></th>\n",
       "      <th>event</th>\n",
       "      <th>total</th>\n",
       "      <th>perc_total</th>\n",
       "      <th>perc_prev</th>\n",
       "      <th>perc_first</th>\n",
       "    </tr>\n",
       "  </thead>\n",
       "  <tbody>\n",
       "    <tr>\n",
       "      <th>0</th>\n",
       "      <td>StartReadingOffer</td>\n",
       "      <td>6652</td>\n",
       "      <td>97.82</td>\n",
       "      <td>100.00</td>\n",
       "      <td>100.00</td>\n",
       "    </tr>\n",
       "    <tr>\n",
       "      <th>1</th>\n",
       "      <td>StartCheckProduct</td>\n",
       "      <td>3996</td>\n",
       "      <td>58.76</td>\n",
       "      <td>60.07</td>\n",
       "      <td>60.07</td>\n",
       "    </tr>\n",
       "    <tr>\n",
       "      <th>2</th>\n",
       "      <td>OpenPaymentScreen</td>\n",
       "      <td>3363</td>\n",
       "      <td>49.46</td>\n",
       "      <td>84.16</td>\n",
       "      <td>50.56</td>\n",
       "    </tr>\n",
       "    <tr>\n",
       "      <th>3</th>\n",
       "      <td>OpenProductCard</td>\n",
       "      <td>3258</td>\n",
       "      <td>47.91</td>\n",
       "      <td>96.88</td>\n",
       "      <td>48.98</td>\n",
       "    </tr>\n",
       "  </tbody>\n",
       "</table>\n",
       "</div>"
      ],
      "text/plain": [
       "               event  total  perc_total  perc_prev  perc_first\n",
       "0  StartReadingOffer   6652       97.82     100.00      100.00\n",
       "1  StartCheckProduct   3996       58.76      60.07       60.07\n",
       "2  OpenPaymentScreen   3363       49.46      84.16       50.56\n",
       "3    OpenProductCard   3258       47.91      96.88       48.98"
      ]
     },
     "execution_count": 13,
     "metadata": {},
     "output_type": "execute_result"
    }
   ],
   "source": [
    "funnel = test.groupby('event')['user_id'].nunique().sort_values(ascending=False).reset_index() # воронка по уникам\n",
    "funnel.rename(columns={'user_id': 'total'}, inplace=True)\n",
    "funnel['perc_total'] = round(funnel.total / test.user_id.nunique() * 100, 2) # в % от всех уиков\n",
    "funnel['perc_prev'] = round(funnel.total / funnel.total.shift() * 100, 2).fillna(100) # в % от предыдущего уровня воронки \n",
    "funnel['perc_first'] = round(funnel.total / funnel.total[0] * 100, 2) # в % от входа в воронку \n",
    "funnel"
   ]
  },
  {
   "cell_type": "markdown",
   "metadata": {},
   "source": [
    "Пользователи совершают действия четырех типов. Отметим, что по какой-то причине, `OpenPaymentScreen` встречается в датасете чаще, чем `OpenProductCard`, которое, судя по названию, предшествует ему в воронке.\n",
    "\n",
    "Большинстсво пользователей теряется на первом шаге, при переходе от `StartReadingOffer` к `StartCheckProduct`. Зато дальше приложение теряет мало пользователей, и итоговая конверсия в `OpenPaymentScreen` очень неплоха -- около 50%.\n",
    "\n",
    "Наиболее частое действие (следовательно, скорее всего, первое в продуктовой воронке) -- `StartReadingOffer`. Количество уникальных пользователей, совершивших это действие, примем за отправную точку или количество опытов. Успехом будем считать, если уникальный пользователь переходит к оплате, т.е. совершает действие `OpenPaymentScreen` (конечно, он может уйти с этой страницы, так и не закончив платеж, но у нас есть только такие данные, так что будем работать с ними).\n",
    "\n",
    "Прежде чем перейти к анализу результатов A/B теста, изучим характеристики экспериментальной и контрольных выборок -- посмотрим диаграммы плотности распределения. Чтобы они были информативными, исключим из рассмотрения аномально активных пользователей."
   ]
  },
  {
   "cell_type": "code",
   "execution_count": 14,
   "metadata": {},
   "outputs": [
    {
     "data": {
      "image/png": "[encoded data removed]",
      "text/plain": [
       "<Figure size 432x288 with 1 Axes>"
      ]
     },
     "metadata": {
      "needs_background": "light"
     },
     "output_type": "display_data"
    },
    {
     "data": {
      "image/png": "[encoded data removed]",
      "text/plain": [
       "<Figure size 432x288 with 1 Axes>"
      ]
     },
     "metadata": {
      "needs_background": "light"
     },
     "output_type": "display_data"
    },
    {
     "data": {
      "image/png": "[encoded data removed]",
      "text/plain": [
       "<Figure size 432x288 with 1 Axes>"
      ]
     },
     "metadata": {
      "needs_background": "light"
     },
     "output_type": "display_data"
    }
   ],
   "source": [
    "for param in test.group.unique():\n",
    "    sns.distplot(test[(test['group'] == param) & ~(test['user_id'].isin(outliers))].groupby('user_id')['event_time'].count(), label=param)\n",
    "    legend = plt.legend()\n",
    "    plt.show()"
   ]
  },
  {
   "cell_type": "markdown",
   "metadata": {},
   "source": [
    "Распределение в контрольной группе `A1` больше похоже на распределение в экспериментальной, но по большому счету все три распределения идентичны."
   ]
  },
  {
   "cell_type": "markdown",
   "metadata": {},
   "source": [
    "Создадим функцию, которая будет сравнивать две любые группы между собой и показывать долю успехов в каждой из них, а также оценивать статистическую значимость различия между этими долями (если оно есть). На вход она принимает датасет с результататми A/B теста, список с названиями двух сравниваемых групп и уровень статистической значимости, с которым будет сравниваться p-value."
   ]
  },
  {
   "cell_type": "code",
   "execution_count": 15,
   "metadata": {},
   "outputs": [],
   "source": [
    "def check_props(df, compare_list, alpha):\n",
    "    alpha = alpha\n",
    "    distr = st.norm(0, 1)\n",
    "    group_one = df.loc[df['group'].astype('str').str.contains(compare_list[0])]\n",
    "    group_two = df.loc[df['group'].astype('str').str.contains(compare_list[1])]\n",
    "    success_one = group_one.query('event == \"OpenPaymentScreen\"').user_id.nunique()\n",
    "    success_two = group_two.query('event == \"OpenPaymentScreen\"').user_id.nunique()\n",
    "    trials_one = group_one.query('event == \"StartReadingOffer\"').user_id.nunique()\n",
    "    trials_two = group_two.query('event == \"StartReadingOffer\"').user_id.nunique()\n",
    "    p1 = success_one/trials_one\n",
    "    p2 = success_two/trials_two\n",
    "    p_combined = (success_one + success_two)/(trials_one + trials_two)\n",
    "    difference = p1 - p2\n",
    "    z_value = difference/\\\n",
    "    mth.sqrt(p_combined*(1 - p_combined)*(1/group_one.user_id.nunique() + 1/group_two.user_id.nunique()))\n",
    "    p_value = (1 - distr.cdf(abs(z_value))) * 2 # умножение на два, так как имеем дело с двухсторонней гипотезой\n",
    "    print('Доля успехов в группе {} равна {}'.format(compare_list[0], p1))\n",
    "    print('Доля успехов в группе {} равна {}'.format(compare_list[1], p2))\n",
    "    print('P-value равен {}'.format(p_value))\n",
    "    if (p_value < alpha):\n",
    "        print(\"Отвергаем нулевую гипотезу: между долями есть значимая разница\")\n",
    "    else:\n",
    "        print(\"Не получилось отвергнуть нулевую гипотезу, нет оснований считать доли разными\")\n",
    "    return None"
   ]
  },
  {
   "cell_type": "markdown",
   "metadata": {},
   "source": [
    "Сначала сравним между собой две части контрольной группы -- A1 и A2. P-value здесь и далее примем равным 0.05."
   ]
  },
  {
   "cell_type": "code",
   "execution_count": 16,
   "metadata": {},
   "outputs": [
    {
     "name": "stdout",
     "output_type": "stream",
     "text": [
      "Доля успехов в группе A1 равна 0.5024741340530814\n",
      "Доля успехов в группе A2 равна 0.5224564619615032\n",
      "P-value равен 0.1795963276551371\n",
      "Не получилось отвергнуть нулевую гипотезу, нет оснований считать доли разными\n"
     ]
    }
   ],
   "source": [
    "check_props(test, ['A1', 'A2'], 0.05)"
   ]
  },
  {
   "cell_type": "markdown",
   "metadata": {},
   "source": [
    "В группе A2 доля успехов чуть выше, но различия между группами статистически не значимы. Так и должно быть -- A/B тест был проведен корректно, функция для оценки результатов теста тоже работает как надо.\n",
    "\n",
    "Теперь по очереди сравним каждую из частей контрольной группы с экспериментальной группой."
   ]
  },
  {
   "cell_type": "code",
   "execution_count": 17,
   "metadata": {},
   "outputs": [
    {
     "name": "stdout",
     "output_type": "stream",
     "text": [
      "Доля успехов в группе A1 равна 0.5024741340530814\n",
      "Доля успехов в группе B равна 0.49221183800623053\n",
      "P-value равен 0.48797896537577845\n",
      "Не получилось отвергнуть нулевую гипотезу, нет оснований считать доли разными\n"
     ]
    },
    {
     "data": {
      "text/plain": [
       "None"
      ]
     },
     "metadata": {},
     "output_type": "display_data"
    },
    {
     "name": "stdout",
     "output_type": "stream",
     "text": [
      "Доля успехов в группе A2 равна 0.5224564619615032\n",
      "Доля успехов в группе B равна 0.49221183800623053\n",
      "P-value равен 0.041897996454648645\n",
      "Отвергаем нулевую гипотезу: между долями есть значимая разница\n"
     ]
    },
    {
     "data": {
      "text/plain": [
       "None"
      ]
     },
     "metadata": {},
     "output_type": "display_data"
    }
   ],
   "source": [
    "display(check_props(test, ['A1', 'B'], 0.05))\n",
    "display(check_props(test, ['A2', 'B'], 0.05))"
   ]
  },
  {
   "cell_type": "markdown",
   "metadata": {},
   "source": [
    "В двух частях контрольной группы результаты получились разными: в одной статистически значимые отличия от экспериментальной группы есть, в другой нет. Но это вторично, потому что в обоих случаях доля успехов в экспериментальной группе меньше, то есть нововведение -- назойливый чат с менеджером -- к повышению конверсии из `StartReadingOffer` в `OpenPaymentScreen` не привело.\n",
    "\n",
    "Ради интереса посмотрим, что будет, если с экспериментальной группой сравнить слитые воедино две половины контрольной группы."
   ]
  },
  {
   "cell_type": "code",
   "execution_count": 18,
   "metadata": {},
   "outputs": [
    {
     "name": "stdout",
     "output_type": "stream",
     "text": [
      "Доля успехов в группе A1|A2 равна 0.512372304199773\n",
      "Доля успехов в группе B равна 0.49221183800623053\n",
      "P-value равен 0.11599277688512499\n",
      "Не получилось отвергнуть нулевую гипотезу, нет оснований считать доли разными\n"
     ]
    },
    {
     "data": {
      "text/plain": [
       "None"
      ]
     },
     "metadata": {},
     "output_type": "display_data"
    }
   ],
   "source": [
    "display(check_props(test, ['A1|A2', 'B'], 0.05))"
   ]
  },
  {
   "cell_type": "markdown",
   "metadata": {},
   "source": [
    "Закономерно, что доля успехов этой единой группы оказалась где-то посередине между долями, измеренными отдельно для двух половин. Статистически значимых отличий от экспериментальной группы нет.\n",
    "\n",
    "### Итог: чат с менеджером не приводит к увеличению продаж."
   ]
  },
  {
   "cell_type": "code",
   "execution_count": null,
   "metadata": {},
   "outputs": [],
   "source": []
  }
 ],
 "metadata": {
  "kernelspec": {
   "display_name": "Python 3",
   "language": "python",
   "name": "python3"
  },
  "language_info": {
   "codemirror_mode": {
    "name": "ipython",
    "version": 3
   },
   "file_extension": ".py",
   "mimetype": "text/x-python",
   "name": "python",
   "nbconvert_exporter": "python",
   "pygments_lexer": "ipython3",
   "version": "3.8.0"
  }
 },
 "nbformat": 4,
 "nbformat_minor": 2
}
